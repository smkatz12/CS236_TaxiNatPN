{
 "cells": [
  {
   "cell_type": "code",
   "execution_count": 72,
   "metadata": {},
   "outputs": [
    {
     "data": {
      "text/plain": [
       "train_flow_ood (generic function with 1 method)"
      ]
     },
     "execution_count": 72,
     "metadata": {},
     "output_type": "execute_result"
    }
   ],
   "source": [
    "include(\"../taxi_model.jl\")"
   ]
  },
  {
   "cell_type": "markdown",
   "metadata": {},
   "source": [
    "# Helper Functions"
   ]
  },
  {
   "cell_type": "code",
   "execution_count": 22,
   "metadata": {},
   "outputs": [],
   "source": [
    "using PGFPlots"
   ]
  },
  {
   "cell_type": "code",
   "execution_count": 23,
   "metadata": {},
   "outputs": [],
   "source": [
    "using Distributions"
   ]
  },
  {
   "cell_type": "code",
   "execution_count": 103,
   "metadata": {},
   "outputs": [
    {
     "data": {
      "text/plain": [
       "plot_results (generic function with 1 method)"
      ]
     },
     "execution_count": 103,
     "metadata": {},
     "output_type": "execute_result"
    }
   ],
   "source": [
    "function plot_results(npn, im; χ_prior = 0.0, n_prior = 1.0, simple = false,\n",
    "    ymin = -1.1, ymax = 1.1)\n",
    "    # Prior\n",
    "    μ₀_prior, σ₀²_prior = to_normal(χ_prior, n_prior, npn.σ²)\n",
    "    println(σ₀²_prior)\n",
    "    f_prior(x) = pdf(Normal(μ₀_prior, √(σ₀²_prior)), x)\n",
    "\n",
    "    # Posterior\n",
    "    if simple\n",
    "        χ_post, n_post = get_posterior_simple(npn, im, χ_prior = χ_prior, n_prior = n_prior)\n",
    "    else\n",
    "        χ_post, n_post = get_posterior(npn, im, χ_prior = χ_prior, n_prior = n_prior)\n",
    "    end\n",
    "    μ₀, σ₀² = to_normal(χ_post, n_post, npn.σ²)\n",
    "    println(σ₀²)\n",
    "    f(x) = pdf(Normal(μ₀, √(σ₀²)), x)\n",
    "\n",
    "    if simple\n",
    "        χ_post_rand, n_post_rand = get_posterior_simple(npn, rand(128), χ_prior = χ_prior, n_prior = n_prior)\n",
    "    else\n",
    "        χ_post_rand, n_post_rand = get_posterior(npn, rand(128), χ_prior = χ_prior, n_prior = n_prior)\n",
    "    end\n",
    "    μ₀_rand, σ₀²_rand = to_normal(χ_post_rand, n_post_rand, npn.σ²)\n",
    "    println(σ₀²_rand)\n",
    "    f_rand(x) = pdf(Normal(μ₀_rand, √(σ₀²_rand)), x)\n",
    "\n",
    "    ax1 = Axis(Plots.Linear(f_prior, (ymin, ymax)))\n",
    "    ax1.xlabel = L\"$\\mu$\"\n",
    "    ax1.ylabel = L\"$f(\\mu)$\"\n",
    "    ax1.title = \"Prior\"\n",
    "    ax1.height = \"5.5cm\"\n",
    "    ax1.width = \"5.5cm\"\n",
    "    ax1.ymin = 0.0\n",
    "\n",
    "    ax2 = Axis(Plots.Linear(f, (ymin, ymax)))\n",
    "    ax2.xlabel = L\"$\\mu$\"\n",
    "    ax2.ylabel = L\"$f(\\mu)$\"\n",
    "    ax2.title = \"Posterior Training Image\"\n",
    "    ax2.height = \"5.5cm\"\n",
    "    ax2.width = \"5.5cm\"\n",
    "    ax2.ymin = 0.0\n",
    "\n",
    "    ax3 = Axis(Plots.Linear(f_rand, (ymin, ymax)))\n",
    "    ax3.xlabel = L\"$\\mu$\"\n",
    "    ax3.ylabel = L\"$f(\\mu)$\"\n",
    "    ax3.title = \"Posterior Random\"\n",
    "    ax3.height = \"5.5cm\"\n",
    "    ax3.width = \"5.5cm\"\n",
    "    ax3.ymin = 0.0\n",
    "\n",
    "    g = GroupPlot(3, 1, groupStyle = \"horizontal sep = 1.75cm, vertical sep = 1.5cm\")\n",
    "    push!(g, ax1)\n",
    "    push!(g, ax2)\n",
    "    push!(g, ax3)\n",
    "\n",
    "    return g\n",
    "end"
   ]
  },
  {
   "cell_type": "markdown",
   "metadata": {},
   "source": [
    "# Nominal Training"
   ]
  },
  {
   "cell_type": "code",
   "execution_count": 66,
   "metadata": {},
   "outputs": [],
   "source": [
    "X, y = get_taxi_data(1);\n",
    "# y = y .* 10.0"
   ]
  },
  {
   "cell_type": "code",
   "execution_count": 98,
   "metadata": {},
   "outputs": [
    {
     "data": {
      "text/plain": [
       "16.119623203302872"
      ]
     },
     "execution_count": 98,
     "metadata": {},
     "output_type": "execute_result"
    }
   ],
   "source": [
    "h = 16\n",
    "0.5 * (h * log(2π) + log(h + 1))"
   ]
  },
  {
   "cell_type": "code",
   "execution_count": 99,
   "metadata": {},
   "outputs": [
    {
     "name": "stderr",
     "output_type": "stream",
     "text": [
      "┌ Info: Epoch 1\n",
      "└ @ Main /home/smkatz/.julia/packages/Flux/YO4zY/src/optimise/train.jl:136\n"
     ]
    },
    {
     "name": "stdout",
     "output_type": "stream",
     "text": [
      "mse: 0.8114513224317603\n",
      "1 / n: 473711.13484560215\n",
      "entropy reg term: -0.00013065967745164972\n",
      "l = 2.4258164728175908e8\n"
     ]
    },
    {
     "name": "stderr",
     "output_type": "stream",
     "text": [
      "┌ Info: Epoch 2\n",
      "└ @ Main /home/smkatz/.julia/packages/Flux/YO4zY/src/optimise/train.jl:136\n"
     ]
    },
    {
     "name": "stdout",
     "output_type": "stream",
     "text": [
      "mse: 0.39631240304724125\n",
      "1 / n: 4880.485259189722\n",
      "entropy reg term: -8.492996503515709e-5\n",
      "l = 2.519099604257014e6\n"
     ]
    },
    {
     "name": "stderr",
     "output_type": "stream",
     "text": [
      "┌ Info: Epoch 3\n",
      "└ @ Main /home/smkatz/.julia/packages/Flux/YO4zY/src/optimise/train.jl:136\n"
     ]
    },
    {
     "name": "stdout",
     "output_type": "stream",
     "text": [
      "mse: 0.39263720677702724\n",
      "1 / n: 2556.3018702140052\n",
      "entropy reg term: -7.846312761863296e-5\n",
      "l = 1.3289295423634332e6\n"
     ]
    },
    {
     "name": "stderr",
     "output_type": "stream",
     "text": [
      "┌ Info: Epoch 4\n",
      "└ @ Main /home/smkatz/.julia/packages/Flux/YO4zY/src/optimise/train.jl:136\n"
     ]
    },
    {
     "name": "stdout",
     "output_type": "stream",
     "text": [
      "mse: 0.38220347930557863\n",
      "1 / n: 1540.385066341871\n",
      "entropy reg term: -7.339783197469458e-5\n",
      "l = 808245.9345277934\n",
      "mse: 0.3781431265110818\n",
      "1 / n: 1017.4323503501203\n",
      "entropy reg term: -6.92503269037625e-5\n",
      "l = 540286.2560004615\n"
     ]
    },
    {
     "name": "stderr",
     "output_type": "stream",
     "text": [
      "┌ Info: Epoch 5\n",
      "└ @ Main /home/smkatz/.julia/packages/Flux/YO4zY/src/optimise/train.jl:136\n"
     ]
    },
    {
     "name": "stdout",
     "output_type": "stream",
     "text": [
      "mse: 0.36472404044762724\n",
      "1 / n: 716.971445272926\n",
      "entropy reg term: -6.575029442811752e-5\n",
      "l = 385763.2171865058\n"
     ]
    },
    {
     "name": "stderr",
     "output_type": "stream",
     "text": [
      "┌ Info: Epoch 6\n",
      "└ @ Main /home/smkatz/.julia/packages/Flux/YO4zY/src/optimise/train.jl:136\n"
     ]
    },
    {
     "name": "stdout",
     "output_type": "stream",
     "text": [
      "mse: 0.3569766815042069\n",
      "1 / n: 528.846049487557\n",
      "entropy reg term: -6.270691628452951e-5\n",
      "l = 289046.35132470337\n"
     ]
    },
    {
     "name": "stderr",
     "output_type": "stream",
     "text": [
      "┌ Info: Epoch 7\n",
      "└ @ Main /home/smkatz/.julia/packages/Flux/YO4zY/src/optimise/train.jl:136\n"
     ]
    },
    {
     "name": "stdout",
     "output_type": "stream",
     "text": [
      "mse: 0.34495277203975894\n",
      "1 / n: 403.88103879661577\n",
      "entropy reg term: -6.001113634053414e-5\n",
      "l = 224448.64306660113\n"
     ]
    },
    {
     "name": "stderr",
     "output_type": "stream",
     "text": [
      "┌ Info: Epoch 8\n",
      "└ @ Main /home/smkatz/.julia/packages/Flux/YO4zY/src/optimise/train.jl:136\n",
      "┌ Info: Epoch 9\n",
      "└ @ Main /home/smkatz/.julia/packages/Flux/YO4zY/src/optimise/train.jl:136\n"
     ]
    },
    {
     "name": "stdout",
     "output_type": "stream",
     "text": [
      "mse: 0.33356755032622365\n",
      "1 / n: 316.65156385635896\n",
      "entropy reg term: -5.7577920907192884e-5\n",
      "l = 179204.22979126294\n"
     ]
    },
    {
     "name": "stderr",
     "output_type": "stream",
     "text": [
      "┌ Info: Epoch 10\n",
      "└ @ Main /home/smkatz/.julia/packages/Flux/YO4zY/src/optimise/train.jl:136\n"
     ]
    },
    {
     "name": "stdout",
     "output_type": "stream",
     "text": [
      "mse: 0.3244960471718812\n",
      "1 / n: 253.2633128134582\n",
      "entropy reg term: -5.534416006888801e-5\n",
      "l = 146284.98543948098\n",
      "mse: 0.30649398100508674\n",
      "1 / n: 205.56554443904275\n",
      "entropy reg term: -5.325742168039497e-5\n",
      "l = 120942.02331245043\n"
     ]
    },
    {
     "name": "stderr",
     "output_type": "stream",
     "text": [
      "┌ Info: Epoch 11\n",
      "└ @ Main /home/smkatz/.julia/packages/Flux/YO4zY/src/optimise/train.jl:136\n",
      "┌ Info: Epoch 12\n",
      "└ @ Main /home/smkatz/.julia/packages/Flux/YO4zY/src/optimise/train.jl:136\n"
     ]
    },
    {
     "name": "stdout",
     "output_type": "stream",
     "text": [
      "mse: 0.2794562289697512\n",
      "1 / n: 168.11177792730402\n",
      "entropy reg term: -5.124591576150384e-5\n",
      "l = 100381.36298412208\n",
      "mse: 0.23648261733695114\n",
      "1 / n: 136.01459123171404\n",
      "entropy reg term: -4.912659924539878e-5\n",
      "l = 81747.35556547064\n"
     ]
    },
    {
     "name": "stderr",
     "output_type": "stream",
     "text": [
      "┌ Info: Epoch 13\n",
      "└ @ Main /home/smkatz/.julia/packages/Flux/YO4zY/src/optimise/train.jl:136\n",
      "┌ Info: Epoch 14\n",
      "└ @ Main /home/smkatz/.julia/packages/Flux/YO4zY/src/optimise/train.jl:136\n"
     ]
    },
    {
     "name": "stdout",
     "output_type": "stream",
     "text": [
      "mse: 0.21709136913450686\n",
      "1 / n: 33.83269227889481\n",
      "entropy reg term: -3.500924574790465e-5\n",
      "l = 28437.398621747074\n",
      "mse: 0.17975998939605395\n",
      "1 / n: 1.6781111747210542\n",
      "entropy reg term: 1.495562030157022e-6\n",
      "l = 10062.905144262899\n"
     ]
    },
    {
     "name": "stderr",
     "output_type": "stream",
     "text": [
      "┌ Info: Epoch 15\n",
      "└ @ Main /home/smkatz/.julia/packages/Flux/YO4zY/src/optimise/train.jl:136\n"
     ]
    },
    {
     "name": "stdout",
     "output_type": "stream",
     "text": [
      "mse: 0.16090673055025095\n",
      "1 / n: 2.180750053690038\n",
      "entropy reg term: -3.3407209748436717e-7\n",
      "l = 9354.968460617236\n"
     ]
    },
    {
     "name": "stderr",
     "output_type": "stream",
     "text": [
      "┌ Info: Epoch 16\n",
      "└ @ Main /home/smkatz/.julia/packages/Flux/YO4zY/src/optimise/train.jl:136\n",
      "┌ Info: Epoch 17\n",
      "└ @ Main /home/smkatz/.julia/packages/Flux/YO4zY/src/optimise/train.jl:136\n"
     ]
    },
    {
     "name": "stdout",
     "output_type": "stream",
     "text": [
      "mse: 0.15361136308034923\n",
      "1 / n: 2.29223829152268\n",
      "entropy reg term: -1.0012983213117596e-6\n",
      "l = 9038.527282308753\n"
     ]
    },
    {
     "name": "stderr",
     "output_type": "stream",
     "text": [
      "┌ Info: Epoch 18\n",
      "└ @ Main /home/smkatz/.julia/packages/Flux/YO4zY/src/optimise/train.jl:136\n"
     ]
    },
    {
     "name": "stdout",
     "output_type": "stream",
     "text": [
      "mse: 0.1151819391180634\n",
      "1 / n: 2.2203292854297634\n",
      "entropy reg term: -4.778189699366148e-7\n",
      "l = 7034.123632341572\n",
      "mse: 0.1205452584403823\n",
      "1 / n: 2.2432863241000724\n",
      "entropy reg term: -9.395707893271832e-7\n",
      "l = 7320.479349026567\n"
     ]
    },
    {
     "name": "stderr",
     "output_type": "stream",
     "text": [
      "┌ Info: Epoch 19\n",
      "└ @ Main /home/smkatz/.julia/packages/Flux/YO4zY/src/optimise/train.jl:136\n"
     ]
    },
    {
     "name": "stdout",
     "output_type": "stream",
     "text": [
      "mse: 0.11135599157328023\n",
      "1 / n: 2.250242390266685\n",
      "entropy reg term: -8.488236467980582e-7\n",
      "l = 6853.550437770783\n"
     ]
    },
    {
     "name": "stderr",
     "output_type": "stream",
     "text": [
      "┌ Info: Epoch 20\n",
      "└ @ Main /home/smkatz/.julia/packages/Flux/YO4zY/src/optimise/train.jl:136\n",
      "┌ Info: Epoch 21\n",
      "└ @ Main /home/smkatz/.julia/packages/Flux/YO4zY/src/optimise/train.jl:136\n"
     ]
    },
    {
     "name": "stdout",
     "output_type": "stream",
     "text": [
      "mse: 0.1078630177326581\n",
      "1 / n: 2.6810303947224843\n",
      "entropy reg term: -1.3274996055745178e-6\n",
      "l = 6895.27339033021\n"
     ]
    },
    {
     "name": "stderr",
     "output_type": "stream",
     "text": [
      "┌ Info: Epoch 22\n",
      "└ @ Main /home/smkatz/.julia/packages/Flux/YO4zY/src/optimise/train.jl:136\n"
     ]
    },
    {
     "name": "stdout",
     "output_type": "stream",
     "text": [
      "mse: 0.08950482944933284\n",
      "1 / n: 2.0781326270041953\n",
      "entropy reg term: -3.015130633323776e-7\n",
      "l = 5646.651018457302\n"
     ]
    },
    {
     "name": "stderr",
     "output_type": "stream",
     "text": [
      "┌ Info: Epoch 23\n",
      "└ @ Main /home/smkatz/.julia/packages/Flux/YO4zY/src/optimise/train.jl:136\n"
     ]
    },
    {
     "name": "stdout",
     "output_type": "stream",
     "text": [
      "mse: 0.08307525877259073\n",
      "1 / n: 2.0099679670119692\n",
      "entropy reg term: -8.720636649900385e-8\n",
      "l = 5282.556803617115\n"
     ]
    },
    {
     "name": "stderr",
     "output_type": "stream",
     "text": [
      "┌ Info: Epoch 24\n",
      "└ @ Main /home/smkatz/.julia/packages/Flux/YO4zY/src/optimise/train.jl:136\n"
     ]
    },
    {
     "name": "stdout",
     "output_type": "stream",
     "text": [
      "mse: 0.07010673869853515\n",
      "1 / n: 1.9489108848969827\n",
      "entropy reg term: 1.2789949445545358e-7\n",
      "l = 4587.307459916796\n"
     ]
    },
    {
     "name": "stderr",
     "output_type": "stream",
     "text": [
      "┌ Info: Epoch 25\n",
      "└ @ Main /home/smkatz/.julia/packages/Flux/YO4zY/src/optimise/train.jl:136\n"
     ]
    },
    {
     "name": "stdout",
     "output_type": "stream",
     "text": [
      "mse: 0.09817482698144717\n",
      "1 / n: 2.2676850087002425\n",
      "entropy reg term: -2.786443985743198e-7\n",
      "l = 6187.605723238687\n",
      "mse: 0.08036229949618133\n",
      "1 / n: 1.8843678089049076\n",
      "entropy reg term: 6.560791592213201e-7\n",
      "l = 5079.346388276326\n"
     ]
    },
    {
     "name": "stderr",
     "output_type": "stream",
     "text": [
      "┌ Info: Epoch 26\n",
      "└ @ Main /home/smkatz/.julia/packages/Flux/YO4zY/src/optimise/train.jl:136\n"
     ]
    },
    {
     "name": "stdout",
     "output_type": "stream",
     "text": [
      "mse: 0.06403039100709734\n",
      "1 / n: 1.8189314484104624\n",
      "entropy reg term: 7.948397929130094e-7\n",
      "l = 4209.6493281075145\n"
     ]
    },
    {
     "name": "stderr",
     "output_type": "stream",
     "text": [
      "┌ Info: Epoch 27\n",
      "└ @ Main /home/smkatz/.julia/packages/Flux/YO4zY/src/optimise/train.jl:136\n"
     ]
    },
    {
     "name": "stdout",
     "output_type": "stream",
     "text": [
      "mse: 0.06368662887336073\n",
      "1 / n: 1.7190117033426766\n",
      "entropy reg term: 1.3404835392694285e-6\n",
      "l = 4140.890076755091\n"
     ]
    },
    {
     "name": "stderr",
     "output_type": "stream",
     "text": [
      "┌ Info: Epoch 28\n",
      "└ @ Main /home/smkatz/.julia/packages/Flux/YO4zY/src/optimise/train.jl:136\n"
     ]
    },
    {
     "name": "stdout",
     "output_type": "stream",
     "text": [
      "mse: 0.14179352770150108\n",
      "1 / n: 2.5320896135907964\n",
      "entropy reg term: -1.0882557465057123e-7\n",
      "l = 8556.258444756646\n"
     ]
    },
    {
     "name": "stderr",
     "output_type": "stream",
     "text": [
      "┌ Info: Epoch 29\n",
      "└ @ Main /home/smkatz/.julia/packages/Flux/YO4zY/src/optimise/train.jl:136\n"
     ]
    },
    {
     "name": "stdout",
     "output_type": "stream",
     "text": [
      "mse: 0.3387411176369355\n",
      "1 / n: 5.444728504621002\n",
      "entropy reg term: -2.6381560501625825e-6\n",
      "l = 20131.24486664116\n"
     ]
    },
    {
     "name": "stderr",
     "output_type": "stream",
     "text": [
      "┌ Info: Epoch 30\n",
      "└ @ Main /home/smkatz/.julia/packages/Flux/YO4zY/src/optimise/train.jl:136\n",
      "┌ Info: Epoch 31\n",
      "└ @ Main /home/smkatz/.julia/packages/Flux/YO4zY/src/optimise/train.jl:136\n"
     ]
    },
    {
     "name": "stdout",
     "output_type": "stream",
     "text": [
      "mse: 0.10649737238438654\n",
      "1 / n: 2.2100664798840137\n",
      "entropy reg term: 1.7928567603004742e-6\n",
      "l = 6584.220421723867\n",
      "mse: 0.07810772018754379\n",
      "1 / n: 1.7706335498879624\n",
      "entropy reg term: 1.5458485997335677e-6\n",
      "l = 4905.680442619361\n"
     ]
    },
    {
     "name": "stderr",
     "output_type": "stream",
     "text": [
      "┌ Info: Epoch 32\n",
      "└ @ Main /home/smkatz/.julia/packages/Flux/YO4zY/src/optimise/train.jl:136\n"
     ]
    },
    {
     "name": "stdout",
     "output_type": "stream",
     "text": [
      "mse: 0.062286633140608165\n",
      "1 / n: 1.5564457877705433\n",
      "entropy reg term: 2.290039266435512e-6\n",
      "l = 3985.9770326377607\n"
     ]
    },
    {
     "name": "stderr",
     "output_type": "stream",
     "text": [
      "┌ Info: Epoch 33\n",
      "└ @ Main /home/smkatz/.julia/packages/Flux/YO4zY/src/optimise/train.jl:136\n"
     ]
    },
    {
     "name": "stdout",
     "output_type": "stream",
     "text": [
      "mse: 0.11199158819935634\n",
      "1 / n: 2.140341071007852\n",
      "entropy reg term: 1.3714030074642313e-6\n",
      "l = 6829.824646321406\n"
     ]
    },
    {
     "name": "stderr",
     "output_type": "stream",
     "text": [
      "┌ Info: Epoch 34\n",
      "└ @ Main /home/smkatz/.julia/packages/Flux/YO4zY/src/optimise/train.jl:136\n"
     ]
    },
    {
     "name": "stdout",
     "output_type": "stream",
     "text": [
      "mse: 0.39213882236755854\n",
      "1 / n: 5.804679892829705\n",
      "entropy reg term: -2.6792202426054503e-6\n",
      "l = 23049.50243858704\n"
     ]
    },
    {
     "name": "stderr",
     "output_type": "stream",
     "text": [
      "┌ Info: Epoch 35\n",
      "└ @ Main /home/smkatz/.julia/packages/Flux/YO4zY/src/optimise/train.jl:136\n",
      "┌ Info: Epoch 36\n",
      "└ @ Main /home/smkatz/.julia/packages/Flux/YO4zY/src/optimise/train.jl:136\n"
     ]
    },
    {
     "name": "stdout",
     "output_type": "stream",
     "text": [
      "mse: 0.1332057492282543\n",
      "1 / n: 2.3165332527989437\n",
      "entropy reg term: 1.2742723682412491e-6\n",
      "l = 8006.200038347131\n",
      "mse: 0.11377312316071027\n",
      "1 / n: 1.941604584586556\n",
      "entropy reg term: 2.0275719405658563e-6\n",
      "l = 6819.286491253517\n"
     ]
    },
    {
     "name": "stderr",
     "output_type": "stream",
     "text": [
      "┌ Info: Epoch 37\n",
      "└ @ Main /home/smkatz/.julia/packages/Flux/YO4zY/src/optimise/train.jl:136\n"
     ]
    },
    {
     "name": "stdout",
     "output_type": "stream",
     "text": [
      "mse: 0.0674746556112569\n",
      "1 / n: 1.596381154487021\n",
      "entropy reg term: 3.1864049621060435e-6\n",
      "l = 4272.051149833051\n"
     ]
    },
    {
     "name": "stderr",
     "output_type": "stream",
     "text": [
      "┌ Info: Epoch 38\n",
      "└ @ Main /home/smkatz/.julia/packages/Flux/YO4zY/src/optimise/train.jl:136\n"
     ]
    },
    {
     "name": "stdout",
     "output_type": "stream",
     "text": [
      "mse: 0.10306044941031302\n",
      "1 / n: 1.8827043947025575\n",
      "entropy reg term: 3.573187893574755e-6\n",
      "l = 6240.6414893679375\n"
     ]
    },
    {
     "name": "stderr",
     "output_type": "stream",
     "text": [
      "┌ Info: Epoch 39\n",
      "└ @ Main /home/smkatz/.julia/packages/Flux/YO4zY/src/optimise/train.jl:136\n"
     ]
    },
    {
     "name": "stdout",
     "output_type": "stream",
     "text": [
      "mse: 0.10791498483577974\n",
      "1 / n: 1.6985004117935838\n",
      "entropy reg term: 2.99306231699083e-6\n",
      "l = 6394.880966878145\n"
     ]
    },
    {
     "name": "stderr",
     "output_type": "stream",
     "text": [
      "┌ Info: Epoch 40\n",
      "└ @ Main /home/smkatz/.julia/packages/Flux/YO4zY/src/optimise/train.jl:136\n"
     ]
    },
    {
     "name": "stdout",
     "output_type": "stream",
     "text": [
      "mse: 0.05293072136242294\n",
      "1 / n: 1.2782041521158818\n",
      "entropy reg term: 4.3363423689631085e-6\n",
      "l = 3364.495679846679\n"
     ]
    },
    {
     "name": "stderr",
     "output_type": "stream",
     "text": [
      "┌ Info: Epoch 41\n",
      "└ @ Main /home/smkatz/.julia/packages/Flux/YO4zY/src/optimise/train.jl:136\n"
     ]
    },
    {
     "name": "stdout",
     "output_type": "stream",
     "text": [
      "mse: 0.05318569089214691\n",
      "1 / n: 1.292666509215751\n",
      "entropy reg term: 4.448877453248755e-6\n",
      "l = 3384.954904221642\n"
     ]
    },
    {
     "name": "stderr",
     "output_type": "stream",
     "text": [
      "┌ Info: Epoch 42\n",
      "└ @ Main /home/smkatz/.julia/packages/Flux/YO4zY/src/optimise/train.jl:136\n"
     ]
    },
    {
     "name": "stdout",
     "output_type": "stream",
     "text": [
      "mse: 0.09946363834905617\n",
      "1 / n: 1.5994708123507395\n",
      "entropy reg term: 3.787878532151991e-6\n",
      "l = 5911.469278789065\n"
     ]
    },
    {
     "name": "stderr",
     "output_type": "stream",
     "text": [
      "┌ Info: Epoch 43\n",
      "└ @ Main /home/smkatz/.julia/packages/Flux/YO4zY/src/optimise/train.jl:136\n"
     ]
    },
    {
     "name": "stdout",
     "output_type": "stream",
     "text": [
      "mse: 0.1333781330851943\n",
      "1 / n: 1.8326546870646128\n",
      "entropy reg term: 3.4160690915799355e-6\n",
      "l = 7767.281362766404\n"
     ]
    },
    {
     "name": "stderr",
     "output_type": "stream",
     "text": [
      "┌ Info: Epoch 44\n",
      "└ @ Main /home/smkatz/.julia/packages/Flux/YO4zY/src/optimise/train.jl:136\n"
     ]
    },
    {
     "name": "stdout",
     "output_type": "stream",
     "text": [
      "mse: 0.1321149500352916\n",
      "1 / n: 1.822722941660077\n",
      "entropy reg term: 4.801073073670804e-6\n",
      "l = 7697.522046086306\n"
     ]
    },
    {
     "name": "stderr",
     "output_type": "stream",
     "text": [
      "┌ Info: Epoch 45\n",
      "└ @ Main /home/smkatz/.julia/packages/Flux/YO4zY/src/optimise/train.jl:136\n",
      "┌ Info: Epoch 46\n",
      "└ @ Main /home/smkatz/.julia/packages/Flux/YO4zY/src/optimise/train.jl:136\n"
     ]
    },
    {
     "name": "stdout",
     "output_type": "stream",
     "text": [
      "mse: 0.08062362311937359\n",
      "1 / n: 1.3320080296205719\n",
      "entropy reg term: 4.917550321977384e-6\n",
      "l = 4809.920132663425\n",
      "mse: 0.06092320222420273\n",
      "1 / n: 1.202178656176704\n",
      "entropy reg term: 5.312785428955554e-6\n",
      "l = 3734.7861459877918\n"
     ]
    },
    {
     "name": "stderr",
     "output_type": "stream",
     "text": [
      "┌ Info: Epoch 47\n",
      "└ @ Main /home/smkatz/.julia/packages/Flux/YO4zY/src/optimise/train.jl:136\n",
      "┌ Info: Epoch 48\n",
      "└ @ Main /home/smkatz/.julia/packages/Flux/YO4zY/src/optimise/train.jl:136\n"
     ]
    },
    {
     "name": "stdout",
     "output_type": "stream",
     "text": [
      "mse: 0.10528905791721761\n",
      "1 / n: 1.5602220569313694\n",
      "entropy reg term: 4.653537059104378e-6\n",
      "l = 6189.635841121377\n",
      "mse: 0.30936834328193347\n",
      "1 / n: 2.7935682911960833\n",
      "entropy reg term: 8.498625418633471e-7\n",
      "l = 17269.966576257008\n"
     ]
    },
    {
     "name": "stderr",
     "output_type": "stream",
     "text": [
      "┌ Info: Epoch 49\n",
      "└ @ Main /home/smkatz/.julia/packages/Flux/YO4zY/src/optimise/train.jl:136\n",
      "┌ Info: Epoch 50\n",
      "└ @ Main /home/smkatz/.julia/packages/Flux/YO4zY/src/optimise/train.jl:136\n"
     ]
    },
    {
     "name": "stdout",
     "output_type": "stream",
     "text": [
      "mse: 0.5205675848659718\n",
      "1 / n: 5.177990657417762\n",
      "entropy reg term: -3.4473984851274744e-6\n",
      "l = 29304.18979666763\n"
     ]
    }
   ],
   "source": [
    "npn = natPN(h = 16, σ² = 0.01)\n",
    "\n",
    "nepoch = 50\n",
    "lr = 1e-2\n",
    "batchsize = 128\n",
    "\n",
    "npn = train_npn(npn, X, y, nepoch, lr, batchsize, simple = true);"
   ]
  },
  {
   "cell_type": "code",
   "execution_count": 126,
   "metadata": {},
   "outputs": [
    {
     "name": "stdout",
     "output_type": "stream",
     "text": [
      "mse: 0.042528990098596904\n",
      "1 / n: 0.007850339025681406\n",
      "entropy reg term: 5.482036728626908e-5\n",
      "l = 2181.5317346573606\n"
     ]
    },
    {
     "name": "stderr",
     "output_type": "stream",
     "text": [
      "┌ Info: Epoch 1\n",
      "└ @ Main /home/smkatz/.julia/packages/Flux/YO4zY/src/optimise/train.jl:136\n",
      "┌ Info: Epoch 2\n",
      "└ @ Main /home/smkatz/.julia/packages/Flux/YO4zY/src/optimise/train.jl:136\n"
     ]
    },
    {
     "name": "stdout",
     "output_type": "stream",
     "text": [
      "mse: 0.0542088586264284\n",
      "1 / n: 0.005520121410383339\n",
      "entropy reg term: 6.127359041277456e-5\n",
      "l = 2778.351235913542\n",
      "mse: 0.04212610810583915\n",
      "1 / n: 0.004046806086510178\n",
      "entropy reg term: 6.525465123921523e-5\n",
      "l = 2158.962110116693\n"
     ]
    },
    {
     "name": "stderr",
     "output_type": "stream",
     "text": [
      "┌ Info: Epoch 3\n",
      "└ @ Main /home/smkatz/.julia/packages/Flux/YO4zY/src/optimise/train.jl:136\n",
      "┌ Info: Epoch 4\n",
      "└ @ Main /home/smkatz/.julia/packages/Flux/YO4zY/src/optimise/train.jl:136\n"
     ]
    },
    {
     "name": "stdout",
     "output_type": "stream",
     "text": [
      "mse: 0.05030405006496704\n",
      "1 / n: 0.003852787138949187\n",
      "entropy reg term: 6.678773611325024e-5\n",
      "l = 2577.574185662344\n",
      "mse: 0.04511775222239124\n",
      "1 / n: 0.003287631370986623\n",
      "entropy reg term: 6.832153912662686e-5\n",
      "l = 2311.7471616764096\n"
     ]
    },
    {
     "name": "stderr",
     "output_type": "stream",
     "text": [
      "┌ Info: Epoch 5\n",
      "└ @ Main /home/smkatz/.julia/packages/Flux/YO4zY/src/optimise/train.jl:136\n"
     ]
    },
    {
     "name": "stdout",
     "output_type": "stream",
     "text": [
      "mse: 0.04204560205679405\n",
      "1 / n: 0.002889901638455057\n",
      "entropy reg term: 6.954646997046948e-5\n",
      "l = 2154.2500627393697\n"
     ]
    },
    {
     "name": "stderr",
     "output_type": "stream",
     "text": [
      "┌ Info: Epoch 6\n",
      "└ @ Main /home/smkatz/.julia/packages/Flux/YO4zY/src/optimise/train.jl:136\n"
     ]
    },
    {
     "name": "stdout",
     "output_type": "stream",
     "text": [
      "mse: 0.04198929391079693\n",
      "1 / n: 0.0026251087713064785\n",
      "entropy reg term: 7.056948865872196e-5\n",
      "l = 2151.2320355019046\n"
     ]
    },
    {
     "name": "stderr",
     "output_type": "stream",
     "text": [
      "┌ Info: Epoch 7\n",
      "└ @ Main /home/smkatz/.julia/packages/Flux/YO4zY/src/optimise/train.jl:136\n"
     ]
    },
    {
     "name": "stdout",
     "output_type": "stream",
     "text": [
      "mse: 0.042826251987151225\n",
      "1 / n: 0.002427694497272778\n",
      "entropy reg term: 7.152330905583672e-5\n",
      "l = 2193.9837012589833\n"
     ]
    },
    {
     "name": "stderr",
     "output_type": "stream",
     "text": [
      "┌ Info: Epoch 8\n",
      "└ @ Main /home/smkatz/.julia/packages/Flux/YO4zY/src/optimise/train.jl:136\n"
     ]
    },
    {
     "name": "stdout",
     "output_type": "stream",
     "text": [
      "mse: 0.043841291322402776\n",
      "1 / n: 0.0022426550849000497\n",
      "entropy reg term: 7.244037547916126e-5\n",
      "l = 2245.8594445827357\n"
     ]
    },
    {
     "name": "stderr",
     "output_type": "stream",
     "text": [
      "┌ Info: Epoch 9\n",
      "└ @ Main /home/smkatz/.julia/packages/Flux/YO4zY/src/optimise/train.jl:136\n",
      "┌ Info: Epoch 10\n",
      "└ @ Main /home/smkatz/.julia/packages/Flux/YO4zY/src/optimise/train.jl:136\n"
     ]
    },
    {
     "name": "stdout",
     "output_type": "stream",
     "text": [
      "mse: 0.0517011716798914\n",
      "1 / n: 0.002192267922395257\n",
      "entropy reg term: 7.320900025778888e-5\n",
      "l = 2648.2599141948376\n",
      "mse: 0.042014131115675\n",
      "1 / n: 0.0018436184087470984\n",
      "entropy reg term: 7.430942845272909e-5\n",
      "l = 2152.1054921752066\n"
     ]
    },
    {
     "name": "stderr",
     "output_type": "stream",
     "text": [
      "┌ Info: Epoch 11\n",
      "└ @ Main /home/smkatz/.julia/packages/Flux/YO4zY/src/optimise/train.jl:136\n"
     ]
    },
    {
     "name": "stdout",
     "output_type": "stream",
     "text": [
      "mse: 0.04522308821487154\n",
      "1 / n: 0.0017474018845730173\n",
      "entropy reg term: 7.509813707810142e-5\n",
      "l = 2316.3552366125077\n"
     ]
    },
    {
     "name": "stderr",
     "output_type": "stream",
     "text": [
      "┌ Info: Epoch 12\n",
      "└ @ Main /home/smkatz/.julia/packages/Flux/YO4zY/src/optimise/train.jl:136\n"
     ]
    },
    {
     "name": "stdout",
     "output_type": "stream",
     "text": [
      "mse: 0.04504265017018442\n",
      "1 / n: 0.0016220992330188459\n",
      "entropy reg term: 7.592527578058629e-5\n",
      "l = "
     ]
    },
    {
     "name": "stderr",
     "output_type": "stream",
     "text": [
      "┌ Info: Epoch 13\n",
      "└ @ Main /home/smkatz/.julia/packages/Flux/YO4zY/src/optimise/train.jl:136\n"
     ]
    },
    {
     "name": "stdout",
     "output_type": "stream",
     "text": [
      "2307.053077261948\n"
     ]
    },
    {
     "name": "stderr",
     "output_type": "stream",
     "text": [
      "┌ Info: Epoch 14\n",
      "└ @ Main /home/smkatz/.julia/packages/Flux/YO4zY/src/optimise/train.jl:136\n"
     ]
    },
    {
     "name": "stdout",
     "output_type": "stream",
     "text": [
      "mse: 0.04737268521068839\n",
      "1 / n: 0.0015332526993405901\n",
      "entropy reg term: 7.667800542907023e-5\n",
      "l = 2426.3057673080875\n",
      "mse: 0.04204580399889032\n",
      "1 / n: 0.0013513865149723029\n",
      "entropy reg term: 7.758679141521842e-5\n",
      "l = 2153.4767990760547\n"
     ]
    },
    {
     "name": "stderr",
     "output_type": "stream",
     "text": [
      "┌ Info: Epoch 15\n",
      "└ @ Main /home/smkatz/.julia/packages/Flux/YO4zY/src/optimise/train.jl:136\n"
     ]
    },
    {
     "name": "stdout",
     "output_type": "stream",
     "text": [
      "mse: 0.045195147837263375\n",
      "1 / n: 0.001298624857928617\n",
      "entropy reg term: 7.827608215115625e-5\n",
      "l = 2314.6965425492053\n"
     ]
    },
    {
     "name": "stderr",
     "output_type": "stream",
     "text": [
      "┌ Info: Epoch 16\n",
      "└ @ Main /home/smkatz/.julia/packages/Flux/YO4zY/src/optimise/train.jl:136\n"
     ]
    },
    {
     "name": "stdout",
     "output_type": "stream",
     "text": [
      "mse: 0.043896638141741814\n",
      "1 / n: 0.0011907956725244163\n",
      "entropy reg term: 7.902652140808127e-5\n",
      "l = 2248.158021820475\n"
     ]
    },
    {
     "name": "stderr",
     "output_type": "stream",
     "text": [
      "┌ Info: Epoch 17\n",
      "└ @ Main /home/smkatz/.julia/packages/Flux/YO4zY/src/optimise/train.jl:136\n"
     ]
    },
    {
     "name": "stdout",
     "output_type": "stream",
     "text": [
      "mse: 0.044812830202621105\n",
      "1 / n: 0.0011229123260600793\n",
      "entropy reg term: 7.976554722356053e-5\n",
      "l = 2295.0326774453215\n"
     ]
    },
    {
     "name": "stderr",
     "output_type": "stream",
     "text": [
      "┌ Info: Epoch 18\n",
      "└ @ Main /home/smkatz/.julia/packages/Flux/YO4zY/src/optimise/train.jl:136\n",
      "┌ Info: Epoch 19\n",
      "└ @ Main /home/smkatz/.julia/packages/Flux/YO4zY/src/optimise/train.jl:136\n"
     ]
    },
    {
     "name": "stdout",
     "output_type": "stream",
     "text": [
      "mse: 0.04259938508704207\n",
      "1 / n: 0.0010240127573775861\n",
      "entropy reg term: 8.049158321917551e-5\n",
      "l = 2181.6540226789393\n",
      "mse: 0.06595024052284094\n",
      "1 / n: 0.0011699953191613576\n",
      "entropy reg term: 8.052515507705079e-5\n",
      "l = 3377.292581252267\n"
     ]
    },
    {
     "name": "stderr",
     "output_type": "stream",
     "text": [
      "┌ Info: Epoch 20\n",
      "└ @ Main /home/smkatz/.julia/packages/Flux/YO4zY/src/optimise/train.jl:136\n"
     ]
    },
    {
     "name": "stdout",
     "output_type": "stream",
     "text": [
      "mse: 0.041760557171948674\n",
      "1 / n: 0.0008763713847765228\n",
      "entropy reg term: 8.196030715483556e-5\n",
      "l = 2138.631193030041\n"
     ]
    },
    {
     "name": "stderr",
     "output_type": "stream",
     "text": [
      "┌ Info: Epoch 21\n",
      "└ @ Main /home/smkatz/.julia/packages/Flux/YO4zY/src/optimise/train.jl:136\n"
     ]
    },
    {
     "name": "stdout",
     "output_type": "stream",
     "text": [
      "mse: 0.04724649349102324\n",
      "1 / n: 0.0008681951480892763\n",
      "entropy reg term: 8.24972429064431e-5\n",
      "l = 2419.50722124458\n"
     ]
    },
    {
     "name": "stderr",
     "output_type": "stream",
     "text": [
      "┌ Info: Epoch 22\n",
      "└ @ Main /home/smkatz/.julia/packages/Flux/YO4zY/src/optimise/train.jl:136\n"
     ]
    },
    {
     "name": "stdout",
     "output_type": "stream",
     "text": [
      "mse: 0.044421856610345783\n",
      "1 / n: 0.000793469745596077\n",
      "entropy reg term: 8.321904395069858e-5\n",
      "l = 2274.847923109952\n"
     ]
    },
    {
     "name": "stderr",
     "output_type": "stream",
     "text": [
      "┌ Info: Epoch 23\n",
      "└ @ Main /home/smkatz/.julia/packages/Flux/YO4zY/src/optimise/train.jl:136\n"
     ]
    },
    {
     "name": "stdout",
     "output_type": "stream",
     "text": [
      "mse: 0.04733709875474422\n",
      "1 / n: 0.0007660708316434646\n",
      "entropy reg term: 8.37889152298021e-5\n",
      "l = 2424.0945844333028\n"
     ]
    },
    {
     "name": "stderr",
     "output_type": "stream",
     "text": [
      "┌ Info: Epoch 24\n",
      "└ @ Main /home/smkatz/.julia/packages/Flux/YO4zY/src/optimise/train.jl:136\n"
     ]
    },
    {
     "name": "stdout",
     "output_type": "stream",
     "text": [
      "mse: 0.043429553307732884\n",
      "1 / n: 0.0006908328485419321\n",
      "entropy reg term: 8.454534655685928e-5\n",
      "l = 2223.990122991814\n"
     ]
    },
    {
     "name": "stderr",
     "output_type": "stream",
     "text": [
      "┌ Info: Epoch 25\n",
      "└ @ Main /home/smkatz/.julia/packages/Flux/YO4zY/src/optimise/train.jl:136\n",
      "┌ Info: Epoch 26\n",
      "└ @ Main /home/smkatz/.julia/packages/Flux/YO4zY/src/optimise/train.jl:136\n"
     ]
    },
    {
     "name": "stdout",
     "output_type": "stream",
     "text": [
      "mse: 0.04913510717850983\n",
      "1 / n: 0.0006910817877880485\n",
      "entropy reg term: 8.506037886751497e-5\n",
      "l = 2516.114872329031\n",
      "mse: 0.04516945263567125\n",
      "1 / n: 0.0006267114605896347\n",
      "entropy reg term: 8.573407701670165e-5\n",
      "l = 2313.040747061623\n"
     ]
    },
    {
     "name": "stderr",
     "output_type": "stream",
     "text": [
      "┌ Info: Epoch 27\n",
      "└ @ Main /home/smkatz/.julia/packages/Flux/YO4zY/src/optimise/train.jl:136\n",
      "┌ Info: Epoch 28\n",
      "└ @ Main /home/smkatz/.julia/packages/Flux/YO4zY/src/optimise/train.jl:136\n"
     ]
    },
    {
     "name": "stdout",
     "output_type": "stream",
     "text": [
      "mse: 0.04396825527576579\n",
      "1 / n: 0.0005847923833635009\n",
      "entropy reg term: 8.632910441978073e-5\n",
      "l = 2251.5182843209536\n"
     ]
    },
    {
     "name": "stderr",
     "output_type": "stream",
     "text": [
      "┌ Info: Epoch 29\n",
      "└ @ Main /home/smkatz/.julia/packages/Flux/YO4zY/src/optimise/train.jl:136\n"
     ]
    },
    {
     "name": "stdout",
     "output_type": "stream",
     "text": [
      "mse: 0.04766897045051238\n",
      "1 / n: 0.0005755685733911505\n",
      "entropy reg term: 8.677573003230565e-5\n",
      "l = 2440.9904073495873\n",
      "mse: 0.045688426528174286\n",
      "1 / n: 0.0005312291878026642\n",
      "entropy reg term: 8.738568730802673e-5\n",
      "l = 2339.5641690585794\n"
     ]
    },
    {
     "name": "stderr",
     "output_type": "stream",
     "text": [
      "┌ Info: Epoch 30\n",
      "└ @ Main /home/smkatz/.julia/packages/Flux/YO4zY/src/optimise/train.jl:136\n"
     ]
    },
    {
     "name": "stdout",
     "output_type": "stream",
     "text": [
      "mse: 0.04620282970344352\n",
      "1 / n: 0.0005038417779170964\n",
      "entropy reg term: 8.799164379867841e-5\n",
      "l = 2365.8878995282257\n"
     ]
    },
    {
     "name": "stderr",
     "output_type": "stream",
     "text": [
      "┌ Info: Epoch 31\n",
      "└ @ Main /home/smkatz/.julia/packages/Flux/YO4zY/src/optimise/train.jl:136\n"
     ]
    },
    {
     "name": "stdout",
     "output_type": "stream",
     "text": [
      "mse: 0.04221857468580235\n",
      "1 / n: 0.00045996054105674664\n",
      "entropy reg term: 8.873602505690113e-5\n",
      "l = 2161.8719565549304\n"
     ]
    },
    {
     "name": "stderr",
     "output_type": "stream",
     "text": [
      "┌ Info: Epoch 32\n",
      "└ @ Main /home/smkatz/.julia/packages/Flux/YO4zY/src/optimise/train.jl:136\n"
     ]
    },
    {
     "name": "stdout",
     "output_type": "stream",
     "text": [
      "mse: 0.04296328238101388\n",
      "1 / n: 0.00043978821063253023\n",
      "entropy reg term: 8.916827541205666e-5\n",
      "l = 2199.9908836287655\n"
     ]
    },
    {
     "name": "stderr",
     "output_type": "stream",
     "text": [
      "┌ Info: Epoch 33\n",
      "└ @ Main /home/smkatz/.julia/packages/Flux/YO4zY/src/optimise/train.jl:136\n",
      "┌ Info: Epoch 34\n",
      "└ @ Main /home/smkatz/.julia/packages/Flux/YO4zY/src/optimise/train.jl:136\n"
     ]
    },
    {
     "name": "stdout",
     "output_type": "stream",
     "text": [
      "mse: 0.04540705605763731\n",
      "1 / n: 0.0004268969437193092\n",
      "entropy reg term: 8.963776907531568e-5\n",
      "l = 2325.1057359239817\n"
     ]
    },
    {
     "name": "stderr",
     "output_type": "stream",
     "text": [
      "┌ Info: Epoch 35\n",
      "└ @ Main /home/smkatz/.julia/packages/Flux/YO4zY/src/optimise/train.jl:136\n"
     ]
    },
    {
     "name": "stdout",
     "output_type": "stream",
     "text": [
      "mse: 0.04152322648369301\n",
      "1 / n: 0.00038890886439876533\n",
      "entropy reg term: 9.027597608849233e-5\n",
      "l = 2126.2345386034117\n",
      "mse: 0.0415812270559884\n",
      "1 / n: 0.00036890836940661444\n",
      "entropy reg term: 9.084104380600187e-5\n",
      "l = 2129.1942169661706\n"
     ]
    },
    {
     "name": "stderr",
     "output_type": "stream",
     "text": [
      "┌ Info: Epoch 36\n",
      "└ @ Main /home/smkatz/.julia/packages/Flux/YO4zY/src/optimise/train.jl:136\n"
     ]
    },
    {
     "name": "stdout",
     "output_type": "stream",
     "text": [
      "mse: 0.042805816280691585\n",
      "1 / n: 0.0003559358189648105\n",
      "entropy reg term: 9.13131043504327e-5\n",
      "l = 2191.886785020147\n"
     ]
    },
    {
     "name": "stderr",
     "output_type": "stream",
     "text": [
      "┌ Info: Epoch 37\n",
      "└ @ Main /home/smkatz/.julia/packages/Flux/YO4zY/src/optimise/train.jl:136\n"
     ]
    },
    {
     "name": "stdout",
     "output_type": "stream",
     "text": [
      "mse: 0.046706572585269245\n",
      "1 / n: 0.0003515013662998617\n",
      "entropy reg term: 9.17186579022441e-5\n",
      "l = 2391.603445018177\n"
     ]
    },
    {
     "name": "stderr",
     "output_type": "stream",
     "text": [
      "┌ Info: Epoch 38\n",
      "└ @ Main /home/smkatz/.julia/packages/Flux/YO4zY/src/optimise/train.jl:136\n",
      "┌ Info: Epoch 39\n",
      "└ @ Main /home/smkatz/.julia/packages/Flux/YO4zY/src/optimise/train.jl:136\n"
     ]
    },
    {
     "name": "stdout",
     "output_type": "stream",
     "text": [
      "mse: 0.04461170380968899\n",
      "1 / n: 0.00032782940335431275\n",
      "entropy reg term: 9.230505027532445e-5\n",
      "l = 2284.3343438963348\n"
     ]
    },
    {
     "name": "stderr",
     "output_type": "stream",
     "text": [
      "┌ Info: Epoch 40\n",
      "└ @ Main /home/smkatz/.julia/packages/Flux/YO4zY/src/optimise/train.jl:136\n"
     ]
    },
    {
     "name": "stdout",
     "output_type": "stream",
     "text": [
      "mse: 0.043022451621380464\n",
      "1 / n: 0.0003068071141742234\n",
      "entropy reg term: 9.281863504504058e-5\n",
      "l = 2202.95413139828\n",
      "mse: 0.04978756557071085\n",
      "1 / n: 0.00031138460852472085\n",
      "entropy reg term: 9.307392941895175e-5\n",
      "l = 2549.3304399918225\n"
     ]
    },
    {
     "name": "stderr",
     "output_type": "stream",
     "text": [
      "┌ Info: Epoch 41\n",
      "└ @ Main /home/smkatz/.julia/packages/Flux/YO4zY/src/optimise/train.jl:136\n"
     ]
    },
    {
     "name": "stdout",
     "output_type": "stream",
     "text": [
      "mse: 0.041499337353339785\n",
      "1 / n: 0.00027356105904591314\n",
      "entropy reg term: 9.385393387134966e-5\n",
      "l = 2124.95418896737\n"
     ]
    },
    {
     "name": "stderr",
     "output_type": "stream",
     "text": [
      "┌ Info: Epoch 42\n",
      "└ @ Main /home/smkatz/.julia/packages/Flux/YO4zY/src/optimise/train.jl:136\n",
      "┌ Info: Epoch 43\n",
      "└ @ Main /home/smkatz/.julia/packages/Flux/YO4zY/src/optimise/train.jl:136\n"
     ]
    },
    {
     "name": "stdout",
     "output_type": "stream",
     "text": [
      "mse: 0.0416964343568559\n",
      "1 / n: 0.0002611901245962519\n",
      "entropy reg term: 9.419860124853232e-5\n",
      "l = 2135.039398098655\n"
     ]
    },
    {
     "name": "stderr",
     "output_type": "stream",
     "text": [
      "┌ Info: Epoch 44\n",
      "└ @ Main /home/smkatz/.julia/packages/Flux/YO4zY/src/optimise/train.jl:136\n"
     ]
    },
    {
     "name": "stdout",
     "output_type": "stream",
     "text": [
      "mse: 0.04680312450322261\n",
      "1 / n: 0.0002614195717362943\n",
      "entropy reg term: 9.451968858357489e-5\n",
      "l = 2396.502215466281\n",
      "mse: 0.04343918501367496\n",
      "1 / n: 0.00024079049154276488\n",
      "entropy reg term: 9.516791073274582e-5\n",
      "l = 2224.2582834021223\n"
     ]
    },
    {
     "name": "stderr",
     "output_type": "stream",
     "text": [
      "┌ Info: Epoch 45\n",
      "└ @ Main /home/smkatz/.julia/packages/Flux/YO4zY/src/optimise/train.jl:136\n",
      "┌ Info: Epoch 46\n",
      "└ @ Main /home/smkatz/.julia/packages/Flux/YO4zY/src/optimise/train.jl:136\n"
     ]
    },
    {
     "name": "stdout",
     "output_type": "stream",
     "text": [
      "mse: 0.04198403051157382\n",
      "1 / n: 0.00022619524760466873\n",
      "entropy reg term: 9.573569384286475e-5\n",
      "l = 2149.747190834601\n",
      "mse: 0.05631665719456431\n",
      "1 / n: 0.00024802432512107027\n",
      "entropy reg term: 9.572919584443696e-5\n",
      "l = 2883.588850164427\n"
     ]
    },
    {
     "name": "stderr",
     "output_type": "stream",
     "text": [
      "┌ Info: Epoch 47\n",
      "└ @ Main /home/smkatz/.julia/packages/Flux/YO4zY/src/optimise/train.jl:136\n"
     ]
    },
    {
     "name": "stdout",
     "output_type": "stream",
     "text": [
      "mse: 0.047271943637243734\n",
      "1 / n: 0.0002160499616447625\n",
      "entropy reg term: 9.637049063228316e-5\n",
      "l = 2420.4834734984443\n"
     ]
    },
    {
     "name": "stderr",
     "output_type": "stream",
     "text": [
      "┌ Info: Epoch 48\n",
      "└ @ Main /home/smkatz/.julia/packages/Flux/YO4zY/src/optimise/train.jl:136\n",
      "┌ Info: Epoch 49\n",
      "└ @ Main /home/smkatz/.julia/packages/Flux/YO4zY/src/optimise/train.jl:136\n"
     ]
    },
    {
     "name": "stdout",
     "output_type": "stream",
     "text": [
      "mse: 0.04246758175754454\n",
      "1 / n: 0.00019708466641061662\n",
      "entropy reg term: 9.70169358271869e-5\n",
      "l = 2174.4907660066256\n",
      "mse: 0.0464891988411712\n",
      "1 / n: 0.00019545272714608416\n",
      "entropy reg term: 9.737127421646301e-5\n",
      "l = 2380.3969065566635\n"
     ]
    },
    {
     "name": "stderr",
     "output_type": "stream",
     "text": [
      "┌ Info: Epoch 50\n",
      "└ @ Main /home/smkatz/.julia/packages/Flux/YO4zY/src/optimise/train.jl:136\n"
     ]
    }
   ],
   "source": [
    "npn = train_npn(npn, X, y, nepoch, 1e-4, batchsize, simple = true);"
   ]
  },
  {
   "cell_type": "code",
   "execution_count": 127,
   "metadata": {},
   "outputs": [
    {
     "name": "stdout",
     "output_type": "stream",
     "text": [
      "0.7937254905700684\n",
      "1.1723846\n"
     ]
    }
   ],
   "source": [
    "ind = 1042 #1042\n",
    "println(y[ind])\n",
    "println(npn.decoder(npn.encoder(X[:, ind]))[1])"
   ]
  },
  {
   "cell_type": "code",
   "execution_count": 133,
   "metadata": {},
   "outputs": [
    {
     "name": "stdout",
     "output_type": "stream",
     "text": [
      "1.0\n",
      "1.3743046070367273e-5\n",
      "0.00024686003567063794\n"
     ]
    },
    {
     "data": {
      "image/svg+xml": "<?xml version=\"1.0\" encoding=\"UTF-8\"?>\n<svg xmlns=\"http://www.w3.org/2000/svg\" xmlns:xlink=\"http://www.w3.org/1999/xlink\" width=\"469.007pt\" height=\"159.791pt\" viewBox=\"0 0 469.007 159.791\" version=\"1.2\">\n<defs>\n<g>\n<symbol overflow=\"visible\" id=\"glyph-1637105904321162-0-0\">\n<path style=\"stroke:none;\" d=\"\"/>\n</symbol>\n<symbol overflow=\"visible\" id=\"glyph-1637105904321162-0-1\">\n<path style=\"stroke:none;\" d=\"M 6.546875 -2.28125 C 6.71875 -2.28125 6.890625 -2.28125 6.890625 -2.484375 C 6.890625 -2.6875 6.71875 -2.6875 6.546875 -2.6875 L 1.171875 -2.6875 C 1 -2.6875 0.828125 -2.6875 0.828125 -2.484375 C 0.828125 -2.28125 1 -2.28125 1.171875 -2.28125 Z M 6.546875 -2.28125 \"/>\n</symbol>\n<symbol overflow=\"visible\" id=\"glyph-1637105904321162-1-0\">\n<path style=\"stroke:none;\" d=\"\"/>\n</symbol>\n<symbol overflow=\"visible\" id=\"glyph-1637105904321162-1-1\">\n<path style=\"stroke:none;\" d=\"M 1.265625 -0.765625 L 2.3125 -1.78125 C 3.859375 -3.15625 4.46875 -3.703125 4.46875 -4.6875 C 4.46875 -5.828125 3.5625 -6.625 2.359375 -6.625 C 1.234375 -6.625 0.5 -5.703125 0.5 -4.8125 C 0.5 -4.265625 1 -4.265625 1.03125 -4.265625 C 1.1875 -4.265625 1.546875 -4.375 1.546875 -4.796875 C 1.546875 -5.046875 1.359375 -5.3125 1.015625 -5.3125 C 0.9375 -5.3125 0.921875 -5.3125 0.890625 -5.296875 C 1.109375 -5.9375 1.65625 -6.3125 2.21875 -6.3125 C 3.125 -6.3125 3.5625 -5.5 3.5625 -4.6875 C 3.5625 -3.890625 3.0625 -3.109375 2.515625 -2.5 L 0.609375 -0.375 C 0.5 -0.265625 0.5 -0.234375 0.5 0 L 4.1875 0 L 4.46875 -1.734375 L 4.21875 -1.734375 C 4.15625 -1.4375 4.09375 -1 4 -0.84375 C 3.921875 -0.765625 3.265625 -0.765625 3.046875 -0.765625 Z M 1.265625 -0.765625 \"/>\n</symbol>\n<symbol overflow=\"visible\" id=\"glyph-1637105904321162-1-2\">\n<path style=\"stroke:none;\" d=\"M 4.578125 -3.1875 C 4.578125 -3.96875 4.515625 -4.765625 4.171875 -5.5 C 3.71875 -6.453125 2.90625 -6.625 2.484375 -6.625 C 1.890625 -6.625 1.15625 -6.359375 0.75 -5.4375 C 0.4375 -4.75 0.390625 -3.96875 0.390625 -3.1875 C 0.390625 -2.4375 0.421875 -1.546875 0.828125 -0.78125 C 1.265625 0.015625 1.984375 0.21875 2.46875 0.21875 C 3.015625 0.21875 3.765625 0.015625 4.203125 -0.9375 C 4.515625 -1.625 4.578125 -2.390625 4.578125 -3.1875 Z M 2.46875 0 C 2.09375 0 1.5 -0.25 1.328125 -1.203125 C 1.21875 -1.796875 1.21875 -2.71875 1.21875 -3.296875 C 1.21875 -3.9375 1.21875 -4.59375 1.296875 -5.125 C 1.484375 -6.3125 2.21875 -6.40625 2.46875 -6.40625 C 2.796875 -6.40625 3.453125 -6.21875 3.640625 -5.234375 C 3.75 -4.6875 3.75 -3.921875 3.75 -3.296875 C 3.75 -2.546875 3.75 -1.875 3.640625 -1.25 C 3.484375 -0.296875 2.921875 0 2.46875 0 Z M 2.46875 0 \"/>\n</symbol>\n<symbol overflow=\"visible\" id=\"glyph-1637105904321162-1-3\">\n<path style=\"stroke:none;\" d=\"M 2.921875 -6.359375 C 2.921875 -6.59375 2.921875 -6.625 2.6875 -6.625 C 2.078125 -5.984375 1.203125 -5.984375 0.890625 -5.984375 L 0.890625 -5.671875 C 1.078125 -5.671875 1.671875 -5.671875 2.1875 -5.9375 L 2.1875 -0.78125 C 2.1875 -0.421875 2.15625 -0.3125 1.265625 -0.3125 L 0.9375 -0.3125 L 0.9375 0 C 1.296875 -0.03125 2.15625 -0.03125 2.546875 -0.03125 C 2.953125 -0.03125 3.8125 -0.03125 4.15625 0 L 4.15625 -0.3125 L 3.84375 -0.3125 C 2.953125 -0.3125 2.921875 -0.421875 2.921875 -0.78125 Z M 2.921875 -6.359375 \"/>\n</symbol>\n<symbol overflow=\"visible\" id=\"glyph-1637105904321162-1-4\">\n<path style=\"stroke:none;\" d=\"M 2.875 -3.5 C 3.703125 -3.765625 4.265625 -4.46875 4.265625 -5.25 C 4.265625 -6.0625 3.40625 -6.625 2.4375 -6.625 C 1.4375 -6.625 0.6875 -6.015625 0.6875 -5.265625 C 0.6875 -4.9375 0.90625 -4.75 1.1875 -4.75 C 1.5 -4.75 1.703125 -4.96875 1.703125 -5.25 C 1.703125 -5.75 1.234375 -5.75 1.078125 -5.75 C 1.390625 -6.234375 2.046875 -6.375 2.40625 -6.375 C 2.8125 -6.375 3.359375 -6.15625 3.359375 -5.25 C 3.359375 -5.140625 3.34375 -4.5625 3.078125 -4.125 C 2.78125 -3.640625 2.4375 -3.625 2.203125 -3.609375 C 2.109375 -3.59375 1.875 -3.578125 1.8125 -3.578125 C 1.734375 -3.5625 1.65625 -3.5625 1.65625 -3.453125 C 1.65625 -3.34375 1.734375 -3.34375 1.890625 -3.34375 L 2.328125 -3.34375 C 3.15625 -3.34375 3.515625 -2.671875 3.515625 -1.703125 C 3.515625 -0.34375 2.828125 -0.0625 2.390625 -0.0625 C 1.96875 -0.0625 1.21875 -0.234375 0.875 -0.8125 C 1.21875 -0.765625 1.53125 -0.984375 1.53125 -1.359375 C 1.53125 -1.71875 1.265625 -1.921875 0.96875 -1.921875 C 0.734375 -1.921875 0.421875 -1.78125 0.421875 -1.34375 C 0.421875 -0.4375 1.34375 0.21875 2.421875 0.21875 C 3.640625 0.21875 4.546875 -0.6875 4.546875 -1.703125 C 4.546875 -2.515625 3.921875 -3.296875 2.875 -3.5 Z M 2.875 -3.5 \"/>\n</symbol>\n<symbol overflow=\"visible\" id=\"glyph-1637105904321162-1-5\">\n<path style=\"stroke:none;\" d=\"M 2.921875 -1.640625 L 2.921875 -0.78125 C 2.921875 -0.421875 2.90625 -0.3125 2.171875 -0.3125 L 1.953125 -0.3125 L 1.953125 0 C 2.359375 -0.03125 2.875 -0.03125 3.296875 -0.03125 C 3.71875 -0.03125 4.25 -0.03125 4.65625 0 L 4.65625 -0.3125 L 4.4375 -0.3125 C 3.703125 -0.3125 3.6875 -0.421875 3.6875 -0.78125 L 3.6875 -1.640625 L 4.6875 -1.640625 L 4.6875 -1.953125 L 3.6875 -1.953125 L 3.6875 -6.46875 C 3.6875 -6.671875 3.6875 -6.734375 3.53125 -6.734375 C 3.4375 -6.734375 3.40625 -6.734375 3.328125 -6.609375 L 0.28125 -1.953125 L 0.28125 -1.640625 Z M 2.984375 -1.953125 L 0.5625 -1.953125 L 2.984375 -5.65625 Z M 2.984375 -1.953125 \"/>\n</symbol>\n<symbol overflow=\"visible\" id=\"glyph-1637105904321162-1-6\">\n<path style=\"stroke:none;\" d=\"M 2.25 -3.140625 L 3.9375 -3.140625 C 5.125 -3.140625 6.203125 -3.9375 6.203125 -4.9375 C 6.203125 -5.90625 5.21875 -6.78125 3.859375 -6.78125 L 0.34375 -6.78125 L 0.34375 -6.484375 L 0.59375 -6.484375 C 1.34375 -6.484375 1.375 -6.375 1.375 -6.015625 L 1.375 -0.78125 C 1.375 -0.421875 1.34375 -0.3125 0.59375 -0.3125 L 0.34375 -0.3125 L 0.34375 0 C 0.703125 -0.03125 1.4375 -0.03125 1.8125 -0.03125 C 2.1875 -0.03125 2.9375 -0.03125 3.28125 0 L 3.28125 -0.3125 L 3.046875 -0.3125 C 2.28125 -0.3125 2.25 -0.421875 2.25 -0.78125 Z M 2.21875 -3.40625 L 2.21875 -6.078125 C 2.21875 -6.40625 2.25 -6.484375 2.71875 -6.484375 L 3.59375 -6.484375 C 5.171875 -6.484375 5.171875 -5.421875 5.171875 -4.9375 C 5.171875 -4.46875 5.171875 -3.40625 3.59375 -3.40625 Z M 2.21875 -3.40625 \"/>\n</symbol>\n<symbol overflow=\"visible\" id=\"glyph-1637105904321162-1-7\">\n<path style=\"stroke:none;\" d=\"M 1.65625 -3.296875 L 1.65625 -4.390625 L 0.28125 -4.28125 L 0.28125 -3.96875 C 0.96875 -3.96875 1.046875 -3.90625 1.046875 -3.421875 L 1.046875 -0.75 C 1.046875 -0.3125 0.9375 -0.3125 0.28125 -0.3125 L 0.28125 0 C 0.671875 -0.015625 1.140625 -0.03125 1.40625 -0.03125 C 1.8125 -0.03125 2.28125 -0.03125 2.671875 0 L 2.671875 -0.3125 L 2.46875 -0.3125 C 1.734375 -0.3125 1.703125 -0.421875 1.703125 -0.78125 L 1.703125 -2.3125 C 1.703125 -3.296875 2.125 -4.171875 2.875 -4.171875 C 2.953125 -4.171875 2.96875 -4.171875 2.984375 -4.15625 C 2.96875 -4.15625 2.765625 -4.03125 2.765625 -3.78125 C 2.765625 -3.5 2.96875 -3.34375 3.1875 -3.34375 C 3.375 -3.34375 3.625 -3.46875 3.625 -3.78125 C 3.625 -4.109375 3.3125 -4.390625 2.875 -4.390625 C 2.15625 -4.390625 1.796875 -3.734375 1.65625 -3.296875 Z M 1.65625 -3.296875 \"/>\n</symbol>\n<symbol overflow=\"visible\" id=\"glyph-1637105904321162-1-8\">\n<path style=\"stroke:none;\" d=\"M 1.765625 -4.390625 L 0.375 -4.28125 L 0.375 -3.96875 C 1.015625 -3.96875 1.109375 -3.921875 1.109375 -3.421875 L 1.109375 -0.75 C 1.109375 -0.3125 1 -0.3125 0.328125 -0.3125 L 0.328125 0 C 0.640625 -0.015625 1.1875 -0.03125 1.421875 -0.03125 C 1.765625 -0.03125 2.109375 -0.015625 2.453125 0 L 2.453125 -0.3125 C 1.796875 -0.3125 1.765625 -0.359375 1.765625 -0.75 Z M 1.796875 -6.125 C 1.796875 -6.4375 1.546875 -6.640625 1.265625 -6.640625 C 0.96875 -6.640625 0.75 -6.375 0.75 -6.125 C 0.75 -5.859375 0.96875 -5.59375 1.265625 -5.59375 C 1.546875 -5.59375 1.796875 -5.796875 1.796875 -6.125 Z M 1.796875 -6.125 \"/>\n</symbol>\n<symbol overflow=\"visible\" id=\"glyph-1637105904321162-1-9\">\n<path style=\"stroke:none;\" d=\"M 4.6875 -2.125 C 4.6875 -3.40625 3.6875 -4.453125 2.484375 -4.453125 C 1.25 -4.453125 0.28125 -3.375 0.28125 -2.125 C 0.28125 -0.84375 1.3125 0.109375 2.46875 0.109375 C 3.671875 0.109375 4.6875 -0.859375 4.6875 -2.125 Z M 2.484375 -0.140625 C 2.0625 -0.140625 1.625 -0.34375 1.34375 -0.8125 C 1.109375 -1.25 1.109375 -1.84375 1.109375 -2.203125 C 1.109375 -2.59375 1.109375 -3.125 1.34375 -3.5625 C 1.609375 -4.03125 2.078125 -4.234375 2.46875 -4.234375 C 2.90625 -4.234375 3.34375 -4.015625 3.59375 -3.59375 C 3.859375 -3.15625 3.859375 -2.578125 3.859375 -2.203125 C 3.859375 -1.84375 3.859375 -1.3125 3.640625 -0.875 C 3.421875 -0.421875 2.984375 -0.140625 2.484375 -0.140625 Z M 2.484375 -0.140625 \"/>\n</symbol>\n<symbol overflow=\"visible\" id=\"glyph-1637105904321162-1-10\">\n<path style=\"stroke:none;\" d=\"M 2.0625 -1.921875 C 2.28125 -1.890625 3.09375 -1.734375 3.09375 -1.015625 C 3.09375 -0.5 2.75 -0.109375 1.984375 -0.109375 C 1.140625 -0.109375 0.78125 -0.671875 0.59375 -1.515625 C 0.5625 -1.65625 0.5625 -1.6875 0.453125 -1.6875 C 0.328125 -1.6875 0.328125 -1.625 0.328125 -1.4375 L 0.328125 -0.125 C 0.328125 0.046875 0.328125 0.109375 0.4375 0.109375 C 0.484375 0.109375 0.5 0.09375 0.6875 -0.09375 C 0.703125 -0.109375 0.703125 -0.125 0.890625 -0.3125 C 1.328125 0.09375 1.765625 0.109375 1.984375 0.109375 C 3.125 0.109375 3.578125 -0.5625 3.578125 -1.265625 C 3.578125 -1.796875 3.28125 -2.09375 3.15625 -2.21875 C 2.828125 -2.53125 2.4375 -2.609375 2.03125 -2.6875 C 1.46875 -2.796875 0.8125 -2.9375 0.8125 -3.515625 C 0.8125 -3.859375 1.0625 -4.265625 1.921875 -4.265625 C 3.015625 -4.265625 3.0625 -3.375 3.078125 -3.0625 C 3.09375 -2.96875 3.1875 -2.96875 3.203125 -2.96875 C 3.328125 -2.96875 3.328125 -3.015625 3.328125 -3.203125 L 3.328125 -4.21875 C 3.328125 -4.375 3.328125 -4.453125 3.21875 -4.453125 C 3.171875 -4.453125 3.15625 -4.453125 3.015625 -4.328125 C 2.984375 -4.296875 2.890625 -4.203125 2.859375 -4.171875 C 2.46875 -4.453125 2.0625 -4.453125 1.921875 -4.453125 C 0.703125 -4.453125 0.328125 -3.78125 0.328125 -3.234375 C 0.328125 -2.875 0.484375 -2.609375 0.75 -2.390625 C 1.078125 -2.125 1.34375 -2.0625 2.0625 -1.921875 Z M 2.0625 -1.921875 \"/>\n</symbol>\n<symbol overflow=\"visible\" id=\"glyph-1637105904321162-1-11\">\n<path style=\"stroke:none;\" d=\"M 1.71875 -3.96875 L 3.140625 -3.96875 L 3.140625 -4.28125 L 1.71875 -4.28125 L 1.71875 -6.109375 L 1.46875 -6.109375 C 1.453125 -5.296875 1.15625 -4.234375 0.1875 -4.1875 L 0.1875 -3.96875 L 1.03125 -3.96875 L 1.03125 -1.234375 C 1.03125 -0.015625 1.953125 0.109375 2.3125 0.109375 C 3.015625 0.109375 3.296875 -0.59375 3.296875 -1.234375 L 3.296875 -1.796875 L 3.046875 -1.796875 L 3.046875 -1.25 C 3.046875 -0.515625 2.75 -0.140625 2.390625 -0.140625 C 1.71875 -0.140625 1.71875 -1.046875 1.71875 -1.21875 Z M 1.71875 -3.96875 \"/>\n</symbol>\n<symbol overflow=\"visible\" id=\"glyph-1637105904321162-1-12\">\n<path style=\"stroke:none;\" d=\"M 1.109375 -2.5 C 1.171875 -3.984375 2 -4.234375 2.34375 -4.234375 C 3.375 -4.234375 3.46875 -2.890625 3.46875 -2.5 Z M 1.109375 -2.296875 L 3.875 -2.296875 C 4.09375 -2.296875 4.125 -2.296875 4.125 -2.5 C 4.125 -3.484375 3.59375 -4.453125 2.34375 -4.453125 C 1.1875 -4.453125 0.28125 -3.421875 0.28125 -2.1875 C 0.28125 -0.859375 1.328125 0.109375 2.46875 0.109375 C 3.671875 0.109375 4.125 -1 4.125 -1.1875 C 4.125 -1.28125 4.046875 -1.296875 4 -1.296875 C 3.90625 -1.296875 3.890625 -1.25 3.859375 -1.15625 C 3.515625 -0.140625 2.625 -0.140625 2.53125 -0.140625 C 2.03125 -0.140625 1.625 -0.4375 1.40625 -0.8125 C 1.109375 -1.28125 1.109375 -1.9375 1.109375 -2.296875 Z M 1.109375 -2.296875 \"/>\n</symbol>\n<symbol overflow=\"visible\" id=\"glyph-1637105904321162-1-13\">\n<path style=\"stroke:none;\" d=\"M 6.625 -6.734375 L 0.546875 -6.734375 L 0.359375 -4.484375 L 0.609375 -4.484375 C 0.75 -6.09375 0.890625 -6.421875 2.390625 -6.421875 C 2.578125 -6.421875 2.828125 -6.421875 2.9375 -6.40625 C 3.140625 -6.359375 3.140625 -6.25 3.140625 -6.015625 L 3.140625 -0.78125 C 3.140625 -0.453125 3.140625 -0.3125 2.09375 -0.3125 L 1.703125 -0.3125 L 1.703125 0 C 2.109375 -0.03125 3.125 -0.03125 3.578125 -0.03125 C 4.03125 -0.03125 5.0625 -0.03125 5.46875 0 L 5.46875 -0.3125 L 5.0625 -0.3125 C 4.03125 -0.3125 4.03125 -0.453125 4.03125 -0.78125 L 4.03125 -6.015625 C 4.03125 -6.21875 4.03125 -6.359375 4.203125 -6.40625 C 4.3125 -6.421875 4.578125 -6.421875 4.765625 -6.421875 C 6.265625 -6.421875 6.421875 -6.09375 6.5625 -4.484375 L 6.8125 -4.484375 Z M 6.625 -6.734375 \"/>\n</symbol>\n<symbol overflow=\"visible\" id=\"glyph-1637105904321162-1-14\">\n<path style=\"stroke:none;\" d=\"M 3.3125 -0.75 C 3.34375 -0.359375 3.625 0.0625 4.078125 0.0625 C 4.296875 0.0625 4.90625 -0.078125 4.90625 -0.890625 L 4.90625 -1.4375 L 4.65625 -1.4375 L 4.65625 -0.890625 C 4.65625 -0.3125 4.40625 -0.25 4.296875 -0.25 C 3.96875 -0.25 3.921875 -0.703125 3.921875 -0.75 L 3.921875 -2.734375 C 3.921875 -3.15625 3.921875 -3.53125 3.5625 -3.90625 C 3.1875 -4.296875 2.6875 -4.453125 2.203125 -4.453125 C 1.390625 -4.453125 0.703125 -3.984375 0.703125 -3.328125 C 0.703125 -3.03125 0.90625 -2.859375 1.15625 -2.859375 C 1.4375 -2.859375 1.625 -3.0625 1.625 -3.3125 C 1.625 -3.4375 1.5625 -3.765625 1.109375 -3.78125 C 1.375 -4.125 1.875 -4.234375 2.1875 -4.234375 C 2.671875 -4.234375 3.234375 -3.84375 3.234375 -2.96875 L 3.234375 -2.59375 C 2.734375 -2.5625 2.03125 -2.53125 1.40625 -2.234375 C 0.671875 -1.890625 0.421875 -1.375 0.421875 -0.9375 C 0.421875 -0.140625 1.375 0.109375 2 0.109375 C 2.65625 0.109375 3.125 -0.28125 3.3125 -0.75 Z M 3.234375 -2.390625 L 3.234375 -1.390625 C 3.234375 -0.453125 2.53125 -0.109375 2.078125 -0.109375 C 1.59375 -0.109375 1.1875 -0.453125 1.1875 -0.953125 C 1.1875 -1.5 1.59375 -2.328125 3.234375 -2.390625 Z M 3.234375 -2.390625 \"/>\n</symbol>\n<symbol overflow=\"visible\" id=\"glyph-1637105904321162-1-15\">\n<path style=\"stroke:none;\" d=\"M 1.09375 -3.421875 L 1.09375 -0.75 C 1.09375 -0.3125 0.984375 -0.3125 0.3125 -0.3125 L 0.3125 0 C 0.671875 -0.015625 1.171875 -0.03125 1.4375 -0.03125 C 1.703125 -0.03125 2.21875 -0.015625 2.546875 0 L 2.546875 -0.3125 C 1.890625 -0.3125 1.78125 -0.3125 1.78125 -0.75 L 1.78125 -2.578125 C 1.78125 -3.625 2.484375 -4.171875 3.125 -4.171875 C 3.75 -4.171875 3.859375 -3.640625 3.859375 -3.078125 L 3.859375 -0.75 C 3.859375 -0.3125 3.75 -0.3125 3.078125 -0.3125 L 3.078125 0 C 3.421875 -0.015625 3.9375 -0.03125 4.203125 -0.03125 C 4.46875 -0.03125 4.984375 -0.015625 5.3125 0 L 5.3125 -0.3125 C 4.796875 -0.3125 4.546875 -0.3125 4.546875 -0.609375 L 4.546875 -2.5 C 4.546875 -3.359375 4.546875 -3.671875 4.234375 -4.03125 C 4.09375 -4.1875 3.765625 -4.390625 3.1875 -4.390625 C 2.46875 -4.390625 2 -3.96875 1.71875 -3.34375 L 1.71875 -4.390625 L 0.3125 -4.28125 L 0.3125 -3.96875 C 1.015625 -3.96875 1.09375 -3.90625 1.09375 -3.421875 Z M 1.09375 -3.421875 \"/>\n</symbol>\n<symbol overflow=\"visible\" id=\"glyph-1637105904321162-1-16\">\n<path style=\"stroke:none;\" d=\"M 2.203125 -1.703125 C 1.34375 -1.703125 1.34375 -2.703125 1.34375 -2.9375 C 1.34375 -3.203125 1.34375 -3.515625 1.5 -3.765625 C 1.578125 -3.890625 1.8125 -4.15625 2.203125 -4.15625 C 3.078125 -4.15625 3.078125 -3.171875 3.078125 -2.9375 C 3.078125 -2.671875 3.0625 -2.359375 2.90625 -2.109375 C 2.828125 -1.984375 2.609375 -1.703125 2.203125 -1.703125 Z M 1.046875 -1.328125 C 1.046875 -1.359375 1.046875 -1.59375 1.21875 -1.78125 C 1.609375 -1.515625 2.015625 -1.484375 2.203125 -1.484375 C 3.125 -1.484375 3.8125 -2.171875 3.8125 -2.9375 C 3.8125 -3.296875 3.65625 -3.671875 3.40625 -3.890625 C 3.765625 -4.234375 4.125 -4.28125 4.296875 -4.28125 C 4.328125 -4.28125 4.375 -4.28125 4.40625 -4.265625 C 4.296875 -4.234375 4.25 -4.125 4.25 -4 C 4.25 -3.828125 4.375 -3.71875 4.53125 -3.71875 C 4.625 -3.71875 4.8125 -3.78125 4.8125 -4.015625 C 4.8125 -4.1875 4.703125 -4.5 4.3125 -4.5 C 4.109375 -4.5 3.671875 -4.4375 3.265625 -4.03125 C 2.84375 -4.359375 2.421875 -4.390625 2.203125 -4.390625 C 1.28125 -4.390625 0.59375 -3.703125 0.59375 -2.9375 C 0.59375 -2.5 0.8125 -2.125 1.0625 -1.921875 C 0.9375 -1.765625 0.75 -1.4375 0.75 -1.09375 C 0.75 -0.78125 0.890625 -0.40625 1.1875 -0.203125 C 0.59375 -0.046875 0.28125 0.390625 0.28125 0.78125 C 0.28125 1.5 1.265625 2.046875 2.46875 2.046875 C 3.640625 2.046875 4.6875 1.546875 4.6875 0.765625 C 4.6875 0.421875 4.546875 -0.09375 4.03125 -0.375 C 3.515625 -0.640625 2.9375 -0.640625 2.328125 -0.640625 C 2.078125 -0.640625 1.65625 -0.640625 1.578125 -0.65625 C 1.265625 -0.703125 1.046875 -1 1.046875 -1.328125 Z M 2.484375 1.8125 C 1.484375 1.8125 0.796875 1.3125 0.796875 0.78125 C 0.796875 0.328125 1.171875 -0.046875 1.609375 -0.0625 L 2.203125 -0.0625 C 3.046875 -0.0625 4.15625 -0.0625 4.15625 0.78125 C 4.15625 1.328125 3.453125 1.8125 2.484375 1.8125 Z M 2.484375 1.8125 \"/>\n</symbol>\n<symbol overflow=\"visible\" id=\"glyph-1637105904321162-1-17\">\n<path style=\"stroke:none;\" d=\"M 2.234375 -6.015625 C 2.234375 -6.375 2.265625 -6.484375 3.046875 -6.484375 L 3.3125 -6.484375 L 3.3125 -6.78125 C 2.96875 -6.75 2.171875 -6.75 1.796875 -6.75 C 1.40625 -6.75 0.625 -6.75 0.28125 -6.78125 L 0.28125 -6.484375 L 0.53125 -6.484375 C 1.328125 -6.484375 1.34375 -6.375 1.34375 -6.015625 L 1.34375 -0.78125 C 1.34375 -0.421875 1.328125 -0.3125 0.53125 -0.3125 L 0.28125 -0.3125 L 0.28125 0 C 0.625 -0.03125 1.40625 -0.03125 1.78125 -0.03125 C 2.171875 -0.03125 2.96875 -0.03125 3.3125 0 L 3.3125 -0.3125 L 3.046875 -0.3125 C 2.265625 -0.3125 2.234375 -0.421875 2.234375 -0.78125 Z M 2.234375 -6.015625 \"/>\n</symbol>\n<symbol overflow=\"visible\" id=\"glyph-1637105904321162-1-18\">\n<path style=\"stroke:none;\" d=\"M 1.09375 -3.421875 L 1.09375 -0.75 C 1.09375 -0.3125 0.984375 -0.3125 0.3125 -0.3125 L 0.3125 0 C 0.671875 -0.015625 1.171875 -0.03125 1.4375 -0.03125 C 1.703125 -0.03125 2.21875 -0.015625 2.546875 0 L 2.546875 -0.3125 C 1.890625 -0.3125 1.78125 -0.3125 1.78125 -0.75 L 1.78125 -2.578125 C 1.78125 -3.625 2.484375 -4.171875 3.125 -4.171875 C 3.75 -4.171875 3.859375 -3.640625 3.859375 -3.078125 L 3.859375 -0.75 C 3.859375 -0.3125 3.75 -0.3125 3.078125 -0.3125 L 3.078125 0 C 3.421875 -0.015625 3.9375 -0.03125 4.203125 -0.03125 C 4.46875 -0.03125 4.984375 -0.015625 5.3125 0 L 5.3125 -0.3125 C 4.65625 -0.3125 4.546875 -0.3125 4.546875 -0.75 L 4.546875 -2.578125 C 4.546875 -3.625 5.25 -4.171875 5.890625 -4.171875 C 6.515625 -4.171875 6.625 -3.640625 6.625 -3.078125 L 6.625 -0.75 C 6.625 -0.3125 6.515625 -0.3125 5.84375 -0.3125 L 5.84375 0 C 6.1875 -0.015625 6.703125 -0.03125 6.96875 -0.03125 C 7.21875 -0.03125 7.734375 -0.015625 8.078125 0 L 8.078125 -0.3125 C 7.5625 -0.3125 7.3125 -0.3125 7.296875 -0.609375 L 7.296875 -2.5 C 7.296875 -3.359375 7.296875 -3.671875 7 -4.03125 C 6.859375 -4.1875 6.53125 -4.390625 5.953125 -4.390625 C 5.125 -4.390625 4.6875 -3.796875 4.515625 -3.421875 C 4.375 -4.28125 3.640625 -4.390625 3.1875 -4.390625 C 2.46875 -4.390625 2 -3.96875 1.71875 -3.34375 L 1.71875 -4.390625 L 0.3125 -4.28125 L 0.3125 -3.96875 C 1.015625 -3.96875 1.09375 -3.90625 1.09375 -3.421875 Z M 1.09375 -3.421875 \"/>\n</symbol>\n<symbol overflow=\"visible\" id=\"glyph-1637105904321162-1-19\">\n<path style=\"stroke:none;\" d=\"M 1.3125 -3.265625 L 1.3125 -3.5 C 1.3125 -6.015625 2.546875 -6.375 3.046875 -6.375 C 3.296875 -6.375 3.703125 -6.3125 3.921875 -5.96875 C 3.78125 -5.96875 3.375 -5.96875 3.375 -5.53125 C 3.375 -5.21875 3.625 -5.0625 3.828125 -5.0625 C 4 -5.0625 4.296875 -5.15625 4.296875 -5.546875 C 4.296875 -6.140625 3.859375 -6.625 3.03125 -6.625 C 1.765625 -6.625 0.421875 -5.34375 0.421875 -3.140625 C 0.421875 -0.484375 1.5625 0.21875 2.5 0.21875 C 3.59375 0.21875 4.546875 -0.71875 4.546875 -2.03125 C 4.546875 -3.296875 3.65625 -4.25 2.546875 -4.25 C 1.875 -4.25 1.515625 -3.734375 1.3125 -3.265625 Z M 2.5 -0.0625 C 1.875 -0.0625 1.5625 -0.65625 1.515625 -0.8125 C 1.328125 -1.265625 1.328125 -2.0625 1.328125 -2.25 C 1.328125 -3.015625 1.65625 -4.015625 2.546875 -4.015625 C 2.703125 -4.015625 3.15625 -4.015625 3.46875 -3.40625 C 3.640625 -3.03125 3.640625 -2.53125 3.640625 -2.03125 C 3.640625 -1.5625 3.640625 -1.0625 3.484375 -0.703125 C 3.1875 -0.109375 2.71875 -0.0625 2.5 -0.0625 Z M 2.5 -0.0625 \"/>\n</symbol>\n<symbol overflow=\"visible\" id=\"glyph-1637105904321162-1-20\">\n<path style=\"stroke:none;\" d=\"M 1.625 -4.546875 C 1.15625 -4.84375 1.125 -5.171875 1.125 -5.34375 C 1.125 -5.953125 1.765625 -6.375 2.46875 -6.375 C 3.203125 -6.375 3.828125 -5.859375 3.828125 -5.140625 C 3.828125 -4.578125 3.453125 -4.09375 2.859375 -3.75 Z M 3.078125 -3.59375 C 3.78125 -3.96875 4.265625 -4.484375 4.265625 -5.140625 C 4.265625 -6.046875 3.390625 -6.625 2.484375 -6.625 C 1.484375 -6.625 0.6875 -5.890625 0.6875 -4.953125 C 0.6875 -4.78125 0.703125 -4.328125 1.125 -3.859375 C 1.234375 -3.75 1.59375 -3.5 1.84375 -3.328125 C 1.265625 -3.046875 0.421875 -2.484375 0.421875 -1.5 C 0.421875 -0.453125 1.4375 0.21875 2.46875 0.21875 C 3.59375 0.21875 4.546875 -0.609375 4.546875 -1.671875 C 4.546875 -2.03125 4.4375 -2.46875 4.046875 -2.890625 C 3.859375 -3.09375 3.703125 -3.203125 3.078125 -3.59375 Z M 2.078125 -3.1875 L 3.296875 -2.40625 C 3.578125 -2.21875 4.046875 -1.921875 4.046875 -1.3125 C 4.046875 -0.578125 3.296875 -0.0625 2.484375 -0.0625 C 1.625 -0.0625 0.921875 -0.671875 0.921875 -1.5 C 0.921875 -2.078125 1.234375 -2.71875 2.078125 -3.1875 Z M 2.078125 -3.1875 \"/>\n</symbol>\n<symbol overflow=\"visible\" id=\"glyph-1637105904321162-1-21\">\n<path style=\"stroke:none;\" d=\"M 2.21875 -3.515625 L 2.21875 -6.078125 C 2.21875 -6.3125 2.21875 -6.421875 2.4375 -6.453125 C 2.546875 -6.484375 2.828125 -6.484375 3.03125 -6.484375 C 3.921875 -6.484375 5.03125 -6.4375 5.03125 -5 C 5.03125 -4.3125 4.796875 -3.515625 3.328125 -3.515625 Z M 4.328125 -3.375 C 5.28125 -3.625 6.0625 -4.21875 6.0625 -5 C 6.0625 -5.953125 4.921875 -6.78125 3.46875 -6.78125 L 0.34375 -6.78125 L 0.34375 -6.484375 L 0.59375 -6.484375 C 1.34375 -6.484375 1.375 -6.375 1.375 -6.015625 L 1.375 -0.78125 C 1.375 -0.421875 1.34375 -0.3125 0.59375 -0.3125 L 0.34375 -0.3125 L 0.34375 0 C 0.703125 -0.03125 1.40625 -0.03125 1.796875 -0.03125 C 2.1875 -0.03125 2.890625 -0.03125 3.25 0 L 3.25 -0.3125 L 3.015625 -0.3125 C 2.25 -0.3125 2.21875 -0.421875 2.21875 -0.78125 L 2.21875 -3.296875 L 3.375 -3.296875 C 3.53125 -3.296875 3.9375 -3.296875 4.296875 -2.953125 C 4.671875 -2.59375 4.671875 -2.28125 4.671875 -1.625 C 4.671875 -0.96875 4.671875 -0.578125 5.078125 -0.203125 C 5.484375 0.15625 6.03125 0.21875 6.328125 0.21875 C 7.109375 0.21875 7.28125 -0.59375 7.28125 -0.875 C 7.28125 -0.9375 7.28125 -1.046875 7.140625 -1.046875 C 7.03125 -1.046875 7.03125 -0.953125 7.03125 -0.890625 C 6.96875 -0.171875 6.625 0 6.375 0 C 5.890625 0 5.796875 -0.5 5.671875 -1.4375 L 5.53125 -2.21875 C 5.359375 -2.859375 4.875 -3.1875 4.328125 -3.375 Z M 4.328125 -3.375 \"/>\n</symbol>\n<symbol overflow=\"visible\" id=\"glyph-1637105904321162-1-22\">\n<path style=\"stroke:none;\" d=\"M 3.78125 -0.546875 L 3.78125 0.109375 L 5.234375 0 L 5.234375 -0.3125 C 4.546875 -0.3125 4.46875 -0.375 4.46875 -0.859375 L 4.46875 -6.890625 L 3.03125 -6.78125 L 3.03125 -6.484375 C 3.734375 -6.484375 3.8125 -6.40625 3.8125 -5.921875 L 3.8125 -3.78125 C 3.515625 -4.140625 3.09375 -4.390625 2.546875 -4.390625 C 1.375 -4.390625 0.34375 -3.421875 0.34375 -2.140625 C 0.34375 -0.875 1.3125 0.109375 2.4375 0.109375 C 3.078125 0.109375 3.53125 -0.234375 3.78125 -0.546875 Z M 3.78125 -3.203125 L 3.78125 -1.171875 C 3.78125 -1 3.78125 -0.96875 3.671875 -0.8125 C 3.375 -0.328125 2.921875 -0.109375 2.5 -0.109375 C 2.046875 -0.109375 1.6875 -0.375 1.453125 -0.75 C 1.1875 -1.15625 1.15625 -1.71875 1.15625 -2.125 C 1.15625 -2.5 1.1875 -3.09375 1.46875 -3.53125 C 1.671875 -3.84375 2.0625 -4.171875 2.59375 -4.171875 C 2.9375 -4.171875 3.359375 -4.03125 3.671875 -3.578125 C 3.78125 -3.40625 3.78125 -3.390625 3.78125 -3.203125 Z M 3.78125 -3.203125 \"/>\n</symbol>\n<symbol overflow=\"visible\" id=\"glyph-1637105904321162-2-0\">\n<path style=\"stroke:none;\" d=\"\"/>\n</symbol>\n<symbol overflow=\"visible\" id=\"glyph-1637105904321162-2-1\">\n<path style=\"stroke:none;\" d=\"M 1.90625 -0.53125 C 1.90625 -0.8125 1.671875 -1.046875 1.375 -1.046875 C 1.09375 -1.046875 0.859375 -0.8125 0.859375 -0.53125 C 0.859375 -0.234375 1.09375 0 1.375 0 C 1.671875 0 1.90625 -0.234375 1.90625 -0.53125 Z M 1.90625 -0.53125 \"/>\n</symbol>\n<symbol overflow=\"visible\" id=\"glyph-1637105904321162-2-2\">\n<path style=\"stroke:none;\" d=\"M 2.296875 -3.484375 C 2.34375 -3.703125 2.4375 -4.078125 2.4375 -4.125 C 2.4375 -4.296875 2.328125 -4.390625 2.15625 -4.390625 C 2.125 -4.390625 1.84375 -4.375 1.765625 -4.03125 L 0.328125 1.71875 C 0.296875 1.84375 0.296875 1.859375 0.296875 1.875 C 0.296875 2.03125 0.40625 2.140625 0.578125 2.140625 C 0.78125 2.140625 0.90625 1.96875 0.921875 1.9375 C 0.96875 1.84375 1.09375 1.328125 1.46875 -0.203125 C 1.78125 0.0625 2.234375 0.109375 2.4375 0.109375 C 3.125 0.109375 3.515625 -0.34375 3.75 -0.609375 C 3.84375 -0.171875 4.21875 0.109375 4.65625 0.109375 C 5 0.109375 5.234375 -0.125 5.390625 -0.4375 C 5.5625 -0.796875 5.6875 -1.40625 5.6875 -1.421875 C 5.6875 -1.515625 5.59375 -1.515625 5.5625 -1.515625 C 5.46875 -1.515625 5.453125 -1.484375 5.421875 -1.34375 C 5.25 -0.703125 5.078125 -0.109375 4.671875 -0.109375 C 4.40625 -0.109375 4.375 -0.375 4.375 -0.5625 C 4.375 -0.78125 4.484375 -1.25 4.578125 -1.59375 L 4.84375 -2.671875 C 4.875 -2.828125 4.984375 -3.203125 5.015625 -3.34375 C 5.0625 -3.578125 5.171875 -3.953125 5.171875 -4.015625 C 5.171875 -4.1875 5.03125 -4.28125 4.875 -4.28125 C 4.828125 -4.28125 4.578125 -4.265625 4.484375 -3.9375 L 4.03125 -2.078125 C 3.90625 -1.578125 3.796875 -1.15625 3.765625 -1.0625 C 3.75 -1.015625 3.28125 -0.109375 2.46875 -0.109375 C 1.984375 -0.109375 1.734375 -0.4375 1.734375 -0.96875 C 1.734375 -1.265625 1.8125 -1.546875 1.875 -1.8125 Z M 2.296875 -3.484375 \"/>\n</symbol>\n<symbol overflow=\"visible\" id=\"glyph-1637105904321162-3-0\">\n<path style=\"stroke:none;\" d=\"\"/>\n</symbol>\n<symbol overflow=\"visible\" id=\"glyph-1637105904321162-3-1\">\n<path style=\"stroke:none;\" d=\"M -3.96875 -3.640625 L -3.96875 -4.5 C -3.96875 -4.703125 -3.96875 -4.796875 -4.171875 -4.796875 C -4.28125 -4.796875 -4.28125 -4.703125 -4.28125 -4.53125 L -4.28125 -3.703125 L -5.421875 -3.921875 C -5.625 -3.953125 -6.328125 -4.09375 -6.453125 -4.15625 C -6.640625 -4.25 -6.78125 -4.40625 -6.78125 -4.625 C -6.78125 -4.65625 -6.78125 -4.921875 -6.609375 -5.109375 C -6.5625 -4.671875 -6.21875 -4.578125 -6.078125 -4.578125 C -5.84375 -4.578125 -5.71875 -4.75 -5.71875 -4.9375 C -5.71875 -5.203125 -5.9375 -5.484375 -6.3125 -5.484375 C -6.78125 -5.484375 -7 -5.03125 -7 -4.625 C -7 -4.28125 -6.828125 -3.65625 -5.84375 -3.359375 C -5.640625 -3.296875 -5.53125 -3.265625 -4.28125 -3.03125 L -4.28125 -2.34375 C -4.28125 -2.15625 -4.28125 -2.046875 -4.09375 -2.046875 C -3.96875 -2.046875 -3.96875 -2.140625 -3.96875 -2.328125 L -3.96875 -2.984375 L -0.046875 -2.234375 C 0.921875 -2.0625 1.8125 -1.890625 1.8125 -1.375 C 1.8125 -1.328125 1.8125 -1.078125 1.640625 -0.890625 C 1.609375 -1.34375 1.25 -1.4375 1.109375 -1.4375 C 0.875 -1.4375 0.75 -1.265625 0.75 -1.078125 C 0.75 -0.8125 0.96875 -0.53125 1.34375 -0.53125 C 1.796875 -0.53125 2.03125 -0.96875 2.03125 -1.375 C 2.03125 -1.921875 1.453125 -2.3125 1.078125 -2.5 C 0.453125 -2.8125 -0.75 -3.046875 -0.828125 -3.046875 Z M -3.96875 -3.640625 \"/>\n</symbol>\n<symbol overflow=\"visible\" id=\"glyph-1637105904321162-3-2\">\n<path style=\"stroke:none;\" d=\"M -3.484375 -2.296875 C -3.703125 -2.34375 -4.078125 -2.4375 -4.125 -2.4375 C -4.296875 -2.4375 -4.390625 -2.328125 -4.390625 -2.15625 C -4.390625 -2.125 -4.375 -1.84375 -4.03125 -1.765625 L 1.71875 -0.328125 C 1.84375 -0.296875 1.859375 -0.296875 1.875 -0.296875 C 2.03125 -0.296875 2.140625 -0.40625 2.140625 -0.578125 C 2.140625 -0.78125 1.96875 -0.90625 1.9375 -0.921875 C 1.84375 -0.96875 1.328125 -1.09375 -0.203125 -1.46875 C 0.0625 -1.78125 0.109375 -2.234375 0.109375 -2.4375 C 0.109375 -3.125 -0.34375 -3.515625 -0.609375 -3.75 C -0.171875 -3.84375 0.109375 -4.21875 0.109375 -4.65625 C 0.109375 -5 -0.125 -5.234375 -0.4375 -5.390625 C -0.796875 -5.5625 -1.40625 -5.6875 -1.421875 -5.6875 C -1.515625 -5.6875 -1.515625 -5.59375 -1.515625 -5.5625 C -1.515625 -5.46875 -1.484375 -5.453125 -1.34375 -5.421875 C -0.703125 -5.25 -0.109375 -5.078125 -0.109375 -4.671875 C -0.109375 -4.40625 -0.375 -4.375 -0.5625 -4.375 C -0.78125 -4.375 -1.25 -4.484375 -1.59375 -4.578125 L -2.671875 -4.84375 C -2.828125 -4.875 -3.203125 -4.984375 -3.34375 -5.015625 C -3.578125 -5.0625 -3.953125 -5.171875 -4.015625 -5.171875 C -4.1875 -5.171875 -4.28125 -5.03125 -4.28125 -4.875 C -4.28125 -4.828125 -4.265625 -4.578125 -3.9375 -4.484375 L -2.078125 -4.03125 C -1.578125 -3.90625 -1.15625 -3.796875 -1.0625 -3.765625 C -1.015625 -3.75 -0.109375 -3.28125 -0.109375 -2.46875 C -0.109375 -1.984375 -0.4375 -1.734375 -0.96875 -1.734375 C -1.265625 -1.734375 -1.546875 -1.8125 -1.8125 -1.875 Z M -3.484375 -2.296875 \"/>\n</symbol>\n<symbol overflow=\"visible\" id=\"glyph-1637105904321162-4-0\">\n<path style=\"stroke:none;\" d=\"\"/>\n</symbol>\n<symbol overflow=\"visible\" id=\"glyph-1637105904321162-4-1\">\n<path style=\"stroke:none;\" d=\"M 2.390625 -3.296875 C 2.359375 -3.296875 2.328125 -3.296875 2.171875 -3.125 C 0.921875 -1.875 -0.96875 -1.5625 -2.484375 -1.5625 C -4.21875 -1.5625 -5.9375 -1.9375 -7.1875 -3.15625 C -7.296875 -3.296875 -7.328125 -3.296875 -7.359375 -3.296875 C -7.421875 -3.296875 -7.453125 -3.25 -7.453125 -3.1875 C -7.453125 -3.09375 -6.78125 -2.203125 -5.515625 -1.609375 C -4.421875 -1.109375 -3.3125 -0.984375 -2.484375 -0.984375 C -1.703125 -0.984375 -0.5 -1.09375 0.609375 -1.640625 C 1.84375 -2.234375 2.484375 -3.09375 2.484375 -3.1875 C 2.484375 -3.25 2.453125 -3.296875 2.390625 -3.296875 Z M 2.390625 -3.296875 \"/>\n</symbol>\n<symbol overflow=\"visible\" id=\"glyph-1637105904321162-4-2\">\n<path style=\"stroke:none;\" d=\"M -2.484375 -2.875 C -3.265625 -2.875 -4.46875 -2.765625 -5.578125 -2.21875 C -6.8125 -1.625 -7.453125 -0.765625 -7.453125 -0.671875 C -7.453125 -0.609375 -7.40625 -0.5625 -7.359375 -0.5625 C -7.328125 -0.5625 -7.296875 -0.5625 -7.125 -0.75 C -6.140625 -1.734375 -4.5625 -2.296875 -2.484375 -2.296875 C -0.78125 -2.296875 0.96875 -1.921875 2.21875 -0.703125 C 2.328125 -0.5625 2.359375 -0.5625 2.390625 -0.5625 C 2.4375 -0.5625 2.484375 -0.609375 2.484375 -0.671875 C 2.484375 -0.765625 1.8125 -1.65625 0.546875 -2.25 C -0.546875 -2.75 -1.65625 -2.875 -2.484375 -2.875 Z M -2.484375 -2.875 \"/>\n</symbol>\n</g>\n<clipPath id=\"clip-1637105904321162-1\">\n  <path d=\"M 39 26 L 144 26 L 144 132.417969 L 39 132.417969 Z M 39 26 \"/>\n</clipPath>\n<clipPath id=\"clip-1637105904321162-2\">\n  <path d=\"M 200 26 L 304 26 L 304 132.417969 L 200 132.417969 Z M 200 26 \"/>\n</clipPath>\n<clipPath id=\"clip-1637105904321162-3\">\n  <path d=\"M 356 21 L 468.015625 21 L 468.015625 133 L 356 133 Z M 356 21 \"/>\n</clipPath>\n<clipPath id=\"clip-1637105904321162-4\">\n  <path d=\"M 360 26 L 465 26 L 465 132.417969 L 360 132.417969 Z M 360 26 \"/>\n</clipPath>\n</defs>\n<g id=\"surface1\">\n<path style=\"fill:none;stroke-width:0.19925;stroke-linecap:butt;stroke-linejoin:miter;stroke:rgb(50%,50%,50%);stroke-opacity:1;stroke-miterlimit:10;\" d=\"M 15.42869 -0.000671379 L 15.42869 4.250498 M 46.279026 -0.000671379 L 46.279026 4.250498 M 77.133276 -0.000671379 L 77.133276 4.250498 M 15.42869 111.069932 L 15.42869 106.818763 M 46.279026 111.069932 L 46.279026 106.818763 M 77.133276 111.069932 L 77.133276 106.818763 \" transform=\"matrix(0.997887,0,0,-0.997887,45.533594,132.417299)\"/>\n<path style=\"fill:none;stroke-width:0.19925;stroke-linecap:butt;stroke-linejoin:miter;stroke:rgb(50%,50%,50%);stroke-opacity:1;stroke-miterlimit:10;\" d=\"M -9.256276 -0.000671379 L -5.005107 -0.000671379 M -9.256276 25.322362 L -5.005107 25.322362 M -9.256276 50.645394 L -5.005107 50.645394 M -9.256276 75.964513 L -5.005107 75.964513 M -9.256276 101.287546 L -5.005107 101.287546 M 101.818242 -0.000671379 L 97.567073 -0.000671379 M 101.818242 25.322362 L 97.567073 25.322362 M 101.818242 50.645394 L 97.567073 50.645394 M 101.818242 75.964513 L 97.567073 75.964513 M 101.818242 101.287546 L 97.567073 101.287546 \" transform=\"matrix(0.997887,0,0,-0.997887,45.533594,132.417299)\"/>\n<path style=\"fill:none;stroke-width:0.3985;stroke-linecap:butt;stroke-linejoin:miter;stroke:rgb(0%,0%,0%);stroke-opacity:1;stroke-miterlimit:10;\" d=\"M -9.256276 -0.000671379 L -9.256276 111.069932 L 101.818242 111.069932 L 101.818242 -0.000671379 Z M -9.256276 -0.000671379 \" transform=\"matrix(0.997887,0,0,-0.997887,45.533594,132.417299)\"/>\n<g style=\"fill:rgb(0%,0%,0%);fill-opacity:1;\">\n  <use xlink:href=\"#glyph-1637105904321162-0-1\" x=\"54.576449\" y=\"142.336298\"/>\n</g>\n<g style=\"fill:rgb(0%,0%,0%);fill-opacity:1;\">\n  <use xlink:href=\"#glyph-1637105904321162-1-1\" x=\"62.308079\" y=\"142.336298\"/>\n</g>\n<g style=\"fill:rgb(0%,0%,0%);fill-opacity:1;\">\n  <use xlink:href=\"#glyph-1637105904321162-1-2\" x=\"89.231076\" y=\"142.336298\"/>\n</g>\n<g style=\"fill:rgb(0%,0%,0%);fill-opacity:1;\">\n  <use xlink:href=\"#glyph-1637105904321162-1-1\" x=\"120.018891\" y=\"142.336298\"/>\n</g>\n<g style=\"fill:rgb(0%,0%,0%);fill-opacity:1;\">\n  <use xlink:href=\"#glyph-1637105904321162-1-2\" x=\"27.813113\" y=\"135.620517\"/>\n</g>\n<g style=\"fill:rgb(0%,0%,0%);fill-opacity:1;\">\n  <use xlink:href=\"#glyph-1637105904321162-1-2\" x=\"20.080485\" y=\"110.352016\"/>\n</g>\n<g style=\"fill:rgb(0%,0%,0%);fill-opacity:1;\">\n  <use xlink:href=\"#glyph-1637105904321162-2-1\" x=\"25.051959\" y=\"110.352016\"/>\n</g>\n<g style=\"fill:rgb(0%,0%,0%);fill-opacity:1;\">\n  <use xlink:href=\"#glyph-1637105904321162-1-3\" x=\"27.813113\" y=\"110.352016\"/>\n</g>\n<g style=\"fill:rgb(0%,0%,0%);fill-opacity:1;\">\n  <use xlink:href=\"#glyph-1637105904321162-1-2\" x=\"20.080485\" y=\"85.084514\"/>\n</g>\n<g style=\"fill:rgb(0%,0%,0%);fill-opacity:1;\">\n  <use xlink:href=\"#glyph-1637105904321162-2-1\" x=\"25.051959\" y=\"85.084514\"/>\n</g>\n<g style=\"fill:rgb(0%,0%,0%);fill-opacity:1;\">\n  <use xlink:href=\"#glyph-1637105904321162-1-1\" x=\"27.813113\" y=\"85.084514\"/>\n</g>\n<g style=\"fill:rgb(0%,0%,0%);fill-opacity:1;\">\n  <use xlink:href=\"#glyph-1637105904321162-1-2\" x=\"20.080485\" y=\"59.816013\"/>\n</g>\n<g style=\"fill:rgb(0%,0%,0%);fill-opacity:1;\">\n  <use xlink:href=\"#glyph-1637105904321162-2-1\" x=\"25.051959\" y=\"59.816013\"/>\n</g>\n<g style=\"fill:rgb(0%,0%,0%);fill-opacity:1;\">\n  <use xlink:href=\"#glyph-1637105904321162-1-4\" x=\"27.813113\" y=\"59.816013\"/>\n</g>\n<g style=\"fill:rgb(0%,0%,0%);fill-opacity:1;\">\n  <use xlink:href=\"#glyph-1637105904321162-1-2\" x=\"20.080485\" y=\"34.54851\"/>\n</g>\n<g style=\"fill:rgb(0%,0%,0%);fill-opacity:1;\">\n  <use xlink:href=\"#glyph-1637105904321162-2-1\" x=\"25.051959\" y=\"34.54851\"/>\n</g>\n<g style=\"fill:rgb(0%,0%,0%);fill-opacity:1;\">\n  <use xlink:href=\"#glyph-1637105904321162-1-5\" x=\"27.813113\" y=\"34.54851\"/>\n</g>\n<g clip-path=\"url(#clip-1637105904321162-1)\" clip-rule=\"nonzero\">\n<path style=\"fill:none;stroke-width:0.3985;stroke-linecap:butt;stroke-linejoin:miter;stroke:rgb(0%,0%,100%);stroke-opacity:1;stroke-miterlimit:10;\" d=\"M 0.00156507 1.122796 L 0.933221 1.342009 L 1.868791 1.604282 L 2.804362 1.9057 L 3.739932 2.254092 L 4.675503 2.661203 L 5.611073 3.12703 L 6.546643 3.66332 L 7.478299 4.273985 L 8.41387 4.966855 L 9.34944 5.753674 L 10.28501 6.638355 L 11.220581 7.632644 L 12.156151 8.744367 L 13.091722 9.981356 L 14.023377 11.351438 L 14.958948 12.862443 L 15.894518 14.518285 L 16.830089 16.330708 L 17.765659 18.299712 L 18.701229 20.433125 L 19.632885 22.727034 L 20.568456 25.189268 L 21.504026 27.815911 L 22.439596 30.60305 L 23.375167 33.546769 L 24.310737 36.63924 L 25.246308 39.86872 L 26.177963 43.223464 L 27.113534 46.691729 L 28.049104 50.250028 L 28.984675 53.882703 L 29.920245 57.562352 L 30.855815 61.273317 L 31.791386 64.980368 L 32.723042 68.663932 L 33.658612 72.284864 L 34.594182 75.819676 L 35.529753 79.237052 L 36.465323 82.505676 L 37.400894 85.590319 L 38.336464 88.467491 L 39.26812 91.105878 L 40.20369 93.478077 L 41.139261 95.560602 L 42.074831 97.33388 L 43.010401 98.774424 L 43.945972 99.870489 L 44.877628 100.606419 L 45.813198 100.974384 L 46.748768 100.974384 L 47.684339 100.606419 L 48.619909 99.870489 L 49.55548 98.774424 L 50.49105 97.33388 L 51.422706 95.560602 L 52.358276 93.478077 L 53.293847 91.105878 L 54.229417 88.467491 L 55.164987 85.590319 L 56.100558 82.505676 L 57.036128 79.237052 L 57.967784 75.819676 L 58.903355 72.284864 L 59.838925 68.663932 L 60.774495 64.980368 L 61.710066 61.273317 L 62.645636 57.562352 L 63.581206 53.882703 L 64.512862 50.250028 L 65.448433 46.691729 L 66.384003 43.223464 L 67.319574 39.86872 L 68.255144 36.63924 L 69.190714 33.546769 L 70.12237 30.60305 L 71.057941 27.815911 L 71.993511 25.189268 L 72.929081 22.727034 L 73.864652 20.433125 L 74.800222 18.299712 L 75.735793 16.330708 L 76.667448 14.518285 L 77.603019 12.862443 L 78.538589 11.351438 L 79.47416 9.981356 L 80.40973 8.744367 L 81.3453 7.632644 L 82.280871 6.638355 L 83.212527 5.753674 L 84.148097 4.966855 L 85.083667 4.273985 L 86.019238 3.66332 L 86.954808 3.12703 L 87.890379 2.661203 L 88.825949 2.254092 L 89.757605 1.9057 L 90.693175 1.604282 L 91.628746 1.342009 L 92.564316 1.122796 \" transform=\"matrix(0.997887,0,0,-0.997887,45.533594,132.417299)\"/>\n</g>\n<g style=\"fill:rgb(0%,0%,0%);fill-opacity:1;\">\n  <use xlink:href=\"#glyph-1637105904321162-2-2\" x=\"88.721156\" y=\"154.271029\"/>\n</g>\n<g style=\"fill:rgb(0%,0%,0%);fill-opacity:1;\">\n  <use xlink:href=\"#glyph-1637105904321162-3-1\" x=\"10.769199\" y=\"86.829818\"/>\n</g>\n<g style=\"fill:rgb(0%,0%,0%);fill-opacity:1;\">\n  <use xlink:href=\"#glyph-1637105904321162-4-1\" x=\"10.769199\" y=\"80.892389\"/>\n</g>\n<g style=\"fill:rgb(0%,0%,0%);fill-opacity:1;\">\n  <use xlink:href=\"#glyph-1637105904321162-3-2\" x=\"10.769199\" y=\"77.025576\"/>\n</g>\n<g style=\"fill:rgb(0%,0%,0%);fill-opacity:1;\">\n  <use xlink:href=\"#glyph-1637105904321162-4-2\" x=\"10.769199\" y=\"71.035259\"/>\n</g>\n<g style=\"fill:rgb(0%,0%,0%);fill-opacity:1;\">\n  <use xlink:href=\"#glyph-1637105904321162-1-6\" x=\"80.573407\" y=\"12.104031\"/>\n  <use xlink:href=\"#glyph-1637105904321162-1-7\" x=\"87.339654\" y=\"12.104031\"/>\n  <use xlink:href=\"#glyph-1637105904321162-1-8\" x=\"91.233775\" y=\"12.104031\"/>\n  <use xlink:href=\"#glyph-1637105904321162-1-9\" x=\"93.995549\" y=\"12.104031\"/>\n  <use xlink:href=\"#glyph-1637105904321162-1-7\" x=\"98.966345\" y=\"12.104031\"/>\n</g>\n<path style=\"fill:none;stroke-width:0.19925;stroke-linecap:butt;stroke-linejoin:miter;stroke:rgb(50%,50%,50%);stroke-opacity:1;stroke-miterlimit:10;\" d=\"M 15.428012 -0.000671379 L 15.428012 4.250498 M 46.282262 -0.000671379 L 46.282262 4.250498 M 77.136512 -0.000671379 L 77.136512 4.250498 M 15.428012 111.073847 L 15.428012 106.818763 M 46.282262 111.073847 L 46.282262 106.818763 M 77.136512 111.073847 L 77.136512 106.818763 \" transform=\"matrix(0.997887,0,0,-0.997887,205.874115,132.417299)\"/>\n<path style=\"fill:none;stroke-width:0.19925;stroke-linecap:butt;stroke-linejoin:miter;stroke:rgb(50%,50%,50%);stroke-opacity:1;stroke-miterlimit:10;\" d=\"M -9.256954 -0.000671379 L -5.005785 -0.000671379 M -9.256954 48.339742 L -5.005785 48.339742 M -9.256954 96.680155 L -5.005785 96.680155 M 101.817564 -0.000671379 L 97.566395 -0.000671379 M 101.817564 48.339742 L 97.566395 48.339742 M 101.817564 96.680155 L 97.566395 96.680155 \" transform=\"matrix(0.997887,0,0,-0.997887,205.874115,132.417299)\"/>\n<path style=\"fill:none;stroke-width:0.3985;stroke-linecap:butt;stroke-linejoin:miter;stroke:rgb(0%,0%,0%);stroke-opacity:1;stroke-miterlimit:10;\" d=\"M -9.256954 -0.000671379 L -9.256954 111.073847 L 101.817564 111.073847 L 101.817564 -0.000671379 Z M -9.256954 -0.000671379 \" transform=\"matrix(0.997887,0,0,-0.997887,205.874115,132.417299)\"/>\n<g style=\"fill:rgb(0%,0%,0%);fill-opacity:1;\">\n  <use xlink:href=\"#glyph-1637105904321162-0-1\" x=\"214.916969\" y=\"142.336298\"/>\n</g>\n<g style=\"fill:rgb(0%,0%,0%);fill-opacity:1;\">\n  <use xlink:href=\"#glyph-1637105904321162-1-1\" x=\"222.649598\" y=\"142.336298\"/>\n</g>\n<g style=\"fill:rgb(0%,0%,0%);fill-opacity:1;\">\n  <use xlink:href=\"#glyph-1637105904321162-1-2\" x=\"249.571597\" y=\"142.336298\"/>\n</g>\n<g style=\"fill:rgb(0%,0%,0%);fill-opacity:1;\">\n  <use xlink:href=\"#glyph-1637105904321162-1-1\" x=\"280.359412\" y=\"142.336298\"/>\n</g>\n<g style=\"fill:rgb(0%,0%,0%);fill-opacity:1;\">\n  <use xlink:href=\"#glyph-1637105904321162-1-2\" x=\"188.153634\" y=\"135.620517\"/>\n</g>\n<g style=\"fill:rgb(0%,0%,0%);fill-opacity:1;\">\n  <use xlink:href=\"#glyph-1637105904321162-1-1\" x=\"188.153634\" y=\"87.384644\"/>\n</g>\n<g style=\"fill:rgb(0%,0%,0%);fill-opacity:1;\">\n  <use xlink:href=\"#glyph-1637105904321162-1-5\" x=\"188.153634\" y=\"39.147773\"/>\n</g>\n<g clip-path=\"url(#clip-1637105904321162-2)\" clip-rule=\"nonzero\">\n<path style=\"fill:none;stroke-width:0.3985;stroke-linecap:butt;stroke-linejoin:miter;stroke:rgb(0%,0%,100%);stroke-opacity:1;stroke-miterlimit:10;\" d=\"M 0.000886618 -0.000671379 L 63.580528 -0.000671379 L 64.516098 100.974384 L 65.447754 -0.000671379 L 92.563638 -0.000671379 \" transform=\"matrix(0.997887,0,0,-0.997887,205.874115,132.417299)\"/>\n</g>\n<g style=\"fill:rgb(0%,0%,0%);fill-opacity:1;\">\n  <use xlink:href=\"#glyph-1637105904321162-2-2\" x=\"249.061677\" y=\"154.271029\"/>\n</g>\n<g style=\"fill:rgb(0%,0%,0%);fill-opacity:1;\">\n  <use xlink:href=\"#glyph-1637105904321162-3-1\" x=\"178.842348\" y=\"86.829818\"/>\n</g>\n<g style=\"fill:rgb(0%,0%,0%);fill-opacity:1;\">\n  <use xlink:href=\"#glyph-1637105904321162-4-1\" x=\"178.842348\" y=\"80.892389\"/>\n</g>\n<g style=\"fill:rgb(0%,0%,0%);fill-opacity:1;\">\n  <use xlink:href=\"#glyph-1637105904321162-3-2\" x=\"178.842348\" y=\"77.025576\"/>\n</g>\n<g style=\"fill:rgb(0%,0%,0%);fill-opacity:1;\">\n  <use xlink:href=\"#glyph-1637105904321162-4-2\" x=\"178.842348\" y=\"71.035259\"/>\n</g>\n<g style=\"fill:rgb(0%,0%,0%);fill-opacity:1;\">\n  <use xlink:href=\"#glyph-1637105904321162-1-6\" x=\"197.65352\" y=\"10.171123\"/>\n</g>\n<g style=\"fill:rgb(0%,0%,0%);fill-opacity:1;\">\n  <use xlink:href=\"#glyph-1637105904321162-1-9\" x=\"204.151344\" y=\"10.171123\"/>\n  <use xlink:href=\"#glyph-1637105904321162-1-10\" x=\"209.12214\" y=\"10.171123\"/>\n  <use xlink:href=\"#glyph-1637105904321162-1-11\" x=\"213.043104\" y=\"10.171123\"/>\n  <use xlink:href=\"#glyph-1637105904321162-1-12\" x=\"216.909388\" y=\"10.171123\"/>\n  <use xlink:href=\"#glyph-1637105904321162-1-7\" x=\"221.327432\" y=\"10.171123\"/>\n  <use xlink:href=\"#glyph-1637105904321162-1-8\" x=\"225.221553\" y=\"10.171123\"/>\n  <use xlink:href=\"#glyph-1637105904321162-1-9\" x=\"227.983327\" y=\"10.171123\"/>\n  <use xlink:href=\"#glyph-1637105904321162-1-7\" x=\"232.954123\" y=\"10.171123\"/>\n</g>\n<g style=\"fill:rgb(0%,0%,0%);fill-opacity:1;\">\n  <use xlink:href=\"#glyph-1637105904321162-1-13\" x=\"240.148852\" y=\"10.171123\"/>\n</g>\n<g style=\"fill:rgb(0%,0%,0%);fill-opacity:1;\">\n  <use xlink:href=\"#glyph-1637105904321162-1-7\" x=\"246.513459\" y=\"10.171123\"/>\n  <use xlink:href=\"#glyph-1637105904321162-1-14\" x=\"250.40758\" y=\"10.171123\"/>\n  <use xlink:href=\"#glyph-1637105904321162-1-8\" x=\"255.378376\" y=\"10.171123\"/>\n  <use xlink:href=\"#glyph-1637105904321162-1-15\" x=\"258.14015\" y=\"10.171123\"/>\n  <use xlink:href=\"#glyph-1637105904321162-1-8\" x=\"263.663698\" y=\"10.171123\"/>\n  <use xlink:href=\"#glyph-1637105904321162-1-15\" x=\"266.425472\" y=\"10.171123\"/>\n  <use xlink:href=\"#glyph-1637105904321162-1-16\" x=\"271.94902\" y=\"10.171123\"/>\n</g>\n<g style=\"fill:rgb(0%,0%,0%);fill-opacity:1;\">\n  <use xlink:href=\"#glyph-1637105904321162-1-17\" x=\"280.220424\" y=\"10.171123\"/>\n  <use xlink:href=\"#glyph-1637105904321162-1-18\" x=\"283.810333\" y=\"10.171123\"/>\n  <use xlink:href=\"#glyph-1637105904321162-1-14\" x=\"292.094661\" y=\"10.171123\"/>\n  <use xlink:href=\"#glyph-1637105904321162-1-16\" x=\"297.065456\" y=\"10.171123\"/>\n  <use xlink:href=\"#glyph-1637105904321162-1-12\" x=\"302.036252\" y=\"10.171123\"/>\n</g>\n<path style=\"fill:none;stroke-width:0.19925;stroke-linecap:butt;stroke-linejoin:miter;stroke:rgb(50%,50%,50%);stroke-opacity:1;stroke-miterlimit:10;\" d=\"M 15.427333 -0.00167138 L 15.427333 4.253412 M 46.281584 -0.00167138 L 46.281584 4.253412 M 77.135834 -0.00167138 L 77.135834 4.253412 M 15.427333 111.068932 L 15.427333 106.817763 M 46.281584 111.068932 L 46.281584 106.817763 M 77.135834 111.068932 L 77.135834 106.817763 \" transform=\"matrix(0.997887,0,0,-0.997887,366.214636,132.416301)\"/>\n<path style=\"fill:none;stroke-width:0.19925;stroke-linecap:butt;stroke-linejoin:miter;stroke:rgb(50%,50%,50%);stroke-opacity:1;stroke-miterlimit:10;\" d=\"M -9.257633 -0.00167138 L -5.006464 -0.00167138 M -9.257633 21.673028 L -5.006464 21.673028 M -9.257633 43.351643 L -5.006464 43.351643 M -9.257633 65.026343 L -5.006464 65.026343 M -9.257633 86.701042 L -5.006464 86.701042 M -9.257633 108.375742 L -5.006464 108.375742 M 101.816885 -0.00167138 L 97.565716 -0.00167138 M 101.816885 21.673028 L 97.565716 21.673028 M 101.816885 43.351643 L 97.565716 43.351643 M 101.816885 65.026343 L 97.565716 65.026343 M 101.816885 86.701042 L 97.565716 86.701042 M 101.816885 108.375742 L 97.565716 108.375742 \" transform=\"matrix(0.997887,0,0,-0.997887,366.214636,132.416301)\"/>\n<g clip-path=\"url(#clip-1637105904321162-3)\" clip-rule=\"nonzero\">\n<path style=\"fill:none;stroke-width:0.3985;stroke-linecap:butt;stroke-linejoin:miter;stroke:rgb(0%,0%,0%);stroke-opacity:1;stroke-miterlimit:10;\" d=\"M -9.257633 -0.00167138 L -9.257633 111.068932 L 101.816885 111.068932 L 101.816885 -0.00167138 Z M -9.257633 -0.00167138 \" transform=\"matrix(0.997887,0,0,-0.997887,366.214636,132.416301)\"/>\n</g>\n<g style=\"fill:rgb(0%,0%,0%);fill-opacity:1;\">\n  <use xlink:href=\"#glyph-1637105904321162-0-1\" x=\"375.25749\" y=\"142.336298\"/>\n</g>\n<g style=\"fill:rgb(0%,0%,0%);fill-opacity:1;\">\n  <use xlink:href=\"#glyph-1637105904321162-1-1\" x=\"382.990118\" y=\"142.336298\"/>\n</g>\n<g style=\"fill:rgb(0%,0%,0%);fill-opacity:1;\">\n  <use xlink:href=\"#glyph-1637105904321162-1-2\" x=\"409.912118\" y=\"142.336298\"/>\n</g>\n<g style=\"fill:rgb(0%,0%,0%);fill-opacity:1;\">\n  <use xlink:href=\"#glyph-1637105904321162-1-1\" x=\"440.699933\" y=\"142.336298\"/>\n</g>\n<g style=\"fill:rgb(0%,0%,0%);fill-opacity:1;\">\n  <use xlink:href=\"#glyph-1637105904321162-1-2\" x=\"348.494155\" y=\"135.620517\"/>\n</g>\n<g style=\"fill:rgb(0%,0%,0%);fill-opacity:1;\">\n  <use xlink:href=\"#glyph-1637105904321162-1-1\" x=\"348.494155\" y=\"113.991311\"/>\n</g>\n<g style=\"fill:rgb(0%,0%,0%);fill-opacity:1;\">\n  <use xlink:href=\"#glyph-1637105904321162-1-5\" x=\"348.494155\" y=\"92.362105\"/>\n</g>\n<g style=\"fill:rgb(0%,0%,0%);fill-opacity:1;\">\n  <use xlink:href=\"#glyph-1637105904321162-1-19\" x=\"348.494155\" y=\"70.732899\"/>\n</g>\n<g style=\"fill:rgb(0%,0%,0%);fill-opacity:1;\">\n  <use xlink:href=\"#glyph-1637105904321162-1-20\" x=\"348.494155\" y=\"49.104692\"/>\n</g>\n<g style=\"fill:rgb(0%,0%,0%);fill-opacity:1;\">\n  <use xlink:href=\"#glyph-1637105904321162-1-3\" x=\"343.523678\" y=\"27.475486\"/>\n  <use xlink:href=\"#glyph-1637105904321162-1-2\" x=\"348.494474\" y=\"27.475486\"/>\n</g>\n<g clip-path=\"url(#clip-1637105904321162-4)\" clip-rule=\"nonzero\">\n<path style=\"fill:none;stroke-width:0.3985;stroke-linecap:butt;stroke-linejoin:miter;stroke:rgb(0%,0%,100%);stroke-opacity:1;stroke-miterlimit:10;\" d=\"M 0.000208169 -0.00167138 L 66.382646 -0.00167138 L 67.318217 13.977081 L 68.253787 100.973384 L 69.189357 -0.00167138 L 92.562959 -0.00167138 \" transform=\"matrix(0.997887,0,0,-0.997887,366.214636,132.416301)\"/>\n</g>\n<g style=\"fill:rgb(0%,0%,0%);fill-opacity:1;\">\n  <use xlink:href=\"#glyph-1637105904321162-2-2\" x=\"409.402198\" y=\"154.271029\"/>\n</g>\n<g style=\"fill:rgb(0%,0%,0%);fill-opacity:1;\">\n  <use xlink:href=\"#glyph-1637105904321162-3-1\" x=\"334.212392\" y=\"86.829818\"/>\n</g>\n<g style=\"fill:rgb(0%,0%,0%);fill-opacity:1;\">\n  <use xlink:href=\"#glyph-1637105904321162-4-1\" x=\"334.212392\" y=\"80.892389\"/>\n</g>\n<g style=\"fill:rgb(0%,0%,0%);fill-opacity:1;\">\n  <use xlink:href=\"#glyph-1637105904321162-3-2\" x=\"334.212392\" y=\"77.025576\"/>\n</g>\n<g style=\"fill:rgb(0%,0%,0%);fill-opacity:1;\">\n  <use xlink:href=\"#glyph-1637105904321162-4-2\" x=\"334.212392\" y=\"71.036257\"/>\n</g>\n<g style=\"fill:rgb(0%,0%,0%);fill-opacity:1;\">\n  <use xlink:href=\"#glyph-1637105904321162-1-6\" x=\"372.851584\" y=\"12.105029\"/>\n</g>\n<g style=\"fill:rgb(0%,0%,0%);fill-opacity:1;\">\n  <use xlink:href=\"#glyph-1637105904321162-1-9\" x=\"379.349408\" y=\"12.105029\"/>\n  <use xlink:href=\"#glyph-1637105904321162-1-10\" x=\"384.320204\" y=\"12.105029\"/>\n  <use xlink:href=\"#glyph-1637105904321162-1-11\" x=\"388.241167\" y=\"12.105029\"/>\n  <use xlink:href=\"#glyph-1637105904321162-1-12\" x=\"392.107452\" y=\"12.105029\"/>\n  <use xlink:href=\"#glyph-1637105904321162-1-7\" x=\"396.525495\" y=\"12.105029\"/>\n  <use xlink:href=\"#glyph-1637105904321162-1-8\" x=\"400.419617\" y=\"12.105029\"/>\n  <use xlink:href=\"#glyph-1637105904321162-1-9\" x=\"403.181391\" y=\"12.105029\"/>\n  <use xlink:href=\"#glyph-1637105904321162-1-7\" x=\"408.152186\" y=\"12.105029\"/>\n</g>\n<g style=\"fill:rgb(0%,0%,0%);fill-opacity:1;\">\n  <use xlink:href=\"#glyph-1637105904321162-1-21\" x=\"415.346916\" y=\"12.105029\"/>\n  <use xlink:href=\"#glyph-1637105904321162-1-14\" x=\"422.664921\" y=\"12.105029\"/>\n  <use xlink:href=\"#glyph-1637105904321162-1-15\" x=\"427.635717\" y=\"12.105029\"/>\n  <use xlink:href=\"#glyph-1637105904321162-1-22\" x=\"433.159265\" y=\"12.105029\"/>\n  <use xlink:href=\"#glyph-1637105904321162-1-9\" x=\"438.682813\" y=\"12.105029\"/>\n  <use xlink:href=\"#glyph-1637105904321162-1-18\" x=\"443.653609\" y=\"12.105029\"/>\n</g>\n</g>\n</svg>\n\n",
      "text/plain": [
       "GroupPlot(Axis[Axis(PGFPlots.Plots.Plot[PGFPlots.Plots.Linear(Real[-3.0 -2.9393939393939394 … 2.9393939393939394 3.0; 0.0044318484119380075 0.005305788425287607 … 0.005305788425287607 0.0044318484119380075], \"none\", nothing, nothing, nothing, nothing, nothing, nothing, false)], \"Prior\", L\"$\\mu$\", nothing, L\"$f(\\mu)$\", nothing, nothing, nothing, nothing, nothing, 0.0, nothing, nothing, nothing, nothing, nothing, nothing, \"5.5cm\", \"5.5cm\", nothing, nothing, nothing, nothing, nothing, nothing, nothing, nothing, nothing, \"axis\"), Axis(PGFPlots.Plots.Plot[PGFPlots.Plots.Linear(Real[-3.0 -2.9393939393939394 … 2.9393939393939394 3.0; 0.0 0.0 … 0.0 0.0], \"none\", nothing, nothing, nothing, nothing, nothing, nothing, false)], \"Posterior Training Image\", L\"$\\mu$\", nothing, L\"$f(\\mu)$\", nothing, nothing, nothing, nothing, nothing, 0.0, nothing, nothing, nothing, nothing, nothing, nothing, \"5.5cm\", \"5.5cm\", nothing, nothing, nothing, nothing, nothing, nothing, nothing, nothing, nothing, \"axis\"), Axis(PGFPlots.Plots.Plot[PGFPlots.Plots.Linear(Real[-3.0 -2.9393939393939394 … 2.9393939393939394 3.0; 0.0 0.0 … 0.0 0.0], \"none\", nothing, nothing, nothing, nothing, nothing, nothing, false)], \"Posterior Random\", L\"$\\mu$\", nothing, L\"$f(\\mu)$\", nothing, nothing, nothing, nothing, nothing, 0.0, nothing, nothing, nothing, nothing, nothing, nothing, \"5.5cm\", \"5.5cm\", nothing, nothing, nothing, nothing, nothing, nothing, nothing, nothing, nothing, \"axis\")], (3, 1), nothing, \"horizontal sep = 1.75cm, vertical sep = 1.5cm\")"
      ]
     },
     "execution_count": 133,
     "metadata": {},
     "output_type": "execute_result"
    }
   ],
   "source": [
    "plot_results(npn, X[:, ind], n_prior = 0.01, simple = true, ymin = -3.0, ymax = 3.0)"
   ]
  },
  {
   "cell_type": "code",
   "execution_count": 113,
   "metadata": {},
   "outputs": [],
   "source": [
    "using BSON\n",
    "using BSON: @save\n",
    "@save \"../networks/npn_h16_a01_Nformula_lrsched.bson\" npn"
   ]
  },
  {
   "cell_type": "markdown",
   "metadata": {},
   "source": [
    "# Component Analysis"
   ]
  },
  {
   "cell_type": "markdown",
   "metadata": {},
   "source": [
    "### Predictions"
   ]
  },
  {
   "cell_type": "code",
   "execution_count": 135,
   "metadata": {},
   "outputs": [],
   "source": [
    "y_pred = npn.decoder(npn.encoder(X));"
   ]
  },
  {
   "cell_type": "code",
   "execution_count": 153,
   "metadata": {},
   "outputs": [],
   "source": [
    "# ax = Axis(Plots.Scatter(vec(y) .* 10, vec(y_pred) .* 10))\n",
    "# ax.xlabel = \"True Crosstrack Error\"\n",
    "# ax.ylabel = \"Predicted Crosstrack Error\"\n",
    "# ax"
   ]
  },
  {
   "cell_type": "markdown",
   "metadata": {},
   "source": [
    "### Latent Space"
   ]
  },
  {
   "cell_type": "code",
   "execution_count": 138,
   "metadata": {},
   "outputs": [],
   "source": [
    "using NearestNeighbors"
   ]
  },
  {
   "cell_type": "code",
   "execution_count": 139,
   "metadata": {},
   "outputs": [
    {
     "data": {
      "text/plain": [
       "get_latent_distances (generic function with 1 method)"
      ]
     },
     "execution_count": 139,
     "metadata": {},
     "output_type": "execute_result"
    }
   ],
   "source": [
    "function get_latent_distances(enc, Xin, Xout)\n",
    "    # Compute latent representations\n",
    "    Zin = enc(Xin)\n",
    "    Zout = enc(Xout)\n",
    "\n",
    "    # Create tree for nearest neighbors\n",
    "    kdtree = KDTree(Zin)\n",
    "\n",
    "    _, dists_in = knn(kdtree, Zin, 2)\n",
    "    dists_in = [dists_in[i][1] for i in 1:length(dists_in)]\n",
    "    _, dists_out = knn(kdtree, Zout, 1)\n",
    "    dists_out = [dists_out[i][1] for i in 1:length(dists_out)]\n",
    "\n",
    "    return dists_in, dists_out\n",
    "end"
   ]
  },
  {
   "cell_type": "code",
   "execution_count": 140,
   "metadata": {},
   "outputs": [],
   "source": [
    "Xrand = rand(128, 10000);"
   ]
  },
  {
   "cell_type": "code",
   "execution_count": 148,
   "metadata": {},
   "outputs": [],
   "source": [
    "Xc, yc = get_taxi_data(1, fn=\"/scratch/smkatz/NeuralFilter/downsampled_crossing_data.h5\", flipped = false);"
   ]
  },
  {
   "cell_type": "code",
   "execution_count": 143,
   "metadata": {},
   "outputs": [
    {
     "data": {
      "image/svg+xml": "<?xml version=\"1.0\" encoding=\"UTF-8\"?>\n<svg xmlns=\"http://www.w3.org/2000/svg\" xmlns:xlink=\"http://www.w3.org/1999/xlink\" width=\"219.721pt\" height=\"188.497pt\" viewBox=\"0 0 219.721 188.497\" version=\"1.2\">\n<defs>\n<g>\n<symbol overflow=\"visible\" id=\"glyph-1637105904321166-0-0\">\n<path style=\"stroke:none;\" d=\"\"/>\n</symbol>\n<symbol overflow=\"visible\" id=\"glyph-1637105904321166-0-1\">\n<path style=\"stroke:none;\" d=\"M 4.578125 -3.1875 C 4.578125 -3.96875 4.515625 -4.765625 4.171875 -5.5 C 3.71875 -6.453125 2.90625 -6.625 2.484375 -6.625 C 1.890625 -6.625 1.15625 -6.359375 0.75 -5.4375 C 0.4375 -4.75 0.390625 -3.96875 0.390625 -3.1875 C 0.390625 -2.4375 0.421875 -1.546875 0.828125 -0.78125 C 1.265625 0.015625 1.984375 0.21875 2.46875 0.21875 C 3.015625 0.21875 3.765625 0.015625 4.203125 -0.9375 C 4.515625 -1.625 4.578125 -2.390625 4.578125 -3.1875 Z M 2.46875 0 C 2.09375 0 1.5 -0.25 1.328125 -1.203125 C 1.21875 -1.796875 1.21875 -2.71875 1.21875 -3.296875 C 1.21875 -3.9375 1.21875 -4.59375 1.296875 -5.125 C 1.484375 -6.3125 2.21875 -6.40625 2.46875 -6.40625 C 2.796875 -6.40625 3.453125 -6.21875 3.640625 -5.234375 C 3.75 -4.6875 3.75 -3.921875 3.75 -3.296875 C 3.75 -2.546875 3.75 -1.875 3.640625 -1.25 C 3.484375 -0.296875 2.921875 0 2.46875 0 Z M 2.46875 0 \"/>\n</symbol>\n<symbol overflow=\"visible\" id=\"glyph-1637105904321166-0-2\">\n<path style=\"stroke:none;\" d=\"M 1.265625 -0.765625 L 2.3125 -1.78125 C 3.859375 -3.15625 4.46875 -3.703125 4.46875 -4.6875 C 4.46875 -5.828125 3.5625 -6.625 2.359375 -6.625 C 1.234375 -6.625 0.5 -5.703125 0.5 -4.8125 C 0.5 -4.265625 1 -4.265625 1.03125 -4.265625 C 1.1875 -4.265625 1.546875 -4.375 1.546875 -4.796875 C 1.546875 -5.046875 1.359375 -5.3125 1.015625 -5.3125 C 0.9375 -5.3125 0.921875 -5.3125 0.890625 -5.296875 C 1.109375 -5.9375 1.65625 -6.3125 2.21875 -6.3125 C 3.125 -6.3125 3.5625 -5.5 3.5625 -4.6875 C 3.5625 -3.890625 3.0625 -3.109375 2.515625 -2.5 L 0.609375 -0.375 C 0.5 -0.265625 0.5 -0.234375 0.5 0 L 4.1875 0 L 4.46875 -1.734375 L 4.21875 -1.734375 C 4.15625 -1.4375 4.09375 -1 4 -0.84375 C 3.921875 -0.765625 3.265625 -0.765625 3.046875 -0.765625 Z M 1.265625 -0.765625 \"/>\n</symbol>\n<symbol overflow=\"visible\" id=\"glyph-1637105904321166-0-3\">\n<path style=\"stroke:none;\" d=\"M 2.921875 -1.640625 L 2.921875 -0.78125 C 2.921875 -0.421875 2.90625 -0.3125 2.171875 -0.3125 L 1.953125 -0.3125 L 1.953125 0 C 2.359375 -0.03125 2.875 -0.03125 3.296875 -0.03125 C 3.71875 -0.03125 4.25 -0.03125 4.65625 0 L 4.65625 -0.3125 L 4.4375 -0.3125 C 3.703125 -0.3125 3.6875 -0.421875 3.6875 -0.78125 L 3.6875 -1.640625 L 4.6875 -1.640625 L 4.6875 -1.953125 L 3.6875 -1.953125 L 3.6875 -6.46875 C 3.6875 -6.671875 3.6875 -6.734375 3.53125 -6.734375 C 3.4375 -6.734375 3.40625 -6.734375 3.328125 -6.609375 L 0.28125 -1.953125 L 0.28125 -1.640625 Z M 2.984375 -1.953125 L 0.5625 -1.953125 L 2.984375 -5.65625 Z M 2.984375 -1.953125 \"/>\n</symbol>\n<symbol overflow=\"visible\" id=\"glyph-1637105904321166-0-4\">\n<path style=\"stroke:none;\" d=\"M 1.3125 -3.265625 L 1.3125 -3.5 C 1.3125 -6.015625 2.546875 -6.375 3.046875 -6.375 C 3.296875 -6.375 3.703125 -6.3125 3.921875 -5.96875 C 3.78125 -5.96875 3.375 -5.96875 3.375 -5.53125 C 3.375 -5.21875 3.625 -5.0625 3.828125 -5.0625 C 4 -5.0625 4.296875 -5.15625 4.296875 -5.546875 C 4.296875 -6.140625 3.859375 -6.625 3.03125 -6.625 C 1.765625 -6.625 0.421875 -5.34375 0.421875 -3.140625 C 0.421875 -0.484375 1.5625 0.21875 2.5 0.21875 C 3.59375 0.21875 4.546875 -0.71875 4.546875 -2.03125 C 4.546875 -3.296875 3.65625 -4.25 2.546875 -4.25 C 1.875 -4.25 1.515625 -3.734375 1.3125 -3.265625 Z M 2.5 -0.0625 C 1.875 -0.0625 1.5625 -0.65625 1.515625 -0.8125 C 1.328125 -1.265625 1.328125 -2.0625 1.328125 -2.25 C 1.328125 -3.015625 1.65625 -4.015625 2.546875 -4.015625 C 2.703125 -4.015625 3.15625 -4.015625 3.46875 -3.40625 C 3.640625 -3.03125 3.640625 -2.53125 3.640625 -2.03125 C 3.640625 -1.5625 3.640625 -1.0625 3.484375 -0.703125 C 3.1875 -0.109375 2.71875 -0.0625 2.5 -0.0625 Z M 2.5 -0.0625 \"/>\n</symbol>\n<symbol overflow=\"visible\" id=\"glyph-1637105904321166-0-5\">\n<path style=\"stroke:none;\" d=\"M 1.625 -4.546875 C 1.15625 -4.84375 1.125 -5.171875 1.125 -5.34375 C 1.125 -5.953125 1.765625 -6.375 2.46875 -6.375 C 3.203125 -6.375 3.828125 -5.859375 3.828125 -5.140625 C 3.828125 -4.578125 3.453125 -4.09375 2.859375 -3.75 Z M 3.078125 -3.59375 C 3.78125 -3.96875 4.265625 -4.484375 4.265625 -5.140625 C 4.265625 -6.046875 3.390625 -6.625 2.484375 -6.625 C 1.484375 -6.625 0.6875 -5.890625 0.6875 -4.953125 C 0.6875 -4.78125 0.703125 -4.328125 1.125 -3.859375 C 1.234375 -3.75 1.59375 -3.5 1.84375 -3.328125 C 1.265625 -3.046875 0.421875 -2.484375 0.421875 -1.5 C 0.421875 -0.453125 1.4375 0.21875 2.46875 0.21875 C 3.59375 0.21875 4.546875 -0.609375 4.546875 -1.671875 C 4.546875 -2.03125 4.4375 -2.46875 4.046875 -2.890625 C 3.859375 -3.09375 3.703125 -3.203125 3.078125 -3.59375 Z M 2.078125 -3.1875 L 3.296875 -2.40625 C 3.578125 -2.21875 4.046875 -1.921875 4.046875 -1.3125 C 4.046875 -0.578125 3.296875 -0.0625 2.484375 -0.0625 C 1.625 -0.0625 0.921875 -0.671875 0.921875 -1.5 C 0.921875 -2.078125 1.234375 -2.71875 2.078125 -3.1875 Z M 2.078125 -3.1875 \"/>\n</symbol>\n<symbol overflow=\"visible\" id=\"glyph-1637105904321166-0-6\">\n<path style=\"stroke:none;\" d=\"M 0.34375 -6.78125 L 0.34375 -6.484375 L 0.59375 -6.484375 C 1.34375 -6.484375 1.375 -6.375 1.375 -6.015625 L 1.375 -0.78125 C 1.375 -0.421875 1.34375 -0.3125 0.59375 -0.3125 L 0.34375 -0.3125 L 0.34375 0 L 3.984375 0 C 5.65625 0 7.03125 -1.46875 7.03125 -3.34375 C 7.03125 -5.234375 5.6875 -6.78125 3.984375 -6.78125 Z M 2.71875 -0.3125 C 2.25 -0.3125 2.21875 -0.375 2.21875 -0.703125 L 2.21875 -6.078125 C 2.21875 -6.40625 2.25 -6.484375 2.71875 -6.484375 L 3.703125 -6.484375 C 4.328125 -6.484375 5.015625 -6.265625 5.515625 -5.5625 C 5.9375 -4.96875 6.03125 -4.109375 6.03125 -3.34375 C 6.03125 -2.234375 5.84375 -1.640625 5.484375 -1.15625 C 5.28125 -0.890625 4.71875 -0.3125 3.71875 -0.3125 Z M 2.71875 -0.3125 \"/>\n</symbol>\n<symbol overflow=\"visible\" id=\"glyph-1637105904321166-0-7\">\n<path style=\"stroke:none;\" d=\"M 1.765625 -4.390625 L 0.375 -4.28125 L 0.375 -3.96875 C 1.015625 -3.96875 1.109375 -3.921875 1.109375 -3.421875 L 1.109375 -0.75 C 1.109375 -0.3125 1 -0.3125 0.328125 -0.3125 L 0.328125 0 C 0.640625 -0.015625 1.1875 -0.03125 1.421875 -0.03125 C 1.765625 -0.03125 2.109375 -0.015625 2.453125 0 L 2.453125 -0.3125 C 1.796875 -0.3125 1.765625 -0.359375 1.765625 -0.75 Z M 1.796875 -6.125 C 1.796875 -6.4375 1.546875 -6.640625 1.265625 -6.640625 C 0.96875 -6.640625 0.75 -6.375 0.75 -6.125 C 0.75 -5.859375 0.96875 -5.59375 1.265625 -5.59375 C 1.546875 -5.59375 1.796875 -5.796875 1.796875 -6.125 Z M 1.796875 -6.125 \"/>\n</symbol>\n<symbol overflow=\"visible\" id=\"glyph-1637105904321166-0-8\">\n<path style=\"stroke:none;\" d=\"M 2.0625 -1.921875 C 2.28125 -1.890625 3.09375 -1.734375 3.09375 -1.015625 C 3.09375 -0.5 2.75 -0.109375 1.984375 -0.109375 C 1.140625 -0.109375 0.78125 -0.671875 0.59375 -1.515625 C 0.5625 -1.65625 0.5625 -1.6875 0.453125 -1.6875 C 0.328125 -1.6875 0.328125 -1.625 0.328125 -1.4375 L 0.328125 -0.125 C 0.328125 0.046875 0.328125 0.109375 0.4375 0.109375 C 0.484375 0.109375 0.5 0.09375 0.6875 -0.09375 C 0.703125 -0.109375 0.703125 -0.125 0.890625 -0.3125 C 1.328125 0.09375 1.765625 0.109375 1.984375 0.109375 C 3.125 0.109375 3.578125 -0.5625 3.578125 -1.265625 C 3.578125 -1.796875 3.28125 -2.09375 3.15625 -2.21875 C 2.828125 -2.53125 2.4375 -2.609375 2.03125 -2.6875 C 1.46875 -2.796875 0.8125 -2.9375 0.8125 -3.515625 C 0.8125 -3.859375 1.0625 -4.265625 1.921875 -4.265625 C 3.015625 -4.265625 3.0625 -3.375 3.078125 -3.0625 C 3.09375 -2.96875 3.1875 -2.96875 3.203125 -2.96875 C 3.328125 -2.96875 3.328125 -3.015625 3.328125 -3.203125 L 3.328125 -4.21875 C 3.328125 -4.375 3.328125 -4.453125 3.21875 -4.453125 C 3.171875 -4.453125 3.15625 -4.453125 3.015625 -4.328125 C 2.984375 -4.296875 2.890625 -4.203125 2.859375 -4.171875 C 2.46875 -4.453125 2.0625 -4.453125 1.921875 -4.453125 C 0.703125 -4.453125 0.328125 -3.78125 0.328125 -3.234375 C 0.328125 -2.875 0.484375 -2.609375 0.75 -2.390625 C 1.078125 -2.125 1.34375 -2.0625 2.0625 -1.921875 Z M 2.0625 -1.921875 \"/>\n</symbol>\n<symbol overflow=\"visible\" id=\"glyph-1637105904321166-0-9\">\n<path style=\"stroke:none;\" d=\"M 1.71875 -3.96875 L 3.140625 -3.96875 L 3.140625 -4.28125 L 1.71875 -4.28125 L 1.71875 -6.109375 L 1.46875 -6.109375 C 1.453125 -5.296875 1.15625 -4.234375 0.1875 -4.1875 L 0.1875 -3.96875 L 1.03125 -3.96875 L 1.03125 -1.234375 C 1.03125 -0.015625 1.953125 0.109375 2.3125 0.109375 C 3.015625 0.109375 3.296875 -0.59375 3.296875 -1.234375 L 3.296875 -1.796875 L 3.046875 -1.796875 L 3.046875 -1.25 C 3.046875 -0.515625 2.75 -0.140625 2.390625 -0.140625 C 1.71875 -0.140625 1.71875 -1.046875 1.71875 -1.21875 Z M 1.71875 -3.96875 \"/>\n</symbol>\n<symbol overflow=\"visible\" id=\"glyph-1637105904321166-0-10\">\n<path style=\"stroke:none;\" d=\"M 3.3125 -0.75 C 3.34375 -0.359375 3.625 0.0625 4.078125 0.0625 C 4.296875 0.0625 4.90625 -0.078125 4.90625 -0.890625 L 4.90625 -1.4375 L 4.65625 -1.4375 L 4.65625 -0.890625 C 4.65625 -0.3125 4.40625 -0.25 4.296875 -0.25 C 3.96875 -0.25 3.921875 -0.703125 3.921875 -0.75 L 3.921875 -2.734375 C 3.921875 -3.15625 3.921875 -3.53125 3.5625 -3.90625 C 3.1875 -4.296875 2.6875 -4.453125 2.203125 -4.453125 C 1.390625 -4.453125 0.703125 -3.984375 0.703125 -3.328125 C 0.703125 -3.03125 0.90625 -2.859375 1.15625 -2.859375 C 1.4375 -2.859375 1.625 -3.0625 1.625 -3.3125 C 1.625 -3.4375 1.5625 -3.765625 1.109375 -3.78125 C 1.375 -4.125 1.875 -4.234375 2.1875 -4.234375 C 2.671875 -4.234375 3.234375 -3.84375 3.234375 -2.96875 L 3.234375 -2.59375 C 2.734375 -2.5625 2.03125 -2.53125 1.40625 -2.234375 C 0.671875 -1.890625 0.421875 -1.375 0.421875 -0.9375 C 0.421875 -0.140625 1.375 0.109375 2 0.109375 C 2.65625 0.109375 3.125 -0.28125 3.3125 -0.75 Z M 3.234375 -2.390625 L 3.234375 -1.390625 C 3.234375 -0.453125 2.53125 -0.109375 2.078125 -0.109375 C 1.59375 -0.109375 1.1875 -0.453125 1.1875 -0.953125 C 1.1875 -1.5 1.59375 -2.328125 3.234375 -2.390625 Z M 3.234375 -2.390625 \"/>\n</symbol>\n<symbol overflow=\"visible\" id=\"glyph-1637105904321166-0-11\">\n<path style=\"stroke:none;\" d=\"M 1.09375 -3.421875 L 1.09375 -0.75 C 1.09375 -0.3125 0.984375 -0.3125 0.3125 -0.3125 L 0.3125 0 C 0.671875 -0.015625 1.171875 -0.03125 1.4375 -0.03125 C 1.703125 -0.03125 2.21875 -0.015625 2.546875 0 L 2.546875 -0.3125 C 1.890625 -0.3125 1.78125 -0.3125 1.78125 -0.75 L 1.78125 -2.578125 C 1.78125 -3.625 2.484375 -4.171875 3.125 -4.171875 C 3.75 -4.171875 3.859375 -3.640625 3.859375 -3.078125 L 3.859375 -0.75 C 3.859375 -0.3125 3.75 -0.3125 3.078125 -0.3125 L 3.078125 0 C 3.421875 -0.015625 3.9375 -0.03125 4.203125 -0.03125 C 4.46875 -0.03125 4.984375 -0.015625 5.3125 0 L 5.3125 -0.3125 C 4.796875 -0.3125 4.546875 -0.3125 4.546875 -0.609375 L 4.546875 -2.5 C 4.546875 -3.359375 4.546875 -3.671875 4.234375 -4.03125 C 4.09375 -4.1875 3.765625 -4.390625 3.1875 -4.390625 C 2.46875 -4.390625 2 -3.96875 1.71875 -3.34375 L 1.71875 -4.390625 L 0.3125 -4.28125 L 0.3125 -3.96875 C 1.015625 -3.96875 1.09375 -3.90625 1.09375 -3.421875 Z M 1.09375 -3.421875 \"/>\n</symbol>\n<symbol overflow=\"visible\" id=\"glyph-1637105904321166-0-12\">\n<path style=\"stroke:none;\" d=\"M 1.15625 -2.171875 C 1.15625 -3.78125 1.984375 -4.203125 2.5 -4.203125 C 2.59375 -4.203125 3.21875 -4.1875 3.5625 -3.828125 C 3.15625 -3.8125 3.09375 -3.515625 3.09375 -3.375 C 3.09375 -3.125 3.28125 -2.921875 3.5625 -2.921875 C 3.8125 -2.921875 4.015625 -3.09375 4.015625 -3.390625 C 4.015625 -4.0625 3.265625 -4.453125 2.5 -4.453125 C 1.25 -4.453125 0.34375 -3.375 0.34375 -2.140625 C 0.34375 -0.875 1.328125 0.109375 2.46875 0.109375 C 3.8125 0.109375 4.125 -1.078125 4.125 -1.1875 C 4.125 -1.28125 4.03125 -1.28125 4 -1.28125 C 3.90625 -1.28125 3.890625 -1.25 3.859375 -1.1875 C 3.578125 -0.265625 2.9375 -0.140625 2.5625 -0.140625 C 2.03125 -0.140625 1.15625 -0.5625 1.15625 -2.171875 Z M 1.15625 -2.171875 \"/>\n</symbol>\n<symbol overflow=\"visible\" id=\"glyph-1637105904321166-0-13\">\n<path style=\"stroke:none;\" d=\"M 1.109375 -2.5 C 1.171875 -3.984375 2 -4.234375 2.34375 -4.234375 C 3.375 -4.234375 3.46875 -2.890625 3.46875 -2.5 Z M 1.109375 -2.296875 L 3.875 -2.296875 C 4.09375 -2.296875 4.125 -2.296875 4.125 -2.5 C 4.125 -3.484375 3.59375 -4.453125 2.34375 -4.453125 C 1.1875 -4.453125 0.28125 -3.421875 0.28125 -2.1875 C 0.28125 -0.859375 1.328125 0.109375 2.46875 0.109375 C 3.671875 0.109375 4.125 -1 4.125 -1.1875 C 4.125 -1.28125 4.046875 -1.296875 4 -1.296875 C 3.90625 -1.296875 3.890625 -1.25 3.859375 -1.15625 C 3.515625 -0.140625 2.625 -0.140625 2.53125 -0.140625 C 2.03125 -0.140625 1.625 -0.4375 1.40625 -0.8125 C 1.109375 -1.28125 1.109375 -1.9375 1.109375 -2.296875 Z M 1.109375 -2.296875 \"/>\n</symbol>\n<symbol overflow=\"visible\" id=\"glyph-1637105904321166-1-0\">\n<path style=\"stroke:none;\" d=\"\"/>\n</symbol>\n<symbol overflow=\"visible\" id=\"glyph-1637105904321166-1-1\">\n<path style=\"stroke:none;\" d=\"M 1.90625 -0.53125 C 1.90625 -0.8125 1.671875 -1.046875 1.375 -1.046875 C 1.09375 -1.046875 0.859375 -0.8125 0.859375 -0.53125 C 0.859375 -0.234375 1.09375 0 1.375 0 C 1.671875 0 1.90625 -0.234375 1.90625 -0.53125 Z M 1.90625 -0.53125 \"/>\n</symbol>\n</g>\n</defs>\n<g id=\"surface1\">\n<path style=\"fill:none;stroke-width:0.19925;stroke-linecap:butt;stroke-linejoin:miter;stroke:rgb(50%,50%,50%);stroke-opacity:1;stroke-miterlimit:10;\" d=\"M -0.0860082 -13.448292 L -0.0860082 -9.198701 M 42.950403 -13.448292 L 42.950403 -9.198701 M 85.990731 -13.448292 L 85.990731 -9.198701 M 129.027142 -13.448292 L 129.027142 -9.198701 M 172.063553 -13.448292 L 172.063553 -9.198701 M -0.0860082 147.942166 L -0.0860082 143.688659 M 42.950403 147.942166 L 42.950403 143.688659 M 85.990731 147.942166 L 85.990731 143.688659 M 129.027142 147.942166 L 129.027142 143.688659 M 172.063553 147.942166 L 172.063553 143.688659 \" transform=\"matrix(0.997339,0,0,-0.997339,38.027186,147.743749)\"/>\n<path style=\"fill:none;stroke-width:0.19925;stroke-linecap:butt;stroke-linejoin:miter;stroke:rgb(50%,50%,50%);stroke-opacity:1;stroke-miterlimit:10;\" d=\"M -16.191371 0.0015658 L -11.937863 0.0015658 M -16.191371 46.218316 L -11.937863 46.218316 M -16.191371 92.435066 L -11.937863 92.435066 M -16.191371 138.651816 L -11.937863 138.651816 M 178.087397 0.0015658 L 173.837806 0.0015658 M 178.087397 46.218316 L 173.837806 46.218316 M 178.087397 92.435066 L 173.837806 92.435066 M 178.087397 138.651816 L 173.837806 138.651816 \" transform=\"matrix(0.997339,0,0,-0.997339,38.027186,147.743749)\"/>\n<path style=\"fill:none;stroke-width:0.3985;stroke-linecap:butt;stroke-linejoin:miter;stroke:rgb(0%,0%,0%);stroke-opacity:1;stroke-miterlimit:10;\" d=\"M -16.191371 -13.448292 L -16.191371 147.942166 L 178.087397 147.942166 L 178.087397 -13.448292 Z M -16.191371 -13.448292 \" transform=\"matrix(0.997339,0,0,-0.997339,38.027186,147.743749)\"/>\n<g style=\"fill:rgb(0%,0%,0%);fill-opacity:1;\">\n  <use xlink:href=\"#glyph-1637105904321166-0-1\" x=\"35.459039\" y=\"171.0715\"/>\n</g>\n<g style=\"fill:rgb(0%,0%,0%);fill-opacity:1;\">\n  <use xlink:href=\"#glyph-1637105904321166-0-1\" x=\"74.515816\" y=\"171.0715\"/>\n</g>\n<g style=\"fill:rgb(0%,0%,0%);fill-opacity:1;\">\n  <use xlink:href=\"#glyph-1637105904321166-1-1\" x=\"79.484558\" y=\"171.0715\"/>\n</g>\n<g style=\"fill:rgb(0%,0%,0%);fill-opacity:1;\">\n  <use xlink:href=\"#glyph-1637105904321166-0-2\" x=\"82.244193\" y=\"171.0715\"/>\n</g>\n<g style=\"fill:rgb(0%,0%,0%);fill-opacity:1;\">\n  <use xlink:href=\"#glyph-1637105904321166-0-1\" x=\"117.438279\" y=\"171.0715\"/>\n</g>\n<g style=\"fill:rgb(0%,0%,0%);fill-opacity:1;\">\n  <use xlink:href=\"#glyph-1637105904321166-1-1\" x=\"122.406023\" y=\"171.0715\"/>\n</g>\n<g style=\"fill:rgb(0%,0%,0%);fill-opacity:1;\">\n  <use xlink:href=\"#glyph-1637105904321166-0-3\" x=\"125.165659\" y=\"171.0715\"/>\n</g>\n<g style=\"fill:rgb(0%,0%,0%);fill-opacity:1;\">\n  <use xlink:href=\"#glyph-1637105904321166-0-1\" x=\"160.359744\" y=\"171.0715\"/>\n</g>\n<g style=\"fill:rgb(0%,0%,0%);fill-opacity:1;\">\n  <use xlink:href=\"#glyph-1637105904321166-1-1\" x=\"165.327488\" y=\"171.0715\"/>\n</g>\n<g style=\"fill:rgb(0%,0%,0%);fill-opacity:1;\">\n  <use xlink:href=\"#glyph-1637105904321166-0-4\" x=\"168.088121\" y=\"171.0715\"/>\n</g>\n<g style=\"fill:rgb(0%,0%,0%);fill-opacity:1;\">\n  <use xlink:href=\"#glyph-1637105904321166-0-1\" x=\"203.281209\" y=\"171.0715\"/>\n</g>\n<g style=\"fill:rgb(0%,0%,0%);fill-opacity:1;\">\n  <use xlink:href=\"#glyph-1637105904321166-1-1\" x=\"208.248953\" y=\"171.0715\"/>\n</g>\n<g style=\"fill:rgb(0%,0%,0%);fill-opacity:1;\">\n  <use xlink:href=\"#glyph-1637105904321166-0-5\" x=\"211.009586\" y=\"171.0715\"/>\n</g>\n<g style=\"fill:rgb(0%,0%,0%);fill-opacity:1;\">\n  <use xlink:href=\"#glyph-1637105904321166-0-1\" x=\"13.4009\" y=\"150.946203\"/>\n</g>\n<g style=\"fill:rgb(0%,0%,0%);fill-opacity:1;\">\n  <use xlink:href=\"#glyph-1637105904321166-0-2\" x=\"3.465413\" y=\"104.852204\"/>\n  <use xlink:href=\"#glyph-1637105904321166-0-1\" x=\"8.433476\" y=\"104.852204\"/>\n  <use xlink:href=\"#glyph-1637105904321166-0-1\" x=\"13.401539\" y=\"104.852204\"/>\n</g>\n<g style=\"fill:rgb(0%,0%,0%);fill-opacity:1;\">\n  <use xlink:href=\"#glyph-1637105904321166-0-3\" x=\"3.465413\" y=\"58.759202\"/>\n  <use xlink:href=\"#glyph-1637105904321166-0-1\" x=\"8.433476\" y=\"58.759202\"/>\n  <use xlink:href=\"#glyph-1637105904321166-0-1\" x=\"13.401539\" y=\"58.759202\"/>\n</g>\n<g style=\"fill:rgb(0%,0%,0%);fill-opacity:1;\">\n  <use xlink:href=\"#glyph-1637105904321166-0-4\" x=\"3.465413\" y=\"12.665203\"/>\n  <use xlink:href=\"#glyph-1637105904321166-0-1\" x=\"8.433476\" y=\"12.665203\"/>\n  <use xlink:href=\"#glyph-1637105904321166-0-1\" x=\"13.401539\" y=\"12.665203\"/>\n</g>\n<path style=\"fill-rule:nonzero;fill:rgb(75%,75%,75%);fill-opacity:0.5;stroke-width:0.3985;stroke-linecap:butt;stroke-linejoin:miter;stroke:rgb(50%,50%,50%);stroke-opacity:0.5;stroke-miterlimit:10;\" d=\"M 0.00015859 0.0015658 L 0.066742 0.0015658 L 0.066742 0.925901 L 0.00015859 0.925901 Z M 0.066742 0.0015658 L 0.129409 0.0015658 L 0.129409 0.925901 L 0.066742 0.925901 Z M 0.129409 0.0015658 L 0.195992 0.0015658 L 0.195992 4.392157 L 0.129409 4.392157 Z M 0.195992 0.0015658 L 0.262576 0.0015658 L 0.262576 3.698906 L 0.195992 3.698906 Z M 0.262576 0.0015658 L 0.329159 0.0015658 L 0.329159 10.862502 L 0.262576 10.862502 Z M 0.329159 0.0015658 L 0.395743 0.0015658 L 0.395743 21.261271 L 0.329159 21.261271 Z M 0.395743 0.0015658 L 0.458409 0.0015658 L 0.458409 28.424867 L 0.395743 28.424867 Z M 0.458409 0.0015658 L 0.524993 0.0015658 L 0.524993 46.911567 L 0.458409 46.911567 Z M 0.524993 0.0015658 L 0.591576 0.0015658 L 0.591576 48.760237 L 0.524993 48.760237 Z M 0.591576 0.0015658 L 0.65816 0.0015658 L 0.65816 75.565952 L 0.591576 75.565952 Z M 0.65816 0.0015658 L 0.720827 0.0015658 L 0.720827 83.653884 L 0.65816 83.653884 Z M 0.720827 0.0015658 L 0.78741 0.0015658 L 0.78741 93.821569 L 0.720827 93.821569 Z M 0.78741 0.0015658 L 0.853993 0.0015658 L 0.853993 119.009697 L 0.78741 119.009697 Z M 0.853993 0.0015658 L 0.920577 0.0015658 L 0.920577 134.492309 L 0.853993 134.492309 Z M 0.920577 0.0015658 L 0.983244 0.0015658 L 0.983244 112.539352 L 0.920577 112.539352 Z M 0.983244 0.0015658 L 1.049827 0.0015658 L 1.049827 124.786791 L 0.983244 124.786791 Z M 1.049827 0.0015658 L 1.116411 0.0015658 L 1.116411 120.165116 L 1.049827 120.165116 Z M 1.116411 0.0015658 L 1.182994 0.0015658 L 1.182994 120.165116 L 1.116411 120.165116 Z M 1.182994 0.0015658 L 1.245661 0.0015658 L 1.245661 114.619106 L 1.182994 114.619106 Z M 1.245661 0.0015658 L 1.312244 0.0015658 L 1.312244 99.367579 L 1.245661 99.367579 Z M 1.312244 0.0015658 L 1.378828 0.0015658 L 1.378828 99.598662 L 1.312244 99.598662 Z M 1.378828 0.0015658 L 1.445411 0.0015658 L 1.445411 99.829746 L 1.378828 99.829746 Z M 1.445411 0.0015658 L 1.508078 0.0015658 L 1.508078 78.107874 L 1.445411 78.107874 Z M 1.511995 0.0015658 L 1.574661 0.0015658 L 1.574661 83.653884 L 1.511995 83.653884 Z M 1.574661 0.0015658 L 1.641245 0.0015658 L 1.641245 72.792947 L 1.574661 72.792947 Z M 1.641245 0.0015658 L 1.707828 0.0015658 L 1.707828 61.007676 L 1.641245 61.007676 Z M 1.707828 0.0015658 L 1.774412 0.0015658 L 1.774412 61.007676 L 1.707828 61.007676 Z M 1.774412 0.0015658 L 1.837079 0.0015658 L 1.837079 50.839991 L 1.774412 50.839991 Z M 1.837079 0.0015658 L 1.903662 0.0015658 L 1.903662 49.453488 L 1.837079 49.453488 Z M 1.903662 0.0015658 L 1.970245 0.0015658 L 1.970245 36.281715 L 1.903662 36.281715 Z M 1.970245 0.0015658 L 2.036829 0.0015658 L 2.036829 38.361468 L 1.970245 38.361468 Z M 2.036829 0.0015658 L 2.099496 0.0015658 L 2.099496 25.882946 L 2.036829 25.882946 Z M 2.099496 0.0015658 L 2.166079 0.0015658 L 2.166079 25.420778 L 2.099496 25.420778 Z M 2.166079 0.0015658 L 2.232663 0.0015658 L 2.232663 21.030187 L 2.166079 21.030187 Z M 2.232663 0.0015658 L 2.299246 0.0015658 L 2.299246 19.643685 L 2.232663 19.643685 Z M 2.299246 0.0015658 L 2.361913 0.0015658 L 2.361913 15.715261 L 2.299246 15.715261 Z M 2.361913 0.0015658 L 2.428496 0.0015658 L 2.428496 12.711172 L 2.361913 12.711172 Z M 2.428496 0.0015658 L 2.49508 0.0015658 L 2.49508 12.711172 L 2.428496 12.711172 Z M 2.49508 0.0015658 L 2.561663 0.0015658 L 2.561663 10.400335 L 2.49508 10.400335 Z M 2.561663 0.0015658 L 2.62433 0.0015658 L 2.62433 11.093586 L 2.561663 11.093586 Z M 2.62433 0.0015658 L 2.690913 0.0015658 L 2.690913 8.551665 L 2.62433 8.551665 Z M 2.690913 0.0015658 L 2.757497 0.0015658 L 2.757497 6.702995 L 2.690913 6.702995 Z M 2.757497 0.0015658 L 2.82408 0.0015658 L 2.82408 4.161073 L 2.757497 4.161073 Z M 2.82408 0.0015658 L 2.890664 0.0015658 L 2.890664 4.854325 L 2.82408 4.854325 Z M 2.890664 0.0015658 L 2.953331 0.0015658 L 2.953331 6.702995 L 2.890664 6.702995 Z M 2.953331 0.0015658 L 3.019914 0.0015658 L 3.019914 3.92999 L 2.953331 3.92999 Z M 3.019914 0.0015658 L 3.086497 0.0015658 L 3.086497 2.774571 L 3.019914 2.774571 Z M 3.086497 0.0015658 L 3.153081 0.0015658 L 3.153081 2.774571 L 3.086497 2.774571 Z M 3.153081 0.0015658 L 3.215748 0.0015658 L 3.215748 2.543487 L 3.153081 2.543487 Z M 3.215748 0.0015658 L 3.282331 0.0015658 L 3.282331 3.467822 L 3.215748 3.467822 Z M 3.282331 0.0015658 L 3.348915 0.0015658 L 3.348915 2.312403 L 3.282331 2.312403 Z M 3.348915 0.0015658 L 3.415498 0.0015658 L 3.415498 2.08132 L 3.348915 2.08132 Z M 3.415498 0.0015658 L 3.478165 0.0015658 L 3.478165 2.312403 L 3.415498 2.312403 Z M 3.478165 0.0015658 L 3.544748 0.0015658 L 3.544748 0.463733 L 3.478165 0.463733 Z M 3.544748 0.0015658 L 3.611332 0.0015658 L 3.611332 0.925901 L 3.544748 0.925901 Z M 3.611332 0.0015658 L 3.677915 0.0015658 L 3.677915 0.694817 L 3.611332 0.694817 Z M 3.677915 0.0015658 L 3.740582 0.0015658 L 3.740582 0.463733 L 3.677915 0.463733 Z M 3.740582 0.0015658 L 3.807165 0.0015658 L 3.807165 1.156985 L 3.740582 1.156985 Z M 3.807165 0.0015658 L 3.873749 0.0015658 L 3.873749 0.463733 L 3.807165 0.463733 Z M 3.873749 0.0015658 L 3.940332 0.0015658 Z M 3.940332 0.0015658 L 4.002999 0.0015658 Z M 4.002999 0.0015658 L 4.069583 0.0015658 L 4.069583 0.694817 L 4.002999 0.694817 Z M 4.069583 0.0015658 L 4.136166 0.0015658 L 4.136166 0.23265 L 4.069583 0.23265 Z M 4.136166 0.0015658 L 4.20275 0.0015658 Z M 4.20275 0.0015658 L 4.269333 0.0015658 L 4.269333 0.23265 L 4.20275 0.23265 Z M 4.269333 0.0015658 L 4.332 0.0015658 Z M 4.332 0.0015658 L 4.398583 0.0015658 L 4.398583 0.23265 L 4.332 0.23265 Z M 4.398583 0.0015658 L 4.465167 0.0015658 L 4.465167 0.463733 L 4.398583 0.463733 Z M 4.465167 0.0015658 L 4.53175 0.0015658 L 4.53175 0.23265 L 4.465167 0.23265 Z M 4.53175 0.0015658 L 4.594417 0.0015658 L 4.594417 0.23265 L 4.53175 0.23265 Z M 4.594417 0.0015658 L 4.661 0.0015658 L 4.661 0.23265 L 4.594417 0.23265 Z M 4.661 0.0015658 L 4.727584 0.0015658 Z M 4.727584 0.0015658 L 4.794167 0.0015658 Z M 4.794167 0.0015658 L 4.856834 0.0015658 Z M 4.856834 0.0015658 L 4.923417 0.0015658 Z M 4.923417 0.0015658 L 4.990001 0.0015658 L 4.990001 0.463733 L 4.923417 0.463733 Z M 4.990001 0.0015658 L 5.056584 0.0015658 Z M 5.056584 0.0015658 L 5.119251 0.0015658 Z M 5.119251 0.0015658 L 5.185835 0.0015658 L 5.185835 0.463733 L 5.119251 0.463733 Z M 5.185835 0.0015658 L 5.252418 0.0015658 Z M 5.252418 0.0015658 L 5.319002 0.0015658 Z M 5.319002 0.0015658 L 5.385585 0.0015658 Z M 5.385585 0.0015658 L 5.448252 0.0015658 Z M 5.448252 0.0015658 L 5.514835 0.0015658 L 5.514835 0.23265 L 5.448252 0.23265 Z M 5.448252 0.0015658 \" transform=\"matrix(0.997339,0,0,-0.997339,38.027186,147.743749)\"/>\n<path style=\"fill-rule:nonzero;fill:rgb(50%,75%,75%);fill-opacity:0.5;stroke-width:0.3985;stroke-linecap:butt;stroke-linejoin:miter;stroke:rgb(0%,50%,50%);stroke-opacity:0.5;stroke-miterlimit:10;\" d=\"M 0.732577 0.0015658 L 3.176581 0.0015658 L 3.176581 23.341025 L 0.732577 23.341025 Z M 3.176581 0.0015658 L 5.616669 0.0015658 L 5.616669 56.617085 L 3.176581 56.617085 Z M 5.616669 0.0015658 L 8.060673 0.0015658 L 8.060673 85.733637 L 5.616669 85.733637 Z M 8.060673 0.0015658 L 10.500761 0.0015658 L 10.500761 89.893145 L 8.060673 89.893145 Z M 10.500761 0.0015658 L 12.944765 0.0015658 L 12.944765 101.216249 L 10.500761 101.216249 Z M 12.944765 0.0015658 L 15.384853 0.0015658 L 15.384853 114.619106 L 12.944765 114.619106 Z M 15.384853 0.0015658 L 17.828857 0.0015658 L 17.828857 115.312357 L 15.384853 115.312357 Z M 17.828857 0.0015658 L 20.268945 0.0015658 L 20.268945 122.938121 L 17.828857 122.938121 Z M 20.268945 0.0015658 L 22.71295 0.0015658 L 22.71295 127.097629 L 20.268945 127.097629 Z M 22.71295 0.0015658 L 25.153037 0.0015658 L 25.153037 124.786791 L 22.71295 124.786791 Z M 25.153037 0.0015658 L 27.597042 0.0015658 L 27.597042 116.005609 L 25.153037 116.005609 Z M 27.597042 0.0015658 L 30.03713 0.0015658 L 30.03713 114.156939 L 27.597042 114.156939 Z M 30.03713 0.0015658 L 32.477217 0.0015658 L 32.477217 107.686594 L 30.03713 107.686594 Z M 32.477217 0.0015658 L 34.921222 0.0015658 L 34.921222 101.9095 L 32.477217 101.9095 Z M 34.921222 0.0015658 L 37.361309 0.0015658 L 37.361309 93.590485 L 34.921222 93.590485 Z M 37.361309 0.0015658 L 39.805314 0.0015658 L 39.805314 85.27147 L 37.361309 85.27147 Z M 39.805314 0.0015658 L 42.245402 0.0015658 L 42.245402 85.27147 L 39.805314 85.27147 Z M 42.245402 0.0015658 L 44.689406 0.0015658 L 44.689406 76.490287 L 42.245402 76.490287 Z M 44.689406 0.0015658 L 47.129494 0.0015658 L 47.129494 67.246937 L 44.689406 67.246937 Z M 47.129494 0.0015658 L 49.573498 0.0015658 L 49.573498 61.700927 L 47.129494 61.700927 Z M 49.573498 0.0015658 L 52.013586 0.0015658 L 52.013586 52.919745 L 49.573498 52.919745 Z M 52.013586 0.0015658 L 54.45759 0.0015658 L 54.45759 43.445311 L 52.013586 43.445311 Z M 54.45759 0.0015658 L 56.897678 0.0015658 L 56.897678 44.138562 L 54.45759 44.138562 Z M 56.897678 0.0015658 L 59.341682 0.0015658 L 59.341682 37.437133 L 56.897678 37.437133 Z M 59.341682 0.0015658 L 61.78177 0.0015658 L 61.78177 28.424867 L 59.341682 28.424867 Z M 61.78177 0.0015658 L 64.221858 0.0015658 L 64.221858 31.428956 L 61.78177 31.428956 Z M 64.221858 0.0015658 L 66.665862 0.0015658 L 66.665862 22.185606 L 64.221858 22.185606 Z M 66.665862 0.0015658 L 69.10595 0.0015658 L 69.10595 23.803192 L 66.665862 23.803192 Z M 69.10595 0.0015658 L 71.549954 0.0015658 L 71.549954 24.958611 L 69.10595 24.958611 Z M 71.549954 0.0015658 L 73.990042 0.0015658 L 73.990042 19.874768 L 71.549954 19.874768 Z M 73.990042 0.0015658 L 76.434047 0.0015658 L 76.434047 15.715261 L 73.990042 15.715261 Z M 76.434047 0.0015658 L 78.874134 0.0015658 L 78.874134 14.097675 L 76.434047 14.097675 Z M 78.874134 0.0015658 L 81.318139 0.0015658 L 81.318139 15.946345 L 78.874134 15.946345 Z M 81.318139 0.0015658 L 83.758227 0.0015658 L 83.758227 8.089497 L 81.318139 8.089497 Z M 83.758227 0.0015658 L 86.202231 0.0015658 L 86.202231 10.169251 L 83.758227 10.169251 Z M 86.202231 0.0015658 L 88.642319 0.0015658 L 88.642319 6.702995 L 86.202231 6.702995 Z M 88.642319 0.0015658 L 91.086323 0.0015658 L 91.086323 5.77866 L 88.642319 5.77866 Z M 91.086323 0.0015658 L 93.526411 0.0015658 L 93.526411 6.934078 L 91.086323 6.934078 Z M 93.526411 0.0015658 L 95.966499 0.0015658 L 95.966499 4.623241 L 93.526411 4.623241 Z M 95.966499 0.0015658 L 98.410503 0.0015658 L 98.410503 4.854325 L 95.966499 4.854325 Z M 98.410503 0.0015658 L 100.850591 0.0015658 L 100.850591 1.850236 L 98.410503 1.850236 Z M 100.850591 0.0015658 L 103.294595 0.0015658 L 103.294595 3.005655 L 100.850591 3.005655 Z M 103.294595 0.0015658 L 105.734683 0.0015658 L 105.734683 2.312403 L 103.294595 2.312403 Z M 105.734683 0.0015658 L 108.178687 0.0015658 L 108.178687 2.08132 L 105.734683 2.08132 Z M 108.178687 0.0015658 L 110.618775 0.0015658 L 110.618775 1.850236 L 108.178687 1.850236 Z M 110.618775 0.0015658 L 113.062779 0.0015658 L 113.062779 1.156985 L 110.618775 1.156985 Z M 113.062779 0.0015658 L 115.502867 0.0015658 L 115.502867 0.925901 L 113.062779 0.925901 Z M 115.502867 0.0015658 L 117.946872 0.0015658 L 117.946872 1.388068 L 115.502867 1.388068 Z M 117.946872 0.0015658 L 120.386959 0.0015658 L 120.386959 0.694817 L 117.946872 0.694817 Z M 120.386959 0.0015658 L 122.827047 0.0015658 L 122.827047 1.388068 L 120.386959 1.388068 Z M 122.827047 0.0015658 L 125.271051 0.0015658 L 125.271051 0.694817 L 122.827047 0.694817 Z M 125.271051 0.0015658 L 127.711139 0.0015658 L 127.711139 0.23265 L 125.271051 0.23265 Z M 127.711139 0.0015658 L 130.155144 0.0015658 Z M 130.155144 0.0015658 L 132.595231 0.0015658 Z M 132.595231 0.0015658 L 135.039236 0.0015658 Z M 135.039236 0.0015658 L 137.479324 0.0015658 Z M 137.479324 0.0015658 L 139.923328 0.0015658 Z M 139.923328 0.0015658 L 142.363416 0.0015658 Z M 142.363416 0.0015658 L 144.80742 0.0015658 L 144.80742 0.463733 L 142.363416 0.463733 Z M 144.80742 0.0015658 L 147.247508 0.0015658 L 147.247508 0.23265 L 144.80742 0.23265 Z M 147.247508 0.0015658 L 149.691512 0.0015658 Z M 149.691512 0.0015658 L 152.1316 0.0015658 Z M 152.1316 0.0015658 L 154.571688 0.0015658 Z M 154.571688 0.0015658 L 157.015692 0.0015658 Z M 157.015692 0.0015658 L 159.45578 0.0015658 Z M 159.45578 0.0015658 L 161.899784 0.0015658 L 161.899784 0.23265 L 159.45578 0.23265 Z M 159.45578 0.0015658 \" transform=\"matrix(0.997339,0,0,-0.997339,38.027186,147.743749)\"/>\n<g style=\"fill:rgb(0%,0%,0%);fill-opacity:1;\">\n  <use xlink:href=\"#glyph-1637105904321166-0-6\" x=\"100.032725\" y=\"184.683177\"/>\n  <use xlink:href=\"#glyph-1637105904321166-0-7\" x=\"107.622932\" y=\"184.683177\"/>\n  <use xlink:href=\"#glyph-1637105904321166-0-8\" x=\"110.383187\" y=\"184.683177\"/>\n  <use xlink:href=\"#glyph-1637105904321166-0-9\" x=\"114.301995\" y=\"184.683177\"/>\n  <use xlink:href=\"#glyph-1637105904321166-0-10\" x=\"118.166155\" y=\"184.683177\"/>\n  <use xlink:href=\"#glyph-1637105904321166-0-11\" x=\"123.134217\" y=\"184.683177\"/>\n  <use xlink:href=\"#glyph-1637105904321166-0-12\" x=\"128.654729\" y=\"184.683177\"/>\n  <use xlink:href=\"#glyph-1637105904321166-0-13\" x=\"133.070343\" y=\"184.683177\"/>\n</g>\n</g>\n</svg>\n\n",
      "text/plain": [
       "Axis(PGFPlots.Plots.Plot[PGFPlots.Plots.Histogram(Real[0.006903015f0, 0.0031425208f0, 0.0040676105f0, 0.00397135f0, 0.0077010253f0, 0.003160782f0, 0.0063617644f0, 0.0062380293f0, 0.004180728f0, 0.0023041922f0  …  0.005633127f0, 0.007535961f0, 0.0085104015f0, 0.009722932f0, 0.007920521f0, 0.005681366f0, 0.009012022f0, 0.005986619f0, 0.0078724325f0, 0.004551065f0], 10, false, false, \"gray, fill=gray!50, opacity = 0.5\", :default, nothing), PGFPlots.Plots.Histogram(Real[0.2352263f0, 0.06674578f0, 0.07509261f0, 0.24971566f0, 0.2353879f0, 0.23546462f0, 0.11639325f0, 0.018109025f0, 0.06617348f0, 0.24296525f0  …  0.099312216f0, 0.16906264f0, 0.040313303f0, 0.31888098f0, 0.07509171f0, 0.1548005f0, 0.062019844f0, 0.14641364f0, 0.12170064f0, 0.12518182f0], 10, false, false, \"teal, fill=teal!50, opacity = 0.5\", :default, nothing)], nothing, \"Distance\", nothing, nothing, nothing, nothing, nothing, nothing, nothing, nothing, nothing, nothing, nothing, nothing, nothing, nothing, nothing, nothing, nothing, nothing, nothing, nothing, nothing, nothing, nothing, nothing, nothing, \"axis\")"
      ]
     },
     "execution_count": 143,
     "metadata": {},
     "output_type": "execute_result"
    }
   ],
   "source": [
    "dists_in, dists_out = get_latent_distances(npn.encoder, X, Xrand)\n",
    "ax = Axis()\n",
    "push!(ax, Plots.Histogram(dists_in, style=\"gray, fill=gray!50, opacity = 0.5\"))\n",
    "push!(ax, Plots.Histogram(dists_out, style=\"teal, fill=teal!50, opacity = 0.5\"))\n",
    "ax.xlabel = \"Distance\"\n",
    "ax"
   ]
  },
  {
   "cell_type": "code",
   "execution_count": 149,
   "metadata": {},
   "outputs": [
    {
     "data": {
      "image/svg+xml": "<?xml version=\"1.0\" encoding=\"UTF-8\"?>\n<svg xmlns=\"http://www.w3.org/2000/svg\" xmlns:xlink=\"http://www.w3.org/1999/xlink\" width=\"216.255pt\" height=\"188.497pt\" viewBox=\"0 0 216.255 188.497\" version=\"1.2\">\n<defs>\n<g>\n<symbol overflow=\"visible\" id=\"glyph-1637105904321169-0-0\">\n<path style=\"stroke:none;\" d=\"\"/>\n</symbol>\n<symbol overflow=\"visible\" id=\"glyph-1637105904321169-0-1\">\n<path style=\"stroke:none;\" d=\"M 4.5625 -3.171875 C 4.5625 -3.96875 4.515625 -4.765625 4.171875 -5.5 C 3.703125 -6.453125 2.890625 -6.609375 2.484375 -6.609375 C 1.890625 -6.609375 1.15625 -6.34375 0.75 -5.421875 C 0.4375 -4.75 0.390625 -3.96875 0.390625 -3.171875 C 0.390625 -2.4375 0.421875 -1.53125 0.828125 -0.78125 C 1.265625 0.015625 1.984375 0.21875 2.46875 0.21875 C 3 0.21875 3.765625 0.015625 4.203125 -0.9375 C 4.515625 -1.625 4.5625 -2.390625 4.5625 -3.171875 Z M 2.46875 0 C 2.078125 0 1.5 -0.25 1.3125 -1.203125 C 1.203125 -1.796875 1.203125 -2.703125 1.203125 -3.296875 C 1.203125 -3.921875 1.203125 -4.578125 1.296875 -5.125 C 1.484375 -6.296875 2.21875 -6.390625 2.46875 -6.390625 C 2.796875 -6.390625 3.453125 -6.21875 3.640625 -5.234375 C 3.734375 -4.671875 3.734375 -3.921875 3.734375 -3.296875 C 3.734375 -2.546875 3.734375 -1.875 3.625 -1.234375 C 3.484375 -0.296875 2.921875 0 2.46875 0 Z M 2.46875 0 \"/>\n</symbol>\n<symbol overflow=\"visible\" id=\"glyph-1637105904321169-0-2\">\n<path style=\"stroke:none;\" d=\"M 2.921875 -6.34375 C 2.921875 -6.59375 2.921875 -6.609375 2.6875 -6.609375 C 2.078125 -5.96875 1.203125 -5.96875 0.890625 -5.96875 L 0.890625 -5.671875 C 1.078125 -5.671875 1.671875 -5.671875 2.1875 -5.921875 L 2.1875 -0.78125 C 2.1875 -0.421875 2.15625 -0.3125 1.265625 -0.3125 L 0.9375 -0.3125 L 0.9375 0 C 1.296875 -0.03125 2.15625 -0.03125 2.546875 -0.03125 C 2.953125 -0.03125 3.8125 -0.03125 4.15625 0 L 4.15625 -0.3125 L 3.84375 -0.3125 C 2.953125 -0.3125 2.921875 -0.421875 2.921875 -0.78125 Z M 2.921875 -6.34375 \"/>\n</symbol>\n<symbol overflow=\"visible\" id=\"glyph-1637105904321169-0-3\">\n<path style=\"stroke:none;\" d=\"M 1.265625 -0.765625 L 2.3125 -1.78125 C 3.859375 -3.15625 4.453125 -3.6875 4.453125 -4.6875 C 4.453125 -5.8125 3.5625 -6.609375 2.34375 -6.609375 C 1.234375 -6.609375 0.5 -5.6875 0.5 -4.8125 C 0.5 -4.25 0.984375 -4.25 1.015625 -4.25 C 1.1875 -4.25 1.53125 -4.375 1.53125 -4.78125 C 1.53125 -5.046875 1.359375 -5.296875 1.015625 -5.296875 C 0.9375 -5.296875 0.90625 -5.296875 0.890625 -5.28125 C 1.109375 -5.9375 1.640625 -6.296875 2.21875 -6.296875 C 3.125 -6.296875 3.546875 -5.5 3.546875 -4.6875 C 3.546875 -3.890625 3.0625 -3.109375 2.515625 -2.484375 L 0.609375 -0.359375 C 0.5 -0.265625 0.5 -0.234375 0.5 0 L 4.171875 0 L 4.453125 -1.71875 L 4.203125 -1.71875 C 4.15625 -1.421875 4.09375 -0.984375 3.984375 -0.84375 C 3.921875 -0.765625 3.265625 -0.765625 3.046875 -0.765625 Z M 1.265625 -0.765625 \"/>\n</symbol>\n<symbol overflow=\"visible\" id=\"glyph-1637105904321169-0-4\">\n<path style=\"stroke:none;\" d=\"M 2.875 -3.5 C 3.6875 -3.765625 4.265625 -4.453125 4.265625 -5.234375 C 4.265625 -6.046875 3.390625 -6.609375 2.4375 -6.609375 C 1.4375 -6.609375 0.6875 -6.015625 0.6875 -5.265625 C 0.6875 -4.9375 0.90625 -4.75 1.1875 -4.75 C 1.5 -4.75 1.703125 -4.953125 1.703125 -5.25 C 1.703125 -5.75 1.234375 -5.75 1.078125 -5.75 C 1.390625 -6.234375 2.046875 -6.359375 2.40625 -6.359375 C 2.8125 -6.359375 3.359375 -6.140625 3.359375 -5.25 C 3.359375 -5.125 3.328125 -4.546875 3.078125 -4.125 C 2.78125 -3.640625 2.4375 -3.609375 2.1875 -3.609375 C 2.109375 -3.59375 1.875 -3.578125 1.8125 -3.578125 C 1.71875 -3.5625 1.65625 -3.546875 1.65625 -3.453125 C 1.65625 -3.34375 1.71875 -3.34375 1.890625 -3.34375 L 2.328125 -3.34375 C 3.140625 -3.34375 3.515625 -2.671875 3.515625 -1.703125 C 3.515625 -0.34375 2.828125 -0.0625 2.390625 -0.0625 C 1.96875 -0.0625 1.21875 -0.234375 0.875 -0.8125 C 1.21875 -0.765625 1.53125 -0.984375 1.53125 -1.359375 C 1.53125 -1.71875 1.265625 -1.921875 0.96875 -1.921875 C 0.734375 -1.921875 0.421875 -1.78125 0.421875 -1.34375 C 0.421875 -0.4375 1.34375 0.21875 2.421875 0.21875 C 3.625 0.21875 4.53125 -0.6875 4.53125 -1.703125 C 4.53125 -2.515625 3.90625 -3.28125 2.875 -3.5 Z M 2.875 -3.5 \"/>\n</symbol>\n<symbol overflow=\"visible\" id=\"glyph-1637105904321169-0-5\">\n<path style=\"stroke:none;\" d=\"M 2.921875 -1.640625 L 2.921875 -0.78125 C 2.921875 -0.421875 2.890625 -0.3125 2.15625 -0.3125 L 1.953125 -0.3125 L 1.953125 0 C 2.359375 -0.03125 2.875 -0.03125 3.296875 -0.03125 C 3.703125 -0.03125 4.234375 -0.03125 4.640625 0 L 4.640625 -0.3125 L 4.4375 -0.3125 C 3.703125 -0.3125 3.6875 -0.421875 3.6875 -0.78125 L 3.6875 -1.640625 L 4.671875 -1.640625 L 4.671875 -1.9375 L 3.6875 -1.9375 L 3.6875 -6.453125 C 3.6875 -6.65625 3.6875 -6.71875 3.515625 -6.71875 C 3.4375 -6.71875 3.40625 -6.71875 3.328125 -6.59375 L 0.28125 -1.9375 L 0.28125 -1.640625 Z M 2.96875 -1.9375 L 0.5625 -1.9375 L 2.96875 -5.640625 Z M 2.96875 -1.9375 \"/>\n</symbol>\n<symbol overflow=\"visible\" id=\"glyph-1637105904321169-0-6\">\n<path style=\"stroke:none;\" d=\"M 4.453125 -2 C 4.453125 -3.171875 3.640625 -4.171875 2.5625 -4.171875 C 2.09375 -4.171875 1.671875 -4.015625 1.3125 -3.65625 L 1.3125 -5.59375 C 1.515625 -5.53125 1.828125 -5.46875 2.15625 -5.46875 C 3.375 -5.46875 4.0625 -6.375 4.0625 -6.5 C 4.0625 -6.5625 4.03125 -6.609375 3.96875 -6.609375 C 3.953125 -6.609375 3.9375 -6.609375 3.890625 -6.578125 C 3.6875 -6.484375 3.203125 -6.296875 2.546875 -6.296875 C 2.140625 -6.296875 1.6875 -6.359375 1.21875 -6.5625 C 1.140625 -6.59375 1.125 -6.59375 1.09375 -6.59375 C 1 -6.59375 1 -6.515625 1 -6.359375 L 1 -3.421875 C 1 -3.25 1 -3.171875 1.140625 -3.171875 C 1.203125 -3.171875 1.234375 -3.1875 1.265625 -3.25 C 1.375 -3.40625 1.75 -3.953125 2.546875 -3.953125 C 3.0625 -3.953125 3.3125 -3.5 3.390625 -3.3125 C 3.546875 -2.953125 3.578125 -2.5625 3.578125 -2.0625 C 3.578125 -1.71875 3.578125 -1.125 3.328125 -0.703125 C 3.09375 -0.3125 2.734375 -0.0625 2.265625 -0.0625 C 1.546875 -0.0625 0.984375 -0.578125 0.8125 -1.171875 C 0.84375 -1.15625 0.875 -1.15625 0.984375 -1.15625 C 1.3125 -1.15625 1.484375 -1.40625 1.484375 -1.640625 C 1.484375 -1.875 1.3125 -2.125 0.984375 -2.125 C 0.84375 -2.125 0.5 -2.046875 0.5 -1.59375 C 0.5 -0.75 1.1875 0.21875 2.296875 0.21875 C 3.4375 0.21875 4.453125 -0.734375 4.453125 -2 Z M 4.453125 -2 \"/>\n</symbol>\n<symbol overflow=\"visible\" id=\"glyph-1637105904321169-0-7\">\n<path style=\"stroke:none;\" d=\"M 1.3125 -3.25 L 1.3125 -3.5 C 1.3125 -6 2.546875 -6.359375 3.046875 -6.359375 C 3.28125 -6.359375 3.703125 -6.296875 3.921875 -5.96875 C 3.765625 -5.96875 3.375 -5.96875 3.375 -5.515625 C 3.375 -5.203125 3.609375 -5.0625 3.828125 -5.0625 C 3.984375 -5.0625 4.28125 -5.15625 4.28125 -5.53125 C 4.28125 -6.125 3.84375 -6.609375 3.03125 -6.609375 C 1.75 -6.609375 0.421875 -5.328125 0.421875 -3.140625 C 0.421875 -0.484375 1.5625 0.21875 2.484375 0.21875 C 3.59375 0.21875 4.53125 -0.71875 4.53125 -2.03125 C 4.53125 -3.28125 3.65625 -4.234375 2.546875 -4.234375 C 1.875 -4.234375 1.515625 -3.734375 1.3125 -3.25 Z M 2.484375 -0.0625 C 1.859375 -0.0625 1.5625 -0.65625 1.515625 -0.796875 C 1.328125 -1.265625 1.328125 -2.0625 1.328125 -2.25 C 1.328125 -3.015625 1.640625 -4.015625 2.546875 -4.015625 C 2.703125 -4.015625 3.15625 -4.015625 3.46875 -3.390625 C 3.640625 -3.03125 3.640625 -2.515625 3.640625 -2.03125 C 3.640625 -1.5625 3.640625 -1.0625 3.46875 -0.703125 C 3.171875 -0.109375 2.71875 -0.0625 2.484375 -0.0625 Z M 2.484375 -0.0625 \"/>\n</symbol>\n<symbol overflow=\"visible\" id=\"glyph-1637105904321169-0-8\">\n<path style=\"stroke:none;\" d=\"M 0.34375 -6.78125 L 0.34375 -6.46875 L 0.578125 -6.46875 C 1.34375 -6.46875 1.375 -6.359375 1.375 -6 L 1.375 -0.78125 C 1.375 -0.421875 1.34375 -0.3125 0.578125 -0.3125 L 0.34375 -0.3125 L 0.34375 0 L 3.984375 0 C 5.640625 0 7.015625 -1.46875 7.015625 -3.328125 C 7.015625 -5.21875 5.671875 -6.78125 3.984375 -6.78125 Z M 2.703125 -0.3125 C 2.25 -0.3125 2.21875 -0.375 2.21875 -0.703125 L 2.21875 -6.078125 C 2.21875 -6.40625 2.25 -6.46875 2.703125 -6.46875 L 3.703125 -6.46875 C 4.3125 -6.46875 5 -6.25 5.5 -5.546875 C 5.9375 -4.953125 6.015625 -4.109375 6.015625 -3.328125 C 6.015625 -2.234375 5.828125 -1.640625 5.484375 -1.15625 C 5.28125 -0.890625 4.71875 -0.3125 3.703125 -0.3125 Z M 2.703125 -0.3125 \"/>\n</symbol>\n<symbol overflow=\"visible\" id=\"glyph-1637105904321169-0-9\">\n<path style=\"stroke:none;\" d=\"M 1.75 -4.390625 L 0.359375 -4.28125 L 0.359375 -3.96875 C 1.015625 -3.96875 1.09375 -3.90625 1.09375 -3.421875 L 1.09375 -0.75 C 1.09375 -0.3125 0.984375 -0.3125 0.328125 -0.3125 L 0.328125 0 C 0.640625 -0.015625 1.1875 -0.03125 1.421875 -0.03125 C 1.765625 -0.03125 2.109375 -0.015625 2.453125 0 L 2.453125 -0.3125 C 1.796875 -0.3125 1.75 -0.359375 1.75 -0.75 Z M 1.796875 -6.109375 C 1.796875 -6.421875 1.546875 -6.640625 1.265625 -6.640625 C 0.96875 -6.640625 0.75 -6.375 0.75 -6.109375 C 0.75 -5.84375 0.96875 -5.59375 1.265625 -5.59375 C 1.546875 -5.59375 1.796875 -5.796875 1.796875 -6.109375 Z M 1.796875 -6.109375 \"/>\n</symbol>\n<symbol overflow=\"visible\" id=\"glyph-1637105904321169-0-10\">\n<path style=\"stroke:none;\" d=\"M 2.0625 -1.921875 C 2.28125 -1.890625 3.09375 -1.71875 3.09375 -1.015625 C 3.09375 -0.5 2.75 -0.109375 1.96875 -0.109375 C 1.140625 -0.109375 0.78125 -0.671875 0.59375 -1.515625 C 0.5625 -1.640625 0.5625 -1.6875 0.453125 -1.6875 C 0.328125 -1.6875 0.328125 -1.625 0.328125 -1.4375 L 0.328125 -0.125 C 0.328125 0.046875 0.328125 0.109375 0.4375 0.109375 C 0.484375 0.109375 0.5 0.09375 0.6875 -0.09375 C 0.703125 -0.109375 0.703125 -0.125 0.890625 -0.3125 C 1.3125 0.09375 1.765625 0.109375 1.96875 0.109375 C 3.109375 0.109375 3.578125 -0.5625 3.578125 -1.265625 C 3.578125 -1.796875 3.28125 -2.09375 3.15625 -2.21875 C 2.828125 -2.53125 2.4375 -2.609375 2.03125 -2.6875 C 1.46875 -2.796875 0.796875 -2.921875 0.796875 -3.5 C 0.796875 -3.84375 1.0625 -4.25 1.921875 -4.25 C 3 -4.25 3.0625 -3.359375 3.078125 -3.0625 C 3.078125 -2.96875 3.171875 -2.96875 3.1875 -2.96875 C 3.328125 -2.96875 3.328125 -3.015625 3.328125 -3.203125 L 3.328125 -4.203125 C 3.328125 -4.375 3.328125 -4.4375 3.21875 -4.4375 C 3.171875 -4.4375 3.140625 -4.4375 3.015625 -4.328125 C 2.984375 -4.28125 2.890625 -4.203125 2.84375 -4.171875 C 2.46875 -4.4375 2.0625 -4.4375 1.921875 -4.4375 C 0.703125 -4.4375 0.328125 -3.78125 0.328125 -3.21875 C 0.328125 -2.875 0.484375 -2.59375 0.75 -2.375 C 1.078125 -2.125 1.34375 -2.0625 2.0625 -1.921875 Z M 2.0625 -1.921875 \"/>\n</symbol>\n<symbol overflow=\"visible\" id=\"glyph-1637105904321169-0-11\">\n<path style=\"stroke:none;\" d=\"M 1.71875 -3.96875 L 3.140625 -3.96875 L 3.140625 -4.28125 L 1.71875 -4.28125 L 1.71875 -6.109375 L 1.46875 -6.109375 C 1.453125 -5.28125 1.15625 -4.234375 0.1875 -4.1875 L 0.1875 -3.96875 L 1.03125 -3.96875 L 1.03125 -1.234375 C 1.03125 -0.015625 1.953125 0.109375 2.3125 0.109375 C 3.015625 0.109375 3.296875 -0.59375 3.296875 -1.234375 L 3.296875 -1.796875 L 3.046875 -1.796875 L 3.046875 -1.25 C 3.046875 -0.515625 2.75 -0.140625 2.375 -0.140625 C 1.71875 -0.140625 1.71875 -1.046875 1.71875 -1.203125 Z M 1.71875 -3.96875 \"/>\n</symbol>\n<symbol overflow=\"visible\" id=\"glyph-1637105904321169-0-12\">\n<path style=\"stroke:none;\" d=\"M 3.296875 -0.75 C 3.34375 -0.359375 3.609375 0.0625 4.078125 0.0625 C 4.28125 0.0625 4.890625 -0.078125 4.890625 -0.890625 L 4.890625 -1.4375 L 4.640625 -1.4375 L 4.640625 -0.890625 C 4.640625 -0.3125 4.390625 -0.25 4.28125 -0.25 C 3.953125 -0.25 3.921875 -0.6875 3.921875 -0.75 L 3.921875 -2.734375 C 3.921875 -3.140625 3.921875 -3.53125 3.5625 -3.90625 C 3.171875 -4.28125 2.671875 -4.4375 2.203125 -4.4375 C 1.390625 -4.4375 0.703125 -3.984375 0.703125 -3.328125 C 0.703125 -3.03125 0.90625 -2.859375 1.15625 -2.859375 C 1.4375 -2.859375 1.625 -3.0625 1.625 -3.3125 C 1.625 -3.4375 1.5625 -3.765625 1.109375 -3.765625 C 1.375 -4.125 1.859375 -4.234375 2.1875 -4.234375 C 2.671875 -4.234375 3.234375 -3.84375 3.234375 -2.953125 L 3.234375 -2.59375 C 2.734375 -2.5625 2.03125 -2.53125 1.40625 -2.234375 C 0.671875 -1.890625 0.421875 -1.375 0.421875 -0.9375 C 0.421875 -0.140625 1.375 0.109375 2 0.109375 C 2.65625 0.109375 3.109375 -0.28125 3.296875 -0.75 Z M 3.234375 -2.375 L 3.234375 -1.390625 C 3.234375 -0.453125 2.515625 -0.109375 2.078125 -0.109375 C 1.59375 -0.109375 1.1875 -0.453125 1.1875 -0.953125 C 1.1875 -1.5 1.59375 -2.328125 3.234375 -2.375 Z M 3.234375 -2.375 \"/>\n</symbol>\n<symbol overflow=\"visible\" id=\"glyph-1637105904321169-0-13\">\n<path style=\"stroke:none;\" d=\"M 1.09375 -3.40625 L 1.09375 -0.75 C 1.09375 -0.3125 0.984375 -0.3125 0.3125 -0.3125 L 0.3125 0 C 0.671875 -0.015625 1.171875 -0.03125 1.4375 -0.03125 C 1.703125 -0.03125 2.21875 -0.015625 2.546875 0 L 2.546875 -0.3125 C 1.890625 -0.3125 1.78125 -0.3125 1.78125 -0.75 L 1.78125 -2.578125 C 1.78125 -3.609375 2.484375 -4.171875 3.109375 -4.171875 C 3.734375 -4.171875 3.84375 -3.625 3.84375 -3.0625 L 3.84375 -0.75 C 3.84375 -0.3125 3.734375 -0.3125 3.078125 -0.3125 L 3.078125 0 C 3.421875 -0.015625 3.921875 -0.03125 4.203125 -0.03125 C 4.453125 -0.03125 4.96875 -0.015625 5.3125 0 L 5.3125 -0.3125 C 4.796875 -0.3125 4.546875 -0.3125 4.53125 -0.609375 L 4.53125 -2.5 C 4.53125 -3.359375 4.53125 -3.65625 4.234375 -4.015625 C 4.09375 -4.1875 3.765625 -4.390625 3.1875 -4.390625 C 2.453125 -4.390625 2 -3.953125 1.71875 -3.34375 L 1.71875 -4.390625 L 0.3125 -4.28125 L 0.3125 -3.96875 C 1.015625 -3.96875 1.09375 -3.90625 1.09375 -3.40625 Z M 1.09375 -3.40625 \"/>\n</symbol>\n<symbol overflow=\"visible\" id=\"glyph-1637105904321169-0-14\">\n<path style=\"stroke:none;\" d=\"M 1.15625 -2.15625 C 1.15625 -3.78125 1.96875 -4.203125 2.5 -4.203125 C 2.59375 -4.203125 3.21875 -4.1875 3.5625 -3.828125 C 3.15625 -3.796875 3.09375 -3.5 3.09375 -3.375 C 3.09375 -3.109375 3.28125 -2.921875 3.546875 -2.921875 C 3.8125 -2.921875 4.015625 -3.078125 4.015625 -3.390625 C 4.015625 -4.0625 3.25 -4.4375 2.484375 -4.4375 C 1.25 -4.4375 0.34375 -3.375 0.34375 -2.140625 C 0.34375 -0.875 1.3125 0.109375 2.46875 0.109375 C 3.796875 0.109375 4.125 -1.078125 4.125 -1.1875 C 4.125 -1.28125 4.015625 -1.28125 3.984375 -1.28125 C 3.90625 -1.28125 3.875 -1.234375 3.859375 -1.1875 C 3.578125 -0.265625 2.921875 -0.140625 2.5625 -0.140625 C 2.03125 -0.140625 1.15625 -0.5625 1.15625 -2.15625 Z M 1.15625 -2.15625 \"/>\n</symbol>\n<symbol overflow=\"visible\" id=\"glyph-1637105904321169-0-15\">\n<path style=\"stroke:none;\" d=\"M 1.109375 -2.5 C 1.171875 -3.984375 2 -4.234375 2.34375 -4.234375 C 3.359375 -4.234375 3.46875 -2.890625 3.46875 -2.5 Z M 1.09375 -2.296875 L 3.875 -2.296875 C 4.09375 -2.296875 4.125 -2.296875 4.125 -2.5 C 4.125 -3.484375 3.578125 -4.4375 2.34375 -4.4375 C 1.1875 -4.4375 0.28125 -3.421875 0.28125 -2.1875 C 0.28125 -0.859375 1.3125 0.109375 2.453125 0.109375 C 3.671875 0.109375 4.125 -0.984375 4.125 -1.1875 C 4.125 -1.28125 4.03125 -1.296875 3.984375 -1.296875 C 3.90625 -1.296875 3.875 -1.234375 3.859375 -1.15625 C 3.515625 -0.140625 2.625 -0.140625 2.515625 -0.140625 C 2.03125 -0.140625 1.625 -0.4375 1.40625 -0.796875 C 1.09375 -1.28125 1.09375 -1.9375 1.09375 -2.296875 Z M 1.09375 -2.296875 \"/>\n</symbol>\n<symbol overflow=\"visible\" id=\"glyph-1637105904321169-1-0\">\n<path style=\"stroke:none;\" d=\"\"/>\n</symbol>\n<symbol overflow=\"visible\" id=\"glyph-1637105904321169-1-1\">\n<path style=\"stroke:none;\" d=\"M 1.90625 -2.484375 C 1.90625 -2.765625 1.671875 -3 1.375 -3 C 1.09375 -3 0.859375 -2.765625 0.859375 -2.484375 C 0.859375 -2.1875 1.09375 -1.953125 1.375 -1.953125 C 1.671875 -1.953125 1.90625 -2.1875 1.90625 -2.484375 Z M 1.90625 -2.484375 \"/>\n</symbol>\n<symbol overflow=\"visible\" id=\"glyph-1637105904321169-2-0\">\n<path style=\"stroke:none;\" d=\"\"/>\n</symbol>\n<symbol overflow=\"visible\" id=\"glyph-1637105904321169-2-1\">\n<path style=\"stroke:none;\" d=\"M 5.171875 -1.578125 C 5.28125 -1.578125 5.453125 -1.578125 5.453125 -1.734375 C 5.453125 -1.90625 5.296875 -1.90625 5.171875 -1.90625 L 1.03125 -1.90625 C 0.921875 -1.90625 0.75 -1.90625 0.75 -1.75 C 0.75 -1.578125 0.90625 -1.578125 1.03125 -1.578125 Z M 5.171875 -1.578125 \"/>\n</symbol>\n<symbol overflow=\"visible\" id=\"glyph-1637105904321169-3-0\">\n<path style=\"stroke:none;\" d=\"\"/>\n</symbol>\n<symbol overflow=\"visible\" id=\"glyph-1637105904321169-3-1\">\n<path style=\"stroke:none;\" d=\"M 3.515625 -1.265625 L 3.28125 -1.265625 C 3.25 -1.109375 3.1875 -0.703125 3.09375 -0.625 C 3.03125 -0.59375 2.5 -0.59375 2.40625 -0.59375 L 1.125 -0.59375 C 1.859375 -1.234375 2.09375 -1.4375 2.515625 -1.765625 C 3.03125 -2.171875 3.515625 -2.59375 3.515625 -3.265625 C 3.515625 -4.109375 2.78125 -4.609375 1.890625 -4.609375 C 1.015625 -4.609375 0.4375 -4.015625 0.4375 -3.375 C 0.4375 -3.015625 0.734375 -2.984375 0.8125 -2.984375 C 0.96875 -2.984375 1.171875 -3.09375 1.171875 -3.34375 C 1.171875 -3.484375 1.125 -3.71875 0.765625 -3.71875 C 0.984375 -4.21875 1.453125 -4.359375 1.78125 -4.359375 C 2.46875 -4.359375 2.84375 -3.828125 2.84375 -3.265625 C 2.84375 -2.65625 2.40625 -2.171875 2.1875 -1.921875 L 0.5 -0.265625 C 0.4375 -0.203125 0.4375 -0.1875 0.4375 0 L 3.296875 0 Z M 3.515625 -1.265625 \"/>\n</symbol>\n</g>\n<clipPath id=\"clip-1637105904321169-1\">\n  <path d=\"M 36 0.0742188 L 202 0.0742188 L 202 162 L 36 162 Z M 36 0.0742188 \"/>\n</clipPath>\n<clipPath id=\"clip-1637105904321169-2\">\n  <path d=\"M 21 9 L 215.511719 9 L 215.511719 148 L 21 148 Z M 21 9 \"/>\n</clipPath>\n<clipPath id=\"clip-1637105904321169-3\">\n  <path d=\"M 21 0.0742188 L 215.511719 0.0742188 L 215.511719 162 L 21 162 Z M 21 0.0742188 \"/>\n</clipPath>\n<clipPath id=\"clip-1637105904321169-4\">\n  <path d=\"M 187 180 L 197 180 L 197 187.921875 L 187 187.921875 Z M 187 180 \"/>\n</clipPath>\n</defs>\n<g id=\"surface1\">\n<g clip-path=\"url(#clip-1637105904321169-1)\" clip-rule=\"nonzero\">\n<path style=\"fill:none;stroke-width:0.19925;stroke-linecap:butt;stroke-linejoin:miter;stroke:rgb(50%,50%,50%);stroke-opacity:1;stroke-miterlimit:10;\" d=\"M -1.301221 -13.449291 L -1.301221 -9.196409 M 31.745829 -13.449291 L 31.745829 -9.196409 M 64.79288 -13.449291 L 64.79288 -9.196409 M 97.83993 -13.449291 L 97.83993 -9.196409 M 130.88306 -13.449291 L 130.88306 -9.196409 M 163.930111 -13.449291 L 163.930111 -9.196409 M -1.301221 147.940727 L -1.301221 143.687845 M 31.745829 147.940727 L 31.745829 143.687845 M 64.79288 147.940727 L 64.79288 143.687845 M 97.83993 147.940727 L 97.83993 143.687845 M 130.88306 147.940727 L 130.88306 143.687845 M 163.930111 147.940727 L 163.930111 143.687845 \" transform=\"matrix(0.996567,0,0,-0.996567,37.843628,147.702351)\"/>\n</g>\n<g clip-path=\"url(#clip-1637105904321169-2)\" clip-rule=\"nonzero\">\n<path style=\"fill:none;stroke-width:0.19925;stroke-linecap:butt;stroke-linejoin:miter;stroke:rgb(50%,50%,50%);stroke-opacity:1;stroke-miterlimit:10;\" d=\"M -16.192188 -0.00077656 L -11.939306 -0.00077656 M -16.192188 46.216489 L -11.939306 46.216489 M -16.192188 92.433755 L -11.939306 92.433755 M -16.192188 138.651021 L -11.939306 138.651021 M 178.084173 -0.00077656 L 173.831291 -0.00077656 M 178.084173 46.216489 L 173.831291 46.216489 M 178.084173 92.433755 L 173.831291 92.433755 M 178.084173 138.651021 L 173.831291 138.651021 \" transform=\"matrix(0.996567,0,0,-0.996567,37.843628,147.702351)\"/>\n</g>\n<g clip-path=\"url(#clip-1637105904321169-3)\" clip-rule=\"nonzero\">\n<path style=\"fill:none;stroke-width:0.3985;stroke-linecap:butt;stroke-linejoin:miter;stroke:rgb(0%,0%,0%);stroke-opacity:1;stroke-miterlimit:10;\" d=\"M -16.192188 -13.449291 L -16.192188 147.940727 L 178.084173 147.940727 L 178.084173 -13.449291 Z M -16.192188 -13.449291 \" transform=\"matrix(0.996567,0,0,-0.996567,37.843628,147.702351)\"/>\n</g>\n<g style=\"fill:rgb(0%,0%,0%);fill-opacity:1;\">\n  <use xlink:href=\"#glyph-1637105904321169-0-1\" x=\"34.06664\" y=\"171.012049\"/>\n</g>\n<g style=\"fill:rgb(0%,0%,0%);fill-opacity:1;\">\n  <use xlink:href=\"#glyph-1637105904321169-0-2\" x=\"66.998191\" y=\"171.012049\"/>\n</g>\n<g style=\"fill:rgb(0%,0%,0%);fill-opacity:1;\">\n  <use xlink:href=\"#glyph-1637105904321169-0-3\" x=\"99.930738\" y=\"171.012049\"/>\n</g>\n<g style=\"fill:rgb(0%,0%,0%);fill-opacity:1;\">\n  <use xlink:href=\"#glyph-1637105904321169-0-4\" x=\"132.863285\" y=\"171.012049\"/>\n</g>\n<g style=\"fill:rgb(0%,0%,0%);fill-opacity:1;\">\n  <use xlink:href=\"#glyph-1637105904321169-0-5\" x=\"165.794836\" y=\"171.012049\"/>\n</g>\n<g style=\"fill:rgb(0%,0%,0%);fill-opacity:1;\">\n  <use xlink:href=\"#glyph-1637105904321169-0-6\" x=\"198.727383\" y=\"171.012049\"/>\n</g>\n<g style=\"fill:rgb(0%,0%,0%);fill-opacity:1;\">\n  <use xlink:href=\"#glyph-1637105904321169-1-1\" x=\"184.279157\" y=\"187.56602\"/>\n</g>\n<g clip-path=\"url(#clip-1637105904321169-4)\" clip-rule=\"nonzero\">\n<g style=\"fill:rgb(0%,0%,0%);fill-opacity:1;\">\n  <use xlink:href=\"#glyph-1637105904321169-0-2\" x=\"187.037654\" y=\"187.56602\"/>\n  <use xlink:href=\"#glyph-1637105904321169-0-1\" x=\"192.001872\" y=\"187.56602\"/>\n</g>\n</g>\n<g style=\"fill:rgb(0%,0%,0%);fill-opacity:1;\">\n  <use xlink:href=\"#glyph-1637105904321169-2-1\" x=\"196.966449\" y=\"183.963431\"/>\n</g>\n<g style=\"fill:rgb(0%,0%,0%);fill-opacity:1;\">\n  <use xlink:href=\"#glyph-1637105904321169-3-1\" x=\"203.171074\" y=\"183.963431\"/>\n</g>\n<g style=\"fill:rgb(0%,0%,0%);fill-opacity:1;\">\n  <use xlink:href=\"#glyph-1637105904321169-0-1\" x=\"13.237397\" y=\"150.902327\"/>\n</g>\n<g style=\"fill:rgb(0%,0%,0%);fill-opacity:1;\">\n  <use xlink:href=\"#glyph-1637105904321169-0-3\" x=\"3.309598\" y=\"104.843998\"/>\n  <use xlink:href=\"#glyph-1637105904321169-0-1\" x=\"8.273817\" y=\"104.843998\"/>\n  <use xlink:href=\"#glyph-1637105904321169-0-1\" x=\"13.238035\" y=\"104.843998\"/>\n</g>\n<g style=\"fill:rgb(0%,0%,0%);fill-opacity:1;\">\n  <use xlink:href=\"#glyph-1637105904321169-0-5\" x=\"3.309598\" y=\"58.786666\"/>\n  <use xlink:href=\"#glyph-1637105904321169-0-1\" x=\"8.273817\" y=\"58.786666\"/>\n  <use xlink:href=\"#glyph-1637105904321169-0-1\" x=\"13.238035\" y=\"58.786666\"/>\n</g>\n<g style=\"fill:rgb(0%,0%,0%);fill-opacity:1;\">\n  <use xlink:href=\"#glyph-1637105904321169-0-7\" x=\"3.309598\" y=\"12.728338\"/>\n  <use xlink:href=\"#glyph-1637105904321169-0-1\" x=\"8.273817\" y=\"12.728338\"/>\n  <use xlink:href=\"#glyph-1637105904321169-0-1\" x=\"13.238035\" y=\"12.728338\"/>\n</g>\n<path style=\"fill-rule:nonzero;fill:rgb(75%,75%,75%);fill-opacity:0.5;stroke-width:0.3985;stroke-linecap:butt;stroke-linejoin:miter;stroke:rgb(50%,50%,50%);stroke-opacity:0.5;stroke-miterlimit:10;\" d=\"M 0.000121986 -0.00077656 L 1.007487 -0.00077656 L 1.007487 0.924274 L 0.000121986 0.924274 Z M 1.007487 -0.00077656 L 2.014851 -0.00077656 L 2.014851 0.924274 L 1.007487 0.924274 Z M 2.014851 -0.00077656 L 3.026136 -0.00077656 L 3.026136 4.389295 L 2.014851 4.389295 Z M 3.026136 -0.00077656 L 4.033501 -0.00077656 L 4.033501 3.695507 L 3.026136 3.695507 Z M 4.033501 -0.00077656 L 5.040865 -0.00077656 L 5.040865 10.860732 L 4.033501 10.860732 Z M 5.040865 -0.00077656 L 6.04823 -0.00077656 L 6.04823 21.259715 L 5.040865 21.259715 Z M 6.04823 -0.00077656 L 7.059514 -0.00077656 L 7.059514 28.424939 L 6.04823 28.424939 Z M 7.059514 -0.00077656 L 8.066879 -0.00077656 L 8.066879 46.910278 L 7.059514 46.910278 Z M 8.066879 -0.00077656 L 9.074244 -0.00077656 L 9.074244 48.760379 L 8.066879 48.760379 Z M 9.074244 -0.00077656 L 10.081609 -0.00077656 L 10.081609 75.563336 L 9.074244 75.563336 Z M 10.081609 -0.00077656 L 11.088973 -0.00077656 L 11.088973 83.653611 L 10.081609 83.653611 Z M 11.088973 -0.00077656 L 12.100258 -0.00077656 L 12.100258 93.821332 L 11.088973 93.821332 Z M 12.100258 -0.00077656 L 13.107622 -0.00077656 L 13.107622 119.009369 L 12.100258 119.009369 Z M 13.107622 -0.00077656 L 14.114987 -0.00077656 L 14.114987 134.492212 L 13.107622 134.492212 Z M 14.114987 -0.00077656 L 15.122352 -0.00077656 L 15.122352 112.537933 L 14.114987 112.537933 Z M 15.122352 -0.00077656 L 16.133636 -0.00077656 L 16.133636 124.787017 L 15.122352 124.787017 Z M 16.133636 -0.00077656 L 17.141001 -0.00077656 L 17.141001 120.165683 L 16.133636 120.165683 Z M 17.141001 -0.00077656 L 18.148366 -0.00077656 L 18.148366 120.165683 L 17.141001 120.165683 Z M 18.148366 -0.00077656 L 19.15573 -0.00077656 L 19.15573 114.619297 L 18.148366 114.619297 Z M 19.15573 -0.00077656 L 20.167015 -0.00077656 L 20.167015 99.367717 L 19.15573 99.367717 Z M 20.167015 -0.00077656 L 21.17438 -0.00077656 L 21.17438 99.59898 L 20.167015 99.59898 Z M 21.17438 -0.00077656 L 22.181744 -0.00077656 L 22.181744 99.830243 L 21.17438 99.830243 Z M 22.181744 -0.00077656 L 23.189109 -0.00077656 L 23.189109 78.107226 L 22.181744 78.107226 Z M 23.189109 -0.00077656 L 24.196474 -0.00077656 L 24.196474 83.653611 L 23.189109 83.653611 Z M 24.196474 -0.00077656 L 25.207758 -0.00077656 L 25.207758 72.792103 L 24.196474 72.792103 Z M 25.207758 -0.00077656 L 26.215123 -0.00077656 L 26.215123 61.005544 L 25.207758 61.005544 Z M 26.215123 -0.00077656 L 27.222488 -0.00077656 L 27.222488 61.005544 L 26.215123 61.005544 Z M 27.222488 -0.00077656 L 28.229852 -0.00077656 L 28.229852 50.837824 L 27.222488 50.837824 Z M 28.229852 -0.00077656 L 29.241137 -0.00077656 L 29.241137 49.454167 L 28.229852 49.454167 Z M 29.241137 -0.00077656 L 30.248501 -0.00077656 L 30.248501 36.280032 L 29.241137 36.280032 Z M 30.248501 -0.00077656 L 31.255866 -0.00077656 L 31.255866 38.361396 L 30.248501 38.361396 Z M 31.255866 -0.00077656 L 32.263231 -0.00077656 L 32.263231 25.881049 L 31.255866 25.881049 Z M 32.263231 -0.00077656 L 33.274515 -0.00077656 L 33.274515 25.418524 L 32.263231 25.418524 Z M 33.274515 -0.00077656 L 34.28188 -0.00077656 L 34.28188 21.028452 L 33.274515 21.028452 Z M 34.28188 -0.00077656 L 35.289245 -0.00077656 L 35.289245 19.640876 L 34.28188 19.640876 Z M 35.289245 -0.00077656 L 36.296609 -0.00077656 L 36.296609 15.713329 L 35.289245 15.713329 Z M 36.296609 -0.00077656 L 37.303974 -0.00077656 L 37.303974 12.710833 L 36.296609 12.710833 Z M 37.303974 -0.00077656 L 38.315258 -0.00077656 L 38.315258 12.710833 L 37.303974 12.710833 Z M 38.315258 -0.00077656 L 39.322623 -0.00077656 L 39.322623 10.398206 L 38.315258 10.398206 Z M 39.322623 -0.00077656 L 40.329988 -0.00077656 L 40.329988 11.091994 L 39.322623 11.091994 Z M 40.329988 -0.00077656 L 41.337353 -0.00077656 L 41.337353 8.552024 L 40.329988 8.552024 Z M 41.337353 -0.00077656 L 42.348637 -0.00077656 L 42.348637 6.701923 L 41.337353 6.701923 Z M 42.348637 -0.00077656 L 43.356002 -0.00077656 L 43.356002 4.158033 L 42.348637 4.158033 Z M 43.356002 -0.00077656 L 44.363366 -0.00077656 L 44.363366 4.851821 L 43.356002 4.851821 Z M 44.363366 -0.00077656 L 45.370731 -0.00077656 L 45.370731 6.701923 L 44.363366 6.701923 Z M 45.370731 -0.00077656 L 46.382016 -0.00077656 L 46.382016 3.92677 L 45.370731 3.92677 Z M 46.382016 -0.00077656 L 47.38938 -0.00077656 L 47.38938 2.774376 L 46.382016 2.774376 Z M 47.38938 -0.00077656 L 48.396745 -0.00077656 L 48.396745 2.774376 L 47.38938 2.774376 Z M 48.396745 -0.00077656 L 49.40411 -0.00077656 L 49.40411 2.543113 L 48.396745 2.543113 Z M 49.40411 -0.00077656 L 50.411474 -0.00077656 L 50.411474 3.468164 L 49.40411 3.468164 Z M 50.411474 -0.00077656 L 51.422759 -0.00077656 L 51.422759 2.311851 L 50.411474 2.311851 Z M 51.422759 -0.00077656 L 52.430124 -0.00077656 L 52.430124 2.080588 L 51.422759 2.080588 Z M 52.430124 -0.00077656 L 53.437488 -0.00077656 L 53.437488 2.311851 L 52.430124 2.311851 Z M 53.437488 -0.00077656 L 54.444853 -0.00077656 L 54.444853 0.461749 L 53.437488 0.461749 Z M 54.444853 -0.00077656 L 55.456137 -0.00077656 L 55.456137 0.924274 L 54.444853 0.924274 Z M 55.456137 -0.00077656 L 56.463502 -0.00077656 L 56.463502 0.693012 L 55.456137 0.693012 Z M 56.463502 -0.00077656 L 57.470867 -0.00077656 L 57.470867 0.461749 L 56.463502 0.461749 Z M 57.470867 -0.00077656 L 58.478232 -0.00077656 L 58.478232 1.155537 L 57.470867 1.155537 Z M 58.478232 -0.00077656 L 59.489516 -0.00077656 L 59.489516 0.461749 L 58.478232 0.461749 Z M 59.489516 -0.00077656 L 60.496881 -0.00077656 Z M 60.496881 -0.00077656 L 61.504245 -0.00077656 Z M 61.504245 -0.00077656 L 62.51161 -0.00077656 L 62.51161 0.693012 L 61.504245 0.693012 Z M 62.51161 -0.00077656 L 63.518975 -0.00077656 L 63.518975 0.230486 L 62.51161 0.230486 Z M 63.518975 -0.00077656 L 64.530259 -0.00077656 Z M 64.530259 -0.00077656 L 65.537624 -0.00077656 L 65.537624 0.230486 L 64.530259 0.230486 Z M 65.537624 -0.00077656 L 66.544989 -0.00077656 Z M 66.544989 -0.00077656 L 67.552353 -0.00077656 L 67.552353 0.230486 L 66.544989 0.230486 Z M 67.552353 -0.00077656 L 68.563638 -0.00077656 L 68.563638 0.461749 L 67.552353 0.461749 Z M 68.563638 -0.00077656 L 69.571003 -0.00077656 L 69.571003 0.230486 L 68.563638 0.230486 Z M 69.571003 -0.00077656 L 70.578367 -0.00077656 L 70.578367 0.230486 L 69.571003 0.230486 Z M 70.578367 -0.00077656 L 71.585732 -0.00077656 L 71.585732 0.230486 L 70.578367 0.230486 Z M 71.585732 -0.00077656 L 72.597016 -0.00077656 Z M 72.597016 -0.00077656 L 73.604381 -0.00077656 Z M 73.604381 -0.00077656 L 74.611746 -0.00077656 Z M 74.611746 -0.00077656 L 75.619111 -0.00077656 Z M 75.619111 -0.00077656 L 76.626475 -0.00077656 L 76.626475 0.461749 L 75.619111 0.461749 Z M 76.626475 -0.00077656 L 77.63776 -0.00077656 Z M 77.63776 -0.00077656 L 78.645124 -0.00077656 Z M 78.645124 -0.00077656 L 79.652489 -0.00077656 L 79.652489 0.461749 L 78.645124 0.461749 Z M 79.652489 -0.00077656 L 80.659854 -0.00077656 Z M 80.659854 -0.00077656 L 81.671138 -0.00077656 Z M 81.671138 -0.00077656 L 82.678503 -0.00077656 Z M 82.678503 -0.00077656 L 83.685868 -0.00077656 Z M 83.685868 -0.00077656 L 84.693232 -0.00077656 L 84.693232 0.230486 L 83.685868 0.230486 Z M 83.685868 -0.00077656 \" transform=\"matrix(0.996567,0,0,-0.996567,37.843628,147.702351)\"/>\n<path style=\"fill-rule:nonzero;fill:rgb(50%,75%,75%);fill-opacity:0.5;stroke-width:0.3985;stroke-linecap:butt;stroke-linejoin:miter;stroke:rgb(0%,50%,50%);stroke-opacity:0.5;stroke-miterlimit:10;\" d=\"M 2.187319 -0.00077656 L 3.496501 -0.00077656 L 3.496501 0.461749 L 2.187319 0.461749 Z M 3.496501 -0.00077656 L 4.805683 -0.00077656 L 4.805683 2.080588 L 3.496501 2.080588 Z M 4.805683 -0.00077656 L 6.114865 -0.00077656 L 6.114865 2.311851 L 4.805683 2.311851 Z M 6.114865 -0.00077656 L 7.424047 -0.00077656 L 7.424047 3.236901 L 6.114865 3.236901 Z M 7.424047 -0.00077656 L 8.733229 -0.00077656 L 8.733229 6.239397 L 7.424047 6.239397 Z M 8.733229 -0.00077656 L 10.042411 -0.00077656 L 10.042411 11.785783 L 8.733229 11.785783 Z M 10.042411 -0.00077656 L 11.351594 -0.00077656 L 11.351594 16.869643 L 10.042411 16.869643 Z M 11.351594 -0.00077656 L 12.656856 -0.00077656 L 12.656856 21.953503 L 11.351594 21.953503 Z M 12.656856 -0.00077656 L 13.966038 -0.00077656 L 13.966038 38.130134 L 12.656856 38.130134 Z M 13.966038 -0.00077656 L 15.27522 -0.00077656 L 15.27522 39.51771 L 13.966038 39.51771 Z M 15.27522 -0.00077656 L 16.584403 -0.00077656 L 16.584403 41.132629 L 15.27522 41.132629 Z M 16.584403 -0.00077656 L 17.893585 -0.00077656 L 17.893585 54.538027 L 16.584403 54.538027 Z M 17.893585 -0.00077656 L 19.202767 -0.00077656 L 19.202767 69.789608 L 17.893585 69.789608 Z M 19.202767 -0.00077656 L 20.511949 -0.00077656 L 20.511949 73.485891 L 19.202767 73.485891 Z M 20.511949 -0.00077656 L 21.821131 -0.00077656 L 21.821131 66.089404 L 20.511949 66.089404 Z M 21.821131 -0.00077656 L 23.130313 -0.00077656 L 23.130313 81.572247 L 21.821131 81.572247 Z M 23.130313 -0.00077656 L 24.439495 -0.00077656 L 24.439495 71.867052 L 23.130313 71.867052 Z M 24.439495 -0.00077656 L 25.748678 -0.00077656 L 25.748678 68.402031 L 24.439495 68.402031 Z M 25.748678 -0.00077656 L 27.05786 -0.00077656 L 27.05786 68.633294 L 25.748678 68.633294 Z M 27.05786 -0.00077656 L 28.367042 -0.00077656 L 28.367042 57.540523 L 27.05786 57.540523 Z M 28.367042 -0.00077656 L 29.676224 -0.00077656 L 29.676224 53.381714 L 28.367042 53.381714 Z M 29.676224 -0.00077656 L 30.985406 -0.00077656 L 30.985406 47.835328 L 29.676224 47.835328 Z M 30.985406 -0.00077656 L 32.294588 -0.00077656 L 32.294588 35.817507 L 30.985406 35.817507 Z M 32.294588 -0.00077656 L 33.603771 -0.00077656 L 33.603771 31.427435 L 32.294588 31.427435 Z M 33.603771 -0.00077656 L 34.912953 -0.00077656 L 34.912953 21.72224 L 33.603771 21.72224 Z M 34.912953 -0.00077656 L 36.222135 -0.00077656 L 36.222135 22.647291 L 34.912953 22.647291 Z M 36.222135 -0.00077656 L 37.531317 -0.00077656 L 37.531317 12.942096 L 36.222135 12.942096 Z M 37.531317 -0.00077656 L 38.840499 -0.00077656 L 38.840499 19.409613 L 37.531317 19.409613 Z M 38.840499 -0.00077656 L 40.149681 -0.00077656 L 40.149681 12.248308 L 38.840499 12.248308 Z M 40.149681 -0.00077656 L 41.458864 -0.00077656 L 41.458864 10.860732 L 40.149681 10.860732 Z M 41.458864 -0.00077656 L 42.768046 -0.00077656 L 42.768046 9.473155 L 41.458864 9.473155 Z M 42.768046 -0.00077656 L 44.077228 -0.00077656 L 44.077228 7.626973 L 42.768046 7.626973 Z M 44.077228 -0.00077656 L 45.38641 -0.00077656 L 45.38641 7.395711 L 44.077228 7.395711 Z M 45.38641 -0.00077656 L 46.695592 -0.00077656 L 46.695592 6.239397 L 45.38641 6.239397 Z M 46.695592 -0.00077656 L 48.004774 -0.00077656 L 48.004774 3.92677 L 46.695592 3.92677 Z M 48.004774 -0.00077656 L 49.313956 -0.00077656 L 49.313956 3.468164 L 48.004774 3.468164 Z M 49.313956 -0.00077656 L 50.623139 -0.00077656 L 50.623139 4.620558 L 49.313956 4.620558 Z M 50.623139 -0.00077656 L 51.932321 -0.00077656 L 51.932321 2.311851 L 50.623139 2.311851 Z M 51.932321 -0.00077656 L 53.241503 -0.00077656 L 53.241503 2.774376 L 51.932321 2.774376 Z M 53.241503 -0.00077656 L 54.550685 -0.00077656 L 54.550685 3.468164 L 53.241503 3.468164 Z M 54.550685 -0.00077656 L 55.859867 -0.00077656 L 55.859867 2.543113 L 54.550685 2.543113 Z M 55.859867 -0.00077656 L 57.169049 -0.00077656 L 57.169049 1.849325 L 55.859867 1.849325 Z M 57.169049 -0.00077656 L 58.478232 -0.00077656 L 58.478232 2.311851 L 57.169049 2.311851 Z M 58.478232 -0.00077656 L 59.787414 -0.00077656 L 59.787414 3.005639 L 58.478232 3.005639 Z M 59.787414 -0.00077656 L 61.096596 -0.00077656 L 61.096596 0.924274 L 59.787414 0.924274 Z M 61.096596 -0.00077656 L 62.405778 -0.00077656 L 62.405778 1.849325 L 61.096596 1.849325 Z M 62.405778 -0.00077656 L 63.71496 -0.00077656 L 63.71496 1.3868 L 62.405778 1.3868 Z M 63.71496 -0.00077656 L 65.024142 -0.00077656 L 65.024142 1.155537 L 63.71496 1.155537 Z M 65.024142 -0.00077656 L 66.333325 -0.00077656 L 66.333325 1.618062 L 65.024142 1.618062 Z M 66.333325 -0.00077656 L 67.642507 -0.00077656 L 67.642507 1.155537 L 66.333325 1.155537 Z M 67.642507 -0.00077656 L 68.951689 -0.00077656 L 68.951689 1.155537 L 67.642507 1.155537 Z M 68.951689 -0.00077656 L 70.260871 -0.00077656 L 70.260871 0.924274 L 68.951689 0.924274 Z M 70.260871 -0.00077656 L 71.566133 -0.00077656 L 71.566133 1.3868 L 70.260871 1.3868 Z M 71.566133 -0.00077656 L 72.875316 -0.00077656 L 72.875316 0.924274 L 71.566133 0.924274 Z M 72.875316 -0.00077656 L 74.184498 -0.00077656 L 74.184498 1.849325 L 72.875316 1.849325 Z M 74.184498 -0.00077656 L 75.49368 -0.00077656 L 75.49368 0.693012 L 74.184498 0.693012 Z M 75.49368 -0.00077656 L 76.802862 -0.00077656 L 76.802862 1.3868 L 75.49368 1.3868 Z M 76.802862 -0.00077656 L 78.112044 -0.00077656 L 78.112044 0.693012 L 76.802862 0.693012 Z M 78.112044 -0.00077656 L 79.421226 -0.00077656 L 79.421226 0.924274 L 78.112044 0.924274 Z M 79.421226 -0.00077656 L 80.730409 -0.00077656 L 80.730409 0.924274 L 79.421226 0.924274 Z M 80.730409 -0.00077656 L 82.039591 -0.00077656 L 82.039591 0.230486 L 80.730409 0.230486 Z M 82.039591 -0.00077656 L 83.348773 -0.00077656 L 83.348773 0.693012 L 82.039591 0.693012 Z M 83.348773 -0.00077656 L 84.657955 -0.00077656 Z M 84.657955 -0.00077656 L 85.967137 -0.00077656 Z M 85.967137 -0.00077656 L 87.276319 -0.00077656 L 87.276319 0.230486 L 85.967137 0.230486 Z M 87.276319 -0.00077656 L 88.585502 -0.00077656 L 88.585502 1.155537 L 87.276319 1.155537 Z M 88.585502 -0.00077656 L 89.894684 -0.00077656 L 89.894684 0.230486 L 88.585502 0.230486 Z M 89.894684 -0.00077656 L 91.203866 -0.00077656 L 91.203866 0.693012 L 89.894684 0.693012 Z M 91.203866 -0.00077656 L 92.513048 -0.00077656 L 92.513048 0.230486 L 91.203866 0.230486 Z M 92.513048 -0.00077656 L 93.82223 -0.00077656 L 93.82223 0.924274 L 92.513048 0.924274 Z M 93.82223 -0.00077656 L 95.131412 -0.00077656 L 95.131412 0.461749 L 93.82223 0.461749 Z M 95.131412 -0.00077656 L 96.440594 -0.00077656 L 96.440594 0.693012 L 95.131412 0.693012 Z M 96.440594 -0.00077656 L 97.749777 -0.00077656 L 97.749777 0.693012 L 96.440594 0.693012 Z M 97.749777 -0.00077656 L 99.058959 -0.00077656 L 99.058959 0.461749 L 97.749777 0.461749 Z M 99.058959 -0.00077656 L 100.368141 -0.00077656 Z M 100.368141 -0.00077656 L 101.677323 -0.00077656 L 101.677323 0.693012 L 100.368141 0.693012 Z M 101.677323 -0.00077656 L 102.986505 -0.00077656 L 102.986505 0.461749 L 101.677323 0.461749 Z M 102.986505 -0.00077656 L 104.295687 -0.00077656 L 104.295687 0.230486 L 102.986505 0.230486 Z M 104.295687 -0.00077656 L 105.60487 -0.00077656 L 105.60487 0.461749 L 104.295687 0.461749 Z M 105.60487 -0.00077656 L 106.914052 -0.00077656 L 106.914052 0.230486 L 105.60487 0.230486 Z M 106.914052 -0.00077656 L 108.223234 -0.00077656 Z M 108.223234 -0.00077656 L 109.532416 -0.00077656 Z M 109.532416 -0.00077656 L 110.841598 -0.00077656 L 110.841598 0.230486 L 109.532416 0.230486 Z M 110.841598 -0.00077656 L 112.15078 -0.00077656 L 112.15078 0.461749 L 110.841598 0.461749 Z M 112.15078 -0.00077656 L 113.459963 -0.00077656 L 113.459963 0.230486 L 112.15078 0.230486 Z M 113.459963 -0.00077656 L 114.769145 -0.00077656 Z M 114.769145 -0.00077656 L 116.078327 -0.00077656 L 116.078327 0.230486 L 114.769145 0.230486 Z M 116.078327 -0.00077656 L 117.387509 -0.00077656 Z M 117.387509 -0.00077656 L 118.696691 -0.00077656 Z M 118.696691 -0.00077656 L 120.005873 -0.00077656 L 120.005873 0.230486 L 118.696691 0.230486 Z M 120.005873 -0.00077656 L 121.315055 -0.00077656 L 121.315055 0.230486 L 120.005873 0.230486 Z M 121.315055 -0.00077656 L 122.624238 -0.00077656 Z M 122.624238 -0.00077656 L 123.93342 -0.00077656 Z M 123.93342 -0.00077656 L 125.242602 -0.00077656 Z M 125.242602 -0.00077656 L 126.551784 -0.00077656 Z M 126.551784 -0.00077656 L 127.860966 -0.00077656 L 127.860966 0.230486 L 126.551784 0.230486 Z M 127.860966 -0.00077656 L 129.170148 -0.00077656 Z M 129.170148 -0.00077656 L 130.475411 -0.00077656 Z M 130.475411 -0.00077656 L 131.784593 -0.00077656 Z M 131.784593 -0.00077656 L 133.093775 -0.00077656 Z M 133.093775 -0.00077656 L 134.402957 -0.00077656 L 134.402957 0.230486 L 133.093775 0.230486 Z M 134.402957 -0.00077656 L 135.712139 -0.00077656 L 135.712139 0.230486 L 134.402957 0.230486 Z M 135.712139 -0.00077656 L 137.021322 -0.00077656 Z M 137.021322 -0.00077656 L 138.330504 -0.00077656 Z M 138.330504 -0.00077656 L 139.639686 -0.00077656 Z M 139.639686 -0.00077656 L 140.948868 -0.00077656 Z M 140.948868 -0.00077656 L 142.25805 -0.00077656 Z M 142.25805 -0.00077656 L 143.567232 -0.00077656 Z M 143.567232 -0.00077656 L 144.876415 -0.00077656 Z M 144.876415 -0.00077656 L 146.185597 -0.00077656 L 146.185597 0.230486 L 144.876415 0.230486 Z M 146.185597 -0.00077656 L 147.494779 -0.00077656 Z M 147.494779 -0.00077656 L 148.803961 -0.00077656 Z M 148.803961 -0.00077656 L 150.113143 -0.00077656 Z M 150.113143 -0.00077656 L 151.422325 -0.00077656 Z M 151.422325 -0.00077656 L 152.731508 -0.00077656 Z M 152.731508 -0.00077656 L 154.04069 -0.00077656 Z M 154.04069 -0.00077656 L 155.349872 -0.00077656 Z M 155.349872 -0.00077656 L 156.659054 -0.00077656 Z M 156.659054 -0.00077656 L 157.968236 -0.00077656 Z M 157.968236 -0.00077656 L 159.277418 -0.00077656 Z M 159.277418 -0.00077656 L 160.5866 -0.00077656 Z M 160.5866 -0.00077656 L 161.895783 -0.00077656 L 161.895783 0.230486 L 160.5866 0.230486 Z M 160.5866 -0.00077656 \" transform=\"matrix(0.996567,0,0,-0.996567,37.843628,147.702351)\"/>\n<g style=\"fill:rgb(0%,0%,0%);fill-opacity:1;\">\n  <use xlink:href=\"#glyph-1637105904321169-0-8\" x=\"99.799191\" y=\"184.613193\"/>\n  <use xlink:href=\"#glyph-1637105904321169-0-9\" x=\"107.383524\" y=\"184.613193\"/>\n  <use xlink:href=\"#glyph-1637105904321169-0-10\" x=\"110.141643\" y=\"184.613193\"/>\n  <use xlink:href=\"#glyph-1637105904321169-0-11\" x=\"114.057419\" y=\"184.613193\"/>\n  <use xlink:href=\"#glyph-1637105904321169-0-12\" x=\"117.918588\" y=\"184.613193\"/>\n  <use xlink:href=\"#glyph-1637105904321169-0-13\" x=\"122.882806\" y=\"184.613193\"/>\n  <use xlink:href=\"#glyph-1637105904321169-0-14\" x=\"128.399045\" y=\"184.613193\"/>\n  <use xlink:href=\"#glyph-1637105904321169-0-15\" x=\"132.811242\" y=\"184.613193\"/>\n</g>\n</g>\n</svg>\n\n",
      "text/plain": [
       "Axis(PGFPlots.Plots.Plot[PGFPlots.Plots.Histogram(Real[0.006903015f0, 0.0031425208f0, 0.0040676105f0, 0.00397135f0, 0.0077010253f0, 0.003160782f0, 0.0063617644f0, 0.0062380293f0, 0.004180728f0, 0.0023041922f0  …  0.005633127f0, 0.007535961f0, 0.0085104015f0, 0.009722932f0, 0.007920521f0, 0.005681366f0, 0.009012022f0, 0.005986619f0, 0.0078724325f0, 0.004551065f0], 10, false, false, \"gray, fill=gray!50, opacity = 0.5\", :default, nothing), PGFPlots.Plots.Histogram(Real[0.009363673f0, 0.00956453f0, 0.003675692f0, 0.005457384f0, 0.008752551f0, 0.008286029f0, 0.007056438f0, 0.0030443817f0, 0.0069537284f0, 0.0055589858f0  …  0.007907798f0, 0.01687139f0, 0.010577247f0, 0.00741043f0, 0.01720594f0, 0.011371745f0, 0.0048930207f0, 0.00777602f0, 0.005586398f0, 0.0064287335f0], 10, false, false, \"teal, fill=teal!50, opacity = 0.5\", :default, nothing)], nothing, \"Distance\", nothing, nothing, nothing, nothing, nothing, nothing, nothing, nothing, nothing, nothing, nothing, nothing, nothing, nothing, nothing, nothing, nothing, nothing, nothing, nothing, nothing, nothing, nothing, nothing, nothing, \"axis\")"
      ]
     },
     "execution_count": 149,
     "metadata": {},
     "output_type": "execute_result"
    }
   ],
   "source": [
    "dists_in, dists_out = get_latent_distances(npn.encoder, X, Xc)\n",
    "ax = Axis()\n",
    "push!(ax, Plots.Histogram(dists_in, style=\"gray, fill=gray!50, opacity = 0.5\"))\n",
    "push!(ax, Plots.Histogram(dists_out, style=\"teal, fill=teal!50, opacity = 0.5\"))\n",
    "ax.xlabel = \"Distance\"\n",
    "ax"
   ]
  },
  {
   "cell_type": "markdown",
   "metadata": {},
   "source": [
    "### Flow"
   ]
  },
  {
   "cell_type": "code",
   "execution_count": 144,
   "metadata": {},
   "outputs": [],
   "source": [
    "z_in = npn.encoder(X)\n",
    "z_out = npn.encoder(Xrand)\n",
    "\n",
    "ll_in = logpdf(npn.flow, z_in)\n",
    "ll_out = logpdf(npn.flow, z_out);"
   ]
  },
  {
   "cell_type": "code",
   "execution_count": 147,
   "metadata": {},
   "outputs": [
    {
     "data": {
      "image/svg+xml": "<?xml version=\"1.0\" encoding=\"UTF-8\"?>\n<svg xmlns=\"http://www.w3.org/2000/svg\" xmlns:xlink=\"http://www.w3.org/1999/xlink\" width=\"216.255pt\" height=\"191.381pt\" viewBox=\"0 0 216.255 191.381\" version=\"1.2\">\n<defs>\n<g>\n<symbol overflow=\"visible\" id=\"glyph-1637105904321168-0-0\">\n<path style=\"stroke:none;\" d=\"\"/>\n</symbol>\n<symbol overflow=\"visible\" id=\"glyph-1637105904321168-0-1\">\n<path style=\"stroke:none;\" d=\"M 6.53125 -2.28125 C 6.703125 -2.28125 6.890625 -2.28125 6.890625 -2.484375 C 6.890625 -2.671875 6.703125 -2.671875 6.53125 -2.671875 L 1.171875 -2.671875 C 1 -2.671875 0.828125 -2.671875 0.828125 -2.484375 C 0.828125 -2.28125 1 -2.28125 1.171875 -2.28125 Z M 6.53125 -2.28125 \"/>\n</symbol>\n<symbol overflow=\"visible\" id=\"glyph-1637105904321168-1-0\">\n<path style=\"stroke:none;\" d=\"\"/>\n</symbol>\n<symbol overflow=\"visible\" id=\"glyph-1637105904321168-1-1\">\n<path style=\"stroke:none;\" d=\"M 2.921875 -6.34375 C 2.921875 -6.59375 2.921875 -6.609375 2.6875 -6.609375 C 2.078125 -5.96875 1.203125 -5.96875 0.890625 -5.96875 L 0.890625 -5.671875 C 1.078125 -5.671875 1.671875 -5.671875 2.1875 -5.921875 L 2.1875 -0.78125 C 2.1875 -0.421875 2.15625 -0.3125 1.265625 -0.3125 L 0.9375 -0.3125 L 0.9375 0 C 1.296875 -0.03125 2.15625 -0.03125 2.546875 -0.03125 C 2.953125 -0.03125 3.8125 -0.03125 4.15625 0 L 4.15625 -0.3125 L 3.84375 -0.3125 C 2.953125 -0.3125 2.921875 -0.421875 2.921875 -0.78125 Z M 2.921875 -6.34375 \"/>\n</symbol>\n<symbol overflow=\"visible\" id=\"glyph-1637105904321168-1-2\">\n<path style=\"stroke:none;\" d=\"M 4.453125 -2 C 4.453125 -3.171875 3.640625 -4.171875 2.5625 -4.171875 C 2.09375 -4.171875 1.671875 -4.015625 1.3125 -3.65625 L 1.3125 -5.59375 C 1.515625 -5.53125 1.828125 -5.46875 2.15625 -5.46875 C 3.375 -5.46875 4.0625 -6.375 4.0625 -6.5 C 4.0625 -6.5625 4.03125 -6.609375 3.96875 -6.609375 C 3.953125 -6.609375 3.9375 -6.609375 3.890625 -6.578125 C 3.6875 -6.484375 3.203125 -6.296875 2.546875 -6.296875 C 2.140625 -6.296875 1.6875 -6.359375 1.21875 -6.5625 C 1.140625 -6.59375 1.125 -6.59375 1.09375 -6.59375 C 1 -6.59375 1 -6.515625 1 -6.359375 L 1 -3.421875 C 1 -3.25 1 -3.171875 1.140625 -3.171875 C 1.203125 -3.171875 1.234375 -3.1875 1.265625 -3.25 C 1.375 -3.40625 1.75 -3.953125 2.546875 -3.953125 C 3.0625 -3.953125 3.3125 -3.5 3.390625 -3.3125 C 3.546875 -2.953125 3.578125 -2.5625 3.578125 -2.0625 C 3.578125 -1.71875 3.578125 -1.125 3.328125 -0.703125 C 3.09375 -0.3125 2.734375 -0.0625 2.265625 -0.0625 C 1.546875 -0.0625 0.984375 -0.578125 0.8125 -1.171875 C 0.84375 -1.15625 0.875 -1.15625 0.984375 -1.15625 C 1.3125 -1.15625 1.484375 -1.40625 1.484375 -1.640625 C 1.484375 -1.875 1.3125 -2.125 0.984375 -2.125 C 0.84375 -2.125 0.5 -2.046875 0.5 -1.59375 C 0.5 -0.75 1.1875 0.21875 2.296875 0.21875 C 3.4375 0.21875 4.453125 -0.734375 4.453125 -2 Z M 4.453125 -2 \"/>\n</symbol>\n<symbol overflow=\"visible\" id=\"glyph-1637105904321168-1-3\">\n<path style=\"stroke:none;\" d=\"M 4.5625 -3.171875 C 4.5625 -3.96875 4.515625 -4.765625 4.171875 -5.5 C 3.703125 -6.453125 2.890625 -6.609375 2.484375 -6.609375 C 1.890625 -6.609375 1.15625 -6.34375 0.75 -5.421875 C 0.4375 -4.75 0.390625 -3.96875 0.390625 -3.171875 C 0.390625 -2.4375 0.421875 -1.53125 0.828125 -0.78125 C 1.265625 0.015625 1.984375 0.21875 2.46875 0.21875 C 3 0.21875 3.765625 0.015625 4.203125 -0.9375 C 4.515625 -1.625 4.5625 -2.390625 4.5625 -3.171875 Z M 2.46875 0 C 2.078125 0 1.5 -0.25 1.3125 -1.203125 C 1.203125 -1.796875 1.203125 -2.703125 1.203125 -3.296875 C 1.203125 -3.921875 1.203125 -4.578125 1.296875 -5.125 C 1.484375 -6.296875 2.21875 -6.390625 2.46875 -6.390625 C 2.796875 -6.390625 3.453125 -6.21875 3.640625 -5.234375 C 3.734375 -4.671875 3.734375 -3.921875 3.734375 -3.296875 C 3.734375 -2.546875 3.734375 -1.875 3.625 -1.234375 C 3.484375 -0.296875 2.921875 0 2.46875 0 Z M 2.46875 0 \"/>\n</symbol>\n<symbol overflow=\"visible\" id=\"glyph-1637105904321168-1-4\">\n<path style=\"stroke:none;\" d=\"M 1.265625 -0.765625 L 2.3125 -1.78125 C 3.859375 -3.15625 4.453125 -3.6875 4.453125 -4.6875 C 4.453125 -5.8125 3.5625 -6.609375 2.34375 -6.609375 C 1.234375 -6.609375 0.5 -5.6875 0.5 -4.8125 C 0.5 -4.25 0.984375 -4.25 1.015625 -4.25 C 1.1875 -4.25 1.53125 -4.375 1.53125 -4.78125 C 1.53125 -5.046875 1.359375 -5.296875 1.015625 -5.296875 C 0.9375 -5.296875 0.90625 -5.296875 0.890625 -5.28125 C 1.109375 -5.9375 1.640625 -6.296875 2.21875 -6.296875 C 3.125 -6.296875 3.546875 -5.5 3.546875 -4.6875 C 3.546875 -3.890625 3.0625 -3.109375 2.515625 -2.484375 L 0.609375 -0.359375 C 0.5 -0.265625 0.5 -0.234375 0.5 0 L 4.171875 0 L 4.453125 -1.71875 L 4.203125 -1.71875 C 4.15625 -1.421875 4.09375 -0.984375 3.984375 -0.84375 C 3.921875 -0.765625 3.265625 -0.765625 3.046875 -0.765625 Z M 1.265625 -0.765625 \"/>\n</symbol>\n<symbol overflow=\"visible\" id=\"glyph-1637105904321168-1-5\">\n<path style=\"stroke:none;\" d=\"M 2.921875 -1.640625 L 2.921875 -0.78125 C 2.921875 -0.421875 2.890625 -0.3125 2.15625 -0.3125 L 1.953125 -0.3125 L 1.953125 0 C 2.359375 -0.03125 2.875 -0.03125 3.296875 -0.03125 C 3.703125 -0.03125 4.234375 -0.03125 4.640625 0 L 4.640625 -0.3125 L 4.4375 -0.3125 C 3.703125 -0.3125 3.6875 -0.421875 3.6875 -0.78125 L 3.6875 -1.640625 L 4.671875 -1.640625 L 4.671875 -1.9375 L 3.6875 -1.9375 L 3.6875 -6.453125 C 3.6875 -6.65625 3.6875 -6.71875 3.515625 -6.71875 C 3.4375 -6.71875 3.40625 -6.71875 3.328125 -6.59375 L 0.28125 -1.9375 L 0.28125 -1.640625 Z M 2.96875 -1.9375 L 0.5625 -1.9375 L 2.96875 -5.640625 Z M 2.96875 -1.9375 \"/>\n</symbol>\n<symbol overflow=\"visible\" id=\"glyph-1637105904321168-1-6\">\n<path style=\"stroke:none;\" d=\"M 1.3125 -3.25 L 1.3125 -3.5 C 1.3125 -6 2.546875 -6.359375 3.046875 -6.359375 C 3.28125 -6.359375 3.703125 -6.296875 3.921875 -5.96875 C 3.765625 -5.96875 3.375 -5.96875 3.375 -5.515625 C 3.375 -5.203125 3.609375 -5.0625 3.828125 -5.0625 C 3.984375 -5.0625 4.28125 -5.15625 4.28125 -5.53125 C 4.28125 -6.125 3.84375 -6.609375 3.03125 -6.609375 C 1.75 -6.609375 0.421875 -5.328125 0.421875 -3.140625 C 0.421875 -0.484375 1.5625 0.21875 2.484375 0.21875 C 3.59375 0.21875 4.53125 -0.71875 4.53125 -2.03125 C 4.53125 -3.28125 3.65625 -4.234375 2.546875 -4.234375 C 1.875 -4.234375 1.515625 -3.734375 1.3125 -3.25 Z M 2.484375 -0.0625 C 1.859375 -0.0625 1.5625 -0.65625 1.515625 -0.796875 C 1.328125 -1.265625 1.328125 -2.0625 1.328125 -2.25 C 1.328125 -3.015625 1.640625 -4.015625 2.546875 -4.015625 C 2.703125 -4.015625 3.15625 -4.015625 3.46875 -3.390625 C 3.640625 -3.03125 3.640625 -2.515625 3.640625 -2.03125 C 3.640625 -1.5625 3.640625 -1.0625 3.46875 -0.703125 C 3.171875 -0.109375 2.71875 -0.0625 2.484375 -0.0625 Z M 2.484375 -0.0625 \"/>\n</symbol>\n<symbol overflow=\"visible\" id=\"glyph-1637105904321168-1-7\">\n<path style=\"stroke:none;\" d=\"M 5.78125 -2.5625 L 5.53125 -2.5625 C 5.421875 -1.546875 5.28125 -0.3125 3.53125 -0.3125 L 2.71875 -0.3125 C 2.25 -0.3125 2.234375 -0.375 2.234375 -0.703125 L 2.234375 -6 C 2.234375 -6.328125 2.234375 -6.46875 3.171875 -6.46875 L 3.5 -6.46875 L 3.5 -6.78125 C 3.140625 -6.75 2.25 -6.75 1.828125 -6.75 C 1.453125 -6.75 0.671875 -6.75 0.328125 -6.78125 L 0.328125 -6.46875 L 0.5625 -6.46875 C 1.328125 -6.46875 1.34375 -6.359375 1.34375 -6 L 1.34375 -0.78125 C 1.34375 -0.421875 1.328125 -0.3125 0.5625 -0.3125 L 0.328125 -0.3125 L 0.328125 0 L 5.5 0 Z M 5.78125 -2.5625 \"/>\n</symbol>\n<symbol overflow=\"visible\" id=\"glyph-1637105904321168-1-8\">\n<path style=\"stroke:none;\" d=\"M 4.671875 -2.125 C 4.671875 -3.390625 3.6875 -4.4375 2.484375 -4.4375 C 1.234375 -4.4375 0.28125 -3.359375 0.28125 -2.125 C 0.28125 -0.84375 1.3125 0.109375 2.46875 0.109375 C 3.671875 0.109375 4.671875 -0.859375 4.671875 -2.125 Z M 2.484375 -0.140625 C 2.046875 -0.140625 1.625 -0.34375 1.34375 -0.796875 C 1.09375 -1.234375 1.09375 -1.84375 1.09375 -2.203125 C 1.09375 -2.59375 1.09375 -3.125 1.34375 -3.5625 C 1.609375 -4.015625 2.078125 -4.234375 2.46875 -4.234375 C 2.90625 -4.234375 3.328125 -4.015625 3.59375 -3.578125 C 3.84375 -3.15625 3.84375 -2.578125 3.84375 -2.203125 C 3.84375 -1.84375 3.84375 -1.3125 3.625 -0.875 C 3.40625 -0.421875 2.96875 -0.140625 2.484375 -0.140625 Z M 2.484375 -0.140625 \"/>\n</symbol>\n<symbol overflow=\"visible\" id=\"glyph-1637105904321168-1-9\">\n<path style=\"stroke:none;\" d=\"M 2.203125 -1.703125 C 1.34375 -1.703125 1.34375 -2.703125 1.34375 -2.921875 C 1.34375 -3.1875 1.34375 -3.515625 1.5 -3.765625 C 1.578125 -3.875 1.8125 -4.15625 2.203125 -4.15625 C 3.0625 -4.15625 3.0625 -3.171875 3.0625 -2.9375 C 3.0625 -2.671875 3.0625 -2.34375 2.90625 -2.109375 C 2.828125 -1.984375 2.59375 -1.703125 2.203125 -1.703125 Z M 1.046875 -1.3125 C 1.046875 -1.359375 1.046875 -1.59375 1.21875 -1.78125 C 1.609375 -1.515625 2.015625 -1.484375 2.203125 -1.484375 C 3.125 -1.484375 3.8125 -2.15625 3.8125 -2.921875 C 3.8125 -3.296875 3.65625 -3.65625 3.40625 -3.890625 C 3.765625 -4.234375 4.125 -4.28125 4.296875 -4.28125 C 4.3125 -4.28125 4.359375 -4.28125 4.390625 -4.265625 C 4.28125 -4.234375 4.234375 -4.125 4.234375 -4 C 4.234375 -3.828125 4.359375 -3.703125 4.53125 -3.703125 C 4.625 -3.703125 4.8125 -3.78125 4.8125 -4.015625 C 4.8125 -4.171875 4.6875 -4.5 4.3125 -4.5 C 4.109375 -4.5 3.671875 -4.4375 3.25 -4.03125 C 2.84375 -4.359375 2.421875 -4.390625 2.203125 -4.390625 C 1.28125 -4.390625 0.59375 -3.703125 0.59375 -2.9375 C 0.59375 -2.5 0.8125 -2.125 1.0625 -1.921875 C 0.9375 -1.765625 0.75 -1.4375 0.75 -1.09375 C 0.75 -0.78125 0.890625 -0.40625 1.1875 -0.203125 C 0.59375 -0.046875 0.28125 0.390625 0.28125 0.78125 C 0.28125 1.5 1.265625 2.046875 2.46875 2.046875 C 3.640625 2.046875 4.671875 1.53125 4.671875 0.765625 C 4.671875 0.421875 4.53125 -0.09375 4.03125 -0.359375 C 3.5 -0.640625 2.921875 -0.640625 2.328125 -0.640625 C 2.078125 -0.640625 1.640625 -0.640625 1.578125 -0.65625 C 1.265625 -0.6875 1.046875 -1 1.046875 -1.3125 Z M 2.484375 1.8125 C 1.484375 1.8125 0.796875 1.3125 0.796875 0.78125 C 0.796875 0.328125 1.171875 -0.046875 1.609375 -0.0625 L 2.1875 -0.0625 C 3.046875 -0.0625 4.15625 -0.0625 4.15625 0.78125 C 4.15625 1.3125 3.453125 1.8125 2.484375 1.8125 Z M 2.484375 1.8125 \"/>\n</symbol>\n<symbol overflow=\"visible\" id=\"glyph-1637105904321168-1-10\">\n<path style=\"stroke:none;\" d=\"M 1.75 -4.390625 L 0.359375 -4.28125 L 0.359375 -3.96875 C 1.015625 -3.96875 1.09375 -3.90625 1.09375 -3.421875 L 1.09375 -0.75 C 1.09375 -0.3125 0.984375 -0.3125 0.328125 -0.3125 L 0.328125 0 C 0.640625 -0.015625 1.1875 -0.03125 1.421875 -0.03125 C 1.765625 -0.03125 2.109375 -0.015625 2.453125 0 L 2.453125 -0.3125 C 1.796875 -0.3125 1.75 -0.359375 1.75 -0.75 Z M 1.796875 -6.109375 C 1.796875 -6.421875 1.546875 -6.640625 1.265625 -6.640625 C 0.96875 -6.640625 0.75 -6.375 0.75 -6.109375 C 0.75 -5.84375 0.96875 -5.59375 1.265625 -5.59375 C 1.546875 -5.59375 1.796875 -5.796875 1.796875 -6.109375 Z M 1.796875 -6.109375 \"/>\n</symbol>\n<symbol overflow=\"visible\" id=\"glyph-1637105904321168-1-11\">\n<path style=\"stroke:none;\" d=\"M 1.046875 -0.75 C 1.046875 -0.3125 0.9375 -0.3125 0.28125 -0.3125 L 0.28125 0 C 0.609375 -0.015625 1.078125 -0.03125 1.359375 -0.03125 C 1.65625 -0.03125 2.046875 -0.015625 2.453125 0 L 2.453125 -0.3125 C 1.78125 -0.3125 1.671875 -0.3125 1.671875 -0.75 L 1.671875 -1.78125 L 2.3125 -2.328125 C 3.078125 -1.265625 3.5 -0.71875 3.5 -0.53125 C 3.5 -0.34375 3.328125 -0.3125 3.140625 -0.3125 L 3.140625 0 C 3.40625 -0.015625 4 -0.03125 4.203125 -0.03125 C 4.5 -0.03125 4.78125 -0.015625 5.0625 0 L 5.0625 -0.3125 C 4.703125 -0.3125 4.484375 -0.3125 4.109375 -0.828125 L 2.84375 -2.609375 C 2.84375 -2.625 2.78125 -2.6875 2.78125 -2.71875 C 2.78125 -2.765625 3.5 -3.359375 3.59375 -3.4375 C 4.21875 -3.9375 4.640625 -3.953125 4.84375 -3.96875 L 4.84375 -4.28125 C 4.546875 -4.25 4.421875 -4.25 4.140625 -4.25 C 3.796875 -4.25 3.171875 -4.265625 3.03125 -4.28125 L 3.03125 -3.96875 C 3.21875 -3.953125 3.328125 -3.84375 3.328125 -3.71875 C 3.328125 -3.515625 3.1875 -3.40625 3.109375 -3.328125 L 1.703125 -2.125 L 1.703125 -6.890625 L 0.28125 -6.78125 L 0.28125 -6.46875 C 0.96875 -6.46875 1.046875 -6.40625 1.046875 -5.90625 Z M 1.046875 -0.75 \"/>\n</symbol>\n<symbol overflow=\"visible\" id=\"glyph-1637105904321168-1-12\">\n<path style=\"stroke:none;\" d=\"M 1.109375 -2.5 C 1.171875 -3.984375 2 -4.234375 2.34375 -4.234375 C 3.359375 -4.234375 3.46875 -2.890625 3.46875 -2.5 Z M 1.09375 -2.296875 L 3.875 -2.296875 C 4.09375 -2.296875 4.125 -2.296875 4.125 -2.5 C 4.125 -3.484375 3.578125 -4.4375 2.34375 -4.4375 C 1.1875 -4.4375 0.28125 -3.421875 0.28125 -2.1875 C 0.28125 -0.859375 1.3125 0.109375 2.453125 0.109375 C 3.671875 0.109375 4.125 -0.984375 4.125 -1.1875 C 4.125 -1.28125 4.03125 -1.296875 3.984375 -1.296875 C 3.90625 -1.296875 3.875 -1.234375 3.859375 -1.15625 C 3.515625 -0.140625 2.625 -0.140625 2.515625 -0.140625 C 2.03125 -0.140625 1.625 -0.4375 1.40625 -0.796875 C 1.09375 -1.28125 1.09375 -1.9375 1.09375 -2.296875 Z M 1.09375 -2.296875 \"/>\n</symbol>\n<symbol overflow=\"visible\" id=\"glyph-1637105904321168-1-13\">\n<path style=\"stroke:none;\" d=\"M 1.75 -6.890625 L 0.328125 -6.78125 L 0.328125 -6.46875 C 1.015625 -6.46875 1.09375 -6.40625 1.09375 -5.90625 L 1.09375 -0.75 C 1.09375 -0.3125 0.984375 -0.3125 0.328125 -0.3125 L 0.328125 0 C 0.65625 -0.015625 1.1875 -0.03125 1.421875 -0.03125 C 1.671875 -0.03125 2.15625 -0.015625 2.53125 0 L 2.53125 -0.3125 C 1.859375 -0.3125 1.75 -0.3125 1.75 -0.75 Z M 1.75 -6.890625 \"/>\n</symbol>\n<symbol overflow=\"visible\" id=\"glyph-1637105904321168-1-14\">\n<path style=\"stroke:none;\" d=\"M 1.09375 -0.75 C 1.09375 -0.3125 0.984375 -0.3125 0.3125 -0.3125 L 0.3125 0 C 0.671875 -0.015625 1.171875 -0.03125 1.4375 -0.03125 C 1.703125 -0.03125 2.21875 -0.015625 2.546875 0 L 2.546875 -0.3125 C 1.890625 -0.3125 1.78125 -0.3125 1.78125 -0.75 L 1.78125 -2.578125 C 1.78125 -3.609375 2.484375 -4.171875 3.109375 -4.171875 C 3.734375 -4.171875 3.84375 -3.625 3.84375 -3.0625 L 3.84375 -0.75 C 3.84375 -0.3125 3.734375 -0.3125 3.078125 -0.3125 L 3.078125 0 C 3.421875 -0.015625 3.921875 -0.03125 4.203125 -0.03125 C 4.453125 -0.03125 4.96875 -0.015625 5.3125 0 L 5.3125 -0.3125 C 4.796875 -0.3125 4.546875 -0.3125 4.53125 -0.609375 L 4.53125 -2.5 C 4.53125 -3.359375 4.53125 -3.65625 4.234375 -4.015625 C 4.09375 -4.1875 3.765625 -4.390625 3.1875 -4.390625 C 2.34375 -4.390625 1.921875 -3.796875 1.75 -3.40625 L 1.75 -6.890625 L 0.3125 -6.78125 L 0.3125 -6.46875 C 1.015625 -6.46875 1.09375 -6.40625 1.09375 -5.90625 Z M 1.09375 -0.75 \"/>\n</symbol>\n<symbol overflow=\"visible\" id=\"glyph-1637105904321168-1-15\">\n<path style=\"stroke:none;\" d=\"M 3.765625 -0.546875 L 3.765625 0.109375 L 5.234375 0 L 5.234375 -0.3125 C 4.53125 -0.3125 4.453125 -0.375 4.453125 -0.859375 L 4.453125 -6.890625 L 3.03125 -6.78125 L 3.03125 -6.46875 C 3.71875 -6.46875 3.796875 -6.40625 3.796875 -5.90625 L 3.796875 -3.765625 C 3.515625 -4.125 3.078125 -4.390625 2.546875 -4.390625 C 1.375 -4.390625 0.34375 -3.40625 0.34375 -2.140625 C 0.34375 -0.875 1.3125 0.109375 2.4375 0.109375 C 3.078125 0.109375 3.515625 -0.234375 3.765625 -0.546875 Z M 3.765625 -3.203125 L 3.765625 -1.171875 C 3.765625 -0.984375 3.765625 -0.96875 3.65625 -0.796875 C 3.359375 -0.328125 2.921875 -0.109375 2.484375 -0.109375 C 2.046875 -0.109375 1.6875 -0.359375 1.453125 -0.75 C 1.1875 -1.15625 1.15625 -1.71875 1.15625 -2.125 C 1.15625 -2.484375 1.1875 -3.078125 1.46875 -3.53125 C 1.671875 -3.84375 2.046875 -4.171875 2.59375 -4.171875 C 2.9375 -4.171875 3.359375 -4.015625 3.65625 -3.578125 C 3.765625 -3.40625 3.765625 -3.390625 3.765625 -3.203125 Z M 3.765625 -3.203125 \"/>\n</symbol>\n</g>\n<clipPath id=\"clip-1637105904321168-1\">\n  <path d=\"M 40 0.0195312 L 207 0.0195312 L 207 162 L 40 162 Z M 40 0.0195312 \"/>\n</clipPath>\n<clipPath id=\"clip-1637105904321168-2\">\n  <path d=\"M 21 35 L 215.511719 35 L 215.511719 148 L 21 148 Z M 21 35 \"/>\n</clipPath>\n<clipPath id=\"clip-1637105904321168-3\">\n  <path d=\"M 21 0.0195312 L 215.511719 0.0195312 L 215.511719 162 L 21 162 Z M 21 0.0195312 \"/>\n</clipPath>\n</defs>\n<g id=\"surface1\">\n<g clip-path=\"url(#clip-1637105904321168-1)\" clip-rule=\"nonzero\">\n<path style=\"fill:none;stroke-width:0.19925;stroke-linecap:butt;stroke-linejoin:miter;stroke:rgb(50%,50%,50%);stroke-opacity:1;stroke-miterlimit:10;\" d=\"M 2.602807 -13.449287 L 2.602807 -9.200325 M 30.381771 -13.449287 L 30.381771 -9.200325 M 58.156816 -13.449287 L 58.156816 -9.200325 M 85.93578 -13.449287 L 85.93578 -9.200325 M 113.710824 -13.449287 L 113.710824 -9.200325 M 141.489788 -13.449287 L 141.489788 -9.200325 M 169.268752 -13.449287 L 169.268752 -9.200325 M 2.602807 147.948571 L 2.602807 143.695688 M 30.381771 147.948571 L 30.381771 143.695688 M 58.156816 147.948571 L 58.156816 143.695688 M 85.93578 147.948571 L 85.93578 143.695688 M 113.710824 147.948571 L 113.710824 143.695688 M 141.489788 147.948571 L 141.489788 143.695688 M 169.268752 147.948571 L 169.268752 143.695688 \" transform=\"matrix(0.996567,0,0,-0.996567,37.843628,147.65548)\"/>\n</g>\n<g clip-path=\"url(#clip-1637105904321168-2)\" clip-rule=\"nonzero\">\n<path style=\"fill:none;stroke-width:0.19925;stroke-linecap:butt;stroke-linejoin:miter;stroke:rgb(50%,50%,50%);stroke-opacity:1;stroke-miterlimit:10;\" d=\"M -16.192188 -0.000772375 L -11.939306 -0.000772375 M -16.192188 37.412832 L -11.939306 37.412832 M -16.192188 74.822516 L -11.939306 74.822516 M -16.192188 112.23612 L -11.939306 112.23612 M 178.084173 -0.000772375 L 173.831291 -0.000772375 M 178.084173 37.412832 L 173.831291 37.412832 M 178.084173 74.822516 L 173.831291 74.822516 M 178.084173 112.23612 L 173.831291 112.23612 \" transform=\"matrix(0.996567,0,0,-0.996567,37.843628,147.65548)\"/>\n</g>\n<g clip-path=\"url(#clip-1637105904321168-3)\" clip-rule=\"nonzero\">\n<path style=\"fill:none;stroke-width:0.3985;stroke-linecap:butt;stroke-linejoin:miter;stroke:rgb(0%,0%,0%);stroke-opacity:1;stroke-miterlimit:10;\" d=\"M -16.192188 -13.449287 L -16.192188 147.948571 L 178.084173 147.948571 L 178.084173 -13.449287 Z M -16.192188 -13.449287 \" transform=\"matrix(0.996567,0,0,-0.996567,37.843628,147.65548)\"/>\n</g>\n<g style=\"fill:rgb(0%,0%,0%);fill-opacity:1;\">\n  <use xlink:href=\"#glyph-1637105904321168-0-1\" x=\"31.614089\" y=\"170.965178\"/>\n</g>\n<g style=\"fill:rgb(0%,0%,0%);fill-opacity:1;\">\n  <use xlink:href=\"#glyph-1637105904321168-1-1\" x=\"39.336486\" y=\"170.965178\"/>\n  <use xlink:href=\"#glyph-1637105904321168-1-2\" x=\"44.300704\" y=\"170.965178\"/>\n</g>\n<g style=\"fill:rgb(0%,0%,0%);fill-opacity:1;\">\n  <use xlink:href=\"#glyph-1637105904321168-0-1\" x=\"59.295726\" y=\"170.965178\"/>\n</g>\n<g style=\"fill:rgb(0%,0%,0%);fill-opacity:1;\">\n  <use xlink:href=\"#glyph-1637105904321168-1-1\" x=\"67.018122\" y=\"170.965178\"/>\n  <use xlink:href=\"#glyph-1637105904321168-1-3\" x=\"71.98234\" y=\"170.965178\"/>\n</g>\n<g style=\"fill:rgb(0%,0%,0%);fill-opacity:1;\">\n  <use xlink:href=\"#glyph-1637105904321168-0-1\" x=\"89.458814\" y=\"170.965178\"/>\n</g>\n<g style=\"fill:rgb(0%,0%,0%);fill-opacity:1;\">\n  <use xlink:href=\"#glyph-1637105904321168-1-2\" x=\"97.18121\" y=\"170.965178\"/>\n</g>\n<g style=\"fill:rgb(0%,0%,0%);fill-opacity:1;\">\n  <use xlink:href=\"#glyph-1637105904321168-1-3\" x=\"121.00115\" y=\"170.965178\"/>\n</g>\n<g style=\"fill:rgb(0%,0%,0%);fill-opacity:1;\">\n  <use xlink:href=\"#glyph-1637105904321168-1-2\" x=\"148.682787\" y=\"170.965178\"/>\n</g>\n<g style=\"fill:rgb(0%,0%,0%);fill-opacity:1;\">\n  <use xlink:href=\"#glyph-1637105904321168-1-1\" x=\"173.881975\" y=\"170.965178\"/>\n  <use xlink:href=\"#glyph-1637105904321168-1-3\" x=\"178.846194\" y=\"170.965178\"/>\n</g>\n<g style=\"fill:rgb(0%,0%,0%);fill-opacity:1;\">\n  <use xlink:href=\"#glyph-1637105904321168-1-1\" x=\"201.563612\" y=\"170.965178\"/>\n  <use xlink:href=\"#glyph-1637105904321168-1-2\" x=\"206.52783\" y=\"170.965178\"/>\n</g>\n<g style=\"fill:rgb(0%,0%,0%);fill-opacity:1;\">\n  <use xlink:href=\"#glyph-1637105904321168-1-3\" x=\"13.237397\" y=\"150.85446\"/>\n</g>\n<g style=\"fill:rgb(0%,0%,0%);fill-opacity:1;\">\n  <use xlink:href=\"#glyph-1637105904321168-1-4\" x=\"3.309598\" y=\"113.570902\"/>\n  <use xlink:href=\"#glyph-1637105904321168-1-3\" x=\"8.273817\" y=\"113.570902\"/>\n  <use xlink:href=\"#glyph-1637105904321168-1-3\" x=\"13.238035\" y=\"113.570902\"/>\n</g>\n<g style=\"fill:rgb(0%,0%,0%);fill-opacity:1;\">\n  <use xlink:href=\"#glyph-1637105904321168-1-5\" x=\"3.309598\" y=\"76.288341\"/>\n  <use xlink:href=\"#glyph-1637105904321168-1-3\" x=\"8.273817\" y=\"76.288341\"/>\n  <use xlink:href=\"#glyph-1637105904321168-1-3\" x=\"13.238035\" y=\"76.288341\"/>\n</g>\n<g style=\"fill:rgb(0%,0%,0%);fill-opacity:1;\">\n  <use xlink:href=\"#glyph-1637105904321168-1-6\" x=\"3.309598\" y=\"39.004783\"/>\n  <use xlink:href=\"#glyph-1637105904321168-1-3\" x=\"8.273817\" y=\"39.004783\"/>\n  <use xlink:href=\"#glyph-1637105904321168-1-3\" x=\"13.238035\" y=\"39.004783\"/>\n</g>\n<path style=\"fill-rule:nonzero;fill:rgb(75%,75%,75%);fill-opacity:0.5;stroke-width:0.3985;stroke-linecap:butt;stroke-linejoin:miter;stroke:rgb(50%,50%,50%);stroke-opacity:0.5;stroke-miterlimit:10;\" d=\"M 99.133433 -0.000772375 L 100.497491 -0.000772375 L 100.497491 0.187374 L 99.133433 0.187374 Z M 100.501411 -0.000772375 L 101.865469 -0.000772375 L 101.865469 0.187374 L 100.501411 0.187374 Z M 101.865469 -0.000772375 L 103.229527 -0.000772375 L 103.229527 0.936038 L 101.865469 0.936038 Z M 103.229527 -0.000772375 L 104.593585 -0.000772375 L 104.593585 1.868928 L 103.229527 1.868928 Z M 104.593585 -0.000772375 L 105.957643 -0.000772375 L 105.957643 3.926774 L 104.593585 3.926774 Z M 105.957643 -0.000772375 L 107.321701 -0.000772375 L 107.321701 11.409495 L 105.957643 11.409495 Z M 107.321701 -0.000772375 L 108.685759 -0.000772375 L 108.685759 16.273851 L 107.321701 16.273851 Z M 108.685759 -0.000772375 L 110.049817 -0.000772375 L 110.049817 26.374936 L 108.685759 26.374936 Z M 110.049817 -0.000772375 L 111.413875 -0.000772375 L 111.413875 33.485285 L 110.049817 33.485285 Z M 111.413875 -0.000772375 L 112.777933 -0.000772375 L 112.777933 62.291212 L 111.413875 62.291212 Z M 112.777933 -0.000772375 L 114.141992 -0.000772375 L 114.141992 75.386953 L 112.777933 75.386953 Z M 114.141992 -0.000772375 L 115.50605 -0.000772375 L 115.50605 92.033949 L 114.141992 92.033949 Z M 115.50605 -0.000772375 L 116.870108 -0.000772375 L 116.870108 95.77335 L 115.50605 95.77335 Z M 116.870108 -0.000772375 L 118.234166 -0.000772375 L 118.234166 74.822516 L 116.870108 74.822516 Z M 118.234166 -0.000772375 L 119.598224 -0.000772375 L 119.598224 82.493382 L 118.234166 82.493382 Z M 119.598224 -0.000772375 L 120.966202 -0.000772375 L 120.966202 86.048557 L 119.598224 86.048557 Z M 120.966202 -0.000772375 L 122.33026 -0.000772375 L 122.33026 89.227439 L 120.966202 89.227439 Z M 122.33026 -0.000772375 L 123.694318 -0.000772375 L 123.694318 93.719423 L 122.33026 93.719423 Z M 123.694318 -0.000772375 L 125.058376 -0.000772375 L 125.058376 91.845803 L 123.694318 91.845803 Z M 125.058376 -0.000772375 L 126.422434 -0.000772375 L 126.422434 100.825852 L 125.058376 100.825852 Z M 126.422434 -0.000772375 L 127.786492 -0.000772375 L 127.786492 85.860411 L 126.422434 85.860411 Z M 127.786492 -0.000772375 L 129.15055 -0.000772375 L 129.15055 86.797221 L 127.786492 86.797221 Z M 129.15055 -0.000772375 L 130.514608 -0.000772375 L 130.514608 88.106403 L 129.15055 88.106403 Z M 130.514608 -0.000772375 L 131.878666 -0.000772375 L 131.878666 67.527941 L 130.514608 67.527941 Z M 131.878666 -0.000772375 L 133.242724 -0.000772375 L 133.242724 60.421512 L 131.878666 60.421512 Z M 133.242724 -0.000772375 L 134.606782 -0.000772375 L 134.606782 56.30582 L 133.242724 56.30582 Z M 134.606782 -0.000772375 L 135.97084 -0.000772375 L 135.97084 49.011245 L 134.606782 49.011245 Z M 135.97084 -0.000772375 L 137.334898 -0.000772375 L 137.334898 53.311163 L 135.97084 53.311163 Z M 137.334898 -0.000772375 L 138.698956 -0.000772375 L 138.698956 44.895552 L 137.334898 44.895552 Z M 138.698956 -0.000772375 L 140.063014 -0.000772375 L 140.063014 38.91016 L 138.698956 38.91016 Z M 140.063014 -0.000772375 L 141.430992 -0.000772375 L 141.430992 37.03654 L 140.063014 37.03654 Z M 141.430992 -0.000772375 L 142.79505 -0.000772375 L 142.79505 34.978693 L 141.430992 34.978693 Z M 142.79505 -0.000772375 L 144.159108 -0.000772375 L 144.159108 27.311746 L 142.79505 27.311746 Z M 144.159108 -0.000772375 L 145.523166 -0.000772375 L 145.523166 21.886872 L 144.159108 21.886872 Z M 145.523166 -0.000772375 L 146.887224 -0.000772375 L 146.887224 17.959325 L 145.523166 17.959325 Z M 146.887224 -0.000772375 L 148.251282 -0.000772375 L 148.251282 17.583033 L 146.887224 17.583033 Z M 148.251282 -0.000772375 L 149.61534 -0.000772375 L 149.61534 10.100313 L 148.251282 10.100313 Z M 149.61534 -0.000772375 L 150.979398 -0.000772375 L 150.979398 9.727941 L 149.61534 9.727941 Z M 150.979398 -0.000772375 L 152.343457 -0.000772375 L 152.343457 6.733284 L 150.979398 6.733284 Z M 152.343457 -0.000772375 L 153.707515 -0.000772375 L 153.707515 5.612248 L 152.343457 5.612248 Z M 153.707515 -0.000772375 L 155.071573 -0.000772375 L 155.071573 4.491212 L 153.707515 4.491212 Z M 155.071573 -0.000772375 L 156.435631 -0.000772375 L 156.435631 3.366256 L 155.071573 3.366256 Z M 156.435631 -0.000772375 L 157.799689 -0.000772375 L 157.799689 1.124184 L 156.435631 1.124184 Z M 157.799689 -0.000772375 L 159.163747 -0.000772375 L 159.163747 1.124184 L 157.799689 1.124184 Z M 159.163747 -0.000772375 L 160.527805 -0.000772375 L 160.527805 0.559746 L 159.163747 0.559746 Z M 160.527805 -0.000772375 L 161.895783 -0.000772375 L 161.895783 0.747892 L 160.527805 0.747892 Z M 160.527805 -0.000772375 \" transform=\"matrix(0.996567,0,0,-0.996567,37.843628,147.65548)\"/>\n<path style=\"fill-rule:nonzero;fill:rgb(50%,75%,75%);fill-opacity:0.5;stroke-width:0.3985;stroke-linecap:butt;stroke-linejoin:miter;stroke:rgb(0%,50%,50%);stroke-opacity:0.5;stroke-miterlimit:10;\" d=\"M 0.000121986 -0.000772375 L 2.199078 -0.000772375 L 2.199078 0.187374 L 0.000121986 0.187374 Z M 2.199078 -0.000772375 L 4.398033 -0.000772375 Z M 4.398033 -0.000772375 L 6.600909 -0.000772375 L 6.600909 0.187374 L 4.398033 0.187374 Z M 6.600909 -0.000772375 L 8.799864 -0.000772375 L 8.799864 0.187374 L 6.600909 0.187374 Z M 8.799864 -0.000772375 L 10.99882 -0.000772375 Z M 10.99882 -0.000772375 L 13.197776 -0.000772375 Z M 13.197776 -0.000772375 L 15.400651 -0.000772375 Z M 15.400651 -0.000772375 L 17.599607 -0.000772375 L 17.599607 0.559746 L 15.400651 0.559746 Z M 17.599607 -0.000772375 L 19.798562 -0.000772375 L 19.798562 1.30841 L 17.599607 1.30841 Z M 19.798562 -0.000772375 L 21.997518 -0.000772375 L 21.997518 0.559746 L 19.798562 0.559746 Z M 21.997518 -0.000772375 L 24.200393 -0.000772375 L 24.200393 1.30841 L 21.997518 1.30841 Z M 24.200393 -0.000772375 L 26.399349 -0.000772375 L 26.399349 1.124184 L 24.200393 1.124184 Z M 26.399349 -0.000772375 L 28.598305 -0.000772375 L 28.598305 1.684702 L 26.399349 1.684702 Z M 28.598305 -0.000772375 L 30.79726 -0.000772375 L 30.79726 2.057074 L 28.598305 2.057074 Z M 30.79726 -0.000772375 L 33.000136 -0.000772375 L 33.000136 2.24522 L 30.79726 2.24522 Z M 33.000136 -0.000772375 L 35.199091 -0.000772375 L 35.199091 3.926774 L 33.000136 3.926774 Z M 35.199091 -0.000772375 L 37.398047 -0.000772375 L 37.398047 4.11492 L 35.199091 4.11492 Z M 37.398047 -0.000772375 L 39.597003 -0.000772375 L 39.597003 4.303066 L 37.398047 4.303066 Z M 39.597003 -0.000772375 L 41.799878 -0.000772375 L 41.799878 7.109576 L 39.597003 7.109576 Z M 41.799878 -0.000772375 L 43.998834 -0.000772375 L 43.998834 6.360912 L 41.799878 6.360912 Z M 43.998834 -0.000772375 L 46.197789 -0.000772375 L 46.197789 11.037123 L 43.998834 11.037123 Z M 46.197789 -0.000772375 L 48.396745 -0.000772375 L 48.396745 10.848977 L 46.197789 10.848977 Z M 48.396745 -0.000772375 L 50.595701 -0.000772375 L 50.595701 12.158159 L 48.396745 12.158159 Z M 50.595701 -0.000772375 L 52.798576 -0.000772375 L 52.798576 13.094969 L 50.595701 13.094969 Z M 52.798576 -0.000772375 L 54.997532 -0.000772375 L 54.997532 11.785787 L 52.798576 11.785787 Z M 54.997532 -0.000772375 L 57.196487 -0.000772375 L 57.196487 16.834369 L 54.997532 16.834369 Z M 57.196487 -0.000772375 L 59.395443 -0.000772375 L 59.395443 16.650143 L 57.196487 16.650143 Z M 59.395443 -0.000772375 L 61.598318 -0.000772375 L 61.598318 19.080362 L 59.395443 19.080362 Z M 61.598318 -0.000772375 L 63.797274 -0.000772375 L 63.797274 19.268508 L 61.598318 19.268508 Z M 63.797274 -0.000772375 L 65.99623 -0.000772375 L 65.99623 23.568426 L 63.797274 23.568426 Z M 65.99623 -0.000772375 L 68.195185 -0.000772375 L 68.195185 29.553819 L 65.99623 29.553819 Z M 68.195185 -0.000772375 L 70.398061 -0.000772375 L 70.398061 26.374936 L 68.195185 26.374936 Z M 70.398061 -0.000772375 L 72.597016 -0.000772375 L 72.597016 30.118257 L 70.398061 30.118257 Z M 72.597016 -0.000772375 L 74.795972 -0.000772375 L 74.795972 30.118257 L 72.597016 30.118257 Z M 74.795972 -0.000772375 L 76.994928 -0.000772375 L 76.994928 33.108993 L 74.795972 33.108993 Z M 76.994928 -0.000772375 L 79.197803 -0.000772375 L 79.197803 35.543131 L 76.994928 35.543131 Z M 79.197803 -0.000772375 L 81.396759 -0.000772375 L 81.396759 35.915503 L 79.197803 35.915503 Z M 81.396759 -0.000772375 L 83.595714 -0.000772375 L 83.595714 44.895552 L 81.396759 44.895552 Z M 83.595714 -0.000772375 L 85.79467 -0.000772375 L 85.79467 47.513917 L 83.595714 47.513917 Z M 85.79467 -0.000772375 L 87.997545 -0.000772375 L 87.997545 50.880945 L 85.79467 50.880945 Z M 87.997545 -0.000772375 L 90.196501 -0.000772375 L 90.196501 52.750645 L 87.997545 52.750645 Z M 90.196501 -0.000772375 L 92.395457 -0.000772375 L 92.395457 61.91884 L 90.196501 61.91884 Z M 92.395457 -0.000772375 L 94.594412 -0.000772375 L 94.594412 72.392297 L 92.395457 72.392297 Z M 94.594412 -0.000772375 L 96.797288 -0.000772375 L 96.797288 76.696136 L 94.594412 76.696136 Z M 96.797288 -0.000772375 L 98.996243 -0.000772375 L 98.996243 89.603731 L 96.797288 89.603731 Z M 98.996243 -0.000772375 L 101.195199 -0.000772375 L 101.195199 101.574516 L 98.996243 101.574516 Z M 101.195199 -0.000772375 L 103.394155 -0.000772375 L 103.394155 123.274015 L 101.195199 123.274015 Z M 103.394155 -0.000772375 L 105.59311 -0.000772375 L 105.59311 134.496136 L 103.394155 134.496136 Z M 105.59311 -0.000772375 L 107.795986 -0.000772375 L 107.795986 129.071261 L 105.59311 129.071261 Z M 107.795986 -0.000772375 L 109.994941 -0.000772375 L 109.994941 113.17293 L 107.795986 113.17293 Z M 109.994941 -0.000772375 L 112.193897 -0.000772375 L 112.193897 85.111747 L 109.994941 85.111747 Z M 112.193897 -0.000772375 L 114.392853 -0.000772375 L 114.392853 68.276605 L 112.193897 68.276605 Z M 114.392853 -0.000772375 L 116.595728 -0.000772375 L 116.595728 49.195471 L 114.392853 49.195471 Z M 116.595728 -0.000772375 L 118.794684 -0.000772375 L 118.794684 46.39288 L 116.595728 46.39288 Z M 118.794684 -0.000772375 L 120.993639 -0.000772375 L 120.993639 29.930111 L 118.794684 29.930111 Z M 120.993639 -0.000772375 L 123.192595 -0.000772375 L 123.192595 24.128944 L 120.993639 24.128944 Z M 123.192595 -0.000772375 L 125.395471 -0.000772375 L 125.395471 16.461997 L 123.192595 16.461997 Z M 125.395471 -0.000772375 L 127.594426 -0.000772375 L 127.594426 13.283115 L 125.395471 13.283115 Z M 127.594426 -0.000772375 L 129.793382 -0.000772375 L 129.793382 7.670094 L 127.594426 7.670094 Z M 129.793382 -0.000772375 L 131.992337 -0.000772375 L 131.992337 6.549058 L 129.793382 6.549058 Z M 131.992337 -0.000772375 L 134.195213 -0.000772375 L 134.195213 4.303066 L 131.992337 4.303066 Z M 134.195213 -0.000772375 L 136.394169 -0.000772375 L 136.394169 2.617592 L 134.195213 2.617592 Z M 136.394169 -0.000772375 L 138.593124 -0.000772375 L 138.593124 2.617592 L 136.394169 2.617592 Z M 138.593124 -0.000772375 L 140.79208 -0.000772375 L 140.79208 0.936038 L 138.593124 0.936038 Z M 140.79208 -0.000772375 L 142.994955 -0.000772375 L 142.994955 1.124184 L 140.79208 1.124184 Z M 142.994955 -0.000772375 L 145.193911 -0.000772375 L 145.193911 0.37552 L 142.994955 0.37552 Z M 145.193911 -0.000772375 L 147.392867 -0.000772375 L 147.392867 0.187374 L 145.193911 0.187374 Z M 147.392867 -0.000772375 L 149.591822 -0.000772375 L 149.591822 0.559746 L 147.392867 0.559746 Z M 149.591822 -0.000772375 L 151.794698 -0.000772375 L 151.794698 0.187374 L 149.591822 0.187374 Z M 151.794698 -0.000772375 L 153.993653 -0.000772375 L 153.993653 0.187374 L 151.794698 0.187374 Z M 151.794698 -0.000772375 \" transform=\"matrix(0.996567,0,0,-0.996567,37.843628,147.65548)\"/>\n<g style=\"fill:rgb(0%,0%,0%);fill-opacity:1;\">\n  <use xlink:href=\"#glyph-1637105904321168-1-7\" x=\"86.106363\" y=\"185.504092\"/>\n  <use xlink:href=\"#glyph-1637105904321168-1-8\" x=\"92.311636\" y=\"185.504092\"/>\n  <use xlink:href=\"#glyph-1637105904321168-1-9\" x=\"97.275854\" y=\"185.504092\"/>\n</g>\n<g style=\"fill:rgb(0%,0%,0%);fill-opacity:1;\">\n  <use xlink:href=\"#glyph-1637105904321168-1-7\" x=\"105.546242\" y=\"185.504092\"/>\n  <use xlink:href=\"#glyph-1637105904321168-1-10\" x=\"111.751514\" y=\"185.504092\"/>\n  <use xlink:href=\"#glyph-1637105904321168-1-11\" x=\"114.509634\" y=\"185.504092\"/>\n</g>\n<g style=\"fill:rgb(0%,0%,0%);fill-opacity:1;\">\n  <use xlink:href=\"#glyph-1637105904321168-1-12\" x=\"119.481795\" y=\"185.504092\"/>\n  <use xlink:href=\"#glyph-1637105904321168-1-13\" x=\"123.893992\" y=\"185.504092\"/>\n  <use xlink:href=\"#glyph-1637105904321168-1-10\" x=\"126.652112\" y=\"185.504092\"/>\n  <use xlink:href=\"#glyph-1637105904321168-1-14\" x=\"129.410231\" y=\"185.504092\"/>\n  <use xlink:href=\"#glyph-1637105904321168-1-8\" x=\"134.926471\" y=\"185.504092\"/>\n</g>\n<g style=\"fill:rgb(0%,0%,0%);fill-opacity:1;\">\n  <use xlink:href=\"#glyph-1637105904321168-1-8\" x=\"140.158757\" y=\"185.504092\"/>\n</g>\n<g style=\"fill:rgb(0%,0%,0%);fill-opacity:1;\">\n  <use xlink:href=\"#glyph-1637105904321168-1-15\" x=\"145.400971\" y=\"185.504092\"/>\n</g>\n</g>\n</svg>\n\n",
      "text/plain": [
       "Axis(PGFPlots.Plots.Plot[PGFPlots.Plots.Histogram(Real[6.18491045297624, 6.402203490171786, 6.415184032619948, 5.888875233261132, 6.277680075379596, 5.153874235018776, 7.0605694937341035, 5.9963999043073635, 7.467567125103322, 7.8395151014741735  …  5.0362146213103465, 7.063075661859731, 5.636071168559138, 4.337237493790486, 5.453750178771227, 5.157555016673683, 5.7960078170630105, 5.102469976858401, 5.501920983762961, 6.841162149761939], 10, false, false, \"gray, fill=gray!50, opacity = 0.5\", :default, nothing), PGFPlots.Plots.Histogram(Real[-3.200412872305481, 5.380821607597035, 1.34602169384436, -4.164266636459306, 3.0652801244654633, -3.8281625855953827, 3.271426141862925, 6.665295868017839, 6.111210343931891, 2.7658840550107158  …  1.3108996701513576, 0.9517422472942982, 5.883181213923578, -3.923002377680074, 2.2141708178438613, -0.9341023631483125, 1.2750706471141413, 1.390693392917889, 2.79604772552128, 3.296837604220716], 10, false, false, \"teal, fill=teal!50, opacity = 0.5\", :default, nothing)], nothing, \"Log Likelihood\", nothing, nothing, nothing, nothing, nothing, nothing, nothing, nothing, nothing, nothing, nothing, nothing, nothing, nothing, nothing, nothing, nothing, nothing, nothing, nothing, nothing, nothing, nothing, nothing, nothing, \"axis\")"
      ]
     },
     "execution_count": 147,
     "metadata": {},
     "output_type": "execute_result"
    }
   ],
   "source": [
    "ax = Axis()\n",
    "push!(ax, Plots.Histogram(ll_in, style=\"gray, fill=gray!50, opacity = 0.5\"))\n",
    "push!(ax, Plots.Histogram(ll_out, style=\"teal, fill=teal!50, opacity = 0.5\"))\n",
    "ax.xlabel = \"Log Likelihood\"\n",
    "ax"
   ]
  },
  {
   "cell_type": "code",
   "execution_count": 151,
   "metadata": {},
   "outputs": [],
   "source": [
    "z_c = npn.encoder(Xc)\n",
    "ll_c = logpdf(npn.flow, z_c);"
   ]
  },
  {
   "cell_type": "code",
   "execution_count": 152,
   "metadata": {},
   "outputs": [
    {
     "data": {
      "image/svg+xml": "<?xml version=\"1.0\" encoding=\"UTF-8\"?>\n<svg xmlns=\"http://www.w3.org/2000/svg\" xmlns:xlink=\"http://www.w3.org/1999/xlink\" width=\"216.254pt\" height=\"190.553pt\" viewBox=\"0 0 216.254 190.553\" version=\"1.2\">\n<defs>\n<g>\n<symbol overflow=\"visible\" id=\"glyph-1637105904321170-0-0\">\n<path style=\"stroke:none;\" d=\"\"/>\n</symbol>\n<symbol overflow=\"visible\" id=\"glyph-1637105904321170-0-1\">\n<path style=\"stroke:none;\" d=\"M 1.265625 -0.765625 L 2.3125 -1.78125 C 3.859375 -3.15625 4.453125 -3.6875 4.453125 -4.6875 C 4.453125 -5.8125 3.5625 -6.609375 2.34375 -6.609375 C 1.234375 -6.609375 0.5 -5.6875 0.5 -4.8125 C 0.5 -4.25 0.984375 -4.25 1.015625 -4.25 C 1.1875 -4.25 1.53125 -4.375 1.53125 -4.78125 C 1.53125 -5.046875 1.359375 -5.296875 1.015625 -5.296875 C 0.9375 -5.296875 0.90625 -5.296875 0.890625 -5.28125 C 1.109375 -5.9375 1.640625 -6.296875 2.21875 -6.296875 C 3.125 -6.296875 3.546875 -5.5 3.546875 -4.6875 C 3.546875 -3.890625 3.0625 -3.109375 2.515625 -2.484375 L 0.609375 -0.359375 C 0.5 -0.265625 0.5 -0.234375 0.5 0 L 4.171875 0 L 4.453125 -1.71875 L 4.203125 -1.71875 C 4.15625 -1.421875 4.09375 -0.984375 3.984375 -0.84375 C 3.921875 -0.765625 3.265625 -0.765625 3.046875 -0.765625 Z M 1.265625 -0.765625 \"/>\n</symbol>\n<symbol overflow=\"visible\" id=\"glyph-1637105904321170-0-2\">\n<path style=\"stroke:none;\" d=\"M 2.921875 -1.640625 L 2.921875 -0.78125 C 2.921875 -0.421875 2.890625 -0.3125 2.15625 -0.3125 L 1.953125 -0.3125 L 1.953125 0 C 2.359375 -0.03125 2.875 -0.03125 3.296875 -0.03125 C 3.703125 -0.03125 4.234375 -0.03125 4.640625 0 L 4.640625 -0.3125 L 4.4375 -0.3125 C 3.703125 -0.3125 3.6875 -0.421875 3.6875 -0.78125 L 3.6875 -1.640625 L 4.671875 -1.640625 L 4.671875 -1.9375 L 3.6875 -1.9375 L 3.6875 -6.453125 C 3.6875 -6.65625 3.6875 -6.71875 3.515625 -6.71875 C 3.4375 -6.71875 3.40625 -6.71875 3.328125 -6.59375 L 0.28125 -1.9375 L 0.28125 -1.640625 Z M 2.96875 -1.9375 L 0.5625 -1.9375 L 2.96875 -5.640625 Z M 2.96875 -1.9375 \"/>\n</symbol>\n<symbol overflow=\"visible\" id=\"glyph-1637105904321170-0-3\">\n<path style=\"stroke:none;\" d=\"M 1.3125 -3.25 L 1.3125 -3.5 C 1.3125 -6 2.546875 -6.359375 3.046875 -6.359375 C 3.28125 -6.359375 3.703125 -6.296875 3.921875 -5.96875 C 3.765625 -5.96875 3.375 -5.96875 3.375 -5.515625 C 3.375 -5.203125 3.609375 -5.0625 3.828125 -5.0625 C 3.984375 -5.0625 4.28125 -5.15625 4.28125 -5.53125 C 4.28125 -6.125 3.84375 -6.609375 3.03125 -6.609375 C 1.75 -6.609375 0.421875 -5.328125 0.421875 -3.140625 C 0.421875 -0.484375 1.5625 0.21875 2.484375 0.21875 C 3.59375 0.21875 4.53125 -0.71875 4.53125 -2.03125 C 4.53125 -3.28125 3.65625 -4.234375 2.546875 -4.234375 C 1.875 -4.234375 1.515625 -3.734375 1.3125 -3.25 Z M 2.484375 -0.0625 C 1.859375 -0.0625 1.5625 -0.65625 1.515625 -0.796875 C 1.328125 -1.265625 1.328125 -2.0625 1.328125 -2.25 C 1.328125 -3.015625 1.640625 -4.015625 2.546875 -4.015625 C 2.703125 -4.015625 3.15625 -4.015625 3.46875 -3.390625 C 3.640625 -3.03125 3.640625 -2.515625 3.640625 -2.03125 C 3.640625 -1.5625 3.640625 -1.0625 3.46875 -0.703125 C 3.171875 -0.109375 2.71875 -0.0625 2.484375 -0.0625 Z M 2.484375 -0.0625 \"/>\n</symbol>\n<symbol overflow=\"visible\" id=\"glyph-1637105904321170-0-4\">\n<path style=\"stroke:none;\" d=\"M 1.625 -4.53125 C 1.15625 -4.828125 1.125 -5.171875 1.125 -5.34375 C 1.125 -5.9375 1.765625 -6.359375 2.46875 -6.359375 C 3.1875 -6.359375 3.828125 -5.84375 3.828125 -5.125 C 3.828125 -4.5625 3.4375 -4.09375 2.84375 -3.734375 Z M 3.0625 -3.59375 C 3.78125 -3.953125 4.265625 -4.46875 4.265625 -5.125 C 4.265625 -6.046875 3.390625 -6.609375 2.484375 -6.609375 C 1.484375 -6.609375 0.6875 -5.875 0.6875 -4.953125 C 0.6875 -4.765625 0.703125 -4.328125 1.125 -3.859375 C 1.234375 -3.734375 1.59375 -3.5 1.84375 -3.328125 C 1.265625 -3.03125 0.421875 -2.484375 0.421875 -1.5 C 0.421875 -0.453125 1.421875 0.21875 2.46875 0.21875 C 3.59375 0.21875 4.53125 -0.609375 4.53125 -1.671875 C 4.53125 -2.03125 4.421875 -2.46875 4.046875 -2.890625 C 3.859375 -3.09375 3.703125 -3.1875 3.0625 -3.59375 Z M 2.078125 -3.171875 L 3.296875 -2.40625 C 3.578125 -2.21875 4.03125 -1.921875 4.03125 -1.3125 C 4.03125 -0.578125 3.296875 -0.0625 2.484375 -0.0625 C 1.625 -0.0625 0.90625 -0.671875 0.90625 -1.5 C 0.90625 -2.078125 1.234375 -2.703125 2.078125 -3.171875 Z M 2.078125 -3.171875 \"/>\n</symbol>\n<symbol overflow=\"visible\" id=\"glyph-1637105904321170-0-5\">\n<path style=\"stroke:none;\" d=\"M 2.921875 -6.34375 C 2.921875 -6.59375 2.921875 -6.609375 2.6875 -6.609375 C 2.078125 -5.96875 1.203125 -5.96875 0.890625 -5.96875 L 0.890625 -5.671875 C 1.078125 -5.671875 1.671875 -5.671875 2.1875 -5.921875 L 2.1875 -0.78125 C 2.1875 -0.421875 2.15625 -0.3125 1.265625 -0.3125 L 0.9375 -0.3125 L 0.9375 0 C 1.296875 -0.03125 2.15625 -0.03125 2.546875 -0.03125 C 2.953125 -0.03125 3.8125 -0.03125 4.15625 0 L 4.15625 -0.3125 L 3.84375 -0.3125 C 2.953125 -0.3125 2.921875 -0.421875 2.921875 -0.78125 Z M 2.921875 -6.34375 \"/>\n</symbol>\n<symbol overflow=\"visible\" id=\"glyph-1637105904321170-0-6\">\n<path style=\"stroke:none;\" d=\"M 4.5625 -3.171875 C 4.5625 -3.96875 4.515625 -4.765625 4.171875 -5.5 C 3.703125 -6.453125 2.890625 -6.609375 2.484375 -6.609375 C 1.890625 -6.609375 1.15625 -6.34375 0.75 -5.421875 C 0.4375 -4.75 0.390625 -3.96875 0.390625 -3.171875 C 0.390625 -2.4375 0.421875 -1.53125 0.828125 -0.78125 C 1.265625 0.015625 1.984375 0.21875 2.46875 0.21875 C 3 0.21875 3.765625 0.015625 4.203125 -0.9375 C 4.515625 -1.625 4.5625 -2.390625 4.5625 -3.171875 Z M 2.46875 0 C 2.078125 0 1.5 -0.25 1.3125 -1.203125 C 1.203125 -1.796875 1.203125 -2.703125 1.203125 -3.296875 C 1.203125 -3.921875 1.203125 -4.578125 1.296875 -5.125 C 1.484375 -6.296875 2.21875 -6.390625 2.46875 -6.390625 C 2.796875 -6.390625 3.453125 -6.21875 3.640625 -5.234375 C 3.734375 -4.671875 3.734375 -3.921875 3.734375 -3.296875 C 3.734375 -2.546875 3.734375 -1.875 3.625 -1.234375 C 3.484375 -0.296875 2.921875 0 2.46875 0 Z M 2.46875 0 \"/>\n</symbol>\n<symbol overflow=\"visible\" id=\"glyph-1637105904321170-0-7\">\n<path style=\"stroke:none;\" d=\"M 5.78125 -2.5625 L 5.53125 -2.5625 C 5.421875 -1.546875 5.28125 -0.3125 3.53125 -0.3125 L 2.71875 -0.3125 C 2.25 -0.3125 2.234375 -0.375 2.234375 -0.703125 L 2.234375 -6 C 2.234375 -6.328125 2.234375 -6.46875 3.171875 -6.46875 L 3.5 -6.46875 L 3.5 -6.78125 C 3.140625 -6.75 2.25 -6.75 1.828125 -6.75 C 1.453125 -6.75 0.671875 -6.75 0.328125 -6.78125 L 0.328125 -6.46875 L 0.5625 -6.46875 C 1.328125 -6.46875 1.34375 -6.359375 1.34375 -6 L 1.34375 -0.78125 C 1.34375 -0.421875 1.328125 -0.3125 0.5625 -0.3125 L 0.328125 -0.3125 L 0.328125 0 L 5.5 0 Z M 5.78125 -2.5625 \"/>\n</symbol>\n<symbol overflow=\"visible\" id=\"glyph-1637105904321170-0-8\">\n<path style=\"stroke:none;\" d=\"M 4.671875 -2.125 C 4.671875 -3.390625 3.6875 -4.4375 2.484375 -4.4375 C 1.234375 -4.4375 0.28125 -3.359375 0.28125 -2.125 C 0.28125 -0.84375 1.3125 0.109375 2.46875 0.109375 C 3.671875 0.109375 4.671875 -0.859375 4.671875 -2.125 Z M 2.484375 -0.140625 C 2.046875 -0.140625 1.625 -0.34375 1.34375 -0.796875 C 1.09375 -1.234375 1.09375 -1.84375 1.09375 -2.203125 C 1.09375 -2.59375 1.09375 -3.125 1.34375 -3.5625 C 1.609375 -4.015625 2.078125 -4.234375 2.46875 -4.234375 C 2.90625 -4.234375 3.328125 -4.015625 3.59375 -3.578125 C 3.84375 -3.15625 3.84375 -2.578125 3.84375 -2.203125 C 3.84375 -1.84375 3.84375 -1.3125 3.625 -0.875 C 3.40625 -0.421875 2.96875 -0.140625 2.484375 -0.140625 Z M 2.484375 -0.140625 \"/>\n</symbol>\n<symbol overflow=\"visible\" id=\"glyph-1637105904321170-0-9\">\n<path style=\"stroke:none;\" d=\"M 2.203125 -1.703125 C 1.34375 -1.703125 1.34375 -2.703125 1.34375 -2.921875 C 1.34375 -3.1875 1.34375 -3.515625 1.5 -3.765625 C 1.578125 -3.875 1.8125 -4.15625 2.203125 -4.15625 C 3.0625 -4.15625 3.0625 -3.171875 3.0625 -2.9375 C 3.0625 -2.671875 3.0625 -2.34375 2.90625 -2.109375 C 2.828125 -1.984375 2.59375 -1.703125 2.203125 -1.703125 Z M 1.046875 -1.3125 C 1.046875 -1.359375 1.046875 -1.59375 1.21875 -1.78125 C 1.609375 -1.515625 2.015625 -1.484375 2.203125 -1.484375 C 3.125 -1.484375 3.8125 -2.15625 3.8125 -2.921875 C 3.8125 -3.296875 3.65625 -3.65625 3.40625 -3.890625 C 3.765625 -4.234375 4.125 -4.28125 4.296875 -4.28125 C 4.3125 -4.28125 4.359375 -4.28125 4.390625 -4.265625 C 4.28125 -4.234375 4.234375 -4.125 4.234375 -4 C 4.234375 -3.828125 4.359375 -3.703125 4.53125 -3.703125 C 4.625 -3.703125 4.8125 -3.78125 4.8125 -4.015625 C 4.8125 -4.171875 4.6875 -4.5 4.3125 -4.5 C 4.109375 -4.5 3.671875 -4.4375 3.25 -4.03125 C 2.84375 -4.359375 2.421875 -4.390625 2.203125 -4.390625 C 1.28125 -4.390625 0.59375 -3.703125 0.59375 -2.9375 C 0.59375 -2.5 0.8125 -2.125 1.0625 -1.921875 C 0.9375 -1.765625 0.75 -1.4375 0.75 -1.09375 C 0.75 -0.78125 0.890625 -0.40625 1.1875 -0.203125 C 0.59375 -0.046875 0.28125 0.390625 0.28125 0.78125 C 0.28125 1.5 1.265625 2.046875 2.46875 2.046875 C 3.640625 2.046875 4.671875 1.53125 4.671875 0.765625 C 4.671875 0.421875 4.53125 -0.09375 4.03125 -0.359375 C 3.5 -0.640625 2.921875 -0.640625 2.328125 -0.640625 C 2.078125 -0.640625 1.640625 -0.640625 1.578125 -0.65625 C 1.265625 -0.6875 1.046875 -1 1.046875 -1.3125 Z M 2.484375 1.8125 C 1.484375 1.8125 0.796875 1.3125 0.796875 0.78125 C 0.796875 0.328125 1.171875 -0.046875 1.609375 -0.0625 L 2.1875 -0.0625 C 3.046875 -0.0625 4.15625 -0.0625 4.15625 0.78125 C 4.15625 1.3125 3.453125 1.8125 2.484375 1.8125 Z M 2.484375 1.8125 \"/>\n</symbol>\n<symbol overflow=\"visible\" id=\"glyph-1637105904321170-0-10\">\n<path style=\"stroke:none;\" d=\"M 1.75 -4.390625 L 0.359375 -4.28125 L 0.359375 -3.96875 C 1.015625 -3.96875 1.09375 -3.90625 1.09375 -3.421875 L 1.09375 -0.75 C 1.09375 -0.3125 0.984375 -0.3125 0.328125 -0.3125 L 0.328125 0 C 0.640625 -0.015625 1.1875 -0.03125 1.421875 -0.03125 C 1.765625 -0.03125 2.109375 -0.015625 2.453125 0 L 2.453125 -0.3125 C 1.796875 -0.3125 1.75 -0.359375 1.75 -0.75 Z M 1.796875 -6.109375 C 1.796875 -6.421875 1.546875 -6.640625 1.265625 -6.640625 C 0.96875 -6.640625 0.75 -6.375 0.75 -6.109375 C 0.75 -5.84375 0.96875 -5.59375 1.265625 -5.59375 C 1.546875 -5.59375 1.796875 -5.796875 1.796875 -6.109375 Z M 1.796875 -6.109375 \"/>\n</symbol>\n<symbol overflow=\"visible\" id=\"glyph-1637105904321170-0-11\">\n<path style=\"stroke:none;\" d=\"M 1.046875 -0.75 C 1.046875 -0.3125 0.9375 -0.3125 0.28125 -0.3125 L 0.28125 0 C 0.609375 -0.015625 1.078125 -0.03125 1.359375 -0.03125 C 1.65625 -0.03125 2.046875 -0.015625 2.453125 0 L 2.453125 -0.3125 C 1.78125 -0.3125 1.671875 -0.3125 1.671875 -0.75 L 1.671875 -1.78125 L 2.3125 -2.328125 C 3.078125 -1.265625 3.5 -0.71875 3.5 -0.53125 C 3.5 -0.34375 3.328125 -0.3125 3.140625 -0.3125 L 3.140625 0 C 3.40625 -0.015625 4 -0.03125 4.203125 -0.03125 C 4.5 -0.03125 4.78125 -0.015625 5.0625 0 L 5.0625 -0.3125 C 4.703125 -0.3125 4.484375 -0.3125 4.109375 -0.828125 L 2.84375 -2.609375 C 2.84375 -2.625 2.78125 -2.6875 2.78125 -2.71875 C 2.78125 -2.765625 3.5 -3.359375 3.59375 -3.4375 C 4.21875 -3.9375 4.640625 -3.953125 4.84375 -3.96875 L 4.84375 -4.28125 C 4.546875 -4.25 4.421875 -4.25 4.140625 -4.25 C 3.796875 -4.25 3.171875 -4.265625 3.03125 -4.28125 L 3.03125 -3.96875 C 3.21875 -3.953125 3.328125 -3.84375 3.328125 -3.71875 C 3.328125 -3.515625 3.1875 -3.40625 3.109375 -3.328125 L 1.703125 -2.125 L 1.703125 -6.890625 L 0.28125 -6.78125 L 0.28125 -6.46875 C 0.96875 -6.46875 1.046875 -6.40625 1.046875 -5.90625 Z M 1.046875 -0.75 \"/>\n</symbol>\n<symbol overflow=\"visible\" id=\"glyph-1637105904321170-0-12\">\n<path style=\"stroke:none;\" d=\"M 1.109375 -2.5 C 1.171875 -3.984375 2 -4.234375 2.34375 -4.234375 C 3.359375 -4.234375 3.46875 -2.890625 3.46875 -2.5 Z M 1.09375 -2.296875 L 3.875 -2.296875 C 4.09375 -2.296875 4.125 -2.296875 4.125 -2.5 C 4.125 -3.484375 3.578125 -4.4375 2.34375 -4.4375 C 1.1875 -4.4375 0.28125 -3.421875 0.28125 -2.1875 C 0.28125 -0.859375 1.3125 0.109375 2.453125 0.109375 C 3.671875 0.109375 4.125 -0.984375 4.125 -1.1875 C 4.125 -1.28125 4.03125 -1.296875 3.984375 -1.296875 C 3.90625 -1.296875 3.875 -1.234375 3.859375 -1.15625 C 3.515625 -0.140625 2.625 -0.140625 2.515625 -0.140625 C 2.03125 -0.140625 1.625 -0.4375 1.40625 -0.796875 C 1.09375 -1.28125 1.09375 -1.9375 1.09375 -2.296875 Z M 1.09375 -2.296875 \"/>\n</symbol>\n<symbol overflow=\"visible\" id=\"glyph-1637105904321170-0-13\">\n<path style=\"stroke:none;\" d=\"M 1.75 -6.890625 L 0.328125 -6.78125 L 0.328125 -6.46875 C 1.015625 -6.46875 1.09375 -6.40625 1.09375 -5.90625 L 1.09375 -0.75 C 1.09375 -0.3125 0.984375 -0.3125 0.328125 -0.3125 L 0.328125 0 C 0.65625 -0.015625 1.1875 -0.03125 1.421875 -0.03125 C 1.671875 -0.03125 2.15625 -0.015625 2.53125 0 L 2.53125 -0.3125 C 1.859375 -0.3125 1.75 -0.3125 1.75 -0.75 Z M 1.75 -6.890625 \"/>\n</symbol>\n<symbol overflow=\"visible\" id=\"glyph-1637105904321170-0-14\">\n<path style=\"stroke:none;\" d=\"M 1.09375 -0.75 C 1.09375 -0.3125 0.984375 -0.3125 0.3125 -0.3125 L 0.3125 0 C 0.671875 -0.015625 1.171875 -0.03125 1.4375 -0.03125 C 1.703125 -0.03125 2.21875 -0.015625 2.546875 0 L 2.546875 -0.3125 C 1.890625 -0.3125 1.78125 -0.3125 1.78125 -0.75 L 1.78125 -2.578125 C 1.78125 -3.609375 2.484375 -4.171875 3.109375 -4.171875 C 3.734375 -4.171875 3.84375 -3.625 3.84375 -3.0625 L 3.84375 -0.75 C 3.84375 -0.3125 3.734375 -0.3125 3.078125 -0.3125 L 3.078125 0 C 3.421875 -0.015625 3.921875 -0.03125 4.203125 -0.03125 C 4.453125 -0.03125 4.96875 -0.015625 5.3125 0 L 5.3125 -0.3125 C 4.796875 -0.3125 4.546875 -0.3125 4.53125 -0.609375 L 4.53125 -2.5 C 4.53125 -3.359375 4.53125 -3.65625 4.234375 -4.015625 C 4.09375 -4.1875 3.765625 -4.390625 3.1875 -4.390625 C 2.34375 -4.390625 1.921875 -3.796875 1.75 -3.40625 L 1.75 -6.890625 L 0.3125 -6.78125 L 0.3125 -6.46875 C 1.015625 -6.46875 1.09375 -6.40625 1.09375 -5.90625 Z M 1.09375 -0.75 \"/>\n</symbol>\n<symbol overflow=\"visible\" id=\"glyph-1637105904321170-0-15\">\n<path style=\"stroke:none;\" d=\"M 3.765625 -0.546875 L 3.765625 0.109375 L 5.234375 0 L 5.234375 -0.3125 C 4.53125 -0.3125 4.453125 -0.375 4.453125 -0.859375 L 4.453125 -6.890625 L 3.03125 -6.78125 L 3.03125 -6.46875 C 3.71875 -6.46875 3.796875 -6.40625 3.796875 -5.90625 L 3.796875 -3.765625 C 3.515625 -4.125 3.078125 -4.390625 2.546875 -4.390625 C 1.375 -4.390625 0.34375 -3.40625 0.34375 -2.140625 C 0.34375 -0.875 1.3125 0.109375 2.4375 0.109375 C 3.078125 0.109375 3.515625 -0.234375 3.765625 -0.546875 Z M 3.765625 -3.203125 L 3.765625 -1.171875 C 3.765625 -0.984375 3.765625 -0.96875 3.65625 -0.796875 C 3.359375 -0.328125 2.921875 -0.109375 2.484375 -0.109375 C 2.046875 -0.109375 1.6875 -0.359375 1.453125 -0.75 C 1.1875 -1.15625 1.15625 -1.71875 1.15625 -2.125 C 1.15625 -2.484375 1.1875 -3.078125 1.46875 -3.53125 C 1.671875 -3.84375 2.046875 -4.171875 2.59375 -4.171875 C 2.9375 -4.171875 3.359375 -4.015625 3.65625 -3.578125 C 3.765625 -3.40625 3.765625 -3.390625 3.765625 -3.203125 Z M 3.765625 -3.203125 \"/>\n</symbol>\n</g>\n<clipPath id=\"clip-1637105904321170-1\">\n  <path d=\"M 37 0.105469 L 204 0.105469 L 204 162 L 37 162 Z M 37 0.105469 \"/>\n</clipPath>\n<clipPath id=\"clip-1637105904321170-2\">\n  <path d=\"M 21 48 L 215.511719 48 L 215.511719 149 L 21 149 Z M 21 48 \"/>\n</clipPath>\n<clipPath id=\"clip-1637105904321170-3\">\n  <path d=\"M 21 0.105469 L 215.511719 0.105469 L 215.511719 162 L 21 162 Z M 21 0.105469 \"/>\n</clipPath>\n</defs>\n<g id=\"surface1\">\n<g clip-path=\"url(#clip-1637105904321170-1)\" clip-rule=\"nonzero\">\n<path style=\"fill:none;stroke-width:0.19925;stroke-linecap:butt;stroke-linejoin:miter;stroke:rgb(50%,50%,50%);stroke-opacity:1;stroke-miterlimit:10;\" d=\"M 0.153167 -13.449253 L 0.153167 -9.200271 M 27.865624 -13.449253 L 27.865624 -9.200271 M 55.578081 -13.449253 L 55.578081 -9.200271 M 83.290538 -13.449253 L 83.290538 -9.200271 M 111.002995 -13.449253 L 111.002995 -9.200271 M 138.715452 -13.449253 L 138.715452 -9.200271 M 166.427909 -13.449253 L 166.427909 -9.200271 M 0.153167 147.949351 L 0.153167 143.69645 M 27.865624 147.949351 L 27.865624 143.69645 M 55.578081 147.949351 L 55.578081 143.69645 M 83.290538 147.949351 L 83.290538 143.69645 M 111.002995 147.949351 L 111.002995 143.69645 M 138.715452 147.949351 L 138.715452 143.69645 M 166.427909 147.949351 L 166.427909 143.69645 \" transform=\"matrix(0.996562,0,0,-0.996562,37.843453,147.741514)\"/>\n</g>\n<g clip-path=\"url(#clip-1637105904321170-2)\" clip-rule=\"nonzero\">\n<path style=\"fill:none;stroke-width:0.19925;stroke-linecap:butt;stroke-linejoin:miter;stroke:rgb(50%,50%,50%);stroke-opacity:1;stroke-miterlimit:10;\" d=\"M -16.192087 -0.251538 L -11.939185 -0.251538 M -16.192087 49.748476 L -11.939185 49.748476 M -16.192087 99.748491 L -11.939185 99.748491 M 178.081252 -0.251538 L 173.82835 -0.251538 M 178.081252 49.748476 L 173.82835 49.748476 M 178.081252 99.748491 L 173.82835 99.748491 \" transform=\"matrix(0.996562,0,0,-0.996562,37.843453,147.741514)\"/>\n</g>\n<g clip-path=\"url(#clip-1637105904321170-3)\" clip-rule=\"nonzero\">\n<path style=\"fill:none;stroke-width:0.3985;stroke-linecap:butt;stroke-linejoin:miter;stroke:rgb(0%,0%,0%);stroke-opacity:1;stroke-miterlimit:10;\" d=\"M -16.192087 -13.449253 L -16.192087 147.949351 L 178.081252 147.949351 L 178.081252 -13.449253 Z M -16.192087 -13.449253 \" transform=\"matrix(0.996562,0,0,-0.996562,37.843453,147.741514)\"/>\n</g>\n<g style=\"fill:rgb(0%,0%,0%);fill-opacity:1;\">\n  <use xlink:href=\"#glyph-1637105904321170-0-1\" x=\"35.514488\" y=\"171.051104\"/>\n</g>\n<g style=\"fill:rgb(0%,0%,0%);fill-opacity:1;\">\n  <use xlink:href=\"#glyph-1637105904321170-0-2\" x=\"63.13122\" y=\"171.051104\"/>\n</g>\n<g style=\"fill:rgb(0%,0%,0%);fill-opacity:1;\">\n  <use xlink:href=\"#glyph-1637105904321170-0-3\" x=\"90.747952\" y=\"171.051104\"/>\n</g>\n<g style=\"fill:rgb(0%,0%,0%);fill-opacity:1;\">\n  <use xlink:href=\"#glyph-1637105904321170-0-4\" x=\"118.364684\" y=\"171.051104\"/>\n</g>\n<g style=\"fill:rgb(0%,0%,0%);fill-opacity:1;\">\n  <use xlink:href=\"#glyph-1637105904321170-0-5\" x=\"143.498979\" y=\"171.051104\"/>\n  <use xlink:href=\"#glyph-1637105904321170-0-6\" x=\"148.463174\" y=\"171.051104\"/>\n</g>\n<g style=\"fill:rgb(0%,0%,0%);fill-opacity:1;\">\n  <use xlink:href=\"#glyph-1637105904321170-0-5\" x=\"171.115711\" y=\"171.051104\"/>\n  <use xlink:href=\"#glyph-1637105904321170-0-1\" x=\"176.079906\" y=\"171.051104\"/>\n</g>\n<g style=\"fill:rgb(0%,0%,0%);fill-opacity:1;\">\n  <use xlink:href=\"#glyph-1637105904321170-0-5\" x=\"198.732443\" y=\"171.051104\"/>\n  <use xlink:href=\"#glyph-1637105904321170-0-2\" x=\"203.696638\" y=\"171.051104\"/>\n</g>\n<g style=\"fill:rgb(0%,0%,0%);fill-opacity:1;\">\n  <use xlink:href=\"#glyph-1637105904321170-0-6\" x=\"13.237336\" y=\"151.189619\"/>\n</g>\n<g style=\"fill:rgb(0%,0%,0%);fill-opacity:1;\">\n  <use xlink:href=\"#glyph-1637105904321170-0-1\" x=\"3.309583\" y=\"101.362505\"/>\n  <use xlink:href=\"#glyph-1637105904321170-0-6\" x=\"8.273778\" y=\"101.362505\"/>\n  <use xlink:href=\"#glyph-1637105904321170-0-6\" x=\"13.237974\" y=\"101.362505\"/>\n</g>\n<g style=\"fill:rgb(0%,0%,0%);fill-opacity:1;\">\n  <use xlink:href=\"#glyph-1637105904321170-0-2\" x=\"3.309583\" y=\"51.536388\"/>\n  <use xlink:href=\"#glyph-1637105904321170-0-6\" x=\"8.273778\" y=\"51.536388\"/>\n  <use xlink:href=\"#glyph-1637105904321170-0-6\" x=\"13.237974\" y=\"51.536388\"/>\n</g>\n<path style=\"fill-rule:nonzero;fill:rgb(75%,75%,75%);fill-opacity:0.5;stroke-width:0.3985;stroke-linecap:butt;stroke-linejoin:miter;stroke:rgb(50%,50%,50%);stroke-opacity:0.5;stroke-miterlimit:10;\" d=\"M 5.362482 -0.251538 L 8.764803 -0.251538 L 8.764803 -0.000675611 L 5.362482 -0.000675611 Z M 8.764803 -0.251538 L 12.167125 -0.251538 L 12.167125 -0.000675611 L 8.764803 -0.000675611 Z M 12.167125 -0.251538 L 15.569446 -0.251538 L 15.569446 0.998854 L 12.167125 0.998854 Z M 15.569446 -0.251538 L 18.971767 -0.251538 L 18.971767 2.249247 L 15.569446 2.249247 Z M 18.971767 -0.251538 L 22.378009 -0.251538 L 22.378009 5.000894 L 18.971767 5.000894 Z M 22.378009 -0.251538 L 25.78033 -0.251538 L 25.78033 15.000113 L 22.378009 15.000113 Z M 25.78033 -0.251538 L 29.182652 -0.251538 L 29.182652 21.499017 L 25.78033 21.499017 Z M 29.182652 -0.251538 L 32.584973 -0.251538 L 32.584973 34.998551 L 29.182652 34.998551 Z M 32.584973 -0.251538 L 35.987295 -0.251538 L 35.987295 44.499964 L 32.584973 44.499964 Z M 35.987295 -0.251538 L 39.389616 -0.251538 L 39.389616 82.999505 L 35.987295 82.999505 Z M 39.389616 -0.251538 L 42.791937 -0.251538 L 42.791937 100.497158 L 39.389616 100.497158 Z M 42.791937 -0.251538 L 46.194259 -0.251538 L 46.194259 122.749438 L 42.791937 122.749438 Z M 46.194259 -0.251538 L 49.6005 -0.251538 L 49.6005 127.747088 L 46.194259 127.747088 Z M 49.6005 -0.251538 L 53.002822 -0.251538 L 53.002822 99.748491 L 49.6005 99.748491 Z M 53.002822 -0.251538 L 56.405143 -0.251538 L 56.405143 109.998572 L 53.002822 109.998572 Z M 56.405143 -0.251538 L 59.807464 -0.251538 L 59.807464 114.749279 L 56.405143 114.749279 Z M 59.807464 -0.251538 L 63.209786 -0.251538 L 63.209786 118.998261 L 59.807464 118.998261 Z M 63.209786 -0.251538 L 66.612107 -0.251538 L 66.612107 124.999361 L 63.209786 124.999361 Z M 66.612107 -0.251538 L 70.014429 -0.251538 L 70.014429 122.498576 L 66.612107 122.498576 Z M 70.014429 -0.251538 L 73.42067 -0.251538 L 73.42067 134.496855 L 70.014429 134.496855 Z M 73.42067 -0.251538 L 76.822991 -0.251538 L 76.822991 114.498417 L 73.42067 114.498417 Z M 76.822991 -0.251538 L 80.225313 -0.251538 L 80.225313 115.748809 L 76.822991 115.748809 Z M 80.225313 -0.251538 L 83.627634 -0.251538 L 83.627634 117.497007 L 80.225313 117.497007 Z M 83.627634 -0.251538 L 87.029956 -0.251538 L 87.029956 90.000134 L 83.627634 90.000134 Z M 87.029956 -0.251538 L 90.432277 -0.251538 L 90.432277 80.49872 L 87.029956 80.49872 Z M 90.432277 -0.251538 L 93.834599 -0.251538 L 93.834599 74.999346 L 90.432277 74.999346 Z M 93.834599 -0.251538 L 97.23692 -0.251538 L 97.23692 65.24707 L 93.834599 65.24707 Z M 97.24084 -0.251538 L 100.643161 -0.251538 L 100.643161 70.997307 L 97.24084 70.997307 Z M 100.643161 -0.251538 L 104.045483 -0.251538 L 104.045483 59.747695 L 100.643161 59.747695 Z M 104.045483 -0.251538 L 107.447804 -0.251538 L 107.447804 51.747536 L 104.045483 51.747536 Z M 107.447804 -0.251538 L 110.850126 -0.251538 L 110.850126 49.250671 L 107.447804 49.250671 Z M 110.850126 -0.251538 L 114.252447 -0.251538 L 114.252447 46.499024 L 110.850126 46.499024 Z M 114.252447 -0.251538 L 117.654769 -0.251538 L 117.654769 36.248943 L 114.252447 36.248943 Z M 117.654769 -0.251538 L 121.05709 -0.251538 L 121.05709 29.001371 L 117.654769 29.001371 Z M 121.05709 -0.251538 L 124.463331 -0.251538 L 124.463331 23.748939 L 121.05709 23.748939 Z M 124.463331 -0.251538 L 127.865653 -0.251538 L 127.865653 23.251134 L 124.463331 23.251134 Z M 127.865653 -0.251538 L 131.267974 -0.251538 L 131.267974 13.247996 L 127.865653 13.247996 Z M 131.267974 -0.251538 L 134.670296 -0.251538 L 134.670296 12.75019 L 131.267974 12.75019 Z M 134.670296 -0.251538 L 138.072617 -0.251538 L 138.072617 8.748151 L 134.670296 8.748151 Z M 138.072617 -0.251538 L 141.474939 -0.251538 L 141.474939 7.250816 L 138.072617 7.250816 Z M 141.474939 -0.251538 L 144.87726 -0.251538 L 144.87726 5.749561 L 141.474939 5.749561 Z M 144.87726 -0.251538 L 148.283501 -0.251538 L 148.283501 4.248306 L 144.87726 4.248306 Z M 148.283501 -0.251538 L 151.685823 -0.251538 L 151.685823 1.249717 L 148.283501 1.249717 Z M 151.685823 -0.251538 L 155.088144 -0.251538 L 155.088144 1.249717 L 151.685823 1.249717 Z M 155.088144 -0.251538 L 158.490466 -0.251538 L 158.490466 0.501049 L 155.088144 0.501049 Z M 158.490466 -0.251538 L 161.892787 -0.251538 L 161.892787 0.751912 L 158.490466 0.751912 Z M 158.490466 -0.251538 \" transform=\"matrix(0.996562,0,0,-0.996562,37.843453,147.741514)\"/>\n<path style=\"fill-rule:nonzero;fill:rgb(50%,75%,75%);fill-opacity:0.5;stroke-width:0.3985;stroke-linecap:butt;stroke-linejoin:miter;stroke:rgb(0%,50%,50%);stroke-opacity:0.5;stroke-miterlimit:10;\" d=\"M 0.000297585 -0.251538 L 4.025855 -0.251538 L 4.025855 -0.000675611 L 0.000297585 -0.000675611 Z M 4.025855 -0.251538 L 8.051413 -0.251538 L 8.051413 0.250187 L 4.025855 0.250187 Z M 8.051413 -0.251538 L 12.076971 -0.251538 L 12.076971 -0.000675611 L 8.051413 -0.000675611 Z M 12.076971 -0.251538 L 16.102529 -0.251538 L 16.102529 1.249717 L 12.076971 1.249717 Z M 16.102529 -0.251538 L 20.128086 -0.251538 L 20.128086 2.249247 L 16.102529 2.249247 Z M 20.128086 -0.251538 L 24.153644 -0.251538 L 24.153644 2.750971 L 20.128086 2.750971 Z M 24.153644 -0.251538 L 28.179202 -0.251538 L 28.179202 7.250816 L 24.153644 7.250816 Z M 28.179202 -0.251538 L 32.20476 -0.251538 L 32.20476 14.251445 L 28.179202 14.251445 Z M 32.20476 -0.251538 L 36.230317 -0.251538 L 36.230317 10.500268 L 32.20476 10.500268 Z M 36.230317 -0.251538 L 40.255875 -0.251538 L 40.255875 15.74878 L 36.230317 15.74878 Z M 40.255875 -0.251538 L 44.285353 -0.251538 L 44.285353 23.251134 L 40.255875 23.251134 Z M 44.285353 -0.251538 L 48.31091 -0.251538 L 48.31091 33.250353 L 44.285353 33.250353 Z M 48.31091 -0.251538 L 52.336468 -0.251538 L 52.336468 51.747536 L 48.31091 51.747536 Z M 52.336468 -0.251538 L 56.362026 -0.251538 L 56.362026 52.500124 L 52.336468 52.500124 Z M 56.362026 -0.251538 L 60.387584 -0.251538 L 60.387584 73.247229 L 56.362026 73.247229 Z M 60.387584 -0.251538 L 64.413142 -0.251538 L 64.413142 62.750205 L 60.387584 62.750205 Z M 64.413142 -0.251538 L 68.438699 -0.251538 L 68.438699 60.24942 L 64.413142 60.24942 Z M 68.438699 -0.251538 L 72.464257 -0.251538 L 72.464257 60.500283 L 68.438699 60.500283 Z M 72.464257 -0.251538 L 76.489815 -0.251538 L 76.489815 71.499031 L 72.464257 71.499031 Z M 76.489815 -0.251538 L 80.515373 -0.251538 L 80.515373 79.750053 L 76.489815 79.750053 Z M 80.515373 -0.251538 L 84.54093 -0.251538 L 84.54093 82.246918 L 80.515373 82.246918 Z M 84.54093 -0.251538 L 88.566488 -0.251538 L 88.566488 80.749583 L 84.54093 80.749583 Z M 88.566488 -0.251538 L 92.592046 -0.251538 L 92.592046 74.999346 L 88.566488 74.999346 Z M 92.592046 -0.251538 L 96.617604 -0.251538 L 96.617604 80.247858 L 92.592046 80.247858 Z M 96.617604 -0.251538 L 100.643161 -0.251538 L 100.643161 66.250519 L 96.617604 66.250519 Z M 100.643161 -0.251538 L 104.668719 -0.251538 L 104.668719 52.500124 L 100.643161 52.500124 Z M 104.668719 -0.251538 L 108.694277 -0.251538 L 108.694277 44.750827 L 104.668719 44.750827 Z M 108.694277 -0.251538 L 112.719835 -0.251538 L 112.719835 31.000431 L 108.694277 31.000431 Z M 112.719835 -0.251538 L 116.745392 -0.251538 L 116.745392 29.750039 L 112.719835 29.750039 Z M 116.745392 -0.251538 L 120.77487 -0.251538 L 120.77487 19.249095 L 116.745392 19.249095 Z M 120.77487 -0.251538 L 124.800428 -0.251538 L 124.800428 20.75035 L 120.77487 20.75035 Z M 124.800428 -0.251538 L 128.825985 -0.251538 L 128.825985 11.499798 L 124.800428 11.499798 Z M 128.825985 -0.251538 L 132.851543 -0.251538 L 132.851543 8.999013 L 128.825985 8.999013 Z M 132.851543 -0.251538 L 136.877101 -0.251538 L 136.877101 6.999954 L 132.851543 6.999954 Z M 136.877101 -0.251538 L 140.902659 -0.251538 L 140.902659 4.248306 L 136.877101 4.248306 Z M 140.902659 -0.251538 L 144.928217 -0.251538 L 144.928217 2.500109 L 140.902659 2.500109 Z M 144.928217 -0.251538 L 148.953774 -0.251538 L 148.953774 0.998854 L 144.928217 0.998854 Z M 144.928217 -0.251538 \" transform=\"matrix(0.996562,0,0,-0.996562,37.843453,147.741514)\"/>\n<g style=\"fill:rgb(0%,0%,0%);fill-opacity:1;\">\n  <use xlink:href=\"#glyph-1637105904321170-0-7\" x=\"86.104968\" y=\"184.762804\"/>\n  <use xlink:href=\"#glyph-1637105904321170-0-8\" x=\"92.310212\" y=\"184.762804\"/>\n  <use xlink:href=\"#glyph-1637105904321170-0-9\" x=\"97.274408\" y=\"184.762804\"/>\n</g>\n<g style=\"fill:rgb(0%,0%,0%);fill-opacity:1;\">\n  <use xlink:href=\"#glyph-1637105904321170-0-7\" x=\"105.544757\" y=\"184.762804\"/>\n  <use xlink:href=\"#glyph-1637105904321170-0-10\" x=\"111.750001\" y=\"184.762804\"/>\n  <use xlink:href=\"#glyph-1637105904321170-0-11\" x=\"114.508108\" y=\"184.762804\"/>\n</g>\n<g style=\"fill:rgb(0%,0%,0%);fill-opacity:1;\">\n  <use xlink:href=\"#glyph-1637105904321170-0-12\" x=\"119.480246\" y=\"184.762804\"/>\n  <use xlink:href=\"#glyph-1637105904321170-0-13\" x=\"123.892423\" y=\"184.762804\"/>\n  <use xlink:href=\"#glyph-1637105904321170-0-10\" x=\"126.65053\" y=\"184.762804\"/>\n  <use xlink:href=\"#glyph-1637105904321170-0-14\" x=\"129.408636\" y=\"184.762804\"/>\n  <use xlink:href=\"#glyph-1637105904321170-0-8\" x=\"134.92485\" y=\"184.762804\"/>\n</g>\n<g style=\"fill:rgb(0%,0%,0%);fill-opacity:1;\">\n  <use xlink:href=\"#glyph-1637105904321170-0-8\" x=\"140.157112\" y=\"184.762804\"/>\n</g>\n<g style=\"fill:rgb(0%,0%,0%);fill-opacity:1;\">\n  <use xlink:href=\"#glyph-1637105904321170-0-15\" x=\"145.399302\" y=\"184.762804\"/>\n</g>\n</g>\n</svg>\n\n",
      "text/plain": [
       "Axis(PGFPlots.Plots.Plot[PGFPlots.Plots.Histogram(Real[6.18491045297624, 6.402203490171786, 6.415184032619948, 5.888875233261132, 6.277680075379596, 5.153874235018776, 7.0605694937341035, 5.9963999043073635, 7.467567125103322, 7.8395151014741735  …  5.0362146213103465, 7.063075661859731, 5.636071168559138, 4.337237493790486, 5.453750178771227, 5.157555016673683, 5.7960078170630105, 5.102469976858401, 5.501920983762961, 6.841162149761939], 10, false, false, \"gray, fill=gray!50, opacity = 0.5\", :default, nothing), PGFPlots.Plots.Histogram(Real[9.718018211299729, 5.931913678313698, 6.377533132842178, 6.2060926067096815, 5.755686919804592, 5.998323519192311, 5.86934853763573, 6.565851173502878, 5.755531359822982, 7.404604090434695  …  9.03242855285389, 6.7313633076690245, 5.093590098317819, 5.219462659743915, 8.150747404311488, 5.4985959340123465, 6.2621484903364255, 9.008531755872589, 7.716002958937327, 7.957758306390026], 10, false, false, \"teal, fill=teal!50, opacity = 0.5\", :default, nothing)], nothing, \"Log Likelihood\", nothing, nothing, nothing, nothing, nothing, nothing, nothing, nothing, nothing, nothing, nothing, nothing, nothing, nothing, nothing, nothing, nothing, nothing, nothing, nothing, nothing, nothing, nothing, nothing, nothing, \"axis\")"
      ]
     },
     "execution_count": 152,
     "metadata": {},
     "output_type": "execute_result"
    }
   ],
   "source": [
    "ax = Axis()\n",
    "push!(ax, Plots.Histogram(ll_in, style=\"gray, fill=gray!50, opacity = 0.5\"))\n",
    "push!(ax, Plots.Histogram(ll_c, style=\"teal, fill=teal!50, opacity = 0.5\"))\n",
    "ax.xlabel = \"Log Likelihood\"\n",
    "ax"
   ]
  },
  {
   "cell_type": "markdown",
   "metadata": {},
   "source": [
    "# Fine Tune Flow"
   ]
  },
  {
   "cell_type": "code",
   "execution_count": 154,
   "metadata": {},
   "outputs": [
    {
     "name": "stderr",
     "output_type": "stream",
     "text": [
      "┌ Info: Epoch 1\n",
      "└ @ Main /home/smkatz/.julia/packages/Flux/YO4zY/src/optimise/train.jl:136\n"
     ]
    },
    {
     "name": "stdout",
     "output_type": "stream",
     "text": [
      "l = -7.007568993099999\n",
      "l = -7.335060995142597\n"
     ]
    },
    {
     "name": "stderr",
     "output_type": "stream",
     "text": [
      "┌ Info: Epoch 2\n",
      "└ @ Main /home/smkatz/.julia/packages/Flux/YO4zY/src/optimise/train.jl:136\n"
     ]
    },
    {
     "name": "stdout",
     "output_type": "stream",
     "text": [
      "l = -7.480185402208387\n"
     ]
    },
    {
     "name": "stderr",
     "output_type": "stream",
     "text": [
      "┌ Info: Epoch 3\n",
      "└ @ Main /home/smkatz/.julia/packages/Flux/YO4zY/src/optimise/train.jl:136\n"
     ]
    },
    {
     "name": "stdout",
     "output_type": "stream",
     "text": [
      "l = -7.6320998916119835\n"
     ]
    },
    {
     "name": "stderr",
     "output_type": "stream",
     "text": [
      "┌ Info: Epoch 4\n",
      "└ @ Main /home/smkatz/.julia/packages/Flux/YO4zY/src/optimise/train.jl:136\n"
     ]
    },
    {
     "name": "stdout",
     "output_type": "stream",
     "text": [
      "l = -7.784277716853528\n"
     ]
    },
    {
     "name": "stderr",
     "output_type": "stream",
     "text": [
      "┌ Info: Epoch 5\n",
      "└ @ Main /home/smkatz/.julia/packages/Flux/YO4zY/src/optimise/train.jl:136\n"
     ]
    },
    {
     "name": "stdout",
     "output_type": "stream",
     "text": [
      "l = -7.94535320814288\n"
     ]
    },
    {
     "name": "stderr",
     "output_type": "stream",
     "text": [
      "┌ Info: Epoch 6\n",
      "└ @ Main /home/smkatz/.julia/packages/Flux/YO4zY/src/optimise/train.jl:136\n"
     ]
    },
    {
     "name": "stdout",
     "output_type": "stream",
     "text": [
      "l = -8.101163970520547\n"
     ]
    },
    {
     "name": "stderr",
     "output_type": "stream",
     "text": [
      "┌ Info: Epoch 7\n",
      "└ @ Main /home/smkatz/.julia/packages/Flux/YO4zY/src/optimise/train.jl:136\n",
      "┌ Info: Epoch 8\n",
      "└ @ Main /home/smkatz/.julia/packages/Flux/YO4zY/src/optimise/train.jl:136\n"
     ]
    },
    {
     "name": "stdout",
     "output_type": "stream",
     "text": [
      "l = -8.263126843626317\n",
      "l = -8.425247837496926\n"
     ]
    },
    {
     "name": "stderr",
     "output_type": "stream",
     "text": [
      "┌ Info: Epoch 9\n",
      "└ @ Main /home/smkatz/.julia/packages/Flux/YO4zY/src/optimise/train.jl:136\n"
     ]
    },
    {
     "name": "stdout",
     "output_type": "stream",
     "text": [
      "l = -8.589981995825093\n"
     ]
    },
    {
     "name": "stderr",
     "output_type": "stream",
     "text": [
      "┌ Info: Epoch 10\n",
      "└ @ Main /home/smkatz/.julia/packages/Flux/YO4zY/src/optimise/train.jl:136\n",
      "┌ Info: Epoch 11\n",
      "└ @ Main /home/smkatz/.julia/packages/Flux/YO4zY/src/optimise/train.jl:136\n"
     ]
    },
    {
     "name": "stdout",
     "output_type": "stream",
     "text": [
      "l = -8.754911678792443\n",
      "l = -8.928224976579171\n"
     ]
    },
    {
     "name": "stderr",
     "output_type": "stream",
     "text": [
      "┌ Info: Epoch 12\n",
      "└ @ Main /home/smkatz/.julia/packages/Flux/YO4zY/src/optimise/train.jl:136\n"
     ]
    },
    {
     "name": "stdout",
     "output_type": "stream",
     "text": [
      "l = -9.099947101100371\n"
     ]
    },
    {
     "name": "stderr",
     "output_type": "stream",
     "text": [
      "┌ Info: Epoch 13\n",
      "└ @ Main /home/smkatz/.julia/packages/Flux/YO4zY/src/optimise/train.jl:136\n",
      "┌ Info: Epoch 14\n",
      "└ @ Main /home/smkatz/.julia/packages/Flux/YO4zY/src/optimise/train.jl:136\n"
     ]
    },
    {
     "name": "stdout",
     "output_type": "stream",
     "text": [
      "l = -9.273230050720079\n"
     ]
    },
    {
     "name": "stderr",
     "output_type": "stream",
     "text": [
      "┌ Info: Epoch 15\n",
      "└ @ Main /home/smkatz/.julia/packages/Flux/YO4zY/src/optimise/train.jl:136\n"
     ]
    },
    {
     "name": "stdout",
     "output_type": "stream",
     "text": [
      "l = -9.448797614048996\n",
      "l = -9.630123389422685\n"
     ]
    },
    {
     "name": "stderr",
     "output_type": "stream",
     "text": [
      "┌ Info: Epoch 16\n",
      "└ @ Main /home/smkatz/.julia/packages/Flux/YO4zY/src/optimise/train.jl:136\n"
     ]
    },
    {
     "name": "stdout",
     "output_type": "stream",
     "text": [
      "l = -9.809346803207095\n"
     ]
    },
    {
     "name": "stderr",
     "output_type": "stream",
     "text": [
      "┌ Info: Epoch 17\n",
      "└ @ Main /home/smkatz/.julia/packages/Flux/YO4zY/src/optimise/train.jl:136\n"
     ]
    },
    {
     "name": "stdout",
     "output_type": "stream",
     "text": [
      "l = -9.985757680789396\n"
     ]
    },
    {
     "name": "stderr",
     "output_type": "stream",
     "text": [
      "┌ Info: Epoch 18\n",
      "└ @ Main /home/smkatz/.julia/packages/Flux/YO4zY/src/optimise/train.jl:136\n"
     ]
    },
    {
     "name": "stdout",
     "output_type": "stream",
     "text": [
      "l = -10.178928071864124\n"
     ]
    },
    {
     "name": "stderr",
     "output_type": "stream",
     "text": [
      "┌ Info: Epoch 19\n",
      "└ @ Main /home/smkatz/.julia/packages/Flux/YO4zY/src/optimise/train.jl:136\n"
     ]
    },
    {
     "name": "stdout",
     "output_type": "stream",
     "text": [
      "l = -10.366322629257052\n"
     ]
    },
    {
     "name": "stderr",
     "output_type": "stream",
     "text": [
      "┌ Info: Epoch 20\n",
      "└ @ Main /home/smkatz/.julia/packages/Flux/YO4zY/src/optimise/train.jl:136\n"
     ]
    },
    {
     "name": "stdout",
     "output_type": "stream",
     "text": [
      "l = -10.558132055858486\n"
     ]
    },
    {
     "name": "stderr",
     "output_type": "stream",
     "text": [
      "┌ Info: Epoch 21\n",
      "└ @ Main /home/smkatz/.julia/packages/Flux/YO4zY/src/optimise/train.jl:136\n",
      "┌ Info: Epoch 22\n",
      "└ @ Main /home/smkatz/.julia/packages/Flux/YO4zY/src/optimise/train.jl:136\n"
     ]
    },
    {
     "name": "stdout",
     "output_type": "stream",
     "text": [
      "l = -10.751361053537062\n"
     ]
    },
    {
     "name": "stderr",
     "output_type": "stream",
     "text": [
      "┌ Info: Epoch 23\n",
      "└ @ Main /home/smkatz/.julia/packages/Flux/YO4zY/src/optimise/train.jl:136\n"
     ]
    },
    {
     "name": "stdout",
     "output_type": "stream",
     "text": [
      "l = -10.94933020291652\n"
     ]
    },
    {
     "name": "stderr",
     "output_type": "stream",
     "text": [
      "┌ Info: Epoch 24\n",
      "└ @ Main /home/smkatz/.julia/packages/Flux/YO4zY/src/optimise/train.jl:136\n"
     ]
    },
    {
     "name": "stdout",
     "output_type": "stream",
     "text": [
      "l = -11.144403609985385\n",
      "l = -11.353838906377465\n"
     ]
    },
    {
     "name": "stderr",
     "output_type": "stream",
     "text": [
      "┌ Info: Epoch 25\n",
      "└ @ Main /home/smkatz/.julia/packages/Flux/YO4zY/src/optimise/train.jl:136\n"
     ]
    },
    {
     "name": "stdout",
     "output_type": "stream",
     "text": [
      "l = -11.556721806631964\n"
     ]
    },
    {
     "name": "stderr",
     "output_type": "stream",
     "text": [
      "┌ Info: Epoch 26\n",
      "└ @ Main /home/smkatz/.julia/packages/Flux/YO4zY/src/optimise/train.jl:136\n"
     ]
    },
    {
     "name": "stdout",
     "output_type": "stream",
     "text": [
      "l = -11.76498329005826\n"
     ]
    },
    {
     "name": "stderr",
     "output_type": "stream",
     "text": [
      "┌ Info: Epoch 27\n",
      "└ @ Main /home/smkatz/.julia/packages/Flux/YO4zY/src/optimise/train.jl:136\n"
     ]
    },
    {
     "name": "stdout",
     "output_type": "stream",
     "text": [
      "l = -11.97733116478944\n"
     ]
    },
    {
     "name": "stderr",
     "output_type": "stream",
     "text": [
      "┌ Info: Epoch 28\n",
      "└ @ Main /home/smkatz/.julia/packages/Flux/YO4zY/src/optimise/train.jl:136\n",
      "┌ Info: Epoch 29\n",
      "└ @ Main /home/smkatz/.julia/packages/Flux/YO4zY/src/optimise/train.jl:136\n"
     ]
    },
    {
     "name": "stdout",
     "output_type": "stream",
     "text": [
      "l = -12.190454626519886\n",
      "l = -12.411318789030803\n"
     ]
    },
    {
     "name": "stderr",
     "output_type": "stream",
     "text": [
      "┌ Info: Epoch 30\n",
      "└ @ Main /home/smkatz/.julia/packages/Flux/YO4zY/src/optimise/train.jl:136\n",
      "┌ Info: Epoch 31\n",
      "└ @ Main /home/smkatz/.julia/packages/Flux/YO4zY/src/optimise/train.jl:136\n"
     ]
    },
    {
     "name": "stdout",
     "output_type": "stream",
     "text": [
      "l = -12.62389306952708\n",
      "l = -12.850521670325373\n"
     ]
    },
    {
     "name": "stderr",
     "output_type": "stream",
     "text": [
      "┌ Info: Epoch 32\n",
      "└ @ Main /home/smkatz/.julia/packages/Flux/YO4zY/src/optimise/train.jl:136\n"
     ]
    },
    {
     "name": "stdout",
     "output_type": "stream",
     "text": [
      "l = -13.072616336496871\n"
     ]
    },
    {
     "name": "stderr",
     "output_type": "stream",
     "text": [
      "┌ Info: Epoch 33\n",
      "└ @ Main /home/smkatz/.julia/packages/Flux/YO4zY/src/optimise/train.jl:136\n"
     ]
    },
    {
     "name": "stdout",
     "output_type": "stream",
     "text": [
      "l = -13.298639630278512\n"
     ]
    },
    {
     "name": "stderr",
     "output_type": "stream",
     "text": [
      "┌ Info: Epoch 34\n",
      "└ @ Main /home/smkatz/.julia/packages/Flux/YO4zY/src/optimise/train.jl:136\n",
      "┌ Info: Epoch 35\n",
      "└ @ Main /home/smkatz/.julia/packages/Flux/YO4zY/src/optimise/train.jl:136\n"
     ]
    },
    {
     "name": "stdout",
     "output_type": "stream",
     "text": [
      "l = -13.53739379832683\n"
     ]
    },
    {
     "name": "stderr",
     "output_type": "stream",
     "text": [
      "┌ Info: Epoch 36\n",
      "└ @ Main /home/smkatz/.julia/packages/Flux/YO4zY/src/optimise/train.jl:136\n"
     ]
    },
    {
     "name": "stdout",
     "output_type": "stream",
     "text": [
      "l = -13.769755439013045\n"
     ]
    },
    {
     "name": "stderr",
     "output_type": "stream",
     "text": [
      "┌ Info: Epoch 37\n",
      "└ @ Main /home/smkatz/.julia/packages/Flux/YO4zY/src/optimise/train.jl:136\n"
     ]
    },
    {
     "name": "stdout",
     "output_type": "stream",
     "text": [
      "l = -14.013842475927405\n"
     ]
    },
    {
     "name": "stderr",
     "output_type": "stream",
     "text": [
      "┌ Info: Epoch 38\n",
      "└ @ Main /home/smkatz/.julia/packages/Flux/YO4zY/src/optimise/train.jl:136\n"
     ]
    },
    {
     "name": "stdout",
     "output_type": "stream",
     "text": [
      "l = -14.251735071487163\n",
      "l = -14.500036406744018\n"
     ]
    },
    {
     "name": "stderr",
     "output_type": "stream",
     "text": [
      "┌ Info: Epoch 39\n",
      "└ @ Main /home/smkatz/.julia/packages/Flux/YO4zY/src/optimise/train.jl:136\n"
     ]
    },
    {
     "name": "stdout",
     "output_type": "stream",
     "text": [
      "l = -14.748221172397367\n"
     ]
    },
    {
     "name": "stderr",
     "output_type": "stream",
     "text": [
      "┌ Info: Epoch 40\n",
      "└ @ Main /home/smkatz/.julia/packages/Flux/YO4zY/src/optimise/train.jl:136\n",
      "┌ Info: Epoch 41\n",
      "└ @ Main /home/smkatz/.julia/packages/Flux/YO4zY/src/optimise/train.jl:136\n"
     ]
    },
    {
     "name": "stdout",
     "output_type": "stream",
     "text": [
      "l = -14.99966657943062\n"
     ]
    },
    {
     "name": "stderr",
     "output_type": "stream",
     "text": [
      "┌ Info: Epoch 42\n",
      "└ @ Main /home/smkatz/.julia/packages/Flux/YO4zY/src/optimise/train.jl:136\n"
     ]
    },
    {
     "name": "stdout",
     "output_type": "stream",
     "text": [
      "l = -15.253102706017057\n",
      "l = -15.511432334387743\n"
     ]
    },
    {
     "name": "stderr",
     "output_type": "stream",
     "text": [
      "┌ Info: Epoch 43\n",
      "└ @ Main /home/smkatz/.julia/packages/Flux/YO4zY/src/optimise/train.jl:136\n",
      "┌ Info: Epoch 44\n",
      "└ @ Main /home/smkatz/.julia/packages/Flux/YO4zY/src/optimise/train.jl:136\n"
     ]
    },
    {
     "name": "stdout",
     "output_type": "stream",
     "text": [
      "l = -15.778904310222238\n"
     ]
    },
    {
     "name": "stderr",
     "output_type": "stream",
     "text": [
      "┌ Info: Epoch 45\n",
      "└ @ Main /home/smkatz/.julia/packages/Flux/YO4zY/src/optimise/train.jl:136\n"
     ]
    },
    {
     "name": "stdout",
     "output_type": "stream",
     "text": [
      "l = -16.037991809493533\n"
     ]
    },
    {
     "name": "stderr",
     "output_type": "stream",
     "text": [
      "┌ Info: Epoch 46\n",
      "└ @ Main /home/smkatz/.julia/packages/Flux/YO4zY/src/optimise/train.jl:136\n"
     ]
    },
    {
     "name": "stdout",
     "output_type": "stream",
     "text": [
      "l = -16.305104551070524\n",
      "l = -16.57992032716858\n"
     ]
    },
    {
     "name": "stderr",
     "output_type": "stream",
     "text": [
      "┌ Info: Epoch 47\n",
      "└ @ Main /home/smkatz/.julia/packages/Flux/YO4zY/src/optimise/train.jl:136\n",
      "┌ Info: Epoch 48\n",
      "└ @ Main /home/smkatz/.julia/packages/Flux/YO4zY/src/optimise/train.jl:136\n"
     ]
    },
    {
     "name": "stdout",
     "output_type": "stream",
     "text": [
      "l = -16.853102079530164\n",
      "l = -17.130256892821656\n"
     ]
    },
    {
     "name": "stderr",
     "output_type": "stream",
     "text": [
      "┌ Info: Epoch 49\n",
      "└ @ Main /home/smkatz/.julia/packages/Flux/YO4zY/src/optimise/train.jl:136\n",
      "┌ Info: Epoch 50\n",
      "└ @ Main /home/smkatz/.julia/packages/Flux/YO4zY/src/optimise/train.jl:136\n"
     ]
    },
    {
     "name": "stdout",
     "output_type": "stream",
     "text": [
      "l = -17.420960078830507\n"
     ]
    },
    {
     "name": "stderr",
     "output_type": "stream",
     "text": [
      "┌ Info: Epoch 51\n",
      "└ @ Main /home/smkatz/.julia/packages/Flux/YO4zY/src/optimise/train.jl:136\n"
     ]
    },
    {
     "name": "stdout",
     "output_type": "stream",
     "text": [
      "l = -17.70542287178801\n"
     ]
    },
    {
     "name": "stderr",
     "output_type": "stream",
     "text": [
      "┌ Info: Epoch 52\n",
      "└ @ Main /home/smkatz/.julia/packages/Flux/YO4zY/src/optimise/train.jl:136\n"
     ]
    },
    {
     "name": "stdout",
     "output_type": "stream",
     "text": [
      "l = -17.998443880219035\n",
      "l = -18.293909414214077\n"
     ]
    },
    {
     "name": "stderr",
     "output_type": "stream",
     "text": [
      "┌ Info: Epoch 53\n",
      "└ @ Main /home/smkatz/.julia/packages/Flux/YO4zY/src/optimise/train.jl:136\n",
      "┌ Info: Epoch 54\n",
      "└ @ Main /home/smkatz/.julia/packages/Flux/YO4zY/src/optimise/train.jl:136\n"
     ]
    },
    {
     "name": "stdout",
     "output_type": "stream",
     "text": [
      "l = -18.593110496795745\n"
     ]
    },
    {
     "name": "stderr",
     "output_type": "stream",
     "text": [
      "┌ Info: Epoch 55\n",
      "└ @ Main /home/smkatz/.julia/packages/Flux/YO4zY/src/optimise/train.jl:136\n"
     ]
    },
    {
     "name": "stdout",
     "output_type": "stream",
     "text": [
      "l = -18.8993304745782\n",
      "l = -19.207351410599326\n"
     ]
    },
    {
     "name": "stderr",
     "output_type": "stream",
     "text": [
      "┌ Info: Epoch 56\n",
      "└ @ Main /home/smkatz/.julia/packages/Flux/YO4zY/src/optimise/train.jl:136\n",
      "┌ Info: Epoch 57\n",
      "└ @ Main /home/smkatz/.julia/packages/Flux/YO4zY/src/optimise/train.jl:136\n"
     ]
    },
    {
     "name": "stdout",
     "output_type": "stream",
     "text": [
      "l = -19.52706978765839\n",
      "l = -19.851616824761223\n"
     ]
    },
    {
     "name": "stderr",
     "output_type": "stream",
     "text": [
      "┌ Info: Epoch 58\n",
      "└ @ Main /home/smkatz/.julia/packages/Flux/YO4zY/src/optimise/train.jl:136\n",
      "┌ Info: Epoch 59\n",
      "└ @ Main /home/smkatz/.julia/packages/Flux/YO4zY/src/optimise/train.jl:136\n"
     ]
    },
    {
     "name": "stdout",
     "output_type": "stream",
     "text": [
      "l = -20.176817982137692\n"
     ]
    },
    {
     "name": "stderr",
     "output_type": "stream",
     "text": [
      "┌ Info: Epoch 60\n",
      "└ @ Main /home/smkatz/.julia/packages/Flux/YO4zY/src/optimise/train.jl:136\n"
     ]
    },
    {
     "name": "stdout",
     "output_type": "stream",
     "text": [
      "l = -20.51030825336772\n",
      "l = -20.84985958097554\n"
     ]
    },
    {
     "name": "stderr",
     "output_type": "stream",
     "text": [
      "┌ Info: Epoch 61\n",
      "└ @ Main /home/smkatz/.julia/packages/Flux/YO4zY/src/optimise/train.jl:136\n"
     ]
    },
    {
     "name": "stdout",
     "output_type": "stream",
     "text": [
      "l = -21.189544673711048\n"
     ]
    },
    {
     "name": "stderr",
     "output_type": "stream",
     "text": [
      "┌ Info: Epoch 62\n",
      "└ @ Main /home/smkatz/.julia/packages/Flux/YO4zY/src/optimise/train.jl:136\n"
     ]
    },
    {
     "name": "stdout",
     "output_type": "stream",
     "text": [
      "l = -21.544493533205802\n"
     ]
    },
    {
     "name": "stderr",
     "output_type": "stream",
     "text": [
      "┌ Info: Epoch 63\n",
      "└ @ Main /home/smkatz/.julia/packages/Flux/YO4zY/src/optimise/train.jl:136\n"
     ]
    },
    {
     "name": "stdout",
     "output_type": "stream",
     "text": [
      "l = -21.90481457984536\n"
     ]
    },
    {
     "name": "stderr",
     "output_type": "stream",
     "text": [
      "┌ Info: Epoch 64\n",
      "└ @ Main /home/smkatz/.julia/packages/Flux/YO4zY/src/optimise/train.jl:136\n",
      "┌ Info: Epoch 65\n",
      "└ @ Main /home/smkatz/.julia/packages/Flux/YO4zY/src/optimise/train.jl:136\n"
     ]
    },
    {
     "name": "stdout",
     "output_type": "stream",
     "text": [
      "l = -22.26759331254\n"
     ]
    },
    {
     "name": "stderr",
     "output_type": "stream",
     "text": [
      "┌ Info: Epoch 66\n",
      "└ @ Main /home/smkatz/.julia/packages/Flux/YO4zY/src/optimise/train.jl:136\n"
     ]
    },
    {
     "name": "stdout",
     "output_type": "stream",
     "text": [
      "l = -22.63087139264236\n",
      "l = -23.008123936691494\n"
     ]
    },
    {
     "name": "stderr",
     "output_type": "stream",
     "text": [
      "┌ Info: Epoch 67\n",
      "└ @ Main /home/smkatz/.julia/packages/Flux/YO4zY/src/optimise/train.jl:136\n"
     ]
    },
    {
     "name": "stdout",
     "output_type": "stream",
     "text": [
      "l = -23.38190004122677\n"
     ]
    },
    {
     "name": "stderr",
     "output_type": "stream",
     "text": [
      "┌ Info: Epoch 68\n",
      "└ @ Main /home/smkatz/.julia/packages/Flux/YO4zY/src/optimise/train.jl:136\n"
     ]
    },
    {
     "name": "stdout",
     "output_type": "stream",
     "text": [
      "l = -23.764047480115934\n"
     ]
    },
    {
     "name": "stderr",
     "output_type": "stream",
     "text": [
      "┌ Info: Epoch 69\n",
      "└ @ Main /home/smkatz/.julia/packages/Flux/YO4zY/src/optimise/train.jl:136\n",
      "┌ Info: Epoch 70\n",
      "└ @ Main /home/smkatz/.julia/packages/Flux/YO4zY/src/optimise/train.jl:136\n"
     ]
    },
    {
     "name": "stdout",
     "output_type": "stream",
     "text": [
      "l = -24.1382813550919\n",
      "l = -24.520738674234753\n"
     ]
    },
    {
     "name": "stderr",
     "output_type": "stream",
     "text": [
      "┌ Info: Epoch 71\n",
      "└ @ Main /home/smkatz/.julia/packages/Flux/YO4zY/src/optimise/train.jl:136\n"
     ]
    },
    {
     "name": "stdout",
     "output_type": "stream",
     "text": [
      "l = -24.901257514580326\n"
     ]
    },
    {
     "name": "stderr",
     "output_type": "stream",
     "text": [
      "┌ Info: Epoch 72\n",
      "└ @ Main /home/smkatz/.julia/packages/Flux/YO4zY/src/optimise/train.jl:136\n",
      "┌ Info: Epoch 73\n",
      "└ @ Main /home/smkatz/.julia/packages/Flux/YO4zY/src/optimise/train.jl:136\n"
     ]
    },
    {
     "name": "stdout",
     "output_type": "stream",
     "text": [
      "l = -25.28093829369665\n"
     ]
    },
    {
     "name": "stderr",
     "output_type": "stream",
     "text": [
      "┌ Info: Epoch 74\n",
      "└ @ Main /home/smkatz/.julia/packages/Flux/YO4zY/src/optimise/train.jl:136\n"
     ]
    },
    {
     "name": "stdout",
     "output_type": "stream",
     "text": [
      "l = -25.658886488481752\n"
     ]
    },
    {
     "name": "stderr",
     "output_type": "stream",
     "text": [
      "┌ Info: Epoch 75\n",
      "└ @ Main /home/smkatz/.julia/packages/Flux/YO4zY/src/optimise/train.jl:136\n"
     ]
    },
    {
     "name": "stdout",
     "output_type": "stream",
     "text": [
      "l = -26.03166646519589\n",
      "l = -26.395842399307128\n"
     ]
    },
    {
     "name": "stderr",
     "output_type": "stream",
     "text": [
      "┌ Info: Epoch 76\n",
      "└ @ Main /home/smkatz/.julia/packages/Flux/YO4zY/src/optimise/train.jl:136\n"
     ]
    },
    {
     "name": "stdout",
     "output_type": "stream",
     "text": [
      "l = -26.758421379170752\n"
     ]
    },
    {
     "name": "stderr",
     "output_type": "stream",
     "text": [
      "┌ Info: Epoch 77\n",
      "└ @ Main /home/smkatz/.julia/packages/Flux/YO4zY/src/optimise/train.jl:136\n"
     ]
    },
    {
     "name": "stdout",
     "output_type": "stream",
     "text": [
      "l = -27.11865489331786\n"
     ]
    },
    {
     "name": "stderr",
     "output_type": "stream",
     "text": [
      "┌ Info: Epoch 78\n",
      "└ @ Main /home/smkatz/.julia/packages/Flux/YO4zY/src/optimise/train.jl:136\n"
     ]
    },
    {
     "name": "stdout",
     "output_type": "stream",
     "text": [
      "l = -27.46667267531298\n"
     ]
    },
    {
     "name": "stderr",
     "output_type": "stream",
     "text": [
      "┌ Info: Epoch 79\n",
      "└ @ Main /home/smkatz/.julia/packages/Flux/YO4zY/src/optimise/train.jl:136\n"
     ]
    },
    {
     "name": "stdout",
     "output_type": "stream",
     "text": [
      "l = -27.82035247782891\n"
     ]
    },
    {
     "name": "stderr",
     "output_type": "stream",
     "text": [
      "┌ Info: Epoch 80\n",
      "└ @ Main /home/smkatz/.julia/packages/Flux/YO4zY/src/optimise/train.jl:136\n"
     ]
    },
    {
     "name": "stdout",
     "output_type": "stream",
     "text": [
      "l = -28.14891020940352\n"
     ]
    },
    {
     "name": "stderr",
     "output_type": "stream",
     "text": [
      "┌ Info: Epoch 81\n",
      "└ @ Main /home/smkatz/.julia/packages/Flux/YO4zY/src/optimise/train.jl:136\n",
      "┌ Info: Epoch 82\n",
      "└ @ Main /home/smkatz/.julia/packages/Flux/YO4zY/src/optimise/train.jl:136\n"
     ]
    },
    {
     "name": "stdout",
     "output_type": "stream",
     "text": [
      "l = -28.48161044460185\n"
     ]
    },
    {
     "name": "stderr",
     "output_type": "stream",
     "text": [
      "┌ Info: Epoch 83\n",
      "└ @ Main /home/smkatz/.julia/packages/Flux/YO4zY/src/optimise/train.jl:136\n"
     ]
    },
    {
     "name": "stdout",
     "output_type": "stream",
     "text": [
      "l = -28.808202698983052\n"
     ]
    },
    {
     "name": "stderr",
     "output_type": "stream",
     "text": [
      "┌ Info: Epoch 84\n",
      "└ @ Main /home/smkatz/.julia/packages/Flux/YO4zY/src/optimise/train.jl:136\n"
     ]
    },
    {
     "name": "stdout",
     "output_type": "stream",
     "text": [
      "l = -29.12391062763079\n"
     ]
    },
    {
     "name": "stderr",
     "output_type": "stream",
     "text": [
      "┌ Info: Epoch 85\n",
      "└ @ Main /home/smkatz/.julia/packages/Flux/YO4zY/src/optimise/train.jl:136\n"
     ]
    },
    {
     "name": "stdout",
     "output_type": "stream",
     "text": [
      "l = -29.443888962088497\n",
      "l = -29.75401794678317\n"
     ]
    },
    {
     "name": "stderr",
     "output_type": "stream",
     "text": [
      "┌ Info: Epoch 86\n",
      "└ @ Main /home/smkatz/.julia/packages/Flux/YO4zY/src/optimise/train.jl:136\n"
     ]
    },
    {
     "name": "stdout",
     "output_type": "stream",
     "text": [
      "l = -30.066156931172173\n"
     ]
    },
    {
     "name": "stderr",
     "output_type": "stream",
     "text": [
      "┌ Info: Epoch 87\n",
      "└ @ Main /home/smkatz/.julia/packages/Flux/YO4zY/src/optimise/train.jl:136\n",
      "┌ Info: Epoch 88\n",
      "└ @ Main /home/smkatz/.julia/packages/Flux/YO4zY/src/optimise/train.jl:136\n"
     ]
    },
    {
     "name": "stdout",
     "output_type": "stream",
     "text": [
      "l = -30.37878891915541\n"
     ]
    },
    {
     "name": "stderr",
     "output_type": "stream",
     "text": [
      "┌ Info: Epoch 89\n",
      "└ @ Main /home/smkatz/.julia/packages/Flux/YO4zY/src/optimise/train.jl:136\n"
     ]
    },
    {
     "name": "stdout",
     "output_type": "stream",
     "text": [
      "l = -30.68555151093338\n"
     ]
    },
    {
     "name": "stderr",
     "output_type": "stream",
     "text": [
      "┌ Info: Epoch 90\n",
      "└ @ Main /home/smkatz/.julia/packages/Flux/YO4zY/src/optimise/train.jl:136\n"
     ]
    },
    {
     "name": "stdout",
     "output_type": "stream",
     "text": [
      "l = -30.99576946170216\n",
      "l = -31.312962775286625\n"
     ]
    },
    {
     "name": "stderr",
     "output_type": "stream",
     "text": [
      "┌ Info: Epoch 91\n",
      "└ @ Main /home/smkatz/.julia/packages/Flux/YO4zY/src/optimise/train.jl:136\n"
     ]
    },
    {
     "name": "stdout",
     "output_type": "stream",
     "text": [
      "l = -31.617697895746616\n"
     ]
    },
    {
     "name": "stderr",
     "output_type": "stream",
     "text": [
      "┌ Info: Epoch 92\n",
      "└ @ Main /home/smkatz/.julia/packages/Flux/YO4zY/src/optimise/train.jl:136\n"
     ]
    },
    {
     "name": "stdout",
     "output_type": "stream",
     "text": [
      "l = -31.940600441285305\n"
     ]
    },
    {
     "name": "stderr",
     "output_type": "stream",
     "text": [
      "┌ Info: Epoch 93\n",
      "└ @ Main /home/smkatz/.julia/packages/Flux/YO4zY/src/optimise/train.jl:136\n"
     ]
    },
    {
     "name": "stdout",
     "output_type": "stream",
     "text": [
      "l = -32.28143810280231\n"
     ]
    },
    {
     "name": "stderr",
     "output_type": "stream",
     "text": [
      "┌ Info: Epoch 94\n",
      "└ @ Main /home/smkatz/.julia/packages/Flux/YO4zY/src/optimise/train.jl:136\n"
     ]
    },
    {
     "name": "stdout",
     "output_type": "stream",
     "text": [
      "l = -32.64210427048448\n"
     ]
    },
    {
     "name": "stderr",
     "output_type": "stream",
     "text": [
      "┌ Info: Epoch 95\n",
      "└ @ Main /home/smkatz/.julia/packages/Flux/YO4zY/src/optimise/train.jl:136\n"
     ]
    },
    {
     "name": "stdout",
     "output_type": "stream",
     "text": [
      "l = -33.01801492940632\n"
     ]
    },
    {
     "name": "stderr",
     "output_type": "stream",
     "text": [
      "┌ Info: Epoch 96\n",
      "└ @ Main /home/smkatz/.julia/packages/Flux/YO4zY/src/optimise/train.jl:136\n"
     ]
    },
    {
     "name": "stdout",
     "output_type": "stream",
     "text": [
      "l = -33.41031430376186\n"
     ]
    },
    {
     "name": "stderr",
     "output_type": "stream",
     "text": [
      "┌ Info: Epoch 97\n",
      "└ @ Main /home/smkatz/.julia/packages/Flux/YO4zY/src/optimise/train.jl:136\n"
     ]
    },
    {
     "name": "stdout",
     "output_type": "stream",
     "text": [
      "l = -33.84655265208944\n"
     ]
    },
    {
     "name": "stderr",
     "output_type": "stream",
     "text": [
      "┌ Info: Epoch 98\n",
      "└ @ Main /home/smkatz/.julia/packages/Flux/YO4zY/src/optimise/train.jl:136\n",
      "┌ Info: Epoch 99\n",
      "└ @ Main /home/smkatz/.julia/packages/Flux/YO4zY/src/optimise/train.jl:136\n"
     ]
    },
    {
     "name": "stdout",
     "output_type": "stream",
     "text": [
      "l = -34.31798848819742\n"
     ]
    },
    {
     "name": "stderr",
     "output_type": "stream",
     "text": [
      "┌ Info: Epoch 100\n",
      "└ @ Main /home/smkatz/.julia/packages/Flux/YO4zY/src/optimise/train.jl:136\n"
     ]
    },
    {
     "name": "stdout",
     "output_type": "stream",
     "text": [
      "l = -34.830143087274436\n"
     ]
    },
    {
     "data": {
      "text/plain": [
       "NatPN(Chain(Dense(128, 64, relu), Dense(64, 32, relu), Dense(32, 16, relu), Dense(16, 16)), MultivariateTransformed{DiagNormal, Composed{NTuple{8, RadialLayer{Vector{Float64}, Vector{Float64}}}, 1}}(\n",
       "dist: DiagNormal(\n",
       "dim: 16\n",
       "μ: [0.0, 0.0, 0.0, 0.0, 0.0, 0.0, 0.0, 0.0, 0.0, 0.0, 0.0, 0.0, 0.0, 0.0, 0.0, 0.0]\n",
       "Σ: [1.0 0.0 … 0.0 0.0; 0.0 1.0 … 0.0 0.0; … ; 0.0 0.0 … 1.0 0.0; 0.0 0.0 … 0.0 1.0]\n",
       ")\n",
       "\n",
       "transform: Composed{NTuple{8, RadialLayer{Vector{Float64}, Vector{Float64}}}, 1}((RadialLayer{Vector{Float64}, Vector{Float64}}([1.5288147978613569], [-1.144751877297021], [-0.05962509820834169, -0.2370139083003528, 0.1811269549986148, -0.24595666088265658, 1.793343991714361, -0.0008697370286213038, 1.5040068489693998, -1.0036044064449463, -0.934404175967683, 0.32725995191465146, -0.43175956951800576, -0.033502844114992894, 0.3195455714276422, 0.43882560469348497, 0.49531610407852505, -0.20422428254157396]), RadialLayer{Vector{Float64}, Vector{Float64}}([2.163110335858833], [-0.7239658045887324], [0.14989552342670753, 0.406661864978155, -0.004287269749464604, -0.8722406985129081, 1.4035751983413, -0.06036665872007197, 0.7753077906831696, -0.8199383698379994, -0.8177235263922887, 0.19953756478444998, -0.14132132277714038, 0.5884008986612066, 0.40614300670592607, 0.4619719849367389, 0.5881105243807038, -0.3723448050997631]), RadialLayer{Vector{Float64}, Vector{Float64}}([2.6579295662425095], [-1.8016339064491225], [0.06273587130856162, 0.04945588669663466, -0.030902113423472745, -0.8394281373172181, 1.6470813662706987, -0.037030051603340726, 0.9419878808169008, -0.8863192746271533, -0.8024188924705236, 0.24120252577158752, -0.13109083677447012, 0.48210588927635756, 0.3727013106499729, 0.4038111004429299, 0.4926051812856456, -0.28193732621720385]), RadialLayer{Vector{Float64}, Vector{Float64}}([-0.7408388265867881], [-0.9968908634949839], [0.6273040731464765, -0.37067770324433325, 0.10117820427074521, -0.8743725284344773, -0.5813262617186031, -0.04470297525083938, -0.07500853457076961, -1.2633163906380358, 0.3861986992273447, 1.1707772501674314, -0.22134322986613178, -1.2129004731105986, -0.14000380289588357, -0.5631855056428847, 0.28230756024523723, -0.3801581865192943]), RadialLayer{Vector{Float64}, Vector{Float64}}([-1.0603986786339337], [-0.37732154902839826], [-0.3288983574088814, 0.6939772214647921, -0.19992248163993906, 0.19981688735226572, -0.7222768978779605, -0.4059406530703933, -0.028879972508844866, 0.41827159792653396, 1.0302470982099692, 0.9027383857890016, 0.9782038414765646, -0.5560447679355013, -2.5249341722478835, 1.1242123969472713, -0.5840615269106462, 0.2659059052895204]), RadialLayer{Vector{Float64}, Vector{Float64}}([-0.19760338160423654], [-2.6449122994776815], [0.22778720006841024, 0.15247013368422002, 0.02555244302537149, -1.0056615286624786, 1.607847634043921, -0.03747920687775624, 0.7832565193592503, -0.8628222173755525, -0.6754372044983079, 0.1845087816364076, -0.2485386916171082, 0.35200415661823675, 0.521675210162069, 0.30065831955015737, 0.6971593205932074, -0.45637143713303374]), RadialLayer{Vector{Float64}, Vector{Float64}}([1.2272553208657435], [-1.3101384754664307], [0.21229721753023534, -0.16591719498243207, 0.6523064540860899, -1.6608456211775686, 1.793489271032303, -0.06561661882196623, 0.35244683852027103, -0.6849828780982113, -1.5038490011067969, 0.19106337959717695, 0.20313310145874547, 1.370544451584572, 0.4140229520576404, 0.5634675995607427, 0.06349196445761705, 0.7396267575696586]), RadialLayer{Vector{Float64}, Vector{Float64}}([-0.807378599149525], [0.15742113888932616], [-0.354815588372712, 0.8094781121107943, -1.2822126058561205, 0.40047474907207853, -2.1815509641382445, -0.038627843513824964, -0.6834350268618089, -1.0741935814383115, -0.6893673299683242, -0.2879698005843901, -0.5286673254005, -0.0532404608802836, 0.10483112822627547, -0.8552075885664561, -0.767155828207238, 0.8795219019992269])))\n",
       ")\n",
       ", Dense(16, 1), 16, 16.119623203302872, 1.0e-5, 0.01)"
      ]
     },
     "execution_count": 154,
     "metadata": {},
     "output_type": "execute_result"
    }
   ],
   "source": [
    "npn = train_npn_fine_tune(npn, X, y; \n",
    "                    lr_reg = 1e-4,\n",
    "                    lr_flow = 1e-4,\n",
    "                    lr_bayes = 1e-4,\n",
    "                    batchsize = 128,\n",
    "                    nreg = 0, \n",
    "                    nflow = 100, \n",
    "                    nbayes = 0)"
   ]
  },
  {
   "cell_type": "code",
   "execution_count": 158,
   "metadata": {},
   "outputs": [
    {
     "data": {
      "image/svg+xml": "<?xml version=\"1.0\" encoding=\"UTF-8\"?>\n<svg xmlns=\"http://www.w3.org/2000/svg\" xmlns:xlink=\"http://www.w3.org/1999/xlink\" width=\"216.258pt\" height=\"212.851pt\" viewBox=\"0 0 216.258 212.851\" version=\"1.2\">\n<defs>\n<g>\n<symbol overflow=\"visible\" id=\"glyph-1637105904321172-0-0\">\n<path style=\"stroke:none;\" d=\"\"/>\n</symbol>\n<symbol overflow=\"visible\" id=\"glyph-1637105904321172-0-1\">\n<path style=\"stroke:none;\" d=\"M 6.53125 -2.28125 C 6.703125 -2.28125 6.890625 -2.28125 6.890625 -2.484375 C 6.890625 -2.671875 6.703125 -2.671875 6.53125 -2.671875 L 1.171875 -2.671875 C 1 -2.671875 0.828125 -2.671875 0.828125 -2.484375 C 0.828125 -2.28125 1 -2.28125 1.171875 -2.28125 Z M 6.53125 -2.28125 \"/>\n</symbol>\n<symbol overflow=\"visible\" id=\"glyph-1637105904321172-1-0\">\n<path style=\"stroke:none;\" d=\"\"/>\n</symbol>\n<symbol overflow=\"visible\" id=\"glyph-1637105904321172-1-1\">\n<path style=\"stroke:none;\" d=\"M 1.265625 -0.765625 L 2.3125 -1.78125 C 3.859375 -3.15625 4.453125 -3.6875 4.453125 -4.6875 C 4.453125 -5.8125 3.5625 -6.609375 2.34375 -6.609375 C 1.234375 -6.609375 0.5 -5.6875 0.5 -4.8125 C 0.5 -4.25 0.984375 -4.25 1.015625 -4.25 C 1.1875 -4.25 1.53125 -4.375 1.53125 -4.78125 C 1.53125 -5.046875 1.359375 -5.296875 1.015625 -5.296875 C 0.9375 -5.296875 0.90625 -5.296875 0.890625 -5.28125 C 1.109375 -5.9375 1.640625 -6.296875 2.21875 -6.296875 C 3.125 -6.296875 3.546875 -5.5 3.546875 -4.6875 C 3.546875 -3.890625 3.0625 -3.109375 2.515625 -2.484375 L 0.609375 -0.359375 C 0.5 -0.265625 0.5 -0.234375 0.5 0 L 4.171875 0 L 4.453125 -1.71875 L 4.203125 -1.71875 C 4.15625 -1.421875 4.09375 -0.984375 3.984375 -0.84375 C 3.921875 -0.765625 3.265625 -0.765625 3.046875 -0.765625 Z M 1.265625 -0.765625 \"/>\n</symbol>\n<symbol overflow=\"visible\" id=\"glyph-1637105904321172-1-2\">\n<path style=\"stroke:none;\" d=\"M 4.5625 -3.171875 C 4.5625 -3.96875 4.515625 -4.765625 4.171875 -5.5 C 3.703125 -6.453125 2.890625 -6.609375 2.484375 -6.609375 C 1.890625 -6.609375 1.15625 -6.34375 0.75 -5.421875 C 0.4375 -4.75 0.390625 -3.96875 0.390625 -3.171875 C 0.390625 -2.4375 0.421875 -1.53125 0.828125 -0.78125 C 1.265625 0.015625 1.984375 0.21875 2.46875 0.21875 C 3 0.21875 3.765625 0.015625 4.203125 -0.9375 C 4.515625 -1.625 4.5625 -2.390625 4.5625 -3.171875 Z M 2.46875 0 C 2.078125 0 1.5 -0.25 1.3125 -1.203125 C 1.203125 -1.796875 1.203125 -2.703125 1.203125 -3.296875 C 1.203125 -3.921875 1.203125 -4.578125 1.296875 -5.125 C 1.484375 -6.296875 2.21875 -6.390625 2.46875 -6.390625 C 2.796875 -6.390625 3.453125 -6.21875 3.640625 -5.234375 C 3.734375 -4.671875 3.734375 -3.921875 3.734375 -3.296875 C 3.734375 -2.546875 3.734375 -1.875 3.625 -1.234375 C 3.484375 -0.296875 2.921875 0 2.46875 0 Z M 2.46875 0 \"/>\n</symbol>\n<symbol overflow=\"visible\" id=\"glyph-1637105904321172-1-3\">\n<path style=\"stroke:none;\" d=\"M 2.921875 -1.640625 L 2.921875 -0.78125 C 2.921875 -0.421875 2.890625 -0.3125 2.15625 -0.3125 L 1.953125 -0.3125 L 1.953125 0 C 2.359375 -0.03125 2.875 -0.03125 3.296875 -0.03125 C 3.703125 -0.03125 4.234375 -0.03125 4.640625 0 L 4.640625 -0.3125 L 4.4375 -0.3125 C 3.703125 -0.3125 3.6875 -0.421875 3.6875 -0.78125 L 3.6875 -1.640625 L 4.671875 -1.640625 L 4.671875 -1.9375 L 3.6875 -1.9375 L 3.6875 -6.453125 C 3.6875 -6.65625 3.6875 -6.71875 3.515625 -6.71875 C 3.4375 -6.71875 3.40625 -6.71875 3.328125 -6.59375 L 0.28125 -1.9375 L 0.28125 -1.640625 Z M 2.96875 -1.9375 L 0.5625 -1.9375 L 2.96875 -5.640625 Z M 2.96875 -1.9375 \"/>\n</symbol>\n<symbol overflow=\"visible\" id=\"glyph-1637105904321172-1-4\">\n<path style=\"stroke:none;\" d=\"M 1.3125 -3.25 L 1.3125 -3.5 C 1.3125 -6 2.546875 -6.359375 3.046875 -6.359375 C 3.28125 -6.359375 3.703125 -6.296875 3.921875 -5.96875 C 3.765625 -5.96875 3.375 -5.96875 3.375 -5.515625 C 3.375 -5.203125 3.609375 -5.0625 3.828125 -5.0625 C 3.984375 -5.0625 4.28125 -5.15625 4.28125 -5.53125 C 4.28125 -6.125 3.84375 -6.609375 3.03125 -6.609375 C 1.75 -6.609375 0.421875 -5.328125 0.421875 -3.140625 C 0.421875 -0.484375 1.5625 0.21875 2.484375 0.21875 C 3.59375 0.21875 4.53125 -0.71875 4.53125 -2.03125 C 4.53125 -3.28125 3.65625 -4.234375 2.546875 -4.234375 C 1.875 -4.234375 1.515625 -3.734375 1.3125 -3.25 Z M 2.484375 -0.0625 C 1.859375 -0.0625 1.5625 -0.65625 1.515625 -0.796875 C 1.328125 -1.265625 1.328125 -2.0625 1.328125 -2.25 C 1.328125 -3.015625 1.640625 -4.015625 2.546875 -4.015625 C 2.703125 -4.015625 3.15625 -4.015625 3.46875 -3.390625 C 3.640625 -3.03125 3.640625 -2.515625 3.640625 -2.03125 C 3.640625 -1.5625 3.640625 -1.0625 3.46875 -0.703125 C 3.171875 -0.109375 2.71875 -0.0625 2.484375 -0.0625 Z M 2.484375 -0.0625 \"/>\n</symbol>\n<symbol overflow=\"visible\" id=\"glyph-1637105904321172-1-5\">\n<path style=\"stroke:none;\" d=\"M 5.78125 -2.5625 L 5.53125 -2.5625 C 5.421875 -1.546875 5.28125 -0.3125 3.53125 -0.3125 L 2.71875 -0.3125 C 2.25 -0.3125 2.234375 -0.375 2.234375 -0.703125 L 2.234375 -6 C 2.234375 -6.328125 2.234375 -6.46875 3.171875 -6.46875 L 3.5 -6.46875 L 3.5 -6.78125 C 3.140625 -6.75 2.25 -6.75 1.828125 -6.75 C 1.453125 -6.75 0.671875 -6.75 0.328125 -6.78125 L 0.328125 -6.46875 L 0.5625 -6.46875 C 1.328125 -6.46875 1.34375 -6.359375 1.34375 -6 L 1.34375 -0.78125 C 1.34375 -0.421875 1.328125 -0.3125 0.5625 -0.3125 L 0.328125 -0.3125 L 0.328125 0 L 5.5 0 Z M 5.78125 -2.5625 \"/>\n</symbol>\n<symbol overflow=\"visible\" id=\"glyph-1637105904321172-1-6\">\n<path style=\"stroke:none;\" d=\"M 4.671875 -2.125 C 4.671875 -3.390625 3.6875 -4.4375 2.484375 -4.4375 C 1.234375 -4.4375 0.28125 -3.359375 0.28125 -2.125 C 0.28125 -0.84375 1.3125 0.109375 2.46875 0.109375 C 3.671875 0.109375 4.671875 -0.859375 4.671875 -2.125 Z M 2.484375 -0.140625 C 2.046875 -0.140625 1.625 -0.34375 1.34375 -0.796875 C 1.09375 -1.234375 1.09375 -1.84375 1.09375 -2.203125 C 1.09375 -2.59375 1.09375 -3.125 1.34375 -3.5625 C 1.609375 -4.015625 2.078125 -4.234375 2.46875 -4.234375 C 2.90625 -4.234375 3.328125 -4.015625 3.59375 -3.578125 C 3.84375 -3.15625 3.84375 -2.578125 3.84375 -2.203125 C 3.84375 -1.84375 3.84375 -1.3125 3.625 -0.875 C 3.40625 -0.421875 2.96875 -0.140625 2.484375 -0.140625 Z M 2.484375 -0.140625 \"/>\n</symbol>\n<symbol overflow=\"visible\" id=\"glyph-1637105904321172-1-7\">\n<path style=\"stroke:none;\" d=\"M 2.203125 -1.703125 C 1.34375 -1.703125 1.34375 -2.703125 1.34375 -2.921875 C 1.34375 -3.1875 1.34375 -3.515625 1.5 -3.765625 C 1.578125 -3.875 1.8125 -4.15625 2.203125 -4.15625 C 3.0625 -4.15625 3.0625 -3.171875 3.0625 -2.9375 C 3.0625 -2.671875 3.0625 -2.34375 2.90625 -2.109375 C 2.828125 -1.984375 2.59375 -1.703125 2.203125 -1.703125 Z M 1.046875 -1.3125 C 1.046875 -1.359375 1.046875 -1.59375 1.21875 -1.78125 C 1.609375 -1.515625 2.015625 -1.484375 2.203125 -1.484375 C 3.125 -1.484375 3.8125 -2.15625 3.8125 -2.921875 C 3.8125 -3.296875 3.65625 -3.65625 3.40625 -3.890625 C 3.765625 -4.234375 4.125 -4.28125 4.296875 -4.28125 C 4.3125 -4.28125 4.359375 -4.28125 4.390625 -4.265625 C 4.28125 -4.234375 4.234375 -4.125 4.234375 -4 C 4.234375 -3.828125 4.359375 -3.703125 4.53125 -3.703125 C 4.625 -3.703125 4.8125 -3.78125 4.8125 -4.015625 C 4.8125 -4.171875 4.6875 -4.5 4.3125 -4.5 C 4.109375 -4.5 3.671875 -4.4375 3.25 -4.03125 C 2.84375 -4.359375 2.421875 -4.390625 2.203125 -4.390625 C 1.28125 -4.390625 0.59375 -3.703125 0.59375 -2.9375 C 0.59375 -2.5 0.8125 -2.125 1.0625 -1.921875 C 0.9375 -1.765625 0.75 -1.4375 0.75 -1.09375 C 0.75 -0.78125 0.890625 -0.40625 1.1875 -0.203125 C 0.59375 -0.046875 0.28125 0.390625 0.28125 0.78125 C 0.28125 1.5 1.265625 2.046875 2.46875 2.046875 C 3.640625 2.046875 4.671875 1.53125 4.671875 0.765625 C 4.671875 0.421875 4.53125 -0.09375 4.03125 -0.359375 C 3.5 -0.640625 2.921875 -0.640625 2.328125 -0.640625 C 2.078125 -0.640625 1.640625 -0.640625 1.578125 -0.65625 C 1.265625 -0.6875 1.046875 -1 1.046875 -1.3125 Z M 2.484375 1.8125 C 1.484375 1.8125 0.796875 1.3125 0.796875 0.78125 C 0.796875 0.328125 1.171875 -0.046875 1.609375 -0.0625 L 2.1875 -0.0625 C 3.046875 -0.0625 4.15625 -0.0625 4.15625 0.78125 C 4.15625 1.3125 3.453125 1.8125 2.484375 1.8125 Z M 2.484375 1.8125 \"/>\n</symbol>\n<symbol overflow=\"visible\" id=\"glyph-1637105904321172-1-8\">\n<path style=\"stroke:none;\" d=\"M 1.75 -4.390625 L 0.359375 -4.28125 L 0.359375 -3.96875 C 1.015625 -3.96875 1.09375 -3.90625 1.09375 -3.421875 L 1.09375 -0.75 C 1.09375 -0.3125 0.984375 -0.3125 0.328125 -0.3125 L 0.328125 0 C 0.640625 -0.015625 1.1875 -0.03125 1.421875 -0.03125 C 1.765625 -0.03125 2.109375 -0.015625 2.453125 0 L 2.453125 -0.3125 C 1.796875 -0.3125 1.75 -0.359375 1.75 -0.75 Z M 1.796875 -6.109375 C 1.796875 -6.421875 1.546875 -6.640625 1.265625 -6.640625 C 0.96875 -6.640625 0.75 -6.375 0.75 -6.109375 C 0.75 -5.84375 0.96875 -5.59375 1.265625 -5.59375 C 1.546875 -5.59375 1.796875 -5.796875 1.796875 -6.109375 Z M 1.796875 -6.109375 \"/>\n</symbol>\n<symbol overflow=\"visible\" id=\"glyph-1637105904321172-1-9\">\n<path style=\"stroke:none;\" d=\"M 1.046875 -0.75 C 1.046875 -0.3125 0.9375 -0.3125 0.28125 -0.3125 L 0.28125 0 C 0.609375 -0.015625 1.078125 -0.03125 1.359375 -0.03125 C 1.65625 -0.03125 2.046875 -0.015625 2.453125 0 L 2.453125 -0.3125 C 1.78125 -0.3125 1.671875 -0.3125 1.671875 -0.75 L 1.671875 -1.78125 L 2.3125 -2.328125 C 3.078125 -1.265625 3.5 -0.71875 3.5 -0.53125 C 3.5 -0.34375 3.328125 -0.3125 3.140625 -0.3125 L 3.140625 0 C 3.40625 -0.015625 4 -0.03125 4.203125 -0.03125 C 4.5 -0.03125 4.78125 -0.015625 5.0625 0 L 5.0625 -0.3125 C 4.703125 -0.3125 4.484375 -0.3125 4.109375 -0.828125 L 2.84375 -2.609375 C 2.84375 -2.625 2.78125 -2.6875 2.78125 -2.71875 C 2.78125 -2.765625 3.5 -3.359375 3.59375 -3.4375 C 4.21875 -3.9375 4.640625 -3.953125 4.84375 -3.96875 L 4.84375 -4.28125 C 4.546875 -4.25 4.421875 -4.25 4.140625 -4.25 C 3.796875 -4.25 3.171875 -4.265625 3.03125 -4.28125 L 3.03125 -3.96875 C 3.21875 -3.953125 3.328125 -3.84375 3.328125 -3.71875 C 3.328125 -3.515625 3.1875 -3.40625 3.109375 -3.328125 L 1.703125 -2.125 L 1.703125 -6.890625 L 0.28125 -6.78125 L 0.28125 -6.46875 C 0.96875 -6.46875 1.046875 -6.40625 1.046875 -5.90625 Z M 1.046875 -0.75 \"/>\n</symbol>\n<symbol overflow=\"visible\" id=\"glyph-1637105904321172-1-10\">\n<path style=\"stroke:none;\" d=\"M 1.109375 -2.5 C 1.171875 -3.984375 2 -4.234375 2.34375 -4.234375 C 3.359375 -4.234375 3.46875 -2.890625 3.46875 -2.5 Z M 1.09375 -2.296875 L 3.875 -2.296875 C 4.09375 -2.296875 4.125 -2.296875 4.125 -2.5 C 4.125 -3.484375 3.578125 -4.4375 2.34375 -4.4375 C 1.1875 -4.4375 0.28125 -3.421875 0.28125 -2.1875 C 0.28125 -0.859375 1.3125 0.109375 2.453125 0.109375 C 3.671875 0.109375 4.125 -0.984375 4.125 -1.1875 C 4.125 -1.28125 4.03125 -1.296875 3.984375 -1.296875 C 3.90625 -1.296875 3.875 -1.234375 3.859375 -1.15625 C 3.515625 -0.140625 2.625 -0.140625 2.515625 -0.140625 C 2.03125 -0.140625 1.625 -0.4375 1.40625 -0.796875 C 1.09375 -1.28125 1.09375 -1.9375 1.09375 -2.296875 Z M 1.09375 -2.296875 \"/>\n</symbol>\n<symbol overflow=\"visible\" id=\"glyph-1637105904321172-1-11\">\n<path style=\"stroke:none;\" d=\"M 1.75 -6.890625 L 0.328125 -6.78125 L 0.328125 -6.46875 C 1.015625 -6.46875 1.09375 -6.40625 1.09375 -5.90625 L 1.09375 -0.75 C 1.09375 -0.3125 0.984375 -0.3125 0.328125 -0.3125 L 0.328125 0 C 0.65625 -0.015625 1.1875 -0.03125 1.421875 -0.03125 C 1.671875 -0.03125 2.15625 -0.015625 2.53125 0 L 2.53125 -0.3125 C 1.859375 -0.3125 1.75 -0.3125 1.75 -0.75 Z M 1.75 -6.890625 \"/>\n</symbol>\n<symbol overflow=\"visible\" id=\"glyph-1637105904321172-1-12\">\n<path style=\"stroke:none;\" d=\"M 1.09375 -0.75 C 1.09375 -0.3125 0.984375 -0.3125 0.3125 -0.3125 L 0.3125 0 C 0.671875 -0.015625 1.171875 -0.03125 1.4375 -0.03125 C 1.703125 -0.03125 2.21875 -0.015625 2.546875 0 L 2.546875 -0.3125 C 1.890625 -0.3125 1.78125 -0.3125 1.78125 -0.75 L 1.78125 -2.578125 C 1.78125 -3.609375 2.484375 -4.171875 3.109375 -4.171875 C 3.734375 -4.171875 3.84375 -3.625 3.84375 -3.0625 L 3.84375 -0.75 C 3.84375 -0.3125 3.734375 -0.3125 3.078125 -0.3125 L 3.078125 0 C 3.421875 -0.015625 3.921875 -0.03125 4.203125 -0.03125 C 4.453125 -0.03125 4.96875 -0.015625 5.3125 0 L 5.3125 -0.3125 C 4.796875 -0.3125 4.546875 -0.3125 4.53125 -0.609375 L 4.53125 -2.5 C 4.53125 -3.359375 4.53125 -3.65625 4.234375 -4.015625 C 4.09375 -4.1875 3.765625 -4.390625 3.1875 -4.390625 C 2.34375 -4.390625 1.921875 -3.796875 1.75 -3.40625 L 1.75 -6.890625 L 0.3125 -6.78125 L 0.3125 -6.46875 C 1.015625 -6.46875 1.09375 -6.40625 1.09375 -5.90625 Z M 1.09375 -0.75 \"/>\n</symbol>\n<symbol overflow=\"visible\" id=\"glyph-1637105904321172-1-13\">\n<path style=\"stroke:none;\" d=\"M 3.765625 -0.546875 L 3.765625 0.109375 L 5.234375 0 L 5.234375 -0.3125 C 4.53125 -0.3125 4.453125 -0.375 4.453125 -0.859375 L 4.453125 -6.890625 L 3.03125 -6.78125 L 3.03125 -6.46875 C 3.71875 -6.46875 3.796875 -6.40625 3.796875 -5.90625 L 3.796875 -3.765625 C 3.515625 -4.125 3.078125 -4.390625 2.546875 -4.390625 C 1.375 -4.390625 0.34375 -3.40625 0.34375 -2.140625 C 0.34375 -0.875 1.3125 0.109375 2.4375 0.109375 C 3.078125 0.109375 3.515625 -0.234375 3.765625 -0.546875 Z M 3.765625 -3.203125 L 3.765625 -1.171875 C 3.765625 -0.984375 3.765625 -0.96875 3.65625 -0.796875 C 3.359375 -0.328125 2.921875 -0.109375 2.484375 -0.109375 C 2.046875 -0.109375 1.6875 -0.359375 1.453125 -0.75 C 1.1875 -1.15625 1.15625 -1.71875 1.15625 -2.125 C 1.15625 -2.484375 1.1875 -3.078125 1.46875 -3.53125 C 1.671875 -3.84375 2.046875 -4.171875 2.59375 -4.171875 C 2.9375 -4.171875 3.359375 -4.015625 3.65625 -3.578125 C 3.765625 -3.40625 3.765625 -3.390625 3.765625 -3.203125 Z M 3.765625 -3.203125 \"/>\n</symbol>\n<symbol overflow=\"visible\" id=\"glyph-1637105904321172-1-14\">\n<path style=\"stroke:none;\" d=\"M 2.21875 -3.5 L 2.21875 -6.078125 C 2.21875 -6.296875 2.21875 -6.421875 2.4375 -6.453125 C 2.546875 -6.46875 2.828125 -6.46875 3.03125 -6.46875 C 3.921875 -6.46875 5.03125 -6.421875 5.03125 -4.984375 C 5.03125 -4.3125 4.796875 -3.5 3.328125 -3.5 Z M 4.3125 -3.375 C 5.28125 -3.609375 6.046875 -4.21875 6.046875 -4.984375 C 6.046875 -5.9375 4.921875 -6.78125 3.46875 -6.78125 L 0.34375 -6.78125 L 0.34375 -6.46875 L 0.578125 -6.46875 C 1.34375 -6.46875 1.375 -6.359375 1.375 -6 L 1.375 -0.78125 C 1.375 -0.421875 1.34375 -0.3125 0.578125 -0.3125 L 0.34375 -0.3125 L 0.34375 0 C 0.703125 -0.03125 1.40625 -0.03125 1.796875 -0.03125 C 2.1875 -0.03125 2.890625 -0.03125 3.25 0 L 3.25 -0.3125 L 3 -0.3125 C 2.25 -0.3125 2.21875 -0.421875 2.21875 -0.78125 L 2.21875 -3.28125 L 3.359375 -3.28125 C 3.515625 -3.28125 3.9375 -3.28125 4.28125 -2.953125 C 4.65625 -2.59375 4.65625 -2.28125 4.65625 -1.625 C 4.65625 -0.96875 4.65625 -0.578125 5.0625 -0.203125 C 5.484375 0.15625 6.015625 0.21875 6.3125 0.21875 C 7.09375 0.21875 7.265625 -0.59375 7.265625 -0.875 C 7.265625 -0.9375 7.265625 -1.046875 7.140625 -1.046875 C 7.03125 -1.046875 7.03125 -0.953125 7.015625 -0.890625 C 6.953125 -0.171875 6.609375 0 6.359375 0 C 5.875 0 5.796875 -0.5 5.65625 -1.421875 L 5.53125 -2.21875 C 5.34375 -2.859375 4.859375 -3.1875 4.3125 -3.375 Z M 4.3125 -3.375 \"/>\n</symbol>\n<symbol overflow=\"visible\" id=\"glyph-1637105904321172-1-15\">\n<path style=\"stroke:none;\" d=\"M 2.0625 -1.921875 C 2.28125 -1.890625 3.09375 -1.71875 3.09375 -1.015625 C 3.09375 -0.5 2.75 -0.109375 1.96875 -0.109375 C 1.140625 -0.109375 0.78125 -0.671875 0.59375 -1.515625 C 0.5625 -1.640625 0.5625 -1.6875 0.453125 -1.6875 C 0.328125 -1.6875 0.328125 -1.625 0.328125 -1.4375 L 0.328125 -0.125 C 0.328125 0.046875 0.328125 0.109375 0.4375 0.109375 C 0.484375 0.109375 0.5 0.09375 0.6875 -0.09375 C 0.703125 -0.109375 0.703125 -0.125 0.890625 -0.3125 C 1.3125 0.09375 1.765625 0.109375 1.96875 0.109375 C 3.109375 0.109375 3.578125 -0.5625 3.578125 -1.265625 C 3.578125 -1.796875 3.28125 -2.09375 3.15625 -2.21875 C 2.828125 -2.53125 2.4375 -2.609375 2.03125 -2.6875 C 1.46875 -2.796875 0.796875 -2.921875 0.796875 -3.5 C 0.796875 -3.84375 1.0625 -4.25 1.921875 -4.25 C 3 -4.25 3.0625 -3.359375 3.078125 -3.0625 C 3.078125 -2.96875 3.171875 -2.96875 3.1875 -2.96875 C 3.328125 -2.96875 3.328125 -3.015625 3.328125 -3.203125 L 3.328125 -4.203125 C 3.328125 -4.375 3.328125 -4.4375 3.21875 -4.4375 C 3.171875 -4.4375 3.140625 -4.4375 3.015625 -4.328125 C 2.984375 -4.28125 2.890625 -4.203125 2.84375 -4.171875 C 2.46875 -4.4375 2.0625 -4.4375 1.921875 -4.4375 C 0.703125 -4.4375 0.328125 -3.78125 0.328125 -3.21875 C 0.328125 -2.875 0.484375 -2.59375 0.75 -2.375 C 1.078125 -2.125 1.34375 -2.0625 2.0625 -1.921875 Z M 2.0625 -1.921875 \"/>\n</symbol>\n<symbol overflow=\"visible\" id=\"glyph-1637105904321172-1-16\">\n<path style=\"stroke:none;\" d=\"M 3.875 -0.78125 L 3.875 0.109375 L 5.3125 0 L 5.3125 -0.3125 C 4.609375 -0.3125 4.53125 -0.375 4.53125 -0.859375 L 4.53125 -4.390625 L 3.078125 -4.28125 L 3.078125 -3.96875 C 3.765625 -3.96875 3.84375 -3.90625 3.84375 -3.40625 L 3.84375 -1.640625 C 3.84375 -0.78125 3.375 -0.109375 2.65625 -0.109375 C 1.8125 -0.109375 1.78125 -0.578125 1.78125 -1.09375 L 1.78125 -4.390625 L 0.3125 -4.28125 L 0.3125 -3.96875 C 1.09375 -3.96875 1.09375 -3.9375 1.09375 -3.0625 L 1.09375 -1.5625 C 1.09375 -0.796875 1.09375 0.109375 2.59375 0.109375 C 3.15625 0.109375 3.59375 -0.171875 3.875 -0.78125 Z M 3.875 -0.78125 \"/>\n</symbol>\n<symbol overflow=\"visible\" id=\"glyph-1637105904321172-1-17\">\n<path style=\"stroke:none;\" d=\"M 1.71875 -3.96875 L 3.140625 -3.96875 L 3.140625 -4.28125 L 1.71875 -4.28125 L 1.71875 -6.109375 L 1.46875 -6.109375 C 1.453125 -5.28125 1.15625 -4.234375 0.1875 -4.1875 L 0.1875 -3.96875 L 1.03125 -3.96875 L 1.03125 -1.234375 C 1.03125 -0.015625 1.953125 0.109375 2.3125 0.109375 C 3.015625 0.109375 3.296875 -0.59375 3.296875 -1.234375 L 3.296875 -1.796875 L 3.046875 -1.796875 L 3.046875 -1.25 C 3.046875 -0.515625 2.75 -0.140625 2.375 -0.140625 C 1.71875 -0.140625 1.71875 -1.046875 1.71875 -1.203125 Z M 1.71875 -3.96875 \"/>\n</symbol>\n<symbol overflow=\"visible\" id=\"glyph-1637105904321172-1-18\">\n<path style=\"stroke:none;\" d=\"M 1.734375 -4.28125 L 1.734375 -5.421875 C 1.734375 -6.296875 2.21875 -6.78125 2.65625 -6.78125 C 2.671875 -6.78125 2.828125 -6.78125 2.96875 -6.703125 C 2.859375 -6.671875 2.671875 -6.53125 2.671875 -6.296875 C 2.671875 -6.0625 2.84375 -5.859375 3.109375 -5.859375 C 3.390625 -5.859375 3.546875 -6.0625 3.546875 -6.296875 C 3.546875 -6.671875 3.171875 -7 2.65625 -7 C 1.953125 -7 1.109375 -6.46875 1.109375 -5.421875 L 1.109375 -4.28125 L 0.328125 -4.28125 L 0.328125 -3.96875 L 1.109375 -3.96875 L 1.109375 -0.75 C 1.109375 -0.3125 1 -0.3125 0.34375 -0.3125 L 0.34375 0 C 0.71875 -0.015625 1.1875 -0.03125 1.46875 -0.03125 C 1.859375 -0.03125 2.328125 -0.03125 2.734375 0 L 2.734375 -0.3125 L 2.515625 -0.3125 C 1.78125 -0.3125 1.765625 -0.421875 1.765625 -0.78125 L 1.765625 -3.96875 L 2.890625 -3.96875 L 2.890625 -4.28125 Z M 1.734375 -4.28125 \"/>\n</symbol>\n<symbol overflow=\"visible\" id=\"glyph-1637105904321172-1-19\">\n<path style=\"stroke:none;\" d=\"M 3.28125 -3.96875 C 3.734375 -3.96875 3.796875 -3.84375 3.796875 -3.4375 L 3.796875 -0.75 C 3.796875 -0.3125 3.6875 -0.3125 3.03125 -0.3125 L 3.03125 0 C 3.359375 -0.015625 3.875 -0.03125 4.125 -0.03125 C 4.375 -0.03125 4.859375 -0.015625 5.234375 0 L 5.234375 -0.3125 C 4.5625 -0.3125 4.453125 -0.3125 4.453125 -0.75 L 4.453125 -4.390625 L 3.203125 -4.3125 C 3.046875 -4.296875 3.03125 -4.28125 3.03125 -4.28125 C 3 -4.28125 2.984375 -4.28125 2.84375 -4.28125 L 1.671875 -4.28125 L 1.671875 -5.390625 C 1.671875 -6.375 2.53125 -6.78125 3.140625 -6.78125 C 3.4375 -6.78125 3.796875 -6.671875 4 -6.453125 C 3.59375 -6.421875 3.53125 -6.15625 3.53125 -6 C 3.53125 -5.671875 3.796875 -5.53125 3.984375 -5.53125 C 4.203125 -5.53125 4.4375 -5.6875 4.4375 -6 C 4.4375 -6.578125 3.890625 -7 3.15625 -7 C 2.234375 -7 1.046875 -6.484375 1.046875 -5.40625 L 1.046875 -4.28125 L 0.265625 -4.28125 L 0.265625 -3.96875 L 1.046875 -3.96875 L 1.046875 -0.75 C 1.046875 -0.3125 0.9375 -0.3125 0.28125 -0.3125 L 0.28125 0 C 0.609375 -0.015625 1.125 -0.03125 1.375 -0.03125 C 1.625 -0.03125 2.109375 -0.015625 2.484375 0 L 2.484375 -0.3125 C 1.8125 -0.3125 1.703125 -0.3125 1.703125 -0.75 L 1.703125 -3.96875 Z M 3.28125 -3.96875 \"/>\n</symbol>\n<symbol overflow=\"visible\" id=\"glyph-1637105904321172-1-20\">\n<path style=\"stroke:none;\" d=\"M 1.09375 -3.40625 L 1.09375 -0.75 C 1.09375 -0.3125 0.984375 -0.3125 0.3125 -0.3125 L 0.3125 0 C 0.671875 -0.015625 1.171875 -0.03125 1.4375 -0.03125 C 1.703125 -0.03125 2.21875 -0.015625 2.546875 0 L 2.546875 -0.3125 C 1.890625 -0.3125 1.78125 -0.3125 1.78125 -0.75 L 1.78125 -2.578125 C 1.78125 -3.609375 2.484375 -4.171875 3.109375 -4.171875 C 3.734375 -4.171875 3.84375 -3.625 3.84375 -3.0625 L 3.84375 -0.75 C 3.84375 -0.3125 3.734375 -0.3125 3.078125 -0.3125 L 3.078125 0 C 3.421875 -0.015625 3.921875 -0.03125 4.203125 -0.03125 C 4.453125 -0.03125 4.96875 -0.015625 5.3125 0 L 5.3125 -0.3125 C 4.796875 -0.3125 4.546875 -0.3125 4.53125 -0.609375 L 4.53125 -2.5 C 4.53125 -3.359375 4.53125 -3.65625 4.234375 -4.015625 C 4.09375 -4.1875 3.765625 -4.390625 3.1875 -4.390625 C 2.453125 -4.390625 2 -3.953125 1.71875 -3.34375 L 1.71875 -4.390625 L 0.3125 -4.28125 L 0.3125 -3.96875 C 1.015625 -3.96875 1.09375 -3.90625 1.09375 -3.40625 Z M 1.09375 -3.40625 \"/>\n</symbol>\n<symbol overflow=\"visible\" id=\"glyph-1637105904321172-1-21\">\n<path style=\"stroke:none;\" d=\"M 3.796875 -3.96875 L 3.796875 -0.75 C 3.796875 -0.3125 3.6875 -0.3125 3.03125 -0.3125 L 3.03125 0 C 3.359375 -0.015625 3.875 -0.03125 4.125 -0.03125 C 4.375 -0.03125 4.859375 -0.015625 5.234375 0 L 5.234375 -0.3125 C 4.5625 -0.3125 4.453125 -0.3125 4.453125 -0.75 L 4.453125 -6.890625 L 4.09375 -6.828125 C 4.0625 -6.828125 4.046875 -6.84375 4.015625 -6.859375 C 3.6875 -7 3.28125 -7 3.171875 -7 C 2.140625 -7 1.046875 -6.4375 1.046875 -5.40625 L 1.046875 -4.28125 L 0.265625 -4.28125 L 0.265625 -3.96875 L 1.046875 -3.96875 L 1.046875 -0.75 C 1.046875 -0.3125 0.9375 -0.3125 0.28125 -0.3125 L 0.28125 0 C 0.609375 -0.015625 1.125 -0.03125 1.375 -0.03125 C 1.625 -0.03125 2.109375 -0.015625 2.484375 0 L 2.484375 -0.3125 C 1.8125 -0.3125 1.703125 -0.3125 1.703125 -0.75 L 1.703125 -3.96875 Z M 3.796875 -4.28125 L 1.671875 -4.28125 L 1.671875 -5.390625 C 1.671875 -6.3125 2.4375 -6.78125 3.171875 -6.78125 C 3.25 -6.78125 3.515625 -6.78125 3.796875 -6.6875 C 3.703125 -6.640625 3.546875 -6.546875 3.546875 -6.296875 C 3.546875 -6.109375 3.625 -5.96875 3.796875 -5.90625 Z M 3.796875 -4.28125 \"/>\n</symbol>\n<symbol overflow=\"visible\" id=\"glyph-1637105904321172-1-22\">\n<path style=\"stroke:none;\" d=\"M 6.140625 -3.328125 C 6.3125 -3.828125 6.625 -3.953125 6.96875 -3.96875 L 6.96875 -4.28125 C 6.75 -4.25 6.46875 -4.25 6.25 -4.25 C 5.96875 -4.25 5.515625 -4.265625 5.328125 -4.28125 L 5.328125 -3.96875 C 5.6875 -3.953125 5.90625 -3.78125 5.90625 -3.5 C 5.90625 -3.4375 5.90625 -3.40625 5.859375 -3.28125 L 4.953125 -0.75 L 3.96875 -3.515625 C 3.921875 -3.625 3.921875 -3.65625 3.921875 -3.703125 C 3.921875 -3.96875 4.3125 -3.96875 4.5 -3.96875 L 4.5 -4.28125 C 4.21875 -4.265625 3.703125 -4.25 3.46875 -4.25 C 3.171875 -4.25 2.890625 -4.25 2.59375 -4.28125 L 2.59375 -3.96875 C 2.953125 -3.96875 3.109375 -3.953125 3.21875 -3.8125 C 3.265625 -3.765625 3.375 -3.46875 3.4375 -3.28125 L 2.59375 -0.875 L 1.640625 -3.515625 C 1.59375 -3.640625 1.59375 -3.65625 1.59375 -3.703125 C 1.59375 -3.96875 1.984375 -3.96875 2.1875 -3.96875 L 2.1875 -4.28125 C 1.890625 -4.265625 1.328125 -4.25 1.09375 -4.25 C 1.0625 -4.25 0.53125 -4.25 0.171875 -4.28125 L 0.171875 -3.96875 C 0.671875 -3.96875 0.796875 -3.9375 0.90625 -3.625 L 2.15625 -0.109375 C 2.21875 0.03125 2.25 0.109375 2.375 0.109375 C 2.5 0.109375 2.515625 0.046875 2.5625 -0.09375 L 3.578125 -2.890625 L 4.578125 -0.078125 C 4.625 0.03125 4.65625 0.109375 4.78125 0.109375 C 4.90625 0.109375 4.9375 0.015625 4.984375 -0.078125 Z M 6.140625 -3.328125 \"/>\n</symbol>\n<symbol overflow=\"visible\" id=\"glyph-1637105904321172-1-23\">\n<path style=\"stroke:none;\" d=\"M 1.703125 -3.734375 L 1.703125 -4.390625 L 0.28125 -4.28125 L 0.28125 -3.96875 C 0.984375 -3.96875 1.046875 -3.90625 1.046875 -3.46875 L 1.046875 1.171875 C 1.046875 1.625 0.9375 1.625 0.28125 1.625 L 0.28125 1.921875 C 0.609375 1.921875 1.125 1.890625 1.390625 1.890625 C 1.65625 1.890625 2.15625 1.921875 2.515625 1.921875 L 2.515625 1.625 C 1.84375 1.625 1.734375 1.625 1.734375 1.171875 L 1.734375 -0.578125 C 1.78125 -0.421875 2.203125 0.109375 2.953125 0.109375 C 4.140625 0.109375 5.171875 -0.859375 5.171875 -2.140625 C 5.171875 -3.40625 4.203125 -4.390625 3.09375 -4.390625 C 2.328125 -4.390625 1.90625 -3.953125 1.703125 -3.734375 Z M 1.734375 -1.125 L 1.734375 -3.34375 C 2.03125 -3.84375 2.515625 -4.140625 3.015625 -4.140625 C 3.734375 -4.140625 4.34375 -3.265625 4.34375 -2.140625 C 4.34375 -0.9375 3.65625 -0.109375 2.921875 -0.109375 C 2.515625 -0.109375 2.140625 -0.3125 1.875 -0.71875 C 1.734375 -0.921875 1.734375 -0.9375 1.734375 -1.125 Z M 1.734375 -1.125 \"/>\n</symbol>\n<symbol overflow=\"visible\" id=\"glyph-1637105904321172-1-24\">\n<path style=\"stroke:none;\" d=\"M 1.703125 -3.734375 L 1.703125 -6.890625 L 0.28125 -6.78125 L 0.28125 -6.46875 C 0.96875 -6.46875 1.046875 -6.40625 1.046875 -5.90625 L 1.046875 0 L 1.296875 0 C 1.3125 -0.015625 1.390625 -0.15625 1.65625 -0.609375 C 1.8125 -0.390625 2.21875 0.109375 2.953125 0.109375 C 4.140625 0.109375 5.171875 -0.859375 5.171875 -2.140625 C 5.171875 -3.40625 4.203125 -4.390625 3.0625 -4.390625 C 2.296875 -4.390625 1.859375 -3.921875 1.703125 -3.734375 Z M 1.734375 -1.125 L 1.734375 -3.171875 C 1.734375 -3.359375 1.734375 -3.375 1.84375 -3.53125 C 2.234375 -4.09375 2.78125 -4.171875 3.015625 -4.171875 C 3.46875 -4.171875 3.8125 -3.90625 4.0625 -3.53125 C 4.3125 -3.125 4.34375 -2.5625 4.34375 -2.15625 C 4.34375 -1.78125 4.328125 -1.1875 4.03125 -0.75 C 3.828125 -0.4375 3.453125 -0.109375 2.921875 -0.109375 C 2.46875 -0.109375 2.109375 -0.34375 1.875 -0.71875 C 1.734375 -0.921875 1.734375 -0.953125 1.734375 -1.125 Z M 1.734375 -1.125 \"/>\n</symbol>\n<symbol overflow=\"visible\" id=\"glyph-1637105904321172-1-25\">\n<path style=\"stroke:none;\" d=\"M 3.296875 -0.75 C 3.34375 -0.359375 3.609375 0.0625 4.078125 0.0625 C 4.28125 0.0625 4.890625 -0.078125 4.890625 -0.890625 L 4.890625 -1.4375 L 4.640625 -1.4375 L 4.640625 -0.890625 C 4.640625 -0.3125 4.390625 -0.25 4.28125 -0.25 C 3.953125 -0.25 3.921875 -0.6875 3.921875 -0.75 L 3.921875 -2.734375 C 3.921875 -3.140625 3.921875 -3.53125 3.5625 -3.90625 C 3.171875 -4.28125 2.671875 -4.4375 2.203125 -4.4375 C 1.390625 -4.4375 0.703125 -3.984375 0.703125 -3.328125 C 0.703125 -3.03125 0.90625 -2.859375 1.15625 -2.859375 C 1.4375 -2.859375 1.625 -3.0625 1.625 -3.3125 C 1.625 -3.4375 1.5625 -3.765625 1.109375 -3.765625 C 1.375 -4.125 1.859375 -4.234375 2.1875 -4.234375 C 2.671875 -4.234375 3.234375 -3.84375 3.234375 -2.953125 L 3.234375 -2.59375 C 2.734375 -2.5625 2.03125 -2.53125 1.40625 -2.234375 C 0.671875 -1.890625 0.421875 -1.375 0.421875 -0.9375 C 0.421875 -0.140625 1.375 0.109375 2 0.109375 C 2.65625 0.109375 3.109375 -0.28125 3.296875 -0.75 Z M 3.234375 -2.375 L 3.234375 -1.390625 C 3.234375 -0.453125 2.515625 -0.109375 2.078125 -0.109375 C 1.59375 -0.109375 1.1875 -0.453125 1.1875 -0.953125 C 1.1875 -1.5 1.59375 -2.328125 3.234375 -2.375 Z M 3.234375 -2.375 \"/>\n</symbol>\n<symbol overflow=\"visible\" id=\"glyph-1637105904321172-1-26\">\n<path style=\"stroke:none;\" d=\"M 4.125 -3.328125 C 4.375 -3.953125 4.875 -3.96875 5.046875 -3.96875 L 5.046875 -4.28125 C 4.8125 -4.25 4.53125 -4.25 4.296875 -4.25 C 4.125 -4.25 3.65625 -4.265625 3.4375 -4.28125 L 3.4375 -3.96875 C 3.734375 -3.953125 3.90625 -3.796875 3.90625 -3.546875 C 3.90625 -3.4375 3.890625 -3.421875 3.84375 -3.296875 L 2.84375 -0.859375 L 1.734375 -3.53125 C 1.703125 -3.625 1.671875 -3.671875 1.671875 -3.703125 C 1.671875 -3.96875 2.046875 -3.96875 2.234375 -3.96875 L 2.234375 -4.28125 C 1.96875 -4.265625 1.3125 -4.25 1.15625 -4.25 C 0.890625 -4.25 0.484375 -4.25 0.1875 -4.28125 L 0.1875 -3.96875 C 0.671875 -3.96875 0.859375 -3.96875 0.984375 -3.625 L 2.484375 0 C 2.4375 0.125 2.296875 0.453125 2.234375 0.578125 C 2.015625 1.125 1.734375 1.8125 1.09375 1.8125 C 1.046875 1.8125 0.828125 1.8125 0.640625 1.640625 C 0.9375 1.59375 1.015625 1.375 1.015625 1.21875 C 1.015625 0.96875 0.828125 0.796875 0.609375 0.796875 C 0.40625 0.796875 0.1875 0.9375 0.1875 1.234375 C 0.1875 1.671875 0.609375 2.03125 1.09375 2.03125 C 1.71875 2.03125 2.140625 1.46875 2.375 0.90625 Z M 4.125 -3.328125 \"/>\n</symbol>\n</g>\n<clipPath id=\"clip-1637105904321172-1\">\n  <path d=\"M 21 32 L 215.519531 32 L 215.519531 170 L 21 170 Z M 21 32 \"/>\n</clipPath>\n<clipPath id=\"clip-1637105904321172-2\">\n  <path d=\"M 21 21 L 215.519531 21 L 215.519531 183 L 21 183 Z M 21 21 \"/>\n</clipPath>\n</defs>\n<g id=\"surface1\">\n<path style=\"fill:none;stroke-width:0.19925;stroke-linecap:butt;stroke-linejoin:miter;stroke:rgb(50%,50%,50%);stroke-opacity:1;stroke-miterlimit:10;\" d=\"M -11.642773 -13.448858 L -11.642773 -9.199955 M 36.17307 -13.448858 L 36.17307 -9.199955 M 83.988913 -13.448858 L 83.988913 -9.199955 M 131.804756 -13.448858 L 131.804756 -9.199955 M -11.642773 147.942841 L -11.642773 143.690018 M 36.17307 147.942841 L 36.17307 143.690018 M 83.988913 147.942841 L 83.988913 143.690018 M 131.804756 147.942841 L 131.804756 143.690018 \" transform=\"matrix(0.996581,0,0,-0.996581,37.84515,169.323691)\"/>\n<g clip-path=\"url(#clip-1637105904321172-1)\" clip-rule=\"nonzero\">\n<path style=\"fill:none;stroke-width:0.19925;stroke-linecap:butt;stroke-linejoin:miter;stroke:rgb(50%,50%,50%);stroke-opacity:1;stroke-miterlimit:10;\" d=\"M -16.18957 -0.000529723 L -11.936747 -0.000529723 M -16.18957 45.588951 L -11.936747 45.588951 M -16.18957 91.182351 L -11.936747 91.182351 M -16.18957 136.771831 L -11.936747 136.771831 M 178.088015 -0.000529723 L 173.835192 -0.000529723 M 178.088015 45.588951 L 173.835192 45.588951 M 178.088015 91.182351 L 173.835192 91.182351 M 178.088015 136.771831 L 173.835192 136.771831 \" transform=\"matrix(0.996581,0,0,-0.996581,37.84515,169.323691)\"/>\n</g>\n<g clip-path=\"url(#clip-1637105904321172-2)\" clip-rule=\"nonzero\">\n<path style=\"fill:none;stroke-width:0.3985;stroke-linecap:butt;stroke-linejoin:miter;stroke:rgb(0%,0%,0%);stroke-opacity:1;stroke-miterlimit:10;\" d=\"M -16.18957 -13.448858 L -16.18957 147.942841 L 178.088015 147.942841 L 178.088015 -13.448858 Z M -16.18957 -13.448858 \" transform=\"matrix(0.996581,0,0,-0.996581,37.84515,169.323691)\"/>\n</g>\n<g style=\"fill:rgb(0%,0%,0%);fill-opacity:1;\">\n  <use xlink:href=\"#glyph-1637105904321172-0-1\" x=\"17.415247\" y=\"192.633712\"/>\n</g>\n<g style=\"fill:rgb(0%,0%,0%);fill-opacity:1;\">\n  <use xlink:href=\"#glyph-1637105904321172-1-1\" x=\"25.136754\" y=\"192.633712\"/>\n  <use xlink:href=\"#glyph-1637105904321172-1-2\" x=\"30.101041\" y=\"192.633712\"/>\n</g>\n<g style=\"fill:rgb(0%,0%,0%);fill-opacity:1;\">\n  <use xlink:href=\"#glyph-1637105904321172-1-2\" x=\"71.409986\" y=\"192.633712\"/>\n</g>\n<g style=\"fill:rgb(0%,0%,0%);fill-opacity:1;\">\n  <use xlink:href=\"#glyph-1637105904321172-1-1\" x=\"116.580004\" y=\"192.633712\"/>\n  <use xlink:href=\"#glyph-1637105904321172-1-2\" x=\"121.544291\" y=\"192.633712\"/>\n</g>\n<g style=\"fill:rgb(0%,0%,0%);fill-opacity:1;\">\n  <use xlink:href=\"#glyph-1637105904321172-1-3\" x=\"164.232504\" y=\"192.633712\"/>\n  <use xlink:href=\"#glyph-1637105904321172-1-2\" x=\"169.196791\" y=\"192.633712\"/>\n</g>\n<g style=\"fill:rgb(0%,0%,0%);fill-opacity:1;\">\n  <use xlink:href=\"#glyph-1637105904321172-1-2\" x=\"13.237581\" y=\"172.522715\"/>\n</g>\n<g style=\"fill:rgb(0%,0%,0%);fill-opacity:1;\">\n  <use xlink:href=\"#glyph-1637105904321172-1-1\" x=\"3.309644\" y=\"127.088603\"/>\n  <use xlink:href=\"#glyph-1637105904321172-1-2\" x=\"8.273931\" y=\"127.088603\"/>\n  <use xlink:href=\"#glyph-1637105904321172-1-2\" x=\"13.238219\" y=\"127.088603\"/>\n</g>\n<g style=\"fill:rgb(0%,0%,0%);fill-opacity:1;\">\n  <use xlink:href=\"#glyph-1637105904321172-1-3\" x=\"3.309644\" y=\"81.654491\"/>\n  <use xlink:href=\"#glyph-1637105904321172-1-2\" x=\"8.273931\" y=\"81.654491\"/>\n  <use xlink:href=\"#glyph-1637105904321172-1-2\" x=\"13.238219\" y=\"81.654491\"/>\n</g>\n<g style=\"fill:rgb(0%,0%,0%);fill-opacity:1;\">\n  <use xlink:href=\"#glyph-1637105904321172-1-4\" x=\"3.309644\" y=\"36.22038\"/>\n  <use xlink:href=\"#glyph-1637105904321172-1-2\" x=\"8.273931\" y=\"36.22038\"/>\n  <use xlink:href=\"#glyph-1637105904321172-1-2\" x=\"13.238219\" y=\"36.22038\"/>\n</g>\n<path style=\"fill-rule:nonzero;fill:rgb(75%,75%,75%);fill-opacity:0.5;stroke-width:0.3985;stroke-linecap:butt;stroke-linejoin:miter;stroke:rgb(50%,50%,50%);stroke-opacity:0.5;stroke-miterlimit:10;\" d=\"M 92.043799 -0.000529723 L 93.439196 -0.000529723 L 93.439196 0.685409 L 92.043799 0.685409 Z M 93.439196 -0.000529723 L 94.838512 -0.000529723 L 94.838512 2.053368 L 93.439196 2.053368 Z M 94.838512 -0.000529723 L 96.233908 -0.000529723 L 96.233908 6.380665 L 94.838512 6.380665 Z M 96.233908 -0.000529723 L 97.629304 -0.000529723 L 97.629304 16.638396 L 96.233908 16.638396 Z M 97.629304 -0.000529723 L 99.02862 -0.000529723 L 99.02862 23.70553 L 97.629304 23.70553 Z M 99.02862 -0.000529723 L 100.424017 -0.000529723 L 100.424017 22.110231 L 99.02862 22.110231 Z M 100.424017 -0.000529723 L 101.823333 -0.000529723 L 101.823333 29.632045 L 100.424017 29.632045 Z M 101.823333 -0.000529723 L 103.218729 -0.000529723 L 103.218729 33.508581 L 101.823333 33.508581 Z M 103.218729 -0.000529723 L 104.614125 -0.000529723 L 104.614125 40.803055 L 103.218729 40.803055 Z M 104.614125 -0.000529723 L 106.013441 -0.000529723 L 106.013441 41.257734 L 104.614125 41.257734 Z M 106.013441 -0.000529723 L 107.408838 -0.000529723 L 107.408838 38.980416 L 106.013441 38.980416 Z M 107.408838 -0.000529723 L 108.808154 -0.000529723 L 108.808154 48.552208 L 107.408838 48.552208 Z M 108.808154 -0.000529723 L 110.20355 -0.000529723 L 110.20355 48.097528 L 108.808154 48.097528 Z M 110.20355 -0.000529723 L 111.598946 -0.000529723 L 111.598946 58.809939 L 110.20355 58.809939 Z M 111.598946 -0.000529723 L 112.998262 -0.000529723 L 112.998262 66.790352 L 111.598946 66.790352 Z M 112.998262 -0.000529723 L 114.393659 -0.000529723 L 114.393659 74.084826 L 112.998262 74.084826 Z M 114.393659 -0.000529723 L 115.792975 -0.000529723 L 115.792975 91.178431 L 114.393659 91.178431 Z M 115.792975 -0.000529723 L 117.188371 -0.000529723 L 117.188371 95.964327 L 115.792975 95.964327 Z M 117.188371 -0.000529723 L 118.583767 -0.000529723 L 118.583767 108.048616 L 117.188371 108.048616 Z M 118.583767 -0.000529723 L 119.983083 -0.000529723 L 119.983083 127.650799 L 118.583767 127.650799 Z M 119.983083 -0.000529723 L 121.37848 -0.000529723 L 121.37848 134.490593 L 119.983083 134.490593 Z M 121.37848 -0.000529723 L 122.777796 -0.000529723 L 122.777796 123.092243 L 121.37848 123.092243 Z M 122.777796 -0.000529723 L 124.173192 -0.000529723 L 124.173192 115.79777 L 122.777796 115.79777 Z M 124.173192 -0.000529723 L 125.568589 -0.000529723 L 125.568589 106.222058 L 124.173192 106.222058 Z M 125.568589 -0.000529723 L 126.967905 -0.000529723 L 126.967905 93.001069 L 125.568589 93.001069 Z M 126.967905 -0.000529723 L 128.363301 -0.000529723 L 128.363301 83.201938 L 126.967905 83.201938 Z M 128.363301 -0.000529723 L 129.762617 -0.000529723 L 129.762617 73.398886 L 128.363301 73.398886 Z M 129.762617 -0.000529723 L 131.158013 -0.000529723 L 131.158013 65.649733 L 129.762617 65.649733 Z M 131.158013 -0.000529723 L 132.557329 -0.000529723 L 132.557329 62.231796 L 131.158013 62.231796 Z M 132.557329 -0.000529723 L 133.952726 -0.000529723 L 133.952726 51.288126 L 132.557329 51.288126 Z M 133.952726 -0.000529723 L 135.348122 -0.000529723 L 135.348122 51.742805 L 133.952726 51.742805 Z M 135.348122 -0.000529723 L 136.747438 -0.000529723 L 136.747438 40.803055 L 135.348122 40.803055 Z M 136.747438 -0.000529723 L 138.142834 -0.000529723 L 138.142834 37.839797 L 136.747438 37.839797 Z M 138.142834 -0.000529723 L 139.54215 -0.000529723 L 139.54215 35.789819 L 138.142834 35.789819 Z M 139.54215 -0.000529723 L 140.937547 -0.000529723 L 140.937547 34.42186 L 139.54215 34.42186 Z M 140.937547 -0.000529723 L 142.332943 -0.000529723 L 142.332943 30.545324 L 140.937547 30.545324 Z M 142.332943 -0.000529723 L 143.732259 -0.000529723 L 143.732259 26.896127 L 142.332943 26.896127 Z M 143.732259 -0.000529723 L 145.127655 -0.000529723 L 145.127655 26.441447 L 143.732259 26.441447 Z M 145.127655 -0.000529723 L 146.526971 -0.000529723 L 146.526971 17.324335 L 145.127655 17.324335 Z M 146.526971 -0.000529723 L 147.922368 -0.000529723 L 147.922368 21.200872 L 146.526971 21.200872 Z M 147.922368 -0.000529723 L 149.317764 -0.000529723 L 149.317764 16.869655 L 147.922368 16.869655 Z M 149.317764 -0.000529723 L 150.71708 -0.000529723 L 150.71708 15.274357 L 149.317764 15.274357 Z M 150.71708 -0.000529723 L 152.112477 -0.000529723 L 152.112477 11.39782 L 150.71708 11.39782 Z M 152.112477 -0.000529723 L 153.511793 -0.000529723 L 153.511793 9.575182 L 152.112477 9.575182 Z M 153.511793 -0.000529723 L 154.907189 -0.000529723 L 154.907189 10.257201 L 153.511793 10.257201 Z M 154.907189 -0.000529723 L 156.302585 -0.000529723 L 156.302585 3.417407 L 154.907189 3.417407 Z M 156.302585 -0.000529723 L 157.701901 -0.000529723 L 157.701901 3.190068 L 156.302585 3.190068 Z M 157.701901 -0.000529723 L 159.097298 -0.000529723 L 159.097298 0.22681 L 157.701901 0.22681 Z M 159.097298 -0.000529723 L 160.496614 -0.000529723 L 160.496614 2.053368 L 159.097298 2.053368 Z M 160.496614 -0.000529723 L 161.89201 -0.000529723 L 161.89201 0.912749 L 160.496614 0.912749 Z M 160.496614 -0.000529723 \" transform=\"matrix(0.996581,0,0,-0.996581,37.84515,169.323691)\"/>\n<path style=\"fill-rule:nonzero;fill:rgb(50%,75%,75%);fill-opacity:0.5;stroke-width:0.3985;stroke-linecap:butt;stroke-linejoin:miter;stroke:rgb(0%,50%,50%);stroke-opacity:0.5;stroke-miterlimit:10;\" d=\"M -0.0014048 -0.000529723 L 2.307271 -0.000529723 L 2.307271 0.22681 L -0.0014048 0.22681 Z M 2.307271 -0.000529723 L 4.615946 -0.000529723 L 4.615946 0.22681 L 2.307271 0.22681 Z M 4.615946 -0.000529723 L 6.924621 -0.000529723 L 6.924621 0.22681 L 4.615946 0.22681 Z M 6.924621 -0.000529723 L 9.229377 -0.000529723 Z M 9.229377 -0.000529723 L 11.538053 -0.000529723 L 11.538053 0.45415 L 9.229377 0.45415 Z M 11.538053 -0.000529723 L 13.846728 -0.000529723 L 13.846728 1.140089 L 11.538053 1.140089 Z M 13.846728 -0.000529723 L 16.155404 -0.000529723 L 16.155404 1.594769 L 13.846728 1.594769 Z M 16.155404 -0.000529723 L 18.460159 -0.000529723 L 18.460159 1.367429 L 16.155404 1.367429 Z M 18.460159 -0.000529723 L 20.768835 -0.000529723 L 20.768835 2.735388 L 18.460159 2.735388 Z M 20.768835 -0.000529723 L 23.07751 -0.000529723 L 23.07751 2.280708 L 20.768835 2.280708 Z M 23.07751 -0.000529723 L 25.386186 -0.000529723 L 25.386186 4.103347 L 23.07751 4.103347 Z M 25.386186 -0.000529723 L 27.690941 -0.000529723 L 27.690941 6.839264 L 25.386186 6.839264 Z M 27.690941 -0.000529723 L 29.999617 -0.000529723 L 29.999617 5.698645 L 27.690941 5.698645 Z M 29.999617 -0.000529723 L 32.308292 -0.000529723 L 32.308292 10.943141 L 29.999617 10.943141 Z M 32.308292 -0.000529723 L 34.613048 -0.000529723 L 34.613048 13.220459 L 32.308292 13.220459 Z M 34.613048 -0.000529723 L 36.921723 -0.000529723 L 36.921723 15.729036 L 34.613048 15.729036 Z M 36.921723 -0.000529723 L 39.230399 -0.000529723 L 39.230399 19.374313 L 36.921723 19.374313 Z M 39.230399 -0.000529723 L 41.539074 -0.000529723 L 41.539074 16.638396 L 39.230399 16.638396 Z M 41.539074 -0.000529723 L 43.84383 -0.000529723 L 43.84383 19.832913 L 41.539074 19.832913 Z M 43.84383 -0.000529723 L 46.152506 -0.000529723 L 46.152506 26.668787 L 43.84383 26.668787 Z M 46.152506 -0.000529723 L 48.461181 -0.000529723 L 48.461181 25.759428 L 46.152506 25.759428 Z M 48.461181 -0.000529723 L 50.769856 -0.000529723 L 50.769856 30.772663 L 48.461181 30.772663 Z M 50.769856 -0.000529723 L 53.074612 -0.000529723 L 53.074612 38.067137 L 50.769856 38.067137 Z M 53.074612 -0.000529723 L 55.383288 -0.000529723 L 55.383288 36.699178 L 53.074612 36.699178 Z M 55.383288 -0.000529723 L 57.691963 -0.000529723 L 57.691963 40.117115 L 55.383288 40.117115 Z M 57.691963 -0.000529723 L 60.000638 -0.000529723 L 60.000638 38.294477 L 57.691963 38.294477 Z M 60.000638 -0.000529723 L 62.305394 -0.000529723 L 62.305394 49.010807 L 60.000638 49.010807 Z M 62.305394 -0.000529723 L 64.61407 -0.000529723 L 64.61407 48.552208 L 62.305394 48.552208 Z M 64.61407 -0.000529723 L 66.922745 -0.000529723 L 66.922745 55.846682 L 64.61407 55.846682 Z M 66.922745 -0.000529723 L 69.231421 -0.000529723 L 69.231421 64.963794 L 66.922745 64.963794 Z M 69.231421 -0.000529723 L 71.536176 -0.000529723 L 71.536176 74.766845 L 69.231421 74.766845 Z M 71.536176 -0.000529723 L 73.844852 -0.000529723 L 73.844852 77.502763 L 71.536176 77.502763 Z M 73.844852 -0.000529723 L 76.153527 -0.000529723 L 76.153527 84.111297 L 73.844852 84.111297 Z M 76.153527 -0.000529723 L 78.462203 -0.000529723 L 78.462203 101.208822 L 76.153527 101.208822 Z M 78.462203 -0.000529723 L 80.766958 -0.000529723 L 80.766958 119.443046 L 78.462203 119.443046 Z M 80.766958 -0.000529723 L 83.075634 -0.000529723 L 83.075634 126.055501 L 80.766958 126.055501 Z M 83.075634 -0.000529723 L 85.384309 -0.000529723 L 85.384309 113.975131 L 83.075634 113.975131 Z M 85.384309 -0.000529723 L 87.692985 -0.000529723 L 87.692985 129.700778 L 85.384309 129.700778 Z M 87.692985 -0.000529723 L 89.99774 -0.000529723 L 89.99774 112.834512 L 87.692985 112.834512 Z M 89.99774 -0.000529723 L 92.306416 -0.000529723 L 92.306416 115.11575 L 89.99774 115.11575 Z M 92.306416 -0.000529723 L 94.615091 -0.000529723 L 94.615091 109.416575 L 92.306416 109.416575 Z M 94.615091 -0.000529723 L 96.919847 -0.000529723 L 96.919847 92.77373 L 94.615091 92.77373 Z M 96.919847 -0.000529723 L 99.228523 -0.000529723 L 99.228523 79.325401 L 96.919847 79.325401 Z M 99.228523 -0.000529723 L 101.537198 -0.000529723 L 101.537198 69.06767 L 99.228523 69.06767 Z M 101.537198 -0.000529723 L 103.845873 -0.000529723 L 103.845873 60.863837 L 101.537198 60.863837 Z M 103.845873 -0.000529723 L 106.150629 -0.000529723 L 106.150629 45.588951 L 103.845873 45.588951 Z M 106.150629 -0.000529723 L 108.459305 -0.000529723 L 108.459305 44.220992 L 106.150629 44.220992 Z M 108.459305 -0.000529723 L 110.76798 -0.000529723 L 110.76798 34.87654 L 108.459305 34.87654 Z M 110.76798 -0.000529723 L 113.076655 -0.000529723 L 113.076655 27.127386 L 110.76798 27.127386 Z M 113.076655 -0.000529723 L 115.381411 -0.000529723 L 115.381411 24.846149 L 113.076655 24.846149 Z M 115.381411 -0.000529723 L 117.690087 -0.000529723 L 117.690087 14.133738 L 115.381411 14.133738 Z M 117.690087 -0.000529723 L 119.998762 -0.000529723 L 119.998762 14.133738 L 117.690087 14.133738 Z M 119.998762 -0.000529723 L 122.307438 -0.000529723 L 122.307438 8.889243 L 119.998762 8.889243 Z M 122.307438 -0.000529723 L 124.612193 -0.000529723 L 124.612193 7.066604 L 122.307438 7.066604 Z M 124.612193 -0.000529723 L 126.920869 -0.000529723 L 126.920869 5.016626 L 124.612193 5.016626 Z M 126.920869 -0.000529723 L 129.229544 -0.000529723 L 129.229544 4.103347 L 126.920869 4.103347 Z M 129.229544 -0.000529723 L 131.53822 -0.000529723 L 131.53822 1.367429 L 129.229544 1.367429 Z M 131.53822 -0.000529723 L 133.842975 -0.000529723 L 133.842975 1.594769 L 131.53822 1.594769 Z M 133.842975 -0.000529723 L 136.151651 -0.000529723 L 136.151651 0.912749 L 133.842975 0.912749 Z M 136.151651 -0.000529723 L 138.460326 -0.000529723 L 138.460326 0.45415 L 136.151651 0.45415 Z M 138.460326 -0.000529723 L 140.769002 -0.000529723 L 140.769002 0.912749 L 138.460326 0.912749 Z M 140.769002 -0.000529723 L 143.073757 -0.000529723 L 143.073757 0.22681 L 140.769002 0.22681 Z M 143.073757 -0.000529723 L 145.382433 -0.000529723 L 145.382433 0.22681 L 143.073757 0.22681 Z M 145.382433 -0.000529723 L 147.691108 -0.000529723 L 147.691108 0.22681 L 145.382433 0.22681 Z M 145.382433 -0.000529723 \" transform=\"matrix(0.996581,0,0,-0.996581,37.84515,169.323691)\"/>\n<g style=\"fill:rgb(0%,0%,0%);fill-opacity:1;\">\n  <use xlink:href=\"#glyph-1637105904321172-1-5\" x=\"86.108554\" y=\"207.172827\"/>\n  <use xlink:href=\"#glyph-1637105904321172-1-6\" x=\"92.313913\" y=\"207.172827\"/>\n  <use xlink:href=\"#glyph-1637105904321172-1-7\" x=\"97.2782\" y=\"207.172827\"/>\n</g>\n<g style=\"fill:rgb(0%,0%,0%);fill-opacity:1;\">\n  <use xlink:href=\"#glyph-1637105904321172-1-5\" x=\"105.548702\" y=\"207.172827\"/>\n  <use xlink:href=\"#glyph-1637105904321172-1-8\" x=\"111.754061\" y=\"207.172827\"/>\n  <use xlink:href=\"#glyph-1637105904321172-1-9\" x=\"114.512219\" y=\"207.172827\"/>\n</g>\n<g style=\"fill:rgb(0%,0%,0%);fill-opacity:1;\">\n  <use xlink:href=\"#glyph-1637105904321172-1-10\" x=\"119.484449\" y=\"207.172827\"/>\n  <use xlink:href=\"#glyph-1637105904321172-1-11\" x=\"123.896707\" y=\"207.172827\"/>\n  <use xlink:href=\"#glyph-1637105904321172-1-8\" x=\"126.654865\" y=\"207.172827\"/>\n  <use xlink:href=\"#glyph-1637105904321172-1-12\" x=\"129.413023\" y=\"207.172827\"/>\n  <use xlink:href=\"#glyph-1637105904321172-1-6\" x=\"134.929339\" y=\"207.172827\"/>\n</g>\n<g style=\"fill:rgb(0%,0%,0%);fill-opacity:1;\">\n  <use xlink:href=\"#glyph-1637105904321172-1-6\" x=\"140.161698\" y=\"207.172827\"/>\n</g>\n<g style=\"fill:rgb(0%,0%,0%);fill-opacity:1;\">\n  <use xlink:href=\"#glyph-1637105904321172-1-13\" x=\"145.403985\" y=\"207.172827\"/>\n</g>\n<g style=\"fill:rgb(0%,0%,0%);fill-opacity:1;\">\n  <use xlink:href=\"#glyph-1637105904321172-1-14\" x=\"39.210465\" y=\"10.493651\"/>\n  <use xlink:href=\"#glyph-1637105904321172-1-10\" x=\"46.518889\" y=\"10.493651\"/>\n  <use xlink:href=\"#glyph-1637105904321172-1-15\" x=\"50.931147\" y=\"10.493651\"/>\n  <use xlink:href=\"#glyph-1637105904321172-1-16\" x=\"54.846977\" y=\"10.493651\"/>\n  <use xlink:href=\"#glyph-1637105904321172-1-11\" x=\"60.363293\" y=\"10.493651\"/>\n  <use xlink:href=\"#glyph-1637105904321172-1-17\" x=\"63.121451\" y=\"10.493651\"/>\n</g>\n<g style=\"fill:rgb(0%,0%,0%);fill-opacity:1;\">\n  <use xlink:href=\"#glyph-1637105904321172-1-6\" x=\"70.288888\" y=\"10.493651\"/>\n  <use xlink:href=\"#glyph-1637105904321172-1-18\" x=\"75.253176\" y=\"10.493651\"/>\n</g>\n<g style=\"fill:rgb(0%,0%,0%);fill-opacity:1;\">\n  <use xlink:href=\"#glyph-1637105904321172-1-19\" x=\"81.593563\" y=\"10.493651\"/>\n  <use xlink:href=\"#glyph-1637105904321172-1-20\" x=\"87.109879\" y=\"10.493651\"/>\n  <use xlink:href=\"#glyph-1637105904321172-1-10\" x=\"92.626195\" y=\"10.493651\"/>\n</g>\n<g style=\"fill:rgb(0%,0%,0%);fill-opacity:1;\">\n  <use xlink:href=\"#glyph-1637105904321172-1-17\" x=\"100.344668\" y=\"10.493651\"/>\n  <use xlink:href=\"#glyph-1637105904321172-1-16\" x=\"104.205891\" y=\"10.493651\"/>\n  <use xlink:href=\"#glyph-1637105904321172-1-20\" x=\"109.722207\" y=\"10.493651\"/>\n  <use xlink:href=\"#glyph-1637105904321172-1-8\" x=\"115.238522\" y=\"10.493651\"/>\n  <use xlink:href=\"#glyph-1637105904321172-1-20\" x=\"117.99668\" y=\"10.493651\"/>\n  <use xlink:href=\"#glyph-1637105904321172-1-7\" x=\"123.512996\" y=\"10.493651\"/>\n</g>\n<g style=\"fill:rgb(0%,0%,0%);fill-opacity:1;\">\n  <use xlink:href=\"#glyph-1637105904321172-1-21\" x=\"131.793427\" y=\"10.493651\"/>\n  <use xlink:href=\"#glyph-1637105904321172-1-6\" x=\"137.309743\" y=\"10.493651\"/>\n</g>\n<g style=\"fill:rgb(0%,0%,0%);fill-opacity:1;\">\n  <use xlink:href=\"#glyph-1637105904321172-1-22\" x=\"142.005958\" y=\"10.493651\"/>\n</g>\n<g style=\"fill:rgb(0%,0%,0%);fill-opacity:1;\">\n  <use xlink:href=\"#glyph-1637105904321172-1-23\" x=\"152.472661\" y=\"10.493651\"/>\n</g>\n<g style=\"fill:rgb(0%,0%,0%);fill-opacity:1;\">\n  <use xlink:href=\"#glyph-1637105904321172-1-6\" x=\"158.266977\" y=\"10.493651\"/>\n  <use xlink:href=\"#glyph-1637105904321172-1-15\" x=\"163.231264\" y=\"10.493651\"/>\n  <use xlink:href=\"#glyph-1637105904321172-1-17\" x=\"167.147094\" y=\"10.493651\"/>\n</g>\n<g style=\"fill:rgb(0%,0%,0%);fill-opacity:1;\">\n  <use xlink:href=\"#glyph-1637105904321172-1-24\" x=\"174.314532\" y=\"10.493651\"/>\n  <use xlink:href=\"#glyph-1637105904321172-1-25\" x=\"179.830848\" y=\"10.493651\"/>\n</g>\n<g style=\"fill:rgb(0%,0%,0%);fill-opacity:1;\">\n  <use xlink:href=\"#glyph-1637105904321172-1-26\" x=\"184.527063\" y=\"10.493651\"/>\n</g>\n<g style=\"fill:rgb(0%,0%,0%);fill-opacity:1;\">\n  <use xlink:href=\"#glyph-1637105904321172-1-10\" x=\"189.499293\" y=\"10.493651\"/>\n  <use xlink:href=\"#glyph-1637105904321172-1-15\" x=\"193.911552\" y=\"10.493651\"/>\n</g>\n</g>\n</svg>\n\n",
      "text/plain": [
       "Axis(PGFPlots.Plots.Plot[PGFPlots.Plots.Histogram(Real[36.07185560262659, 38.72533164808483, 39.22939338885723, 36.90073478438783, 39.08287088627334, 33.36511707731924, 40.463160916071544, 36.47295367075856, 40.23715853164389, 43.22364213210345  …  28.051180349877104, 32.29659998850126, 29.286189449793973, 25.94467675797625, 28.828330515670665, 28.35099511341688, 29.824153621121624, 28.221093581945848, 29.037442291044627, 32.11387620487192], 10, false, false, \"gray, fill=gray!50, opacity = 0.5\", :default, nothing), PGFPlots.Plots.Histogram(Real[7.079647408056644, 29.427251846139374, 19.8013235477312, 5.4669152085173565, 18.940716216751955, 5.315879654786585, 23.23870375644105, 33.74899778815675, 31.240376055247495, 18.402817218972448  …  18.189006920623566, 17.448063738477384, 30.434293973121584, 8.146856988925961, 22.6515096151144, 12.479045028560343, 19.592048890083337, 18.01998601551741, 21.354647687971706, 23.107399576526625], 10, false, false, \"teal, fill=teal!50, opacity = 0.5\", :default, nothing)], \"Result of fine tuning flow post bayes\", \"Log Likelihood\", nothing, nothing, nothing, nothing, nothing, nothing, nothing, nothing, nothing, nothing, nothing, nothing, nothing, nothing, nothing, nothing, nothing, nothing, nothing, nothing, nothing, nothing, nothing, nothing, nothing, \"axis\")"
      ]
     },
     "execution_count": 158,
     "metadata": {},
     "output_type": "execute_result"
    }
   ],
   "source": [
    "ll_in = logpdf(npn.flow, z_in)\n",
    "ll_out = logpdf(npn.flow, z_out)\n",
    "\n",
    "ax = Axis()\n",
    "push!(ax, Plots.Histogram(ll_in, style = \"gray, fill=gray!50, opacity = 0.5\"))\n",
    "push!(ax, Plots.Histogram(ll_out, style = \"teal, fill=teal!50, opacity = 0.5\"))\n",
    "ax.xlabel = \"Log Likelihood\"\n",
    "ax.title = \"Result of fine tuning flow post bayes\"\n",
    "ax"
   ]
  },
  {
   "cell_type": "code",
   "execution_count": 159,
   "metadata": {},
   "outputs": [],
   "source": [
    "@save \"../networks/npn_h16_a01_Nformula_lrsched_finetune.bson\" npn"
   ]
  },
  {
   "cell_type": "markdown",
   "metadata": {},
   "source": [
    "# Minimize likelihood of random set"
   ]
  },
  {
   "cell_type": "code",
   "execution_count": 162,
   "metadata": {},
   "outputs": [],
   "source": [
    "using Random"
   ]
  },
  {
   "cell_type": "code",
   "execution_count": 164,
   "metadata": {},
   "outputs": [
    {
     "name": "stdout",
     "output_type": "stream",
     "text": [
      "l = -11.836398784063876\n"
     ]
    },
    {
     "name": "stderr",
     "output_type": "stream",
     "text": [
      "┌ Info: Epoch 1\n",
      "└ @ Main /home/smkatz/.julia/packages/Flux/YO4zY/src/optimise/train.jl:136\n"
     ]
    },
    {
     "name": "stdout",
     "output_type": "stream",
     "text": [
      "l = -12.147722690926754\n"
     ]
    },
    {
     "name": "stderr",
     "output_type": "stream",
     "text": [
      "┌ Info: Epoch 2\n",
      "└ @ Main /home/smkatz/.julia/packages/Flux/YO4zY/src/optimise/train.jl:136\n",
      "┌ Info: Epoch 3\n",
      "└ @ Main /home/smkatz/.julia/packages/Flux/YO4zY/src/optimise/train.jl:136\n"
     ]
    },
    {
     "name": "stdout",
     "output_type": "stream",
     "text": [
      "l = -12.479780097869504\n",
      "l = -12.813339401513382\n"
     ]
    },
    {
     "name": "stderr",
     "output_type": "stream",
     "text": [
      "┌ Info: Epoch 4\n",
      "└ @ Main /home/smkatz/.julia/packages/Flux/YO4zY/src/optimise/train.jl:136\n"
     ]
    },
    {
     "name": "stdout",
     "output_type": "stream",
     "text": [
      "l = -13.101351438672825\n"
     ]
    },
    {
     "name": "stderr",
     "output_type": "stream",
     "text": [
      "┌ Info: Epoch 5\n",
      "└ @ Main /home/smkatz/.julia/packages/Flux/YO4zY/src/optimise/train.jl:136\n",
      "┌ Info: Epoch 6\n",
      "└ @ Main /home/smkatz/.julia/packages/Flux/YO4zY/src/optimise/train.jl:136\n"
     ]
    },
    {
     "name": "stdout",
     "output_type": "stream",
     "text": [
      "l = -13.420365058337248\n",
      "l = -13.76328057991778\n"
     ]
    },
    {
     "name": "stderr",
     "output_type": "stream",
     "text": [
      "┌ Info: Epoch 7\n",
      "└ @ Main /home/smkatz/.julia/packages/Flux/YO4zY/src/optimise/train.jl:136\n"
     ]
    },
    {
     "name": "stdout",
     "output_type": "stream",
     "text": [
      "l = -14.073335237056234\n"
     ]
    },
    {
     "name": "stderr",
     "output_type": "stream",
     "text": [
      "┌ Info: Epoch 8\n",
      "└ @ Main /home/smkatz/.julia/packages/Flux/YO4zY/src/optimise/train.jl:136\n"
     ]
    },
    {
     "name": "stdout",
     "output_type": "stream",
     "text": [
      "l = -14.381436129988016\n"
     ]
    },
    {
     "name": "stderr",
     "output_type": "stream",
     "text": [
      "┌ Info: Epoch 9\n",
      "└ @ Main /home/smkatz/.julia/packages/Flux/YO4zY/src/optimise/train.jl:136\n",
      "┌ Info: Epoch 10\n",
      "└ @ Main /home/smkatz/.julia/packages/Flux/YO4zY/src/optimise/train.jl:136\n"
     ]
    },
    {
     "name": "stdout",
     "output_type": "stream",
     "text": [
      "l = -14.677183443455354\n",
      "l = -15.13831889316686\n"
     ]
    },
    {
     "name": "stderr",
     "output_type": "stream",
     "text": [
      "┌ Info: Epoch 11\n",
      "└ @ Main /home/smkatz/.julia/packages/Flux/YO4zY/src/optimise/train.jl:136\n",
      "┌ Info: Epoch 12\n",
      "└ @ Main /home/smkatz/.julia/packages/Flux/YO4zY/src/optimise/train.jl:136\n"
     ]
    },
    {
     "name": "stdout",
     "output_type": "stream",
     "text": [
      "l = -15.429906549634111\n"
     ]
    },
    {
     "name": "stderr",
     "output_type": "stream",
     "text": [
      "┌ Info: Epoch 13\n",
      "└ @ Main /home/smkatz/.julia/packages/Flux/YO4zY/src/optimise/train.jl:136\n"
     ]
    },
    {
     "name": "stdout",
     "output_type": "stream",
     "text": [
      "l = -15.895236859076768\n",
      "l = -16.277100509109314\n"
     ]
    },
    {
     "name": "stderr",
     "output_type": "stream",
     "text": [
      "┌ Info: Epoch 14\n",
      "└ @ Main /home/smkatz/.julia/packages/Flux/YO4zY/src/optimise/train.jl:136\n"
     ]
    },
    {
     "name": "stdout",
     "output_type": "stream",
     "text": [
      "l = -16.684772246300604\n"
     ]
    },
    {
     "name": "stderr",
     "output_type": "stream",
     "text": [
      "┌ Info: Epoch 15\n",
      "└ @ Main /home/smkatz/.julia/packages/Flux/YO4zY/src/optimise/train.jl:136\n"
     ]
    },
    {
     "name": "stdout",
     "output_type": "stream",
     "text": [
      "l = -17.18711168075547\n"
     ]
    },
    {
     "name": "stderr",
     "output_type": "stream",
     "text": [
      "┌ Info: Epoch 16\n",
      "└ @ Main /home/smkatz/.julia/packages/Flux/YO4zY/src/optimise/train.jl:136\n"
     ]
    },
    {
     "name": "stdout",
     "output_type": "stream",
     "text": [
      "l = -17.611968400486482\n"
     ]
    },
    {
     "name": "stderr",
     "output_type": "stream",
     "text": [
      "┌ Info: Epoch 17\n",
      "└ @ Main /home/smkatz/.julia/packages/Flux/YO4zY/src/optimise/train.jl:136\n"
     ]
    },
    {
     "name": "stdout",
     "output_type": "stream",
     "text": [
      "l = -18.02494662905041\n"
     ]
    },
    {
     "name": "stderr",
     "output_type": "stream",
     "text": [
      "┌ Info: Epoch 18\n",
      "└ @ Main /home/smkatz/.julia/packages/Flux/YO4zY/src/optimise/train.jl:136\n"
     ]
    },
    {
     "name": "stdout",
     "output_type": "stream",
     "text": [
      "l = -18.668265127572212\n"
     ]
    },
    {
     "name": "stderr",
     "output_type": "stream",
     "text": [
      "┌ Info: Epoch 19\n",
      "└ @ Main /home/smkatz/.julia/packages/Flux/YO4zY/src/optimise/train.jl:136\n"
     ]
    },
    {
     "name": "stdout",
     "output_type": "stream",
     "text": [
      "l = -19.20596140361696\n"
     ]
    },
    {
     "name": "stderr",
     "output_type": "stream",
     "text": [
      "┌ Info: Epoch 20\n",
      "└ @ Main /home/smkatz/.julia/packages/Flux/YO4zY/src/optimise/train.jl:136\n"
     ]
    },
    {
     "name": "stdout",
     "output_type": "stream",
     "text": [
      "l = -19.77368845871782\n"
     ]
    },
    {
     "name": "stderr",
     "output_type": "stream",
     "text": [
      "┌ Info: Epoch 21\n",
      "└ @ Main /home/smkatz/.julia/packages/Flux/YO4zY/src/optimise/train.jl:136\n"
     ]
    },
    {
     "name": "stdout",
     "output_type": "stream",
     "text": [
      "l = -20.372592102569353\n"
     ]
    },
    {
     "name": "stderr",
     "output_type": "stream",
     "text": [
      "┌ Info: Epoch 22\n",
      "└ @ Main /home/smkatz/.julia/packages/Flux/YO4zY/src/optimise/train.jl:136\n"
     ]
    },
    {
     "name": "stdout",
     "output_type": "stream",
     "text": [
      "l = -21.03948885954116\n"
     ]
    },
    {
     "name": "stderr",
     "output_type": "stream",
     "text": [
      "┌ Info: Epoch 23\n",
      "└ @ Main /home/smkatz/.julia/packages/Flux/YO4zY/src/optimise/train.jl:136\n"
     ]
    },
    {
     "name": "stdout",
     "output_type": "stream",
     "text": [
      "l = -21.82502540049332\n"
     ]
    },
    {
     "name": "stderr",
     "output_type": "stream",
     "text": [
      "┌ Info: Epoch 24\n",
      "└ @ Main /home/smkatz/.julia/packages/Flux/YO4zY/src/optimise/train.jl:136\n"
     ]
    },
    {
     "name": "stdout",
     "output_type": "stream",
     "text": [
      "l = -22.525960446159765\n"
     ]
    },
    {
     "name": "stderr",
     "output_type": "stream",
     "text": [
      "┌ Info: Epoch 25\n",
      "└ @ Main /home/smkatz/.julia/packages/Flux/YO4zY/src/optimise/train.jl:136\n"
     ]
    },
    {
     "name": "stdout",
     "output_type": "stream",
     "text": [
      "l = -23.460769868152052\n"
     ]
    },
    {
     "name": "stderr",
     "output_type": "stream",
     "text": [
      "┌ Info: Epoch 26\n",
      "└ @ Main /home/smkatz/.julia/packages/Flux/YO4zY/src/optimise/train.jl:136\n"
     ]
    },
    {
     "name": "stdout",
     "output_type": "stream",
     "text": [
      "l = -24.238593807614897\n"
     ]
    },
    {
     "name": "stderr",
     "output_type": "stream",
     "text": [
      "┌ Info: Epoch 27\n",
      "└ @ Main /home/smkatz/.julia/packages/Flux/YO4zY/src/optimise/train.jl:136\n"
     ]
    },
    {
     "name": "stdout",
     "output_type": "stream",
     "text": [
      "l = -25.311239185231326\n"
     ]
    },
    {
     "name": "stderr",
     "output_type": "stream",
     "text": [
      "┌ Info: Epoch 28\n",
      "└ @ Main /home/smkatz/.julia/packages/Flux/YO4zY/src/optimise/train.jl:136\n"
     ]
    },
    {
     "name": "stdout",
     "output_type": "stream",
     "text": [
      "l = -26.34808903432184\n"
     ]
    },
    {
     "name": "stderr",
     "output_type": "stream",
     "text": [
      "┌ Info: Epoch 29\n",
      "└ @ Main /home/smkatz/.julia/packages/Flux/YO4zY/src/optimise/train.jl:136\n"
     ]
    },
    {
     "name": "stdout",
     "output_type": "stream",
     "text": [
      "l = -27.458310061025443\n"
     ]
    },
    {
     "name": "stderr",
     "output_type": "stream",
     "text": [
      "┌ Info: Epoch 30\n",
      "└ @ Main /home/smkatz/.julia/packages/Flux/YO4zY/src/optimise/train.jl:136\n"
     ]
    },
    {
     "name": "stdout",
     "output_type": "stream",
     "text": [
      "l = -28.697213831083747\n"
     ]
    },
    {
     "name": "stderr",
     "output_type": "stream",
     "text": [
      "┌ Info: Epoch 31\n",
      "└ @ Main /home/smkatz/.julia/packages/Flux/YO4zY/src/optimise/train.jl:136\n"
     ]
    },
    {
     "name": "stdout",
     "output_type": "stream",
     "text": [
      "l = -29.943335983775974\n"
     ]
    },
    {
     "name": "stderr",
     "output_type": "stream",
     "text": [
      "┌ Info: Epoch 32\n",
      "└ @ Main /home/smkatz/.julia/packages/Flux/YO4zY/src/optimise/train.jl:136\n"
     ]
    },
    {
     "name": "stdout",
     "output_type": "stream",
     "text": [
      "l = -31.466396910028894\n"
     ]
    },
    {
     "name": "stderr",
     "output_type": "stream",
     "text": [
      "┌ Info: Epoch 33\n",
      "└ @ Main /home/smkatz/.julia/packages/Flux/YO4zY/src/optimise/train.jl:136\n"
     ]
    },
    {
     "name": "stdout",
     "output_type": "stream",
     "text": [
      "l = -32.96905486124074\n"
     ]
    },
    {
     "name": "stderr",
     "output_type": "stream",
     "text": [
      "┌ Info: Epoch 34\n",
      "└ @ Main /home/smkatz/.julia/packages/Flux/YO4zY/src/optimise/train.jl:136\n"
     ]
    },
    {
     "name": "stdout",
     "output_type": "stream",
     "text": [
      "l = -34.540484626983094\n"
     ]
    },
    {
     "name": "stderr",
     "output_type": "stream",
     "text": [
      "┌ Info: Epoch 35\n",
      "└ @ Main /home/smkatz/.julia/packages/Flux/YO4zY/src/optimise/train.jl:136\n",
      "┌ Info: Epoch 36\n",
      "└ @ Main /home/smkatz/.julia/packages/Flux/YO4zY/src/optimise/train.jl:136\n"
     ]
    },
    {
     "name": "stdout",
     "output_type": "stream",
     "text": [
      "l = -36.10894418454149\n",
      "l = -38.112383917614075\n"
     ]
    },
    {
     "name": "stderr",
     "output_type": "stream",
     "text": [
      "┌ Info: Epoch 37\n",
      "└ @ Main /home/smkatz/.julia/packages/Flux/YO4zY/src/optimise/train.jl:136\n",
      "┌ Info: Epoch 38\n",
      "└ @ Main /home/smkatz/.julia/packages/Flux/YO4zY/src/optimise/train.jl:136\n"
     ]
    },
    {
     "name": "stdout",
     "output_type": "stream",
     "text": [
      "l = -40.16384780669556\n",
      "l = -42.178192687812384\n"
     ]
    },
    {
     "name": "stderr",
     "output_type": "stream",
     "text": [
      "┌ Info: Epoch 39\n",
      "└ @ Main /home/smkatz/.julia/packages/Flux/YO4zY/src/optimise/train.jl:136\n"
     ]
    },
    {
     "name": "stdout",
     "output_type": "stream",
     "text": [
      "l = -44.10474979151586\n"
     ]
    },
    {
     "name": "stderr",
     "output_type": "stream",
     "text": [
      "┌ Info: Epoch 40\n",
      "└ @ Main /home/smkatz/.julia/packages/Flux/YO4zY/src/optimise/train.jl:136\n"
     ]
    },
    {
     "name": "stdout",
     "output_type": "stream",
     "text": [
      "l = -46.049903134810975\n"
     ]
    },
    {
     "name": "stderr",
     "output_type": "stream",
     "text": [
      "┌ Info: Epoch 41\n",
      "└ @ Main /home/smkatz/.julia/packages/Flux/YO4zY/src/optimise/train.jl:136\n",
      "┌ Info: Epoch 42\n",
      "└ @ Main /home/smkatz/.julia/packages/Flux/YO4zY/src/optimise/train.jl:136\n"
     ]
    },
    {
     "name": "stdout",
     "output_type": "stream",
     "text": [
      "l = -48.15173977480069\n",
      "l = -50.35428642762974\n"
     ]
    },
    {
     "name": "stderr",
     "output_type": "stream",
     "text": [
      "┌ Info: Epoch 43\n",
      "└ @ Main /home/smkatz/.julia/packages/Flux/YO4zY/src/optimise/train.jl:136\n"
     ]
    },
    {
     "name": "stdout",
     "output_type": "stream",
     "text": [
      "l = -52.36496227361779\n"
     ]
    },
    {
     "name": "stderr",
     "output_type": "stream",
     "text": [
      "┌ Info: Epoch 44\n",
      "└ @ Main /home/smkatz/.julia/packages/Flux/YO4zY/src/optimise/train.jl:136\n"
     ]
    },
    {
     "name": "stdout",
     "output_type": "stream",
     "text": [
      "l = -54.2164429819804\n"
     ]
    },
    {
     "name": "stderr",
     "output_type": "stream",
     "text": [
      "┌ Info: Epoch 45\n",
      "└ @ Main /home/smkatz/.julia/packages/Flux/YO4zY/src/optimise/train.jl:136\n"
     ]
    },
    {
     "name": "stdout",
     "output_type": "stream",
     "text": [
      "l = -56.515547983093754\n"
     ]
    },
    {
     "name": "stderr",
     "output_type": "stream",
     "text": [
      "┌ Info: Epoch 46\n",
      "└ @ Main /home/smkatz/.julia/packages/Flux/YO4zY/src/optimise/train.jl:136\n"
     ]
    },
    {
     "name": "stdout",
     "output_type": "stream",
     "text": [
      "l = -58.85068898051284\n"
     ]
    },
    {
     "name": "stderr",
     "output_type": "stream",
     "text": [
      "┌ Info: Epoch 47\n",
      "└ @ Main /home/smkatz/.julia/packages/Flux/YO4zY/src/optimise/train.jl:136\n"
     ]
    },
    {
     "name": "stdout",
     "output_type": "stream",
     "text": [
      "l = -60.962512732368715\n"
     ]
    },
    {
     "name": "stderr",
     "output_type": "stream",
     "text": [
      "┌ Info: Epoch 48\n",
      "└ @ Main /home/smkatz/.julia/packages/Flux/YO4zY/src/optimise/train.jl:136\n"
     ]
    },
    {
     "name": "stdout",
     "output_type": "stream",
     "text": [
      "l = -63.17560206638797\n"
     ]
    },
    {
     "name": "stderr",
     "output_type": "stream",
     "text": [
      "┌ Info: Epoch 49\n",
      "└ @ Main /home/smkatz/.julia/packages/Flux/YO4zY/src/optimise/train.jl:136\n"
     ]
    },
    {
     "name": "stdout",
     "output_type": "stream",
     "text": [
      "l = -65.5664232643751\n"
     ]
    },
    {
     "name": "stderr",
     "output_type": "stream",
     "text": [
      "┌ Info: Epoch 50\n",
      "└ @ Main /home/smkatz/.julia/packages/Flux/YO4zY/src/optimise/train.jl:136\n"
     ]
    },
    {
     "data": {
      "text/plain": [
       "MultivariateTransformed{DiagNormal, Composed{NTuple{8, RadialLayer{Vector{Float64}, Vector{Float64}}}, 1}}(\n",
       "dist: DiagNormal(\n",
       "dim: 16\n",
       "μ: [0.0, 0.0, 0.0, 0.0, 0.0, 0.0, 0.0, 0.0, 0.0, 0.0, 0.0, 0.0, 0.0, 0.0, 0.0, 0.0]\n",
       "Σ: [1.0 0.0 … 0.0 0.0; 0.0 1.0 … 0.0 0.0; … ; 0.0 0.0 … 1.0 0.0; 0.0 0.0 … 0.0 1.0]\n",
       ")\n",
       "\n",
       "transform: Composed{NTuple{8, RadialLayer{Vector{Float64}, Vector{Float64}}}, 1}((RadialLayer{Vector{Float64}, Vector{Float64}}([6.688092596178102], [-4.388022507048973], [-1.8045162254840794, -1.4479684822975283, -1.0800919104848647, 1.58643111092614, 0.16040045800044436, 1.1358187010581027, 2.0921734867746413, -1.1171893418389394, 0.9049373976550785, 0.9659895124841329, 1.0061434107571117, -0.16989520356091176, -0.9900931132705625, 0.46799467764579566, -1.6156674528367359, 1.1224165196674198]), RadialLayer{Vector{Float64}, Vector{Float64}}([7.355363797761818], [-3.9528837653209092], [1.4380137224260052, 1.7995080555053438, 1.1515144941859214, -1.708737275134688, 1.9416170253536305, -0.130287347743653, -0.7913966293323318, 0.762050486862649, -0.5791477588619626, -0.28459148715225774, -0.9622131793763792, -0.34273449513553234, 1.1841904317262402, 0.12281602339998647, 2.1573707555671775, -1.6950137520470794]), RadialLayer{Vector{Float64}, Vector{Float64}}([7.953346999296532], [-4.86239758123142], [-1.0107467461145767, -1.5750182541737625, -0.7048449752369502, -0.11279922087395758, 1.4608623998425776, 0.2643030807552287, 2.2668939168693494, -1.9295076723173372, -0.881862057623903, 0.5028342441082597, 0.4839314956706021, 1.358753605160966, 0.13394312933731395, 0.5435249000483028, -0.9636643802921284, 1.0922849691061052]), RadialLayer{Vector{Float64}, Vector{Float64}}([3.2342565864615236], [-3.478403436554197], [0.8963510452513632, 0.6977806763788702, 0.4868967719682289, -1.5476842085849756, 1.5965210656938846, -0.1841320220815668, 0.002929584470676449, -0.5998510551677988, -0.9849650387247366, -0.13741191657064608, -0.5540497742176652, 0.3424709403603481, 0.9641254787137631, -0.03700339997589663, 1.3296190706594262, -0.7033326280917697]), RadialLayer{Vector{Float64}, Vector{Float64}}([1.765303592618174], [-2.23354913276322], [-0.8848194197628519, -0.7833840400146265, -0.12364569723581027, 0.04361563676748873, 0.360806273618765, 0.04301574243845025, 0.9008597527615801, -0.8157976586774083, -0.4458566916402898, 0.5818748322032318, 0.6065779919859972, 0.7821501177798177, -0.6869101691991074, 0.6799779928827825, -1.0025942507776062, 1.1382832865903867]), RadialLayer{Vector{Float64}, Vector{Float64}}([4.6181697028165924], [-5.418385241918841], [0.4693209039544006, 0.4666853188951183, 0.4582498480401964, -1.3197958594340922, 1.7815158881048967, -0.05100947971730221, 0.3165827468070806, -0.45807849228549286, -0.8276772270081576, 0.16999421120422178, -0.18064120362115912, 0.33206412354412684, 0.5350805706611306, 0.3743286613763748, 0.8696443553425133, -0.43886599781897895]), RadialLayer{Vector{Float64}, Vector{Float64}}([3.5856948426679023], [-3.3145591885231673], [0.16858856103525485, -0.08341477251833737, 0.24712046658525585, -1.252171933605769, 1.7915780997607262, -0.050681573003656784, 0.7743300894101132, -0.8822911018375188, -1.082743676998463, 0.21260876974233145, -0.04942083726390943, 0.8554967359338196, 0.48818552613211125, 0.4531765420718729, 0.40031094762830527, 0.046557009618373134]), RadialLayer{Vector{Float64}, Vector{Float64}}([-0.6823146766815067], [0.024810923231220288], [-0.25841581048581214, 0.7825096720254328, -1.1262909395479297, 0.18976260457716643, -2.4570898539696913, -0.12288715808969145, -0.9252415950674242, -0.9932177533607922, -0.7822990313492328, -0.3110512392300154, -0.4705492040352283, 0.06705281271816727, 0.05503187259490567, -0.824297137809481, -0.8461148042620805, 1.0157813002699203])))\n",
       ")\n"
      ]
     },
     "execution_count": 164,
     "metadata": {},
     "output_type": "execute_result"
    }
   ],
   "source": [
    "flow_extra = train_flow_ood(npn.flow, z_in, z_out, 50, 1e-3, 128)"
   ]
  },
  {
   "cell_type": "code",
   "execution_count": 166,
   "metadata": {},
   "outputs": [
    {
     "data": {
      "image/svg+xml": "<?xml version=\"1.0\" encoding=\"UTF-8\"?>\n<svg xmlns=\"http://www.w3.org/2000/svg\" xmlns:xlink=\"http://www.w3.org/1999/xlink\" width=\"218.897pt\" height=\"212.852pt\" viewBox=\"0 0 218.897 212.852\" version=\"1.2\">\n<defs>\n<g>\n<symbol overflow=\"visible\" id=\"glyph-1637105904321174-0-0\">\n<path style=\"stroke:none;\" d=\"\"/>\n</symbol>\n<symbol overflow=\"visible\" id=\"glyph-1637105904321174-0-1\">\n<path style=\"stroke:none;\" d=\"M 6.5625 -2.296875 C 6.734375 -2.296875 6.90625 -2.296875 6.90625 -2.484375 C 6.90625 -2.6875 6.734375 -2.6875 6.5625 -2.6875 L 1.171875 -2.6875 C 1 -2.6875 0.828125 -2.6875 0.828125 -2.484375 C 0.828125 -2.296875 1 -2.296875 1.171875 -2.296875 Z M 6.5625 -2.296875 \"/>\n</symbol>\n<symbol overflow=\"visible\" id=\"glyph-1637105904321174-1-0\">\n<path style=\"stroke:none;\" d=\"\"/>\n</symbol>\n<symbol overflow=\"visible\" id=\"glyph-1637105904321174-1-1\">\n<path style=\"stroke:none;\" d=\"M 2.890625 -3.5 C 3.703125 -3.765625 4.28125 -4.46875 4.28125 -5.25 C 4.28125 -6.078125 3.40625 -6.625 2.453125 -6.625 C 1.4375 -6.625 0.6875 -6.03125 0.6875 -5.28125 C 0.6875 -4.953125 0.90625 -4.75 1.1875 -4.75 C 1.5 -4.75 1.703125 -4.96875 1.703125 -5.265625 C 1.703125 -5.765625 1.234375 -5.765625 1.078125 -5.765625 C 1.390625 -6.25 2.046875 -6.375 2.40625 -6.375 C 2.8125 -6.375 3.359375 -6.15625 3.359375 -5.265625 C 3.359375 -5.140625 3.34375 -4.5625 3.078125 -4.125 C 2.78125 -3.65625 2.453125 -3.625 2.203125 -3.609375 C 2.125 -3.609375 1.875 -3.578125 1.8125 -3.578125 C 1.734375 -3.578125 1.65625 -3.5625 1.65625 -3.46875 C 1.65625 -3.359375 1.734375 -3.359375 1.90625 -3.359375 L 2.34375 -3.359375 C 3.15625 -3.359375 3.515625 -2.671875 3.515625 -1.703125 C 3.515625 -0.34375 2.84375 -0.0625 2.40625 -0.0625 C 1.96875 -0.0625 1.21875 -0.234375 0.875 -0.8125 C 1.21875 -0.765625 1.53125 -0.984375 1.53125 -1.359375 C 1.53125 -1.71875 1.265625 -1.921875 0.96875 -1.921875 C 0.734375 -1.921875 0.421875 -1.78125 0.421875 -1.34375 C 0.421875 -0.4375 1.34375 0.21875 2.421875 0.21875 C 3.640625 0.21875 4.546875 -0.6875 4.546875 -1.703125 C 4.546875 -2.515625 3.921875 -3.296875 2.890625 -3.5 Z M 2.890625 -3.5 \"/>\n</symbol>\n<symbol overflow=\"visible\" id=\"glyph-1637105904321174-1-2\">\n<path style=\"stroke:none;\" d=\"M 4.578125 -3.1875 C 4.578125 -3.984375 4.53125 -4.78125 4.1875 -5.515625 C 3.71875 -6.46875 2.90625 -6.625 2.484375 -6.625 C 1.890625 -6.625 1.171875 -6.375 0.75 -5.4375 C 0.4375 -4.75 0.390625 -3.984375 0.390625 -3.1875 C 0.390625 -2.4375 0.421875 -1.546875 0.84375 -0.78125 C 1.265625 0.015625 1.984375 0.21875 2.484375 0.21875 C 3.015625 0.21875 3.765625 0.015625 4.203125 -0.9375 C 4.53125 -1.625 4.578125 -2.40625 4.578125 -3.1875 Z M 2.484375 0 C 2.09375 0 1.5 -0.25 1.328125 -1.203125 C 1.21875 -1.796875 1.21875 -2.71875 1.21875 -3.296875 C 1.21875 -3.9375 1.21875 -4.59375 1.296875 -5.140625 C 1.484375 -6.3125 2.234375 -6.40625 2.484375 -6.40625 C 2.8125 -6.40625 3.46875 -6.234375 3.65625 -5.25 C 3.75 -4.6875 3.75 -3.9375 3.75 -3.296875 C 3.75 -2.5625 3.75 -1.875 3.640625 -1.25 C 3.5 -0.296875 2.921875 0 2.484375 0 Z M 2.484375 0 \"/>\n</symbol>\n<symbol overflow=\"visible\" id=\"glyph-1637105904321174-1-3\">\n<path style=\"stroke:none;\" d=\"M 1.265625 -0.765625 L 2.3125 -1.796875 C 3.875 -3.171875 4.46875 -3.703125 4.46875 -4.703125 C 4.46875 -5.828125 3.578125 -6.625 2.359375 -6.625 C 1.234375 -6.625 0.5 -5.71875 0.5 -4.828125 C 0.5 -4.265625 1 -4.265625 1.03125 -4.265625 C 1.1875 -4.265625 1.546875 -4.390625 1.546875 -4.796875 C 1.546875 -5.0625 1.359375 -5.3125 1.015625 -5.3125 C 0.9375 -5.3125 0.921875 -5.3125 0.890625 -5.3125 C 1.109375 -5.953125 1.65625 -6.3125 2.234375 -6.3125 C 3.140625 -6.3125 3.5625 -5.515625 3.5625 -4.703125 C 3.5625 -3.90625 3.0625 -3.109375 2.515625 -2.5 L 0.609375 -0.375 C 0.5 -0.265625 0.5 -0.234375 0.5 0 L 4.1875 0 L 4.46875 -1.734375 L 4.21875 -1.734375 C 4.171875 -1.4375 4.09375 -1 4 -0.84375 C 3.9375 -0.765625 3.28125 -0.765625 3.0625 -0.765625 Z M 1.265625 -0.765625 \"/>\n</symbol>\n<symbol overflow=\"visible\" id=\"glyph-1637105904321174-1-4\">\n<path style=\"stroke:none;\" d=\"M 2.921875 -6.375 C 2.921875 -6.609375 2.921875 -6.625 2.703125 -6.625 C 2.078125 -5.984375 1.203125 -5.984375 0.890625 -5.984375 L 0.890625 -5.6875 C 1.078125 -5.6875 1.671875 -5.6875 2.1875 -5.9375 L 2.1875 -0.78125 C 2.1875 -0.421875 2.15625 -0.3125 1.265625 -0.3125 L 0.953125 -0.3125 L 0.953125 0 C 1.296875 -0.03125 2.15625 -0.03125 2.5625 -0.03125 C 2.953125 -0.03125 3.828125 -0.03125 4.171875 0 L 4.171875 -0.3125 L 3.859375 -0.3125 C 2.953125 -0.3125 2.921875 -0.421875 2.921875 -0.78125 Z M 2.921875 -6.375 \"/>\n</symbol>\n<symbol overflow=\"visible\" id=\"glyph-1637105904321174-1-5\">\n<path style=\"stroke:none;\" d=\"M 2.921875 -1.640625 L 2.921875 -0.78125 C 2.921875 -0.421875 2.90625 -0.3125 2.171875 -0.3125 L 1.953125 -0.3125 L 1.953125 0 C 2.375 -0.03125 2.890625 -0.03125 3.296875 -0.03125 C 3.71875 -0.03125 4.25 -0.03125 4.65625 0 L 4.65625 -0.3125 L 4.453125 -0.3125 C 3.71875 -0.3125 3.6875 -0.421875 3.6875 -0.78125 L 3.6875 -1.640625 L 4.6875 -1.640625 L 4.6875 -1.953125 L 3.6875 -1.953125 L 3.6875 -6.484375 C 3.6875 -6.671875 3.6875 -6.734375 3.53125 -6.734375 C 3.4375 -6.734375 3.40625 -6.734375 3.328125 -6.625 L 0.28125 -1.953125 L 0.28125 -1.640625 Z M 2.984375 -1.953125 L 0.5625 -1.953125 L 2.984375 -5.65625 Z M 2.984375 -1.953125 \"/>\n</symbol>\n<symbol overflow=\"visible\" id=\"glyph-1637105904321174-1-6\">\n<path style=\"stroke:none;\" d=\"M 1.3125 -3.265625 L 1.3125 -3.5 C 1.3125 -6.015625 2.546875 -6.375 3.0625 -6.375 C 3.296875 -6.375 3.71875 -6.3125 3.9375 -5.984375 C 3.78125 -5.984375 3.390625 -5.984375 3.390625 -5.53125 C 3.390625 -5.21875 3.625 -5.078125 3.84375 -5.078125 C 4 -5.078125 4.296875 -5.171875 4.296875 -5.546875 C 4.296875 -6.15625 3.859375 -6.625 3.03125 -6.625 C 1.765625 -6.625 0.421875 -5.34375 0.421875 -3.140625 C 0.421875 -0.484375 1.578125 0.21875 2.5 0.21875 C 3.609375 0.21875 4.546875 -0.71875 4.546875 -2.03125 C 4.546875 -3.296875 3.65625 -4.25 2.5625 -4.25 C 1.875 -4.25 1.515625 -3.75 1.3125 -3.265625 Z M 2.5 -0.0625 C 1.875 -0.0625 1.578125 -0.65625 1.515625 -0.8125 C 1.328125 -1.28125 1.328125 -2.0625 1.328125 -2.25 C 1.328125 -3.03125 1.65625 -4.015625 2.546875 -4.015625 C 2.703125 -4.015625 3.171875 -4.015625 3.46875 -3.40625 C 3.65625 -3.03125 3.65625 -2.53125 3.65625 -2.046875 C 3.65625 -1.5625 3.65625 -1.0625 3.484375 -0.703125 C 3.1875 -0.109375 2.734375 -0.0625 2.5 -0.0625 Z M 2.5 -0.0625 \"/>\n</symbol>\n<symbol overflow=\"visible\" id=\"glyph-1637105904321174-1-7\">\n<path style=\"stroke:none;\" d=\"M 5.796875 -2.5625 L 5.546875 -2.5625 C 5.4375 -1.546875 5.296875 -0.3125 3.546875 -0.3125 L 2.734375 -0.3125 C 2.265625 -0.3125 2.234375 -0.375 2.234375 -0.703125 L 2.234375 -6.015625 C 2.234375 -6.34375 2.234375 -6.484375 3.1875 -6.484375 L 3.515625 -6.484375 L 3.515625 -6.796875 C 3.15625 -6.765625 2.25 -6.765625 1.84375 -6.765625 C 1.453125 -6.765625 0.671875 -6.765625 0.328125 -6.796875 L 0.328125 -6.484375 L 0.5625 -6.484375 C 1.328125 -6.484375 1.359375 -6.375 1.359375 -6.015625 L 1.359375 -0.78125 C 1.359375 -0.421875 1.328125 -0.3125 0.5625 -0.3125 L 0.328125 -0.3125 L 0.328125 0 L 5.515625 0 Z M 5.796875 -2.5625 \"/>\n</symbol>\n<symbol overflow=\"visible\" id=\"glyph-1637105904321174-1-8\">\n<path style=\"stroke:none;\" d=\"M 4.6875 -2.125 C 4.6875 -3.40625 3.6875 -4.453125 2.484375 -4.453125 C 1.25 -4.453125 0.28125 -3.375 0.28125 -2.125 C 0.28125 -0.84375 1.3125 0.109375 2.484375 0.109375 C 3.6875 0.109375 4.6875 -0.859375 4.6875 -2.125 Z M 2.484375 -0.140625 C 2.0625 -0.140625 1.625 -0.34375 1.359375 -0.8125 C 1.109375 -1.25 1.109375 -1.84375 1.109375 -2.203125 C 1.109375 -2.59375 1.109375 -3.140625 1.34375 -3.578125 C 1.609375 -4.03125 2.078125 -4.234375 2.484375 -4.234375 C 2.921875 -4.234375 3.34375 -4.015625 3.609375 -3.59375 C 3.859375 -3.171875 3.859375 -2.59375 3.859375 -2.203125 C 3.859375 -1.84375 3.859375 -1.3125 3.640625 -0.875 C 3.421875 -0.421875 2.984375 -0.140625 2.484375 -0.140625 Z M 2.484375 -0.140625 \"/>\n</symbol>\n<symbol overflow=\"visible\" id=\"glyph-1637105904321174-1-9\">\n<path style=\"stroke:none;\" d=\"M 2.203125 -1.71875 C 1.34375 -1.71875 1.34375 -2.703125 1.34375 -2.9375 C 1.34375 -3.203125 1.359375 -3.515625 1.5 -3.765625 C 1.578125 -3.890625 1.8125 -4.171875 2.203125 -4.171875 C 3.078125 -4.171875 3.078125 -3.171875 3.078125 -2.953125 C 3.078125 -2.671875 3.0625 -2.359375 2.921875 -2.109375 C 2.84375 -1.984375 2.609375 -1.71875 2.203125 -1.71875 Z M 1.0625 -1.328125 C 1.0625 -1.359375 1.0625 -1.59375 1.21875 -1.796875 C 1.609375 -1.515625 2.015625 -1.484375 2.203125 -1.484375 C 3.140625 -1.484375 3.828125 -2.171875 3.828125 -2.9375 C 3.828125 -3.296875 3.65625 -3.671875 3.40625 -3.90625 C 3.765625 -4.234375 4.125 -4.296875 4.3125 -4.296875 C 4.328125 -4.296875 4.375 -4.296875 4.40625 -4.28125 C 4.296875 -4.234375 4.25 -4.125 4.25 -4.015625 C 4.25 -3.84375 4.375 -3.71875 4.53125 -3.71875 C 4.640625 -3.71875 4.828125 -3.796875 4.828125 -4.015625 C 4.828125 -4.1875 4.703125 -4.515625 4.3125 -4.515625 C 4.125 -4.515625 3.6875 -4.453125 3.265625 -4.046875 C 2.84375 -4.375 2.421875 -4.40625 2.203125 -4.40625 C 1.28125 -4.40625 0.59375 -3.71875 0.59375 -2.953125 C 0.59375 -2.515625 0.8125 -2.125 1.0625 -1.921875 C 0.9375 -1.765625 0.75 -1.4375 0.75 -1.09375 C 0.75 -0.78125 0.890625 -0.40625 1.1875 -0.203125 C 0.59375 -0.046875 0.28125 0.390625 0.28125 0.78125 C 0.28125 1.5 1.265625 2.046875 2.484375 2.046875 C 3.65625 2.046875 4.6875 1.546875 4.6875 0.765625 C 4.6875 0.421875 4.546875 -0.09375 4.046875 -0.375 C 3.515625 -0.640625 2.9375 -0.640625 2.328125 -0.640625 C 2.078125 -0.640625 1.65625 -0.640625 1.578125 -0.65625 C 1.265625 -0.703125 1.0625 -1 1.0625 -1.328125 Z M 2.484375 1.828125 C 1.484375 1.828125 0.796875 1.3125 0.796875 0.78125 C 0.796875 0.328125 1.171875 -0.046875 1.609375 -0.0625 L 2.203125 -0.0625 C 3.0625 -0.0625 4.171875 -0.0625 4.171875 0.78125 C 4.171875 1.328125 3.46875 1.828125 2.484375 1.828125 Z M 2.484375 1.828125 \"/>\n</symbol>\n<symbol overflow=\"visible\" id=\"glyph-1637105904321174-1-10\">\n<path style=\"stroke:none;\" d=\"M 1.765625 -4.40625 L 0.375 -4.296875 L 0.375 -3.984375 C 1.015625 -3.984375 1.109375 -3.921875 1.109375 -3.4375 L 1.109375 -0.75 C 1.109375 -0.3125 1 -0.3125 0.328125 -0.3125 L 0.328125 0 C 0.640625 -0.015625 1.1875 -0.03125 1.421875 -0.03125 C 1.765625 -0.03125 2.125 -0.015625 2.453125 0 L 2.453125 -0.3125 C 1.796875 -0.3125 1.765625 -0.359375 1.765625 -0.75 Z M 1.796875 -6.125 C 1.796875 -6.453125 1.546875 -6.65625 1.28125 -6.65625 C 0.96875 -6.65625 0.75 -6.390625 0.75 -6.125 C 0.75 -5.859375 0.96875 -5.609375 1.28125 -5.609375 C 1.546875 -5.609375 1.796875 -5.8125 1.796875 -6.125 Z M 1.796875 -6.125 \"/>\n</symbol>\n<symbol overflow=\"visible\" id=\"glyph-1637105904321174-1-11\">\n<path style=\"stroke:none;\" d=\"M 1.0625 -0.75 C 1.0625 -0.3125 0.953125 -0.3125 0.28125 -0.3125 L 0.28125 0 C 0.609375 -0.015625 1.078125 -0.03125 1.359375 -0.03125 C 1.65625 -0.03125 2.0625 -0.015625 2.453125 0 L 2.453125 -0.3125 C 1.796875 -0.3125 1.6875 -0.3125 1.6875 -0.75 L 1.6875 -1.78125 L 2.3125 -2.328125 C 3.078125 -1.28125 3.5 -0.71875 3.5 -0.53125 C 3.5 -0.34375 3.328125 -0.3125 3.140625 -0.3125 L 3.140625 0 C 3.421875 -0.015625 4.015625 -0.03125 4.21875 -0.03125 C 4.515625 -0.03125 4.796875 -0.015625 5.09375 0 L 5.09375 -0.3125 C 4.71875 -0.3125 4.5 -0.3125 4.125 -0.84375 L 2.859375 -2.625 C 2.84375 -2.640625 2.796875 -2.703125 2.796875 -2.734375 C 2.796875 -2.765625 3.5 -3.359375 3.609375 -3.4375 C 4.234375 -3.953125 4.640625 -3.96875 4.859375 -3.984375 L 4.859375 -4.296875 C 4.5625 -4.265625 4.4375 -4.265625 4.15625 -4.265625 C 3.796875 -4.265625 3.1875 -4.28125 3.046875 -4.296875 L 3.046875 -3.984375 C 3.234375 -3.96875 3.328125 -3.859375 3.328125 -3.734375 C 3.328125 -3.53125 3.1875 -3.40625 3.109375 -3.34375 L 1.71875 -2.125 L 1.71875 -6.90625 L 0.28125 -6.796875 L 0.28125 -6.484375 C 0.96875 -6.484375 1.0625 -6.421875 1.0625 -5.9375 Z M 1.0625 -0.75 \"/>\n</symbol>\n<symbol overflow=\"visible\" id=\"glyph-1637105904321174-1-12\">\n<path style=\"stroke:none;\" d=\"M 1.109375 -2.515625 C 1.171875 -3.984375 2.015625 -4.234375 2.34375 -4.234375 C 3.375 -4.234375 3.46875 -2.890625 3.46875 -2.515625 Z M 1.109375 -2.296875 L 3.875 -2.296875 C 4.09375 -2.296875 4.125 -2.296875 4.125 -2.515625 C 4.125 -3.5 3.59375 -4.453125 2.34375 -4.453125 C 1.1875 -4.453125 0.28125 -3.4375 0.28125 -2.1875 C 0.28125 -0.859375 1.328125 0.109375 2.46875 0.109375 C 3.6875 0.109375 4.125 -1 4.125 -1.1875 C 4.125 -1.28125 4.046875 -1.296875 4 -1.296875 C 3.90625 -1.296875 3.890625 -1.25 3.875 -1.171875 C 3.515625 -0.140625 2.625 -0.140625 2.53125 -0.140625 C 2.03125 -0.140625 1.625 -0.4375 1.40625 -0.8125 C 1.109375 -1.28125 1.109375 -1.9375 1.109375 -2.296875 Z M 1.109375 -2.296875 \"/>\n</symbol>\n<symbol overflow=\"visible\" id=\"glyph-1637105904321174-1-13\">\n<path style=\"stroke:none;\" d=\"M 1.765625 -6.90625 L 0.328125 -6.796875 L 0.328125 -6.484375 C 1.03125 -6.484375 1.109375 -6.421875 1.109375 -5.9375 L 1.109375 -0.75 C 1.109375 -0.3125 1 -0.3125 0.328125 -0.3125 L 0.328125 0 C 0.65625 -0.015625 1.1875 -0.03125 1.4375 -0.03125 C 1.6875 -0.03125 2.171875 -0.015625 2.53125 0 L 2.53125 -0.3125 C 1.875 -0.3125 1.765625 -0.3125 1.765625 -0.75 Z M 1.765625 -6.90625 \"/>\n</symbol>\n<symbol overflow=\"visible\" id=\"glyph-1637105904321174-1-14\">\n<path style=\"stroke:none;\" d=\"M 1.09375 -0.75 C 1.09375 -0.3125 0.984375 -0.3125 0.3125 -0.3125 L 0.3125 0 C 0.671875 -0.015625 1.171875 -0.03125 1.4375 -0.03125 C 1.703125 -0.03125 2.21875 -0.015625 2.5625 0 L 2.5625 -0.3125 C 1.890625 -0.3125 1.78125 -0.3125 1.78125 -0.75 L 1.78125 -2.59375 C 1.78125 -3.625 2.484375 -4.1875 3.125 -4.1875 C 3.75 -4.1875 3.859375 -3.640625 3.859375 -3.078125 L 3.859375 -0.75 C 3.859375 -0.3125 3.75 -0.3125 3.078125 -0.3125 L 3.078125 0 C 3.4375 -0.015625 3.9375 -0.03125 4.203125 -0.03125 C 4.46875 -0.03125 4.984375 -0.015625 5.328125 0 L 5.328125 -0.3125 C 4.8125 -0.3125 4.5625 -0.3125 4.546875 -0.609375 L 4.546875 -2.515625 C 4.546875 -3.359375 4.546875 -3.671875 4.234375 -4.03125 C 4.09375 -4.203125 3.765625 -4.40625 3.1875 -4.40625 C 2.359375 -4.40625 1.921875 -3.796875 1.75 -3.421875 L 1.75 -6.90625 L 0.3125 -6.796875 L 0.3125 -6.484375 C 1.015625 -6.484375 1.09375 -6.421875 1.09375 -5.9375 Z M 1.09375 -0.75 \"/>\n</symbol>\n<symbol overflow=\"visible\" id=\"glyph-1637105904321174-1-15\">\n<path style=\"stroke:none;\" d=\"M 3.78125 -0.546875 L 3.78125 0.109375 L 5.25 0 L 5.25 -0.3125 C 4.546875 -0.3125 4.46875 -0.375 4.46875 -0.859375 L 4.46875 -6.90625 L 3.03125 -6.796875 L 3.03125 -6.484375 C 3.734375 -6.484375 3.8125 -6.421875 3.8125 -5.9375 L 3.8125 -3.78125 C 3.515625 -4.140625 3.09375 -4.40625 2.5625 -4.40625 C 1.390625 -4.40625 0.34375 -3.421875 0.34375 -2.140625 C 0.34375 -0.875 1.3125 0.109375 2.453125 0.109375 C 3.078125 0.109375 3.53125 -0.234375 3.78125 -0.546875 Z M 3.78125 -3.21875 L 3.78125 -1.171875 C 3.78125 -1 3.78125 -0.96875 3.671875 -0.8125 C 3.375 -0.328125 2.921875 -0.109375 2.5 -0.109375 C 2.046875 -0.109375 1.6875 -0.375 1.453125 -0.75 C 1.1875 -1.15625 1.171875 -1.71875 1.171875 -2.125 C 1.171875 -2.5 1.1875 -3.09375 1.46875 -3.546875 C 1.6875 -3.859375 2.0625 -4.1875 2.59375 -4.1875 C 2.953125 -4.1875 3.359375 -4.03125 3.671875 -3.578125 C 3.78125 -3.40625 3.78125 -3.390625 3.78125 -3.21875 Z M 3.78125 -3.21875 \"/>\n</symbol>\n<symbol overflow=\"visible\" id=\"glyph-1637105904321174-1-16\">\n<path style=\"stroke:none;\" d=\"M 2.234375 -3.515625 L 2.234375 -6.09375 C 2.234375 -6.3125 2.234375 -6.4375 2.453125 -6.46875 C 2.546875 -6.484375 2.84375 -6.484375 3.03125 -6.484375 C 3.9375 -6.484375 5.046875 -6.453125 5.046875 -5 C 5.046875 -4.3125 4.8125 -3.515625 3.328125 -3.515625 Z M 4.328125 -3.390625 C 5.296875 -3.625 6.078125 -4.234375 6.078125 -5 C 6.078125 -5.96875 4.9375 -6.796875 3.46875 -6.796875 L 0.34375 -6.796875 L 0.34375 -6.484375 L 0.59375 -6.484375 C 1.359375 -6.484375 1.375 -6.375 1.375 -6.015625 L 1.375 -0.78125 C 1.375 -0.421875 1.359375 -0.3125 0.59375 -0.3125 L 0.34375 -0.3125 L 0.34375 0 C 0.703125 -0.03125 1.40625 -0.03125 1.796875 -0.03125 C 2.1875 -0.03125 2.890625 -0.03125 3.25 0 L 3.25 -0.3125 L 3.015625 -0.3125 C 2.25 -0.3125 2.234375 -0.421875 2.234375 -0.78125 L 2.234375 -3.296875 L 3.375 -3.296875 C 3.53125 -3.296875 3.953125 -3.296875 4.296875 -2.953125 C 4.671875 -2.59375 4.671875 -2.296875 4.671875 -1.625 C 4.671875 -0.96875 4.671875 -0.578125 5.09375 -0.203125 C 5.5 0.15625 6.046875 0.21875 6.34375 0.21875 C 7.109375 0.21875 7.28125 -0.59375 7.28125 -0.875 C 7.28125 -0.9375 7.28125 -1.046875 7.15625 -1.046875 C 7.046875 -1.046875 7.046875 -0.953125 7.03125 -0.890625 C 6.984375 -0.171875 6.625 0 6.375 0 C 5.890625 0 5.8125 -0.5 5.671875 -1.4375 L 5.546875 -2.234375 C 5.359375 -2.859375 4.875 -3.1875 4.328125 -3.390625 Z M 4.328125 -3.390625 \"/>\n</symbol>\n<symbol overflow=\"visible\" id=\"glyph-1637105904321174-1-17\">\n<path style=\"stroke:none;\" d=\"M 2.0625 -1.9375 C 2.296875 -1.890625 3.109375 -1.734375 3.109375 -1.015625 C 3.109375 -0.5 2.75 -0.109375 1.984375 -0.109375 C 1.140625 -0.109375 0.78125 -0.671875 0.59375 -1.515625 C 0.5625 -1.65625 0.5625 -1.6875 0.453125 -1.6875 C 0.328125 -1.6875 0.328125 -1.625 0.328125 -1.4375 L 0.328125 -0.125 C 0.328125 0.046875 0.328125 0.109375 0.4375 0.109375 C 0.484375 0.109375 0.5 0.09375 0.6875 -0.09375 C 0.703125 -0.109375 0.703125 -0.125 0.890625 -0.3125 C 1.328125 0.09375 1.765625 0.109375 1.984375 0.109375 C 3.125 0.109375 3.578125 -0.5625 3.578125 -1.28125 C 3.578125 -1.796875 3.28125 -2.09375 3.171875 -2.21875 C 2.84375 -2.53125 2.453125 -2.625 2.03125 -2.703125 C 1.46875 -2.8125 0.8125 -2.9375 0.8125 -3.515625 C 0.8125 -3.859375 1.0625 -4.265625 1.921875 -4.265625 C 3.015625 -4.265625 3.0625 -3.375 3.078125 -3.0625 C 3.09375 -2.96875 3.1875 -2.96875 3.203125 -2.96875 C 3.328125 -2.96875 3.328125 -3.03125 3.328125 -3.21875 L 3.328125 -4.21875 C 3.328125 -4.390625 3.328125 -4.453125 3.21875 -4.453125 C 3.171875 -4.453125 3.15625 -4.453125 3.03125 -4.34375 C 3 -4.296875 2.890625 -4.203125 2.859375 -4.1875 C 2.484375 -4.453125 2.0625 -4.453125 1.921875 -4.453125 C 0.703125 -4.453125 0.328125 -3.796875 0.328125 -3.234375 C 0.328125 -2.890625 0.484375 -2.609375 0.75 -2.390625 C 1.078125 -2.125 1.359375 -2.0625 2.0625 -1.9375 Z M 2.0625 -1.9375 \"/>\n</symbol>\n<symbol overflow=\"visible\" id=\"glyph-1637105904321174-1-18\">\n<path style=\"stroke:none;\" d=\"M 3.890625 -0.78125 L 3.890625 0.109375 L 5.328125 0 L 5.328125 -0.3125 C 4.625 -0.3125 4.546875 -0.375 4.546875 -0.859375 L 4.546875 -4.40625 L 3.078125 -4.296875 L 3.078125 -3.984375 C 3.78125 -3.984375 3.859375 -3.90625 3.859375 -3.421875 L 3.859375 -1.65625 C 3.859375 -0.78125 3.390625 -0.109375 2.65625 -0.109375 C 1.828125 -0.109375 1.78125 -0.578125 1.78125 -1.09375 L 1.78125 -4.40625 L 0.3125 -4.296875 L 0.3125 -3.984375 C 1.09375 -3.984375 1.09375 -3.953125 1.09375 -3.0625 L 1.09375 -1.578125 C 1.09375 -0.796875 1.09375 0.109375 2.609375 0.109375 C 3.171875 0.109375 3.609375 -0.171875 3.890625 -0.78125 Z M 3.890625 -0.78125 \"/>\n</symbol>\n<symbol overflow=\"visible\" id=\"glyph-1637105904321174-1-19\">\n<path style=\"stroke:none;\" d=\"M 1.71875 -3.984375 L 3.140625 -3.984375 L 3.140625 -4.296875 L 1.71875 -4.296875 L 1.71875 -6.125 L 1.46875 -6.125 C 1.46875 -5.3125 1.171875 -4.234375 0.1875 -4.203125 L 0.1875 -3.984375 L 1.03125 -3.984375 L 1.03125 -1.234375 C 1.03125 -0.015625 1.953125 0.109375 2.3125 0.109375 C 3.03125 0.109375 3.296875 -0.59375 3.296875 -1.234375 L 3.296875 -1.796875 L 3.0625 -1.796875 L 3.0625 -1.25 C 3.0625 -0.515625 2.75 -0.140625 2.390625 -0.140625 C 1.71875 -0.140625 1.71875 -1.046875 1.71875 -1.21875 Z M 1.71875 -3.984375 \"/>\n</symbol>\n<symbol overflow=\"visible\" id=\"glyph-1637105904321174-1-20\">\n<path style=\"stroke:none;\" d=\"M 1.734375 -4.296875 L 1.734375 -5.4375 C 1.734375 -6.3125 2.21875 -6.796875 2.65625 -6.796875 C 2.6875 -6.796875 2.84375 -6.796875 2.984375 -6.734375 C 2.859375 -6.6875 2.6875 -6.5625 2.6875 -6.3125 C 2.6875 -6.078125 2.84375 -5.875 3.109375 -5.875 C 3.40625 -5.875 3.546875 -6.078125 3.546875 -6.3125 C 3.546875 -6.6875 3.1875 -7.015625 2.65625 -7.015625 C 1.953125 -7.015625 1.109375 -6.484375 1.109375 -5.4375 L 1.109375 -4.296875 L 0.328125 -4.296875 L 0.328125 -3.984375 L 1.109375 -3.984375 L 1.109375 -0.75 C 1.109375 -0.3125 1 -0.3125 0.34375 -0.3125 L 0.34375 0 C 0.734375 -0.015625 1.1875 -0.03125 1.46875 -0.03125 C 1.875 -0.03125 2.34375 -0.03125 2.734375 0 L 2.734375 -0.3125 L 2.53125 -0.3125 C 1.796875 -0.3125 1.765625 -0.421875 1.765625 -0.78125 L 1.765625 -3.984375 L 2.90625 -3.984375 L 2.90625 -4.296875 Z M 1.734375 -4.296875 \"/>\n</symbol>\n<symbol overflow=\"visible\" id=\"glyph-1637105904321174-1-21\">\n<path style=\"stroke:none;\" d=\"M 1.09375 -3.421875 L 1.09375 -0.75 C 1.09375 -0.3125 0.984375 -0.3125 0.3125 -0.3125 L 0.3125 0 C 0.671875 -0.015625 1.171875 -0.03125 1.4375 -0.03125 C 1.703125 -0.03125 2.21875 -0.015625 2.5625 0 L 2.5625 -0.3125 C 1.890625 -0.3125 1.78125 -0.3125 1.78125 -0.75 L 1.78125 -2.59375 C 1.78125 -3.625 2.484375 -4.1875 3.125 -4.1875 C 3.75 -4.1875 3.859375 -3.640625 3.859375 -3.078125 L 3.859375 -0.75 C 3.859375 -0.3125 3.75 -0.3125 3.078125 -0.3125 L 3.078125 0 C 3.4375 -0.015625 3.9375 -0.03125 4.203125 -0.03125 C 4.46875 -0.03125 4.984375 -0.015625 5.328125 0 L 5.328125 -0.3125 C 4.65625 -0.3125 4.546875 -0.3125 4.546875 -0.75 L 4.546875 -2.59375 C 4.546875 -3.625 5.25 -4.1875 5.890625 -4.1875 C 6.515625 -4.1875 6.625 -3.640625 6.625 -3.078125 L 6.625 -0.75 C 6.625 -0.3125 6.515625 -0.3125 5.859375 -0.3125 L 5.859375 0 C 6.203125 -0.015625 6.703125 -0.03125 6.984375 -0.03125 C 7.234375 -0.03125 7.75 -0.015625 8.09375 0 L 8.09375 -0.3125 C 7.578125 -0.3125 7.328125 -0.3125 7.3125 -0.609375 L 7.3125 -2.515625 C 7.3125 -3.359375 7.3125 -3.671875 7 -4.03125 C 6.875 -4.203125 6.546875 -4.40625 5.96875 -4.40625 C 5.125 -4.40625 4.6875 -3.796875 4.515625 -3.421875 C 4.375 -4.296875 3.640625 -4.40625 3.1875 -4.40625 C 2.46875 -4.40625 2 -3.96875 1.71875 -3.359375 L 1.71875 -4.40625 L 0.3125 -4.296875 L 0.3125 -3.984375 C 1.015625 -3.984375 1.09375 -3.90625 1.09375 -3.421875 Z M 1.09375 -3.421875 \"/>\n</symbol>\n<symbol overflow=\"visible\" id=\"glyph-1637105904321174-1-22\">\n<path style=\"stroke:none;\" d=\"M 1.09375 -3.421875 L 1.09375 -0.75 C 1.09375 -0.3125 0.984375 -0.3125 0.3125 -0.3125 L 0.3125 0 C 0.671875 -0.015625 1.171875 -0.03125 1.4375 -0.03125 C 1.703125 -0.03125 2.21875 -0.015625 2.5625 0 L 2.5625 -0.3125 C 1.890625 -0.3125 1.78125 -0.3125 1.78125 -0.75 L 1.78125 -2.59375 C 1.78125 -3.625 2.484375 -4.1875 3.125 -4.1875 C 3.75 -4.1875 3.859375 -3.640625 3.859375 -3.078125 L 3.859375 -0.75 C 3.859375 -0.3125 3.75 -0.3125 3.078125 -0.3125 L 3.078125 0 C 3.4375 -0.015625 3.9375 -0.03125 4.203125 -0.03125 C 4.46875 -0.03125 4.984375 -0.015625 5.328125 0 L 5.328125 -0.3125 C 4.8125 -0.3125 4.5625 -0.3125 4.546875 -0.609375 L 4.546875 -2.515625 C 4.546875 -3.359375 4.546875 -3.671875 4.234375 -4.03125 C 4.09375 -4.203125 3.765625 -4.40625 3.1875 -4.40625 C 2.46875 -4.40625 2 -3.96875 1.71875 -3.359375 L 1.71875 -4.40625 L 0.3125 -4.296875 L 0.3125 -3.984375 C 1.015625 -3.984375 1.09375 -3.90625 1.09375 -3.421875 Z M 1.09375 -3.421875 \"/>\n</symbol>\n<symbol overflow=\"visible\" id=\"glyph-1637105904321174-1-23\">\n<path style=\"stroke:none;\" d=\"M 3.875 -3.984375 C 3.96875 -4.09375 3.96875 -4.125 3.96875 -4.15625 C 3.96875 -4.296875 3.890625 -4.296875 3.71875 -4.296875 L 0.53125 -4.296875 L 0.421875 -2.6875 L 0.671875 -2.6875 C 0.734375 -3.703125 0.921875 -4.078125 2.015625 -4.078125 L 3.140625 -4.078125 L 0.375 -0.3125 C 0.28125 -0.203125 0.28125 -0.1875 0.28125 -0.140625 C 0.28125 0 0.34375 0 0.53125 0 L 3.828125 0 L 3.984375 -1.859375 L 3.75 -1.859375 C 3.65625 -0.6875 3.4375 -0.25 2.296875 -0.25 L 1.109375 -0.25 Z M 3.875 -3.984375 \"/>\n</symbol>\n<symbol overflow=\"visible\" id=\"glyph-1637105904321174-1-24\">\n<path style=\"stroke:none;\" d=\"M 1.65625 -3.296875 L 1.65625 -4.40625 L 0.28125 -4.296875 L 0.28125 -3.984375 C 0.96875 -3.984375 1.0625 -3.90625 1.0625 -3.421875 L 1.0625 -0.75 C 1.0625 -0.3125 0.953125 -0.3125 0.28125 -0.3125 L 0.28125 0 C 0.671875 -0.015625 1.140625 -0.03125 1.40625 -0.03125 C 1.8125 -0.03125 2.28125 -0.03125 2.671875 0 L 2.671875 -0.3125 L 2.46875 -0.3125 C 1.734375 -0.3125 1.71875 -0.421875 1.71875 -0.78125 L 1.71875 -2.3125 C 1.71875 -3.296875 2.125 -4.1875 2.890625 -4.1875 C 2.953125 -4.1875 2.96875 -4.1875 3 -4.171875 C 2.96875 -4.15625 2.765625 -4.046875 2.765625 -3.78125 C 2.765625 -3.5 2.96875 -3.359375 3.1875 -3.359375 C 3.375 -3.359375 3.625 -3.46875 3.625 -3.796875 C 3.625 -4.109375 3.3125 -4.40625 2.890625 -4.40625 C 2.15625 -4.40625 1.796875 -3.734375 1.65625 -3.296875 Z M 1.65625 -3.296875 \"/>\n</symbol>\n<symbol overflow=\"visible\" id=\"glyph-1637105904321174-1-25\">\n<path style=\"stroke:none;\" d=\"M 3.3125 -0.75 C 3.359375 -0.359375 3.625 0.0625 4.09375 0.0625 C 4.296875 0.0625 4.90625 -0.078125 4.90625 -0.890625 L 4.90625 -1.4375 L 4.65625 -1.4375 L 4.65625 -0.890625 C 4.65625 -0.3125 4.40625 -0.25 4.296875 -0.25 C 3.96875 -0.25 3.9375 -0.703125 3.9375 -0.75 L 3.9375 -2.734375 C 3.9375 -3.15625 3.9375 -3.546875 3.578125 -3.90625 C 3.1875 -4.296875 2.6875 -4.453125 2.203125 -4.453125 C 1.390625 -4.453125 0.703125 -3.984375 0.703125 -3.328125 C 0.703125 -3.03125 0.90625 -2.859375 1.171875 -2.859375 C 1.4375 -2.859375 1.625 -3.0625 1.625 -3.328125 C 1.625 -3.4375 1.578125 -3.765625 1.109375 -3.78125 C 1.390625 -4.125 1.875 -4.234375 2.1875 -4.234375 C 2.671875 -4.234375 3.25 -3.859375 3.25 -2.96875 L 3.25 -2.59375 C 2.734375 -2.5625 2.046875 -2.53125 1.40625 -2.234375 C 0.671875 -1.90625 0.421875 -1.390625 0.421875 -0.953125 C 0.421875 -0.140625 1.390625 0.109375 2.015625 0.109375 C 2.671875 0.109375 3.125 -0.28125 3.3125 -0.75 Z M 3.25 -2.390625 L 3.25 -1.390625 C 3.25 -0.453125 2.53125 -0.109375 2.078125 -0.109375 C 1.59375 -0.109375 1.1875 -0.453125 1.1875 -0.953125 C 1.1875 -1.5 1.609375 -2.328125 3.25 -2.390625 Z M 3.25 -2.390625 \"/>\n</symbol>\n</g>\n</defs>\n<g id=\"surface1\">\n<path style=\"fill:none;stroke-width:0.19925;stroke-linecap:butt;stroke-linejoin:miter;stroke:rgb(50%,50%,50%);stroke-opacity:1;stroke-miterlimit:10;\" d=\"M -1.359862 -13.4497 L -1.359862 -9.196745 M 41.513678 -13.4497 L 41.513678 -9.196745 M 84.387218 -13.4497 L 84.387218 -9.196745 M 127.260758 -13.4497 L 127.260758 -9.196745 M 170.130389 -13.4497 L 170.130389 -9.196745 M -1.359862 147.943692 L -1.359862 143.690737 M 41.513678 147.943692 L 41.513678 143.690737 M 84.387218 147.943692 L 84.387218 143.690737 M 127.260758 147.943692 L 127.260758 143.690737 M 170.130389 147.943692 L 170.130389 143.690737 \" transform=\"matrix(0.999305,0,0,-0.999305,37.972199,169.497145)\"/>\n<path style=\"fill:none;stroke-width:0.19925;stroke-linecap:butt;stroke-linejoin:miter;stroke:rgb(50%,50%,50%);stroke-opacity:1;stroke-miterlimit:10;\" d=\"M -16.19048 0.00105243 L -11.937525 0.00105243 M -16.19048 41.318824 L -11.937525 41.318824 M -16.19048 82.636596 L -11.937525 82.636596 M -16.19048 123.958276 L -11.937525 123.958276 M 178.081226 0.00105243 L 173.828271 0.00105243 M 178.081226 41.318824 L 173.828271 41.318824 M 178.081226 82.636596 L 173.828271 82.636596 M 178.081226 123.958276 L 173.828271 123.958276 \" transform=\"matrix(0.999305,0,0,-0.999305,37.972199,169.497145)\"/>\n<path style=\"fill:none;stroke-width:0.3985;stroke-linecap:butt;stroke-linejoin:miter;stroke:rgb(0%,0%,0%);stroke-opacity:1;stroke-miterlimit:10;\" d=\"M -16.19048 -13.4497 L -16.19048 147.943692 L 178.081226 147.943692 L 178.081226 -13.4497 Z M -16.19048 -13.4497 \" transform=\"matrix(0.999305,0,0,-0.999305,37.972199,169.497145)\"/>\n<g style=\"fill:rgb(0%,0%,0%);fill-opacity:1;\">\n  <use xlink:href=\"#glyph-1637105904321174-0-1\" x=\"25.276027\" y=\"192.870893\"/>\n</g>\n<g style=\"fill:rgb(0%,0%,0%);fill-opacity:1;\">\n  <use xlink:href=\"#glyph-1637105904321174-1-1\" x=\"33.019642\" y=\"192.870893\"/>\n  <use xlink:href=\"#glyph-1637105904321174-1-2\" x=\"37.997501\" y=\"192.870893\"/>\n  <use xlink:href=\"#glyph-1637105904321174-1-2\" x=\"42.97536\" y=\"192.870893\"/>\n</g>\n<g style=\"fill:rgb(0%,0%,0%);fill-opacity:1;\">\n  <use xlink:href=\"#glyph-1637105904321174-0-1\" x=\"68.118238\" y=\"192.870893\"/>\n</g>\n<g style=\"fill:rgb(0%,0%,0%);fill-opacity:1;\">\n  <use xlink:href=\"#glyph-1637105904321174-1-3\" x=\"75.861853\" y=\"192.870893\"/>\n  <use xlink:href=\"#glyph-1637105904321174-1-2\" x=\"80.839712\" y=\"192.870893\"/>\n  <use xlink:href=\"#glyph-1637105904321174-1-2\" x=\"85.817571\" y=\"192.870893\"/>\n</g>\n<g style=\"fill:rgb(0%,0%,0%);fill-opacity:1;\">\n  <use xlink:href=\"#glyph-1637105904321174-0-1\" x=\"110.961448\" y=\"192.870893\"/>\n</g>\n<g style=\"fill:rgb(0%,0%,0%);fill-opacity:1;\">\n  <use xlink:href=\"#glyph-1637105904321174-1-4\" x=\"118.704064\" y=\"192.870893\"/>\n  <use xlink:href=\"#glyph-1637105904321174-1-2\" x=\"123.681923\" y=\"192.870893\"/>\n  <use xlink:href=\"#glyph-1637105904321174-1-2\" x=\"128.659782\" y=\"192.870893\"/>\n</g>\n<g style=\"fill:rgb(0%,0%,0%);fill-opacity:1;\">\n  <use xlink:href=\"#glyph-1637105904321174-1-2\" x=\"162.652506\" y=\"192.870893\"/>\n</g>\n<g style=\"fill:rgb(0%,0%,0%);fill-opacity:1;\">\n  <use xlink:href=\"#glyph-1637105904321174-1-4\" x=\"200.517178\" y=\"192.870893\"/>\n  <use xlink:href=\"#glyph-1637105904321174-1-2\" x=\"205.495037\" y=\"192.870893\"/>\n  <use xlink:href=\"#glyph-1637105904321174-1-2\" x=\"210.472896\" y=\"192.870893\"/>\n</g>\n<g style=\"fill:rgb(0%,0%,0%);fill-opacity:1;\">\n  <use xlink:href=\"#glyph-1637105904321174-1-2\" x=\"13.298355\" y=\"172.704915\"/>\n</g>\n<g style=\"fill:rgb(0%,0%,0%);fill-opacity:1;\">\n  <use xlink:href=\"#glyph-1637105904321174-1-3\" x=\"3.343277\" y=\"131.415624\"/>\n  <use xlink:href=\"#glyph-1637105904321174-1-2\" x=\"8.321136\" y=\"131.415624\"/>\n  <use xlink:href=\"#glyph-1637105904321174-1-2\" x=\"13.298995\" y=\"131.415624\"/>\n</g>\n<g style=\"fill:rgb(0%,0%,0%);fill-opacity:1;\">\n  <use xlink:href=\"#glyph-1637105904321174-1-5\" x=\"3.343277\" y=\"90.125334\"/>\n  <use xlink:href=\"#glyph-1637105904321174-1-2\" x=\"8.321136\" y=\"90.125334\"/>\n  <use xlink:href=\"#glyph-1637105904321174-1-2\" x=\"13.298995\" y=\"90.125334\"/>\n</g>\n<g style=\"fill:rgb(0%,0%,0%);fill-opacity:1;\">\n  <use xlink:href=\"#glyph-1637105904321174-1-6\" x=\"3.343277\" y=\"48.836043\"/>\n  <use xlink:href=\"#glyph-1637105904321174-1-2\" x=\"8.321136\" y=\"48.836043\"/>\n  <use xlink:href=\"#glyph-1637105904321174-1-2\" x=\"13.298995\" y=\"48.836043\"/>\n</g>\n<path style=\"fill-rule:nonzero;fill:rgb(75%,75%,75%);fill-opacity:0.5;stroke-width:0.3985;stroke-linecap:butt;stroke-linejoin:miter;stroke:rgb(50%,50%,50%);stroke-opacity:0.5;stroke-miterlimit:10;\" d=\"M 92.13088 0.00105243 L 93.354386 0.00105243 L 93.354386 0.411494 L 92.13088 0.411494 Z M 93.354386 0.00105243 L 94.577892 0.00105243 L 94.577892 0.208228 L 93.354386 0.208228 Z M 94.577892 0.00105243 L 95.801399 0.00105243 Z M 95.801399 0.00105243 L 97.024905 0.00105243 L 97.024905 0.411494 L 95.801399 0.411494 Z M 97.024905 0.00105243 L 98.248411 0.00105243 L 98.248411 0.208228 L 97.024905 0.208228 Z M 98.248411 0.00105243 L 99.471918 0.00105243 L 99.471918 0.208228 L 98.248411 0.208228 Z M 99.471918 0.00105243 L 100.699333 0.00105243 L 100.699333 0.825844 L 99.471918 0.825844 Z M 100.699333 0.00105243 L 101.92284 0.00105243 L 101.92284 1.033019 L 100.699333 1.033019 Z M 101.92284 0.00105243 L 103.146346 0.00105243 L 103.146346 1.240195 L 101.92284 1.240195 Z M 103.146346 0.00105243 L 104.369852 0.00105243 L 104.369852 1.44737 L 103.146346 1.44737 Z M 104.369852 0.00105243 L 105.593359 0.00105243 L 105.593359 2.064987 L 104.369852 2.064987 Z M 105.593359 0.00105243 L 106.816865 0.00105243 L 106.816865 2.479337 L 105.593359 2.479337 Z M 106.816865 0.00105243 L 108.040371 0.00105243 L 108.040371 2.479337 L 106.816865 2.479337 Z M 108.040371 0.00105243 L 109.263878 0.00105243 L 109.263878 4.13283 L 108.040371 4.13283 Z M 109.263878 0.00105243 L 110.487384 0.00105243 L 110.487384 4.750446 L 109.263878 4.750446 Z M 110.487384 0.00105243 L 111.710891 0.00105243 L 111.710891 5.164797 L 110.487384 5.164797 Z M 111.710891 0.00105243 L 112.934397 0.00105243 L 112.934397 6.818289 L 111.710891 6.818289 Z M 112.934397 0.00105243 L 114.161812 0.00105243 L 114.161812 6.403939 L 112.934397 6.403939 Z M 114.161812 0.00105243 L 115.385319 0.00105243 L 115.385319 8.678957 L 114.161812 8.678957 Z M 115.385319 0.00105243 L 116.608825 0.00105243 L 116.608825 9.503749 L 115.385319 9.503749 Z M 116.608825 0.00105243 L 117.832332 0.00105243 L 117.832332 11.774858 L 116.608825 11.774858 Z M 117.832332 0.00105243 L 119.055838 0.00105243 L 119.055838 15.081844 L 117.832332 15.081844 Z M 119.055838 0.00105243 L 120.279344 0.00105243 L 120.279344 16.320986 L 119.055838 16.320986 Z M 120.279344 0.00105243 L 121.502851 0.00105243 L 121.502851 16.942511 L 120.279344 16.942511 Z M 121.502851 0.00105243 L 122.726357 0.00105243 L 122.726357 20.452763 L 121.502851 20.452763 Z M 122.726357 0.00105243 L 123.949863 0.00105243 L 123.949863 20.659938 L 122.726357 20.659938 Z M 123.949863 0.00105243 L 125.17337 0.00105243 L 125.17337 25.206066 L 123.949863 25.206066 Z M 125.17337 0.00105243 L 126.400785 0.00105243 L 126.400785 29.545018 L 125.17337 29.545018 Z M 126.396876 0.00105243 L 127.624292 0.00105243 L 127.624292 42.765141 L 126.396876 42.765141 Z M 127.624292 0.00105243 L 128.847798 0.00105243 L 128.847798 53.50698 L 127.624292 53.50698 Z M 128.847798 0.00105243 L 130.071304 0.00105243 L 130.071304 61.774444 L 128.847798 61.774444 Z M 130.071304 0.00105243 L 131.294811 0.00105243 L 131.294811 73.133899 L 130.071304 73.133899 Z M 131.294811 0.00105243 L 132.518317 0.00105243 L 132.518317 73.341074 L 131.294811 73.341074 Z M 132.518317 0.00105243 L 133.741824 0.00105243 L 133.741824 79.333519 L 132.518317 79.333519 Z M 133.741824 0.00105243 L 134.96533 0.00105243 L 134.96533 98.546088 L 133.741824 98.546088 Z M 134.96533 0.00105243 L 136.188836 0.00105243 L 136.188836 92.760818 L 134.96533 92.760818 Z M 136.188836 0.00105243 L 137.412343 0.00105243 L 137.412343 103.506566 L 136.188836 103.506566 Z M 137.412343 0.00105243 L 138.635849 0.00105243 L 138.635849 105.5705 L 137.412343 105.5705 Z M 138.635849 0.00105243 L 139.863264 0.00105243 L 139.863264 95.243011 L 138.635849 95.243011 Z M 139.863264 0.00105243 L 141.086771 0.00105243 L 141.086771 97.928471 L 139.863264 97.928471 Z M 141.086771 0.00105243 L 142.310277 0.00105243 L 142.310277 94.207135 L 141.086771 94.207135 Z M 142.310277 0.00105243 L 143.533784 0.00105243 L 143.533784 105.160058 L 142.310277 105.160058 Z M 143.533784 0.00105243 L 144.75729 0.00105243 L 144.75729 91.936026 L 143.533784 91.936026 Z M 144.75729 0.00105243 L 145.980796 0.00105243 L 145.980796 83.050946 L 144.75729 83.050946 Z M 145.980796 0.00105243 L 147.204303 0.00105243 L 147.204303 71.484315 L 145.980796 71.484315 Z M 147.204303 0.00105243 L 148.427809 0.00105243 L 148.427809 69.209297 L 147.204303 69.209297 Z M 148.427809 0.00105243 L 149.651316 0.00105243 L 149.651316 72.930633 L 148.427809 72.930633 Z M 149.651316 0.00105243 L 150.874822 0.00105243 L 150.874822 66.109487 L 149.651316 66.109487 Z M 150.874822 0.00105243 L 152.098328 0.00105243 L 152.098328 55.160473 L 150.874822 55.160473 Z M 152.098328 0.00105243 L 153.325744 0.00105243 L 153.325744 45.657776 L 152.098328 45.657776 Z M 153.325744 0.00105243 L 154.54925 0.00105243 L 154.54925 35.947905 L 153.325744 35.947905 Z M 154.54925 0.00105243 L 155.772756 0.00105243 L 155.772756 31.194602 L 154.54925 31.194602 Z M 155.772756 0.00105243 L 156.996263 0.00105243 L 156.996263 23.552573 L 155.772756 23.552573 Z M 156.996263 0.00105243 L 158.219769 0.00105243 L 158.219769 15.496194 L 156.996263 15.496194 Z M 158.219769 0.00105243 L 159.443276 0.00105243 L 159.443276 9.089399 L 158.219769 9.089399 Z M 159.443276 0.00105243 L 160.666782 0.00105243 L 160.666782 3.511304 L 159.443276 3.511304 Z M 160.666782 0.00105243 L 161.890288 0.00105243 L 161.890288 0.411494 L 160.666782 0.411494 Z M 160.666782 0.00105243 \" transform=\"matrix(0.999305,0,0,-0.999305,37.972199,169.497145)\"/>\n<path style=\"fill-rule:nonzero;fill:rgb(50%,75%,75%);fill-opacity:0.5;stroke-width:0.3985;stroke-linecap:butt;stroke-linejoin:miter;stroke:rgb(0%,50%,50%);stroke-opacity:0.5;stroke-miterlimit:10;\" d=\"M 0.000457751 0.00105243 L 3.663159 0.00105243 L 3.663159 0.411494 L 0.000457751 0.411494 Z M 3.663159 0.00105243 L 7.32586 0.00105243 L 7.32586 0.208228 L 3.663159 0.208228 Z M 7.32586 0.00105243 L 10.984652 0.00105243 L 10.984652 1.857811 L 7.32586 1.857811 Z M 10.984652 0.00105243 L 14.647354 0.00105243 L 14.647354 3.511304 L 10.984652 3.511304 Z M 14.647354 0.00105243 L 18.310055 0.00105243 L 18.310055 6.818289 L 14.647354 6.818289 Z M 18.310055 0.00105243 L 21.972756 0.00105243 L 21.972756 10.742891 L 18.310055 10.742891 Z M 21.972756 0.00105243 L 25.635457 0.00105243 L 25.635457 20.038413 L 21.972756 20.038413 Z M 25.635457 0.00105243 L 29.298159 0.00105243 L 29.298159 30.991336 L 25.635457 30.991336 Z M 29.298159 0.00105243 L 32.96086 0.00105243 L 32.96086 30.576985 L 29.298159 30.576985 Z M 32.96086 0.00105243 L 36.619652 0.00105243 L 36.619652 43.179492 L 32.96086 43.179492 Z M 36.619652 0.00105243 L 40.282353 0.00105243 L 40.282353 46.279302 L 36.619652 46.279302 Z M 40.282353 0.00105243 L 43.945055 0.00105243 L 43.945055 61.97771 L 40.282353 61.97771 Z M 43.945055 0.00105243 L 47.607756 0.00105243 L 47.607756 54.335681 L 43.945055 54.335681 Z M 47.607756 0.00105243 L 51.270457 0.00105243 L 51.270457 54.542856 L 47.607756 54.542856 Z M 51.270457 0.00105243 L 54.933158 0.00105243 L 54.933158 64.667078 L 51.270457 64.667078 Z M 54.933158 0.00105243 L 58.595859 0.00105243 L 58.595859 61.567268 L 54.933158 61.567268 Z M 58.595859 0.00105243 L 62.254652 0.00105243 L 62.254652 58.260283 L 58.595859 58.260283 Z M 62.254652 0.00105243 L 65.917353 0.00105243 L 65.917353 63.631202 L 62.254652 63.631202 Z M 65.917353 0.00105243 L 69.580054 0.00105243 L 69.580054 65.284695 L 65.917353 65.284695 Z M 69.580054 0.00105243 L 73.242755 0.00105243 L 73.242755 68.798856 L 69.580054 68.798856 Z M 73.242755 0.00105243 L 76.905457 0.00105243 L 76.905457 79.126344 L 73.242755 79.126344 Z M 76.905457 0.00105243 L 80.568158 0.00105243 L 80.568158 84.911614 L 76.905457 84.911614 Z M 80.568158 0.00105243 L 84.230859 0.00105243 L 84.230859 101.853073 L 80.568158 101.853073 Z M 84.230859 0.00105243 L 87.89356 0.00105243 L 87.89356 103.29939 L 84.230859 103.29939 Z M 87.89356 0.00105243 L 91.552353 0.00105243 L 91.552353 118.587357 L 87.89356 118.587357 Z M 91.552353 0.00105243 L 95.215054 0.00105243 L 95.215054 134.496849 L 91.552353 134.496849 Z M 95.215054 0.00105243 L 98.877755 0.00105243 L 98.877755 131.397039 L 95.215054 131.397039 Z M 98.877755 0.00105243 L 102.540456 0.00105243 L 102.540456 123.340659 L 98.877755 123.340659 Z M 102.540456 0.00105243 L 106.203157 0.00105243 L 106.203157 102.677865 L 102.540456 102.677865 Z M 106.203157 0.00105243 L 109.865859 0.00105243 L 109.865859 94.003869 L 106.203157 94.003869 Z M 109.865859 0.00105243 L 113.52856 0.00105243 L 113.52856 64.045553 L 109.865859 64.045553 Z M 113.52856 0.00105243 L 117.187352 0.00105243 L 117.187352 56.399615 L 113.52856 56.399615 Z M 117.187352 0.00105243 L 120.850053 0.00105243 L 120.850053 38.426189 L 117.187352 38.426189 Z M 120.850053 0.00105243 L 124.512755 0.00105243 L 124.512755 29.337843 L 120.850053 29.337843 Z M 124.512755 0.00105243 L 128.175456 0.00105243 L 128.175456 19.213621 L 124.512755 19.213621 Z M 128.175456 0.00105243 L 131.838157 0.00105243 L 131.838157 15.496194 L 128.175456 15.496194 Z M 131.838157 0.00105243 L 135.500858 0.00105243 L 135.500858 10.121366 L 131.838157 10.121366 Z M 135.500858 0.00105243 L 139.163559 0.00105243 L 139.163559 4.957621 L 135.500858 4.957621 Z M 139.163559 0.00105243 L 142.822352 0.00105243 L 142.822352 2.479337 L 139.163559 2.479337 Z M 142.822352 0.00105243 L 146.485053 0.00105243 L 146.485053 2.064987 L 142.822352 2.064987 Z M 146.485053 0.00105243 L 150.147754 0.00105243 L 150.147754 0.825844 L 146.485053 0.825844 Z M 150.147754 0.00105243 L 153.810455 0.00105243 L 153.810455 1.240195 L 150.147754 1.240195 Z M 150.147754 0.00105243 \" transform=\"matrix(0.999305,0,0,-0.999305,37.972199,169.497145)\"/>\n<g style=\"fill:rgb(0%,0%,0%);fill-opacity:1;\">\n  <use xlink:href=\"#glyph-1637105904321174-1-7\" x=\"86.36555\" y=\"207.449756\"/>\n  <use xlink:href=\"#glyph-1637105904321174-1-8\" x=\"92.587874\" y=\"207.449756\"/>\n  <use xlink:href=\"#glyph-1637105904321174-1-9\" x=\"97.565732\" y=\"207.449756\"/>\n</g>\n<g style=\"fill:rgb(0%,0%,0%);fill-opacity:1;\">\n  <use xlink:href=\"#glyph-1637105904321174-1-7\" x=\"105.858845\" y=\"207.449756\"/>\n  <use xlink:href=\"#glyph-1637105904321174-1-10\" x=\"112.081169\" y=\"207.449756\"/>\n  <use xlink:href=\"#glyph-1637105904321174-1-11\" x=\"114.846867\" y=\"207.449756\"/>\n</g>\n<g style=\"fill:rgb(0%,0%,0%);fill-opacity:1;\">\n  <use xlink:href=\"#glyph-1637105904321174-1-12\" x=\"119.83269\" y=\"207.449756\"/>\n  <use xlink:href=\"#glyph-1637105904321174-1-13\" x=\"124.257011\" y=\"207.449756\"/>\n  <use xlink:href=\"#glyph-1637105904321174-1-10\" x=\"127.02271\" y=\"207.449756\"/>\n  <use xlink:href=\"#glyph-1637105904321174-1-14\" x=\"129.788408\" y=\"207.449756\"/>\n  <use xlink:href=\"#glyph-1637105904321174-1-8\" x=\"135.319805\" y=\"207.449756\"/>\n</g>\n<g style=\"fill:rgb(0%,0%,0%);fill-opacity:1;\">\n  <use xlink:href=\"#glyph-1637105904321174-1-8\" x=\"140.566468\" y=\"207.449756\"/>\n</g>\n<g style=\"fill:rgb(0%,0%,0%);fill-opacity:1;\">\n  <use xlink:href=\"#glyph-1637105904321174-1-15\" x=\"145.823087\" y=\"207.449756\"/>\n</g>\n<g style=\"fill:rgb(0%,0%,0%);fill-opacity:1;\">\n  <use xlink:href=\"#glyph-1637105904321174-1-16\" x=\"55.282163\" y=\"10.231886\"/>\n  <use xlink:href=\"#glyph-1637105904321174-1-12\" x=\"62.610567\" y=\"10.231886\"/>\n  <use xlink:href=\"#glyph-1637105904321174-1-17\" x=\"67.034888\" y=\"10.231886\"/>\n  <use xlink:href=\"#glyph-1637105904321174-1-18\" x=\"70.961423\" y=\"10.231886\"/>\n  <use xlink:href=\"#glyph-1637105904321174-1-13\" x=\"76.492819\" y=\"10.231886\"/>\n  <use xlink:href=\"#glyph-1637105904321174-1-19\" x=\"79.258518\" y=\"10.231886\"/>\n</g>\n<g style=\"fill:rgb(0%,0%,0%);fill-opacity:1;\">\n  <use xlink:href=\"#glyph-1637105904321174-1-8\" x=\"86.44555\" y=\"10.231886\"/>\n  <use xlink:href=\"#glyph-1637105904321174-1-20\" x=\"91.423409\" y=\"10.231886\"/>\n</g>\n<g style=\"fill:rgb(0%,0%,0%);fill-opacity:1;\">\n  <use xlink:href=\"#glyph-1637105904321174-1-21\" x=\"97.78113\" y=\"10.231886\"/>\n  <use xlink:href=\"#glyph-1637105904321174-1-10\" x=\"106.07723\" y=\"10.231886\"/>\n  <use xlink:href=\"#glyph-1637105904321174-1-22\" x=\"108.842928\" y=\"10.231886\"/>\n  <use xlink:href=\"#glyph-1637105904321174-1-10\" x=\"114.374325\" y=\"10.231886\"/>\n  <use xlink:href=\"#glyph-1637105904321174-1-21\" x=\"117.140023\" y=\"10.231886\"/>\n  <use xlink:href=\"#glyph-1637105904321174-1-10\" x=\"125.436123\" y=\"10.231886\"/>\n  <use xlink:href=\"#glyph-1637105904321174-1-23\" x=\"128.201821\" y=\"10.231886\"/>\n  <use xlink:href=\"#glyph-1637105904321174-1-10\" x=\"132.626142\" y=\"10.231886\"/>\n  <use xlink:href=\"#glyph-1637105904321174-1-22\" x=\"135.39184\" y=\"10.231886\"/>\n  <use xlink:href=\"#glyph-1637105904321174-1-9\" x=\"140.923237\" y=\"10.231886\"/>\n</g>\n<g style=\"fill:rgb(0%,0%,0%);fill-opacity:1;\">\n  <use xlink:href=\"#glyph-1637105904321174-1-24\" x=\"149.21635\" y=\"10.231886\"/>\n  <use xlink:href=\"#glyph-1637105904321174-1-25\" x=\"153.116004\" y=\"10.231886\"/>\n  <use xlink:href=\"#glyph-1637105904321174-1-22\" x=\"158.093863\" y=\"10.231886\"/>\n  <use xlink:href=\"#glyph-1637105904321174-1-15\" x=\"163.62526\" y=\"10.231886\"/>\n  <use xlink:href=\"#glyph-1637105904321174-1-8\" x=\"169.156656\" y=\"10.231886\"/>\n  <use xlink:href=\"#glyph-1637105904321174-1-21\" x=\"174.134515\" y=\"10.231886\"/>\n</g>\n</g>\n</svg>\n\n",
      "text/plain": [
       "Axis(PGFPlots.Plots.Plot[PGFPlots.Plots.Histogram(Real[8.060955540159057, 35.585748238901, 36.56268506572559, 15.909334182671188, 49.58473408163495, -1.3780064488718153, 54.09318820587211, 4.602172737992873, 33.81038069843475, 53.33850671467071  …  24.95289407688506, 27.28803927103442, 26.673239297270115, -24.996284372111646, 19.722018656486938, 37.18353534214417, 42.615030690997486, 35.29478945980752, 35.35950752120411, 40.218977209447495], 10, false, false, \"gray, fill=gray!50, opacity = 0.5\", :default, nothing), PGFPlots.Plots.Histogram(Real[-193.17206087015637, -30.109469265231738, -106.76548302389985, -206.3563535760121, -90.5761856460352, -198.4612759376374, -75.08684035902937, -25.140897746646033, -26.139514694888504, -96.55214177141482  …  -134.73167514908488, -109.23242470993526, -11.388281733452828, -197.94667047857746, -90.49107896671127, -176.3786376692981, -99.91733694424653, -122.0156216605197, -51.29570488633094, -62.672762532713435], 10, false, false, \"teal, fill=teal!50, opacity = 0.5\", :default, nothing)], \"Result of minimizing random\", \"Log Likelihood\", nothing, nothing, nothing, nothing, nothing, nothing, nothing, nothing, nothing, nothing, nothing, nothing, nothing, nothing, nothing, nothing, nothing, nothing, nothing, nothing, nothing, nothing, nothing, nothing, nothing, \"axis\")"
      ]
     },
     "execution_count": 166,
     "metadata": {},
     "output_type": "execute_result"
    }
   ],
   "source": [
    "ll_in = logpdf(npn.flow, z_in)\n",
    "ll_out = logpdf(npn.flow, z_out)\n",
    "\n",
    "ax = Axis()\n",
    "push!(ax, Plots.Histogram(ll_in, style = \"gray, fill=gray!50, opacity = 0.5\"))\n",
    "push!(ax, Plots.Histogram(ll_out, style = \"teal, fill=teal!50, opacity = 0.5\"))\n",
    "ax.xlabel = \"Log Likelihood\"\n",
    "ax.title = \"Result of minimizing random\"\n",
    "ax"
   ]
  },
  {
   "cell_type": "code",
   "execution_count": 168,
   "metadata": {},
   "outputs": [
    {
     "data": {
      "image/svg+xml": "<?xml version=\"1.0\" encoding=\"UTF-8\"?>\n<svg xmlns=\"http://www.w3.org/2000/svg\" xmlns:xlink=\"http://www.w3.org/1999/xlink\" width=\"216.256pt\" height=\"212.859pt\" viewBox=\"0 0 216.256 212.859\" version=\"1.2\">\n<defs>\n<g>\n<symbol overflow=\"visible\" id=\"glyph-1637105904321176-0-0\">\n<path style=\"stroke:none;\" d=\"\"/>\n</symbol>\n<symbol overflow=\"visible\" id=\"glyph-1637105904321176-0-1\">\n<path style=\"stroke:none;\" d=\"M 6.53125 -2.28125 C 6.703125 -2.28125 6.890625 -2.28125 6.890625 -2.484375 C 6.890625 -2.671875 6.703125 -2.671875 6.53125 -2.671875 L 1.171875 -2.671875 C 1 -2.671875 0.828125 -2.671875 0.828125 -2.484375 C 0.828125 -2.28125 1 -2.28125 1.171875 -2.28125 Z M 6.53125 -2.28125 \"/>\n</symbol>\n<symbol overflow=\"visible\" id=\"glyph-1637105904321176-1-0\">\n<path style=\"stroke:none;\" d=\"\"/>\n</symbol>\n<symbol overflow=\"visible\" id=\"glyph-1637105904321176-1-1\">\n<path style=\"stroke:none;\" d=\"M 4.453125 -2 C 4.453125 -3.171875 3.640625 -4.171875 2.5625 -4.171875 C 2.09375 -4.171875 1.671875 -4.015625 1.3125 -3.65625 L 1.3125 -5.59375 C 1.515625 -5.53125 1.828125 -5.46875 2.15625 -5.46875 C 3.375 -5.46875 4.0625 -6.375 4.0625 -6.5 C 4.0625 -6.5625 4.03125 -6.609375 3.96875 -6.609375 C 3.953125 -6.609375 3.9375 -6.609375 3.890625 -6.578125 C 3.6875 -6.484375 3.203125 -6.296875 2.546875 -6.296875 C 2.140625 -6.296875 1.6875 -6.359375 1.21875 -6.5625 C 1.140625 -6.59375 1.125 -6.59375 1.09375 -6.59375 C 1 -6.59375 1 -6.515625 1 -6.359375 L 1 -3.421875 C 1 -3.25 1 -3.171875 1.140625 -3.171875 C 1.203125 -3.171875 1.234375 -3.1875 1.265625 -3.25 C 1.375 -3.40625 1.75 -3.953125 2.546875 -3.953125 C 3.0625 -3.953125 3.3125 -3.5 3.390625 -3.3125 C 3.546875 -2.953125 3.578125 -2.5625 3.578125 -2.0625 C 3.578125 -1.71875 3.578125 -1.125 3.328125 -0.703125 C 3.09375 -0.3125 2.734375 -0.0625 2.265625 -0.0625 C 1.546875 -0.0625 0.984375 -0.578125 0.8125 -1.171875 C 0.84375 -1.15625 0.875 -1.15625 0.984375 -1.15625 C 1.3125 -1.15625 1.484375 -1.40625 1.484375 -1.640625 C 1.484375 -1.875 1.3125 -2.125 0.984375 -2.125 C 0.84375 -2.125 0.5 -2.046875 0.5 -1.59375 C 0.5 -0.75 1.1875 0.21875 2.296875 0.21875 C 3.4375 0.21875 4.453125 -0.734375 4.453125 -2 Z M 4.453125 -2 \"/>\n</symbol>\n<symbol overflow=\"visible\" id=\"glyph-1637105904321176-1-2\">\n<path style=\"stroke:none;\" d=\"M 4.5625 -3.171875 C 4.5625 -3.96875 4.515625 -4.765625 4.171875 -5.5 C 3.703125 -6.453125 2.890625 -6.609375 2.484375 -6.609375 C 1.890625 -6.609375 1.15625 -6.34375 0.75 -5.421875 C 0.4375 -4.75 0.390625 -3.96875 0.390625 -3.171875 C 0.390625 -2.4375 0.421875 -1.53125 0.828125 -0.78125 C 1.265625 0.015625 1.984375 0.21875 2.46875 0.21875 C 3 0.21875 3.765625 0.015625 4.203125 -0.9375 C 4.515625 -1.625 4.5625 -2.390625 4.5625 -3.171875 Z M 2.46875 0 C 2.078125 0 1.5 -0.25 1.3125 -1.203125 C 1.203125 -1.796875 1.203125 -2.703125 1.203125 -3.296875 C 1.203125 -3.921875 1.203125 -4.578125 1.296875 -5.125 C 1.484375 -6.296875 2.21875 -6.390625 2.46875 -6.390625 C 2.796875 -6.390625 3.453125 -6.21875 3.640625 -5.234375 C 3.734375 -4.671875 3.734375 -3.921875 3.734375 -3.296875 C 3.734375 -2.546875 3.734375 -1.875 3.625 -1.234375 C 3.484375 -0.296875 2.921875 0 2.46875 0 Z M 2.46875 0 \"/>\n</symbol>\n<symbol overflow=\"visible\" id=\"glyph-1637105904321176-1-3\">\n<path style=\"stroke:none;\" d=\"M 1.265625 -0.765625 L 2.3125 -1.78125 C 3.859375 -3.15625 4.453125 -3.6875 4.453125 -4.6875 C 4.453125 -5.8125 3.5625 -6.609375 2.34375 -6.609375 C 1.234375 -6.609375 0.5 -5.6875 0.5 -4.8125 C 0.5 -4.25 0.984375 -4.25 1.015625 -4.25 C 1.1875 -4.25 1.53125 -4.375 1.53125 -4.78125 C 1.53125 -5.046875 1.359375 -5.296875 1.015625 -5.296875 C 0.9375 -5.296875 0.90625 -5.296875 0.890625 -5.28125 C 1.109375 -5.9375 1.640625 -6.296875 2.21875 -6.296875 C 3.125 -6.296875 3.546875 -5.5 3.546875 -4.6875 C 3.546875 -3.890625 3.0625 -3.109375 2.515625 -2.484375 L 0.609375 -0.359375 C 0.5 -0.265625 0.5 -0.234375 0.5 0 L 4.171875 0 L 4.453125 -1.71875 L 4.203125 -1.71875 C 4.15625 -1.421875 4.09375 -0.984375 3.984375 -0.84375 C 3.921875 -0.765625 3.265625 -0.765625 3.046875 -0.765625 Z M 1.265625 -0.765625 \"/>\n</symbol>\n<symbol overflow=\"visible\" id=\"glyph-1637105904321176-1-4\">\n<path style=\"stroke:none;\" d=\"M 2.921875 -1.640625 L 2.921875 -0.78125 C 2.921875 -0.421875 2.890625 -0.3125 2.15625 -0.3125 L 1.953125 -0.3125 L 1.953125 0 C 2.359375 -0.03125 2.875 -0.03125 3.296875 -0.03125 C 3.703125 -0.03125 4.234375 -0.03125 4.640625 0 L 4.640625 -0.3125 L 4.4375 -0.3125 C 3.703125 -0.3125 3.6875 -0.421875 3.6875 -0.78125 L 3.6875 -1.640625 L 4.671875 -1.640625 L 4.671875 -1.9375 L 3.6875 -1.9375 L 3.6875 -6.453125 C 3.6875 -6.65625 3.6875 -6.71875 3.515625 -6.71875 C 3.4375 -6.71875 3.40625 -6.71875 3.328125 -6.59375 L 0.28125 -1.9375 L 0.28125 -1.640625 Z M 2.96875 -1.9375 L 0.5625 -1.9375 L 2.96875 -5.640625 Z M 2.96875 -1.9375 \"/>\n</symbol>\n<symbol overflow=\"visible\" id=\"glyph-1637105904321176-1-5\">\n<path style=\"stroke:none;\" d=\"M 5.78125 -2.5625 L 5.53125 -2.5625 C 5.421875 -1.546875 5.28125 -0.3125 3.53125 -0.3125 L 2.71875 -0.3125 C 2.25 -0.3125 2.234375 -0.375 2.234375 -0.703125 L 2.234375 -6 C 2.234375 -6.328125 2.234375 -6.46875 3.171875 -6.46875 L 3.5 -6.46875 L 3.5 -6.78125 C 3.140625 -6.75 2.25 -6.75 1.828125 -6.75 C 1.453125 -6.75 0.671875 -6.75 0.328125 -6.78125 L 0.328125 -6.46875 L 0.5625 -6.46875 C 1.328125 -6.46875 1.34375 -6.359375 1.34375 -6 L 1.34375 -0.78125 C 1.34375 -0.421875 1.328125 -0.3125 0.5625 -0.3125 L 0.328125 -0.3125 L 0.328125 0 L 5.5 0 Z M 5.78125 -2.5625 \"/>\n</symbol>\n<symbol overflow=\"visible\" id=\"glyph-1637105904321176-1-6\">\n<path style=\"stroke:none;\" d=\"M 4.671875 -2.125 C 4.671875 -3.390625 3.6875 -4.4375 2.484375 -4.4375 C 1.234375 -4.4375 0.28125 -3.359375 0.28125 -2.125 C 0.28125 -0.84375 1.3125 0.109375 2.46875 0.109375 C 3.671875 0.109375 4.671875 -0.859375 4.671875 -2.125 Z M 2.484375 -0.140625 C 2.046875 -0.140625 1.625 -0.34375 1.34375 -0.796875 C 1.09375 -1.234375 1.09375 -1.84375 1.09375 -2.203125 C 1.09375 -2.59375 1.09375 -3.125 1.34375 -3.5625 C 1.609375 -4.015625 2.078125 -4.234375 2.46875 -4.234375 C 2.90625 -4.234375 3.328125 -4.015625 3.59375 -3.578125 C 3.84375 -3.15625 3.84375 -2.578125 3.84375 -2.203125 C 3.84375 -1.84375 3.84375 -1.3125 3.625 -0.875 C 3.40625 -0.421875 2.96875 -0.140625 2.484375 -0.140625 Z M 2.484375 -0.140625 \"/>\n</symbol>\n<symbol overflow=\"visible\" id=\"glyph-1637105904321176-1-7\">\n<path style=\"stroke:none;\" d=\"M 2.203125 -1.703125 C 1.34375 -1.703125 1.34375 -2.703125 1.34375 -2.921875 C 1.34375 -3.1875 1.34375 -3.515625 1.5 -3.765625 C 1.578125 -3.875 1.8125 -4.15625 2.203125 -4.15625 C 3.0625 -4.15625 3.0625 -3.171875 3.0625 -2.9375 C 3.0625 -2.671875 3.0625 -2.34375 2.90625 -2.109375 C 2.828125 -1.984375 2.59375 -1.703125 2.203125 -1.703125 Z M 1.046875 -1.3125 C 1.046875 -1.359375 1.046875 -1.59375 1.21875 -1.78125 C 1.609375 -1.515625 2.015625 -1.484375 2.203125 -1.484375 C 3.125 -1.484375 3.8125 -2.15625 3.8125 -2.921875 C 3.8125 -3.296875 3.65625 -3.65625 3.40625 -3.890625 C 3.765625 -4.234375 4.125 -4.28125 4.296875 -4.28125 C 4.3125 -4.28125 4.359375 -4.28125 4.390625 -4.265625 C 4.28125 -4.234375 4.234375 -4.125 4.234375 -4 C 4.234375 -3.828125 4.359375 -3.703125 4.53125 -3.703125 C 4.625 -3.703125 4.8125 -3.78125 4.8125 -4.015625 C 4.8125 -4.171875 4.6875 -4.5 4.3125 -4.5 C 4.109375 -4.5 3.671875 -4.4375 3.25 -4.03125 C 2.84375 -4.359375 2.421875 -4.390625 2.203125 -4.390625 C 1.28125 -4.390625 0.59375 -3.703125 0.59375 -2.9375 C 0.59375 -2.5 0.8125 -2.125 1.0625 -1.921875 C 0.9375 -1.765625 0.75 -1.4375 0.75 -1.09375 C 0.75 -0.78125 0.890625 -0.40625 1.1875 -0.203125 C 0.59375 -0.046875 0.28125 0.390625 0.28125 0.78125 C 0.28125 1.5 1.265625 2.046875 2.46875 2.046875 C 3.640625 2.046875 4.671875 1.53125 4.671875 0.765625 C 4.671875 0.421875 4.53125 -0.09375 4.03125 -0.359375 C 3.5 -0.640625 2.921875 -0.640625 2.328125 -0.640625 C 2.078125 -0.640625 1.640625 -0.640625 1.578125 -0.65625 C 1.265625 -0.6875 1.046875 -1 1.046875 -1.3125 Z M 2.484375 1.8125 C 1.484375 1.8125 0.796875 1.3125 0.796875 0.78125 C 0.796875 0.328125 1.171875 -0.046875 1.609375 -0.0625 L 2.1875 -0.0625 C 3.046875 -0.0625 4.15625 -0.0625 4.15625 0.78125 C 4.15625 1.3125 3.453125 1.8125 2.484375 1.8125 Z M 2.484375 1.8125 \"/>\n</symbol>\n<symbol overflow=\"visible\" id=\"glyph-1637105904321176-1-8\">\n<path style=\"stroke:none;\" d=\"M 1.75 -4.390625 L 0.359375 -4.28125 L 0.359375 -3.96875 C 1.015625 -3.96875 1.09375 -3.90625 1.09375 -3.421875 L 1.09375 -0.75 C 1.09375 -0.3125 0.984375 -0.3125 0.328125 -0.3125 L 0.328125 0 C 0.640625 -0.015625 1.1875 -0.03125 1.421875 -0.03125 C 1.765625 -0.03125 2.109375 -0.015625 2.453125 0 L 2.453125 -0.3125 C 1.796875 -0.3125 1.75 -0.359375 1.75 -0.75 Z M 1.796875 -6.109375 C 1.796875 -6.421875 1.546875 -6.640625 1.265625 -6.640625 C 0.96875 -6.640625 0.75 -6.375 0.75 -6.109375 C 0.75 -5.84375 0.96875 -5.59375 1.265625 -5.59375 C 1.546875 -5.59375 1.796875 -5.796875 1.796875 -6.109375 Z M 1.796875 -6.109375 \"/>\n</symbol>\n<symbol overflow=\"visible\" id=\"glyph-1637105904321176-1-9\">\n<path style=\"stroke:none;\" d=\"M 1.046875 -0.75 C 1.046875 -0.3125 0.9375 -0.3125 0.28125 -0.3125 L 0.28125 0 C 0.609375 -0.015625 1.078125 -0.03125 1.359375 -0.03125 C 1.65625 -0.03125 2.046875 -0.015625 2.453125 0 L 2.453125 -0.3125 C 1.78125 -0.3125 1.671875 -0.3125 1.671875 -0.75 L 1.671875 -1.78125 L 2.3125 -2.328125 C 3.078125 -1.265625 3.5 -0.71875 3.5 -0.53125 C 3.5 -0.34375 3.328125 -0.3125 3.140625 -0.3125 L 3.140625 0 C 3.40625 -0.015625 4 -0.03125 4.203125 -0.03125 C 4.5 -0.03125 4.78125 -0.015625 5.0625 0 L 5.0625 -0.3125 C 4.703125 -0.3125 4.484375 -0.3125 4.109375 -0.828125 L 2.84375 -2.609375 C 2.84375 -2.625 2.78125 -2.6875 2.78125 -2.71875 C 2.78125 -2.765625 3.5 -3.359375 3.59375 -3.4375 C 4.21875 -3.9375 4.640625 -3.953125 4.84375 -3.96875 L 4.84375 -4.28125 C 4.546875 -4.25 4.421875 -4.25 4.140625 -4.25 C 3.796875 -4.25 3.171875 -4.265625 3.03125 -4.28125 L 3.03125 -3.96875 C 3.21875 -3.953125 3.328125 -3.84375 3.328125 -3.71875 C 3.328125 -3.515625 3.1875 -3.40625 3.109375 -3.328125 L 1.703125 -2.125 L 1.703125 -6.890625 L 0.28125 -6.78125 L 0.28125 -6.46875 C 0.96875 -6.46875 1.046875 -6.40625 1.046875 -5.90625 Z M 1.046875 -0.75 \"/>\n</symbol>\n<symbol overflow=\"visible\" id=\"glyph-1637105904321176-1-10\">\n<path style=\"stroke:none;\" d=\"M 1.109375 -2.5 C 1.171875 -3.984375 2 -4.234375 2.34375 -4.234375 C 3.359375 -4.234375 3.46875 -2.890625 3.46875 -2.5 Z M 1.09375 -2.296875 L 3.875 -2.296875 C 4.09375 -2.296875 4.125 -2.296875 4.125 -2.5 C 4.125 -3.484375 3.578125 -4.4375 2.34375 -4.4375 C 1.1875 -4.4375 0.28125 -3.421875 0.28125 -2.1875 C 0.28125 -0.859375 1.3125 0.109375 2.453125 0.109375 C 3.671875 0.109375 4.125 -0.984375 4.125 -1.1875 C 4.125 -1.28125 4.03125 -1.296875 3.984375 -1.296875 C 3.90625 -1.296875 3.875 -1.234375 3.859375 -1.15625 C 3.515625 -0.140625 2.625 -0.140625 2.515625 -0.140625 C 2.03125 -0.140625 1.625 -0.4375 1.40625 -0.796875 C 1.09375 -1.28125 1.09375 -1.9375 1.09375 -2.296875 Z M 1.09375 -2.296875 \"/>\n</symbol>\n<symbol overflow=\"visible\" id=\"glyph-1637105904321176-1-11\">\n<path style=\"stroke:none;\" d=\"M 1.75 -6.890625 L 0.328125 -6.78125 L 0.328125 -6.46875 C 1.015625 -6.46875 1.09375 -6.40625 1.09375 -5.90625 L 1.09375 -0.75 C 1.09375 -0.3125 0.984375 -0.3125 0.328125 -0.3125 L 0.328125 0 C 0.65625 -0.015625 1.1875 -0.03125 1.421875 -0.03125 C 1.671875 -0.03125 2.15625 -0.015625 2.53125 0 L 2.53125 -0.3125 C 1.859375 -0.3125 1.75 -0.3125 1.75 -0.75 Z M 1.75 -6.890625 \"/>\n</symbol>\n<symbol overflow=\"visible\" id=\"glyph-1637105904321176-1-12\">\n<path style=\"stroke:none;\" d=\"M 1.09375 -0.75 C 1.09375 -0.3125 0.984375 -0.3125 0.3125 -0.3125 L 0.3125 0 C 0.671875 -0.015625 1.171875 -0.03125 1.4375 -0.03125 C 1.703125 -0.03125 2.21875 -0.015625 2.546875 0 L 2.546875 -0.3125 C 1.890625 -0.3125 1.78125 -0.3125 1.78125 -0.75 L 1.78125 -2.578125 C 1.78125 -3.609375 2.484375 -4.171875 3.109375 -4.171875 C 3.734375 -4.171875 3.84375 -3.625 3.84375 -3.0625 L 3.84375 -0.75 C 3.84375 -0.3125 3.734375 -0.3125 3.078125 -0.3125 L 3.078125 0 C 3.421875 -0.015625 3.921875 -0.03125 4.203125 -0.03125 C 4.453125 -0.03125 4.96875 -0.015625 5.3125 0 L 5.3125 -0.3125 C 4.796875 -0.3125 4.546875 -0.3125 4.53125 -0.609375 L 4.53125 -2.5 C 4.53125 -3.359375 4.53125 -3.65625 4.234375 -4.015625 C 4.09375 -4.1875 3.765625 -4.390625 3.1875 -4.390625 C 2.34375 -4.390625 1.921875 -3.796875 1.75 -3.40625 L 1.75 -6.890625 L 0.3125 -6.78125 L 0.3125 -6.46875 C 1.015625 -6.46875 1.09375 -6.40625 1.09375 -5.90625 Z M 1.09375 -0.75 \"/>\n</symbol>\n<symbol overflow=\"visible\" id=\"glyph-1637105904321176-1-13\">\n<path style=\"stroke:none;\" d=\"M 3.765625 -0.546875 L 3.765625 0.109375 L 5.234375 0 L 5.234375 -0.3125 C 4.53125 -0.3125 4.453125 -0.375 4.453125 -0.859375 L 4.453125 -6.890625 L 3.03125 -6.78125 L 3.03125 -6.46875 C 3.71875 -6.46875 3.796875 -6.40625 3.796875 -5.90625 L 3.796875 -3.765625 C 3.515625 -4.125 3.078125 -4.390625 2.546875 -4.390625 C 1.375 -4.390625 0.34375 -3.40625 0.34375 -2.140625 C 0.34375 -0.875 1.3125 0.109375 2.4375 0.109375 C 3.078125 0.109375 3.515625 -0.234375 3.765625 -0.546875 Z M 3.765625 -3.203125 L 3.765625 -1.171875 C 3.765625 -0.984375 3.765625 -0.96875 3.65625 -0.796875 C 3.359375 -0.328125 2.921875 -0.109375 2.484375 -0.109375 C 2.046875 -0.109375 1.6875 -0.359375 1.453125 -0.75 C 1.1875 -1.15625 1.15625 -1.71875 1.15625 -2.125 C 1.15625 -2.484375 1.1875 -3.078125 1.46875 -3.53125 C 1.671875 -3.84375 2.046875 -4.171875 2.59375 -4.171875 C 2.9375 -4.171875 3.359375 -4.015625 3.65625 -3.578125 C 3.765625 -3.40625 3.765625 -3.390625 3.765625 -3.203125 Z M 3.765625 -3.203125 \"/>\n</symbol>\n<symbol overflow=\"visible\" id=\"glyph-1637105904321176-1-14\">\n<path style=\"stroke:none;\" d=\"M 2.21875 -3.5 L 2.21875 -6.078125 C 2.21875 -6.296875 2.21875 -6.421875 2.4375 -6.453125 C 2.546875 -6.46875 2.828125 -6.46875 3.03125 -6.46875 C 3.921875 -6.46875 5.03125 -6.421875 5.03125 -4.984375 C 5.03125 -4.3125 4.796875 -3.5 3.328125 -3.5 Z M 4.3125 -3.375 C 5.28125 -3.609375 6.046875 -4.21875 6.046875 -4.984375 C 6.046875 -5.9375 4.921875 -6.78125 3.46875 -6.78125 L 0.34375 -6.78125 L 0.34375 -6.46875 L 0.578125 -6.46875 C 1.34375 -6.46875 1.375 -6.359375 1.375 -6 L 1.375 -0.78125 C 1.375 -0.421875 1.34375 -0.3125 0.578125 -0.3125 L 0.34375 -0.3125 L 0.34375 0 C 0.703125 -0.03125 1.40625 -0.03125 1.796875 -0.03125 C 2.1875 -0.03125 2.890625 -0.03125 3.25 0 L 3.25 -0.3125 L 3 -0.3125 C 2.25 -0.3125 2.21875 -0.421875 2.21875 -0.78125 L 2.21875 -3.28125 L 3.359375 -3.28125 C 3.515625 -3.28125 3.9375 -3.28125 4.28125 -2.953125 C 4.65625 -2.59375 4.65625 -2.28125 4.65625 -1.625 C 4.65625 -0.96875 4.65625 -0.578125 5.0625 -0.203125 C 5.484375 0.15625 6.015625 0.21875 6.3125 0.21875 C 7.09375 0.21875 7.265625 -0.59375 7.265625 -0.875 C 7.265625 -0.9375 7.265625 -1.046875 7.140625 -1.046875 C 7.03125 -1.046875 7.03125 -0.953125 7.015625 -0.890625 C 6.953125 -0.171875 6.609375 0 6.359375 0 C 5.875 0 5.796875 -0.5 5.65625 -1.421875 L 5.53125 -2.21875 C 5.34375 -2.859375 4.859375 -3.1875 4.3125 -3.375 Z M 4.3125 -3.375 \"/>\n</symbol>\n<symbol overflow=\"visible\" id=\"glyph-1637105904321176-1-15\">\n<path style=\"stroke:none;\" d=\"M 2.0625 -1.921875 C 2.28125 -1.890625 3.09375 -1.71875 3.09375 -1.015625 C 3.09375 -0.5 2.75 -0.109375 1.96875 -0.109375 C 1.140625 -0.109375 0.78125 -0.671875 0.59375 -1.515625 C 0.5625 -1.640625 0.5625 -1.6875 0.453125 -1.6875 C 0.328125 -1.6875 0.328125 -1.625 0.328125 -1.4375 L 0.328125 -0.125 C 0.328125 0.046875 0.328125 0.109375 0.4375 0.109375 C 0.484375 0.109375 0.5 0.09375 0.6875 -0.09375 C 0.703125 -0.109375 0.703125 -0.125 0.890625 -0.3125 C 1.3125 0.09375 1.765625 0.109375 1.96875 0.109375 C 3.109375 0.109375 3.578125 -0.5625 3.578125 -1.265625 C 3.578125 -1.796875 3.28125 -2.09375 3.15625 -2.21875 C 2.828125 -2.53125 2.4375 -2.609375 2.03125 -2.6875 C 1.46875 -2.796875 0.796875 -2.921875 0.796875 -3.5 C 0.796875 -3.84375 1.0625 -4.25 1.921875 -4.25 C 3 -4.25 3.0625 -3.359375 3.078125 -3.0625 C 3.078125 -2.96875 3.171875 -2.96875 3.1875 -2.96875 C 3.328125 -2.96875 3.328125 -3.015625 3.328125 -3.203125 L 3.328125 -4.203125 C 3.328125 -4.375 3.328125 -4.4375 3.21875 -4.4375 C 3.171875 -4.4375 3.140625 -4.4375 3.015625 -4.328125 C 2.984375 -4.28125 2.890625 -4.203125 2.84375 -4.171875 C 2.46875 -4.4375 2.0625 -4.4375 1.921875 -4.4375 C 0.703125 -4.4375 0.328125 -3.78125 0.328125 -3.21875 C 0.328125 -2.875 0.484375 -2.59375 0.75 -2.375 C 1.078125 -2.125 1.34375 -2.0625 2.0625 -1.921875 Z M 2.0625 -1.921875 \"/>\n</symbol>\n<symbol overflow=\"visible\" id=\"glyph-1637105904321176-1-16\">\n<path style=\"stroke:none;\" d=\"M 3.875 -0.78125 L 3.875 0.109375 L 5.3125 0 L 5.3125 -0.3125 C 4.609375 -0.3125 4.53125 -0.375 4.53125 -0.859375 L 4.53125 -4.390625 L 3.078125 -4.28125 L 3.078125 -3.96875 C 3.765625 -3.96875 3.84375 -3.90625 3.84375 -3.40625 L 3.84375 -1.640625 C 3.84375 -0.78125 3.375 -0.109375 2.65625 -0.109375 C 1.8125 -0.109375 1.78125 -0.578125 1.78125 -1.09375 L 1.78125 -4.390625 L 0.3125 -4.28125 L 0.3125 -3.96875 C 1.09375 -3.96875 1.09375 -3.9375 1.09375 -3.0625 L 1.09375 -1.5625 C 1.09375 -0.796875 1.09375 0.109375 2.59375 0.109375 C 3.15625 0.109375 3.59375 -0.171875 3.875 -0.78125 Z M 3.875 -0.78125 \"/>\n</symbol>\n<symbol overflow=\"visible\" id=\"glyph-1637105904321176-1-17\">\n<path style=\"stroke:none;\" d=\"M 1.71875 -3.96875 L 3.140625 -3.96875 L 3.140625 -4.28125 L 1.71875 -4.28125 L 1.71875 -6.109375 L 1.46875 -6.109375 C 1.453125 -5.28125 1.15625 -4.234375 0.1875 -4.1875 L 0.1875 -3.96875 L 1.03125 -3.96875 L 1.03125 -1.234375 C 1.03125 -0.015625 1.953125 0.109375 2.3125 0.109375 C 3.015625 0.109375 3.296875 -0.59375 3.296875 -1.234375 L 3.296875 -1.796875 L 3.046875 -1.796875 L 3.046875 -1.25 C 3.046875 -0.515625 2.75 -0.140625 2.375 -0.140625 C 1.71875 -0.140625 1.71875 -1.046875 1.71875 -1.203125 Z M 1.71875 -3.96875 \"/>\n</symbol>\n<symbol overflow=\"visible\" id=\"glyph-1637105904321176-1-18\">\n<path style=\"stroke:none;\" d=\"M 1.734375 -4.28125 L 1.734375 -5.421875 C 1.734375 -6.296875 2.21875 -6.78125 2.65625 -6.78125 C 2.671875 -6.78125 2.828125 -6.78125 2.96875 -6.703125 C 2.859375 -6.671875 2.671875 -6.53125 2.671875 -6.296875 C 2.671875 -6.0625 2.84375 -5.859375 3.109375 -5.859375 C 3.390625 -5.859375 3.546875 -6.0625 3.546875 -6.296875 C 3.546875 -6.671875 3.171875 -7 2.65625 -7 C 1.953125 -7 1.109375 -6.46875 1.109375 -5.421875 L 1.109375 -4.28125 L 0.328125 -4.28125 L 0.328125 -3.96875 L 1.109375 -3.96875 L 1.109375 -0.75 C 1.109375 -0.3125 1 -0.3125 0.34375 -0.3125 L 0.34375 0 C 0.71875 -0.015625 1.1875 -0.03125 1.46875 -0.03125 C 1.859375 -0.03125 2.328125 -0.03125 2.734375 0 L 2.734375 -0.3125 L 2.515625 -0.3125 C 1.78125 -0.3125 1.765625 -0.421875 1.765625 -0.78125 L 1.765625 -3.96875 L 2.890625 -3.96875 L 2.890625 -4.28125 Z M 1.734375 -4.28125 \"/>\n</symbol>\n<symbol overflow=\"visible\" id=\"glyph-1637105904321176-1-19\">\n<path style=\"stroke:none;\" d=\"M 1.09375 -3.40625 L 1.09375 -0.75 C 1.09375 -0.3125 0.984375 -0.3125 0.3125 -0.3125 L 0.3125 0 C 0.671875 -0.015625 1.171875 -0.03125 1.4375 -0.03125 C 1.703125 -0.03125 2.21875 -0.015625 2.546875 0 L 2.546875 -0.3125 C 1.890625 -0.3125 1.78125 -0.3125 1.78125 -0.75 L 1.78125 -2.578125 C 1.78125 -3.609375 2.484375 -4.171875 3.109375 -4.171875 C 3.734375 -4.171875 3.84375 -3.625 3.84375 -3.0625 L 3.84375 -0.75 C 3.84375 -0.3125 3.734375 -0.3125 3.078125 -0.3125 L 3.078125 0 C 3.421875 -0.015625 3.921875 -0.03125 4.203125 -0.03125 C 4.453125 -0.03125 4.96875 -0.015625 5.3125 0 L 5.3125 -0.3125 C 4.640625 -0.3125 4.53125 -0.3125 4.53125 -0.75 L 4.53125 -2.578125 C 4.53125 -3.609375 5.234375 -4.171875 5.875 -4.171875 C 6.5 -4.171875 6.609375 -3.625 6.609375 -3.0625 L 6.609375 -0.75 C 6.609375 -0.3125 6.5 -0.3125 5.828125 -0.3125 L 5.828125 0 C 6.1875 -0.015625 6.6875 -0.03125 6.953125 -0.03125 C 7.21875 -0.03125 7.734375 -0.015625 8.0625 0 L 8.0625 -0.3125 C 7.546875 -0.3125 7.296875 -0.3125 7.296875 -0.609375 L 7.296875 -2.5 C 7.296875 -3.359375 7.296875 -3.65625 6.984375 -4.015625 C 6.84375 -4.1875 6.515625 -4.390625 5.9375 -4.390625 C 5.109375 -4.390625 4.671875 -3.796875 4.5 -3.40625 C 4.359375 -4.28125 3.625 -4.390625 3.1875 -4.390625 C 2.453125 -4.390625 2 -3.953125 1.71875 -3.34375 L 1.71875 -4.390625 L 0.3125 -4.28125 L 0.3125 -3.96875 C 1.015625 -3.96875 1.09375 -3.90625 1.09375 -3.40625 Z M 1.09375 -3.40625 \"/>\n</symbol>\n<symbol overflow=\"visible\" id=\"glyph-1637105904321176-1-20\">\n<path style=\"stroke:none;\" d=\"M 1.09375 -3.40625 L 1.09375 -0.75 C 1.09375 -0.3125 0.984375 -0.3125 0.3125 -0.3125 L 0.3125 0 C 0.671875 -0.015625 1.171875 -0.03125 1.4375 -0.03125 C 1.703125 -0.03125 2.21875 -0.015625 2.546875 0 L 2.546875 -0.3125 C 1.890625 -0.3125 1.78125 -0.3125 1.78125 -0.75 L 1.78125 -2.578125 C 1.78125 -3.609375 2.484375 -4.171875 3.109375 -4.171875 C 3.734375 -4.171875 3.84375 -3.625 3.84375 -3.0625 L 3.84375 -0.75 C 3.84375 -0.3125 3.734375 -0.3125 3.078125 -0.3125 L 3.078125 0 C 3.421875 -0.015625 3.921875 -0.03125 4.203125 -0.03125 C 4.453125 -0.03125 4.96875 -0.015625 5.3125 0 L 5.3125 -0.3125 C 4.796875 -0.3125 4.546875 -0.3125 4.53125 -0.609375 L 4.53125 -2.5 C 4.53125 -3.359375 4.53125 -3.65625 4.234375 -4.015625 C 4.09375 -4.1875 3.765625 -4.390625 3.1875 -4.390625 C 2.453125 -4.390625 2 -3.953125 1.71875 -3.34375 L 1.71875 -4.390625 L 0.3125 -4.28125 L 0.3125 -3.96875 C 1.015625 -3.96875 1.09375 -3.90625 1.09375 -3.40625 Z M 1.09375 -3.40625 \"/>\n</symbol>\n<symbol overflow=\"visible\" id=\"glyph-1637105904321176-1-21\">\n<path style=\"stroke:none;\" d=\"M 3.875 -3.984375 C 3.953125 -4.09375 3.953125 -4.109375 3.953125 -4.140625 C 3.953125 -4.28125 3.875 -4.28125 3.703125 -4.28125 L 0.53125 -4.28125 L 0.421875 -2.671875 L 0.671875 -2.671875 C 0.71875 -3.6875 0.90625 -4.0625 2 -4.0625 L 3.140625 -4.0625 L 0.359375 -0.3125 C 0.28125 -0.203125 0.28125 -0.1875 0.28125 -0.140625 C 0.28125 0 0.34375 0 0.53125 0 L 3.8125 0 L 3.984375 -1.859375 L 3.734375 -1.859375 C 3.640625 -0.6875 3.4375 -0.25 2.28125 -0.25 L 1.109375 -0.25 Z M 3.875 -3.984375 \"/>\n</symbol>\n<symbol overflow=\"visible\" id=\"glyph-1637105904321176-1-22\">\n<path style=\"stroke:none;\" d=\"M 1.65625 -3.296875 L 1.65625 -4.390625 L 0.28125 -4.28125 L 0.28125 -3.96875 C 0.96875 -3.96875 1.046875 -3.90625 1.046875 -3.40625 L 1.046875 -0.75 C 1.046875 -0.3125 0.9375 -0.3125 0.28125 -0.3125 L 0.28125 0 C 0.671875 -0.015625 1.125 -0.03125 1.40625 -0.03125 C 1.8125 -0.03125 2.265625 -0.03125 2.671875 0 L 2.671875 -0.3125 L 2.453125 -0.3125 C 1.71875 -0.3125 1.703125 -0.421875 1.703125 -0.78125 L 1.703125 -2.296875 C 1.703125 -3.28125 2.125 -4.171875 2.875 -4.171875 C 2.953125 -4.171875 2.96875 -4.171875 2.984375 -4.15625 C 2.953125 -4.140625 2.765625 -4.03125 2.765625 -3.765625 C 2.765625 -3.5 2.96875 -3.34375 3.1875 -3.34375 C 3.359375 -3.34375 3.609375 -3.46875 3.609375 -3.78125 C 3.609375 -4.09375 3.296875 -4.390625 2.875 -4.390625 C 2.15625 -4.390625 1.796875 -3.71875 1.65625 -3.296875 Z M 1.65625 -3.296875 \"/>\n</symbol>\n<symbol overflow=\"visible\" id=\"glyph-1637105904321176-1-23\">\n<path style=\"stroke:none;\" d=\"M 3.296875 -0.75 C 3.34375 -0.359375 3.609375 0.0625 4.078125 0.0625 C 4.28125 0.0625 4.890625 -0.078125 4.890625 -0.890625 L 4.890625 -1.4375 L 4.640625 -1.4375 L 4.640625 -0.890625 C 4.640625 -0.3125 4.390625 -0.25 4.28125 -0.25 C 3.953125 -0.25 3.921875 -0.6875 3.921875 -0.75 L 3.921875 -2.734375 C 3.921875 -3.140625 3.921875 -3.53125 3.5625 -3.90625 C 3.171875 -4.28125 2.671875 -4.4375 2.203125 -4.4375 C 1.390625 -4.4375 0.703125 -3.984375 0.703125 -3.328125 C 0.703125 -3.03125 0.90625 -2.859375 1.15625 -2.859375 C 1.4375 -2.859375 1.625 -3.0625 1.625 -3.3125 C 1.625 -3.4375 1.5625 -3.765625 1.109375 -3.765625 C 1.375 -4.125 1.859375 -4.234375 2.1875 -4.234375 C 2.671875 -4.234375 3.234375 -3.84375 3.234375 -2.953125 L 3.234375 -2.59375 C 2.734375 -2.5625 2.03125 -2.53125 1.40625 -2.234375 C 0.671875 -1.890625 0.421875 -1.375 0.421875 -0.9375 C 0.421875 -0.140625 1.375 0.109375 2 0.109375 C 2.65625 0.109375 3.109375 -0.28125 3.296875 -0.75 Z M 3.234375 -2.375 L 3.234375 -1.390625 C 3.234375 -0.453125 2.515625 -0.109375 2.078125 -0.109375 C 1.59375 -0.109375 1.1875 -0.453125 1.1875 -0.953125 C 1.1875 -1.5 1.59375 -2.328125 3.234375 -2.375 Z M 3.234375 -2.375 \"/>\n</symbol>\n</g>\n<clipPath id=\"clip-1637105904321176-1\">\n  <path d=\"M 21 64 L 215.515625 64 L 215.515625 170 L 21 170 Z M 21 64 \"/>\n</clipPath>\n<clipPath id=\"clip-1637105904321176-2\">\n  <path d=\"M 21 21 L 215.515625 21 L 215.515625 183 L 21 183 Z M 21 21 \"/>\n</clipPath>\n</defs>\n<g id=\"surface1\">\n<path style=\"fill:none;stroke-width:0.19925;stroke-linecap:butt;stroke-linejoin:miter;stroke:rgb(50%,50%,50%);stroke-opacity:1;stroke-miterlimit:10;\" d=\"M 31.352538 -13.449311 L 31.352538 -9.200369 M 80.430963 -13.449311 L 80.430963 -9.200369 M 129.509388 -13.449311 L 129.509388 -9.200369 M 31.352538 147.9478 L 31.352538 143.698857 M 80.430963 147.9478 L 80.430963 143.698857 M 129.509388 147.9478 L 129.509388 143.698857 \" transform=\"matrix(0.996571,0,0,-0.996571,37.8448,169.335082)\"/>\n<g clip-path=\"url(#clip-1637105904321176-1)\" clip-rule=\"nonzero\">\n<path style=\"fill:none;stroke-width:0.19925;stroke-linecap:butt;stroke-linejoin:miter;stroke:rgb(50%,50%,50%);stroke-opacity:1;stroke-miterlimit:10;\" d=\"M -16.189369 -0.00085873 L -11.940426 -0.00085873 M -16.189369 52.640564 L -11.940426 52.640564 M -16.189369 105.281986 L -11.940426 105.281986 M 178.086093 -0.00085873 L 173.833231 -0.00085873 M 178.086093 52.640564 L 173.833231 52.640564 M 178.086093 105.281986 L 173.833231 105.281986 \" transform=\"matrix(0.996571,0,0,-0.996571,37.8448,169.335082)\"/>\n</g>\n<g clip-path=\"url(#clip-1637105904321176-2)\" clip-rule=\"nonzero\">\n<path style=\"fill:none;stroke-width:0.3985;stroke-linecap:butt;stroke-linejoin:miter;stroke:rgb(0%,0%,0%);stroke-opacity:1;stroke-miterlimit:10;\" d=\"M -16.189369 -13.449311 L -16.189369 147.9478 L 178.086093 147.9478 L 178.086093 -13.449311 Z M -16.189369 -13.449311 \" transform=\"matrix(0.996571,0,0,-0.996571,37.8448,169.335082)\"/>\n</g>\n<g style=\"fill:rgb(0%,0%,0%);fill-opacity:1;\">\n  <use xlink:href=\"#glyph-1637105904321176-0-1\" x=\"60.262674\" y=\"192.644887\"/>\n</g>\n<g style=\"fill:rgb(0%,0%,0%);fill-opacity:1;\">\n  <use xlink:href=\"#glyph-1637105904321176-1-1\" x=\"67.98411\" y=\"192.644887\"/>\n  <use xlink:href=\"#glyph-1637105904321176-1-2\" x=\"72.948351\" y=\"192.644887\"/>\n</g>\n<g style=\"fill:rgb(0%,0%,0%);fill-opacity:1;\">\n  <use xlink:href=\"#glyph-1637105904321176-1-2\" x=\"115.516581\" y=\"192.644887\"/>\n</g>\n<g style=\"fill:rgb(0%,0%,0%);fill-opacity:1;\">\n  <use xlink:href=\"#glyph-1637105904321176-1-1\" x=\"161.94485\" y=\"192.644887\"/>\n  <use xlink:href=\"#glyph-1637105904321176-1-2\" x=\"166.909091\" y=\"192.644887\"/>\n</g>\n<g style=\"fill:rgb(0%,0%,0%);fill-opacity:1;\">\n  <use xlink:href=\"#glyph-1637105904321176-1-2\" x=\"13.237458\" y=\"172.534076\"/>\n</g>\n<g style=\"fill:rgb(0%,0%,0%);fill-opacity:1;\">\n  <use xlink:href=\"#glyph-1637105904321176-1-3\" x=\"3.309614\" y=\"120.073559\"/>\n  <use xlink:href=\"#glyph-1637105904321176-1-2\" x=\"8.273855\" y=\"120.073559\"/>\n  <use xlink:href=\"#glyph-1637105904321176-1-2\" x=\"13.238096\" y=\"120.073559\"/>\n</g>\n<g style=\"fill:rgb(0%,0%,0%);fill-opacity:1;\">\n  <use xlink:href=\"#glyph-1637105904321176-1-4\" x=\"3.309614\" y=\"67.613043\"/>\n  <use xlink:href=\"#glyph-1637105904321176-1-2\" x=\"8.273855\" y=\"67.613043\"/>\n  <use xlink:href=\"#glyph-1637105904321176-1-2\" x=\"13.238096\" y=\"67.613043\"/>\n</g>\n<path style=\"fill-rule:nonzero;fill:rgb(75%,75%,75%);fill-opacity:0.5;stroke-width:0.3985;stroke-linecap:butt;stroke-linejoin:miter;stroke:rgb(50%,50%,50%);stroke-opacity:0.5;stroke-miterlimit:10;\" d=\"M -0.00105361 -0.00085873 L 2.801524 -0.00085873 L 2.801524 0.528299 L -0.00105361 0.528299 Z M 2.801524 -0.00085873 L 5.604102 -0.00085873 L 5.604102 0.26176 L 2.801524 0.26176 Z M 5.604102 -0.00085873 L 8.406679 -0.00085873 Z M 8.406679 -0.00085873 L 11.209257 -0.00085873 L 11.209257 0.528299 L 8.406679 0.528299 Z M 11.209257 -0.00085873 L 14.011834 -0.00085873 L 14.011834 0.26176 L 11.209257 0.26176 Z M 14.011834 -0.00085873 L 16.814412 -0.00085873 L 16.814412 0.26176 L 14.011834 0.26176 Z M 16.814412 -0.00085873 L 19.616989 -0.00085873 L 19.616989 1.053538 L 16.814412 1.053538 Z M 19.616989 -0.00085873 L 22.419567 -0.00085873 L 22.419567 1.316157 L 19.616989 1.316157 Z M 22.419567 -0.00085873 L 25.218225 -0.00085873 L 25.218225 1.578776 L 22.419567 1.578776 Z M 25.218225 -0.00085873 L 28.020803 -0.00085873 L 28.020803 1.841395 L 25.218225 1.841395 Z M 28.020803 -0.00085873 L 30.82338 -0.00085873 L 30.82338 2.633172 L 28.020803 2.633172 Z M 30.82338 -0.00085873 L 33.625958 -0.00085873 L 33.625958 3.158411 L 30.82338 3.158411 Z M 33.625958 -0.00085873 L 36.428535 -0.00085873 L 36.428535 3.158411 L 33.625958 3.158411 Z M 36.428535 -0.00085873 L 39.231113 -0.00085873 L 39.231113 5.263284 L 36.428535 5.263284 Z M 39.231113 -0.00085873 L 42.033691 -0.00085873 L 42.033691 6.055061 L 39.231113 6.055061 Z M 42.033691 -0.00085873 L 44.836268 -0.00085873 L 44.836268 6.580299 L 42.033691 6.580299 Z M 44.836268 -0.00085873 L 47.638846 -0.00085873 L 47.638846 8.685172 L 44.836268 8.685172 Z M 47.638846 -0.00085873 L 50.441423 -0.00085873 L 50.441423 8.159934 L 47.638846 8.159934 Z M 50.441423 -0.00085873 L 53.244001 -0.00085873 L 53.244001 11.056584 L 50.441423 11.056584 Z M 53.244001 -0.00085873 L 56.042659 -0.00085873 L 56.042659 12.10706 L 53.244001 12.10706 Z M 56.046578 -0.00085873 L 58.845236 -0.00085873 L 58.845236 15.003711 L 56.046578 15.003711 Z M 58.845236 -0.00085873 L 61.647814 -0.00085873 L 61.647814 19.213456 L 58.845236 19.213456 Z M 61.647814 -0.00085873 L 64.450392 -0.00085873 L 64.450392 20.793091 L 61.647814 20.793091 Z M 64.450392 -0.00085873 L 67.252969 -0.00085873 L 67.252969 21.584868 L 64.450392 21.584868 Z M 67.252969 -0.00085873 L 70.055547 -0.00085873 L 70.055547 26.057233 L 67.252969 26.057233 Z M 70.055547 -0.00085873 L 72.858124 -0.00085873 L 72.858124 26.319852 L 70.055547 26.319852 Z M 72.858124 -0.00085873 L 75.660702 -0.00085873 L 75.660702 32.109233 L 72.858124 32.109233 Z M 75.660702 -0.00085873 L 78.463279 -0.00085873 L 78.463279 37.639914 L 75.660702 37.639914 Z M 78.463279 -0.00085873 L 81.265857 -0.00085873 L 81.265857 54.482817 L 78.463279 54.482817 Z M 81.265857 -0.00085873 L 84.068435 -0.00085873 L 84.068435 68.170371 L 81.265857 68.170371 Z M 84.068435 -0.00085873 L 86.871012 -0.00085873 L 86.871012 78.698656 L 84.068435 78.698656 Z M 86.871012 -0.00085873 L 89.66967 -0.00085873 L 89.66967 93.174067 L 86.871012 93.174067 Z M 89.66967 -0.00085873 L 92.472248 -0.00085873 L 92.472248 93.436686 L 89.66967 93.436686 Z M 92.472248 -0.00085873 L 95.274825 -0.00085873 L 95.274825 101.07224 L 92.472248 101.07224 Z M 95.274825 -0.00085873 L 98.077403 -0.00085873 L 98.077403 125.550697 L 95.274825 125.550697 Z M 98.077403 -0.00085873 L 100.87998 -0.00085873 L 100.87998 118.177763 L 98.077403 118.177763 Z M 100.87998 -0.00085873 L 103.682558 -0.00085873 L 103.682558 131.865316 L 100.87998 131.865316 Z M 103.682558 -0.00085873 L 106.485136 -0.00085873 L 106.485136 134.499347 L 103.682558 134.499347 Z M 106.485136 -0.00085873 L 109.287713 -0.00085873 L 109.287713 121.337032 L 106.485136 121.337032 Z M 109.287713 -0.00085873 L 112.090291 -0.00085873 L 112.090291 124.75892 L 109.287713 124.75892 Z M 112.090291 -0.00085873 L 114.892868 -0.00085873 L 114.892868 120.023936 L 112.090291 120.023936 Z M 114.892868 -0.00085873 L 117.695446 -0.00085873 L 117.695446 133.970189 L 114.892868 133.970189 Z M 117.695446 -0.00085873 L 120.494104 -0.00085873 L 120.494104 117.127286 L 117.695446 117.127286 Z M 120.494104 -0.00085873 L 123.296681 -0.00085873 L 123.296681 105.807224 L 120.494104 105.807224 Z M 123.296681 -0.00085873 L 126.099259 -0.00085873 L 126.099259 91.069194 L 123.296681 91.069194 Z M 126.099259 -0.00085873 L 128.901837 -0.00085873 L 128.901837 88.172544 L 126.099259 88.172544 Z M 128.901837 -0.00085873 L 131.704414 -0.00085873 L 131.704414 92.911448 L 128.901837 92.911448 Z M 131.704414 -0.00085873 L 134.506992 -0.00085873 L 134.506992 84.225417 L 131.704414 84.225417 Z M 134.506992 -0.00085873 L 137.309569 -0.00085873 L 137.309569 70.275244 L 134.506992 70.275244 Z M 137.309569 -0.00085873 L 140.112147 -0.00085873 L 140.112147 58.167325 L 137.309569 58.167325 Z M 140.112147 -0.00085873 L 142.914725 -0.00085873 L 142.914725 45.796787 L 140.112147 45.796787 Z M 142.914725 -0.00085873 L 145.717302 -0.00085873 L 145.717302 39.744787 L 142.914725 39.744787 Z M 145.717302 -0.00085873 L 148.51988 -0.00085873 L 148.51988 30.00436 L 145.717302 30.00436 Z M 148.51988 -0.00085873 L 151.318538 -0.00085873 L 151.318538 19.738695 L 148.51988 19.738695 Z M 151.318538 -0.00085873 L 154.121115 -0.00085873 L 154.121115 11.581822 L 151.318538 11.581822 Z M 154.121115 -0.00085873 L 156.923693 -0.00085873 L 156.923693 4.475426 L 154.121115 4.475426 Z M 156.923693 -0.00085873 L 159.72627 -0.00085873 L 159.72627 0.528299 L 156.923693 0.528299 Z M 156.923693 -0.00085873 \" transform=\"matrix(0.996571,0,0,-0.996571,37.8448,169.335082)\"/>\n<path style=\"fill-rule:nonzero;fill:rgb(50%,75%,75%);fill-opacity:0.5;stroke-width:0.3985;stroke-linecap:butt;stroke-linejoin:miter;stroke:rgb(0%,50%,50%);stroke-opacity:0.5;stroke-miterlimit:10;\" d=\"M 6.341003 -0.00085873 L 9.798169 -0.00085873 L 9.798169 0.790918 L 6.341003 0.790918 Z M 9.798169 -0.00085873 L 13.255334 -0.00085873 L 13.255334 0.26176 L 9.798169 0.26176 Z M 13.255334 -0.00085873 L 16.7125 -0.00085873 L 16.7125 0.528299 L 13.255334 0.528299 Z M 16.7125 -0.00085873 L 20.169666 -0.00085873 L 20.169666 0.26176 L 16.7125 0.26176 Z M 20.169666 -0.00085873 L 23.622912 -0.00085873 L 23.622912 1.316157 L 20.169666 1.316157 Z M 23.622912 -0.00085873 L 27.080077 -0.00085873 L 27.080077 2.895791 L 23.622912 2.895791 Z M 27.080077 -0.00085873 L 30.537243 -0.00085873 L 30.537243 0.790918 L 27.080077 0.790918 Z M 30.537243 -0.00085873 L 33.994409 -0.00085873 L 33.994409 1.053538 L 30.537243 1.053538 Z M 33.994409 -0.00085873 L 37.451574 -0.00085873 L 37.451574 2.370553 L 33.994409 2.370553 Z M 37.451574 -0.00085873 L 40.90874 -0.00085873 L 40.90874 1.841395 L 37.451574 1.841395 Z M 40.90874 -0.00085873 L 44.365905 -0.00085873 L 44.365905 2.370553 L 40.90874 2.370553 Z M 44.365905 -0.00085873 L 47.823071 -0.00085873 L 47.823071 2.370553 L 44.365905 2.370553 Z M 47.823071 -0.00085873 L 51.280237 -0.00085873 L 51.280237 4.738045 L 47.823071 4.738045 Z M 51.280237 -0.00085873 L 54.737402 -0.00085873 L 54.737402 5.263284 L 51.280237 5.263284 Z M 54.737402 -0.00085873 L 58.194568 -0.00085873 L 58.194568 5.263284 L 54.737402 5.263284 Z M 58.194568 -0.00085873 L 61.651734 -0.00085873 L 61.651734 5.792442 L 58.194568 5.792442 Z M 61.651734 -0.00085873 L 65.108899 -0.00085873 L 65.108899 6.31768 L 61.651734 6.31768 Z M 65.108899 -0.00085873 L 68.566065 -0.00085873 L 68.566065 7.368156 L 65.108899 7.368156 Z M 68.566065 -0.00085873 L 72.023231 -0.00085873 L 72.023231 9.21041 L 68.566065 9.21041 Z M 72.023231 -0.00085873 L 75.476476 -0.00085873 L 75.476476 11.319203 L 72.023231 11.319203 Z M 75.476476 -0.00085873 L 78.933642 -0.00085873 L 78.933642 12.898838 L 75.476476 12.898838 Z M 78.933642 -0.00085873 L 82.390808 -0.00085873 L 82.390808 13.686695 L 78.933642 13.686695 Z M 82.390808 -0.00085873 L 85.847973 -0.00085873 L 85.847973 18.688218 L 82.390808 18.688218 Z M 85.847973 -0.00085873 L 89.305139 -0.00085873 L 89.305139 20.267853 L 85.847973 20.267853 Z M 89.305139 -0.00085873 L 92.762305 -0.00085873 L 92.762305 22.897964 L 89.305139 22.897964 Z M 92.762305 -0.00085873 L 96.21947 -0.00085873 L 96.21947 27.374249 L 92.762305 27.374249 Z M 96.21947 -0.00085873 L 99.676636 -0.00085873 L 99.676636 31.583995 L 96.21947 31.583995 Z M 99.676636 -0.00085873 L 103.133802 -0.00085873 L 103.133802 39.482168 L 99.676636 39.482168 Z M 103.133802 -0.00085873 L 106.590967 -0.00085873 L 106.590967 42.637517 L 103.133802 42.637517 Z M 106.590967 -0.00085873 L 110.048133 -0.00085873 L 110.048133 51.060929 L 106.590967 51.060929 Z M 110.048133 -0.00085873 L 113.505299 -0.00085873 L 113.505299 55.011975 L 110.048133 55.011975 Z M 113.505299 -0.00085873 L 116.962464 -0.00085873 L 116.962464 63.168848 L 113.505299 63.168848 Z M 116.962464 -0.00085873 L 120.41963 -0.00085873 L 120.41963 73.434513 L 116.962464 73.434513 Z M 120.41963 -0.00085873 L 123.876795 -0.00085873 L 123.876795 70.012625 L 120.41963 70.012625 Z M 123.876795 -0.00085873 L 127.330041 -0.00085873 L 127.330041 73.434513 L 123.876795 73.434513 Z M 127.330041 -0.00085873 L 130.787207 -0.00085873 L 130.787207 76.068544 L 127.330041 76.068544 Z M 130.787207 -0.00085873 L 134.244373 -0.00085873 L 134.244373 90.806575 L 130.787207 90.806575 Z M 134.244373 -0.00085873 L 137.701538 -0.00085873 L 137.701538 106.336382 L 134.244373 106.336382 Z M 137.701538 -0.00085873 L 141.158704 -0.00085873 L 141.158704 95.016321 L 137.701538 95.016321 Z M 141.158704 -0.00085873 L 144.61587 -0.00085873 L 144.61587 95.808098 L 141.158704 95.808098 Z M 144.61587 -0.00085873 L 148.073035 -0.00085873 L 148.073035 70.012625 L 144.61587 70.012625 Z M 148.073035 -0.00085873 L 151.530201 -0.00085873 L 151.530201 50.535691 L 148.073035 50.535691 Z M 151.530201 -0.00085873 L 154.987367 -0.00085873 L 154.987367 30.00436 L 151.530201 30.00436 Z M 154.987367 -0.00085873 L 158.444532 -0.00085873 L 158.444532 9.739568 L 154.987367 9.739568 Z M 158.444532 -0.00085873 L 161.901698 -0.00085873 L 161.901698 3.946268 L 158.444532 3.946268 Z M 158.444532 -0.00085873 \" transform=\"matrix(0.996571,0,0,-0.996571,37.8448,169.335082)\"/>\n<g style=\"fill:rgb(0%,0%,0%);fill-opacity:1;\">\n  <use xlink:href=\"#glyph-1637105904321176-1-5\" x=\"86.107758\" y=\"207.183868\"/>\n  <use xlink:href=\"#glyph-1637105904321176-1-6\" x=\"92.313059\" y=\"207.183868\"/>\n  <use xlink:href=\"#glyph-1637105904321176-1-7\" x=\"97.2773\" y=\"207.183868\"/>\n</g>\n<g style=\"fill:rgb(0%,0%,0%);fill-opacity:1;\">\n  <use xlink:href=\"#glyph-1637105904321176-1-5\" x=\"105.547726\" y=\"207.183868\"/>\n  <use xlink:href=\"#glyph-1637105904321176-1-8\" x=\"111.753028\" y=\"207.183868\"/>\n  <use xlink:href=\"#glyph-1637105904321176-1-9\" x=\"114.51116\" y=\"207.183868\"/>\n</g>\n<g style=\"fill:rgb(0%,0%,0%);fill-opacity:1;\">\n  <use xlink:href=\"#glyph-1637105904321176-1-10\" x=\"119.483344\" y=\"207.183868\"/>\n  <use xlink:href=\"#glyph-1637105904321176-1-11\" x=\"123.895562\" y=\"207.183868\"/>\n  <use xlink:href=\"#glyph-1637105904321176-1-8\" x=\"126.653694\" y=\"207.183868\"/>\n  <use xlink:href=\"#glyph-1637105904321176-1-12\" x=\"129.411826\" y=\"207.183868\"/>\n  <use xlink:href=\"#glyph-1637105904321176-1-6\" x=\"134.928091\" y=\"207.183868\"/>\n</g>\n<g style=\"fill:rgb(0%,0%,0%);fill-opacity:1;\">\n  <use xlink:href=\"#glyph-1637105904321176-1-6\" x=\"140.160401\" y=\"207.183868\"/>\n</g>\n<g style=\"fill:rgb(0%,0%,0%);fill-opacity:1;\">\n  <use xlink:href=\"#glyph-1637105904321176-1-13\" x=\"145.40264\" y=\"207.183868\"/>\n</g>\n<g style=\"fill:rgb(0%,0%,0%);fill-opacity:1;\">\n  <use xlink:href=\"#glyph-1637105904321176-1-14\" x=\"55.108407\" y=\"10.498538\"/>\n  <use xlink:href=\"#glyph-1637105904321176-1-10\" x=\"62.416763\" y=\"10.498538\"/>\n  <use xlink:href=\"#glyph-1637105904321176-1-15\" x=\"66.82898\" y=\"10.498538\"/>\n  <use xlink:href=\"#glyph-1637105904321176-1-16\" x=\"70.744774\" y=\"10.498538\"/>\n  <use xlink:href=\"#glyph-1637105904321176-1-11\" x=\"76.261039\" y=\"10.498538\"/>\n  <use xlink:href=\"#glyph-1637105904321176-1-17\" x=\"79.019171\" y=\"10.498538\"/>\n</g>\n<g style=\"fill:rgb(0%,0%,0%);fill-opacity:1;\">\n  <use xlink:href=\"#glyph-1637105904321176-1-6\" x=\"86.186542\" y=\"10.498538\"/>\n  <use xlink:href=\"#glyph-1637105904321176-1-18\" x=\"91.150784\" y=\"10.498538\"/>\n</g>\n<g style=\"fill:rgb(0%,0%,0%);fill-opacity:1;\">\n  <use xlink:href=\"#glyph-1637105904321176-1-19\" x=\"97.491112\" y=\"10.498538\"/>\n  <use xlink:href=\"#glyph-1637105904321176-1-8\" x=\"105.764517\" y=\"10.498538\"/>\n  <use xlink:href=\"#glyph-1637105904321176-1-20\" x=\"108.522649\" y=\"10.498538\"/>\n  <use xlink:href=\"#glyph-1637105904321176-1-8\" x=\"114.038914\" y=\"10.498538\"/>\n  <use xlink:href=\"#glyph-1637105904321176-1-19\" x=\"116.797046\" y=\"10.498538\"/>\n  <use xlink:href=\"#glyph-1637105904321176-1-8\" x=\"125.070451\" y=\"10.498538\"/>\n  <use xlink:href=\"#glyph-1637105904321176-1-21\" x=\"127.828583\" y=\"10.498538\"/>\n  <use xlink:href=\"#glyph-1637105904321176-1-8\" x=\"132.240801\" y=\"10.498538\"/>\n  <use xlink:href=\"#glyph-1637105904321176-1-20\" x=\"134.998933\" y=\"10.498538\"/>\n  <use xlink:href=\"#glyph-1637105904321176-1-7\" x=\"140.515198\" y=\"10.498538\"/>\n</g>\n<g style=\"fill:rgb(0%,0%,0%);fill-opacity:1;\">\n  <use xlink:href=\"#glyph-1637105904321176-1-22\" x=\"148.785624\" y=\"10.498538\"/>\n  <use xlink:href=\"#glyph-1637105904321176-1-23\" x=\"152.67461\" y=\"10.498538\"/>\n  <use xlink:href=\"#glyph-1637105904321176-1-20\" x=\"157.638852\" y=\"10.498538\"/>\n  <use xlink:href=\"#glyph-1637105904321176-1-13\" x=\"163.155116\" y=\"10.498538\"/>\n  <use xlink:href=\"#glyph-1637105904321176-1-6\" x=\"168.671381\" y=\"10.498538\"/>\n  <use xlink:href=\"#glyph-1637105904321176-1-19\" x=\"173.635622\" y=\"10.498538\"/>\n</g>\n</g>\n</svg>\n\n",
      "text/plain": [
       "Axis(PGFPlots.Plots.Plot[PGFPlots.Plots.Histogram(Real[8.060955540159057, 35.585748238901, 36.56268506572559, 15.909334182671188, 49.58473408163495, -1.3780064488718153, 54.09318820587211, 4.602172737992873, 33.81038069843475, 53.33850671467071  …  24.95289407688506, 27.28803927103442, 26.673239297270115, -24.996284372111646, 19.722018656486938, 37.18353534214417, 42.615030690997486, 35.29478945980752, 35.35950752120411, 40.218977209447495], 10, false, false, \"gray, fill=gray!50, opacity = 0.5\", :default, nothing), PGFPlots.Plots.Histogram(Real[68.59058326878814, 29.283766348696588, 6.939241148539594, 61.818840779373566, 42.09061306754461, 53.755262511529594, 35.76416004559329, 21.61395139828747, 27.443446800124207, 43.38523278246132  …  45.83644296075096, 15.571957913142327, -21.98869685647378, -19.637804106314377, 0.7777680678761953, 3.046342649812715, 18.4439817254776, 61.54373374194184, 63.67042538415293, 55.39769592795847], 10, false, false, \"teal, fill=teal!50, opacity = 0.5\", :default, nothing)], \"Result of minimizing random\", \"Log Likelihood\", nothing, nothing, nothing, nothing, nothing, nothing, nothing, nothing, nothing, nothing, nothing, nothing, nothing, nothing, nothing, nothing, nothing, nothing, nothing, nothing, nothing, nothing, nothing, nothing, nothing, \"axis\")"
      ]
     },
     "execution_count": 168,
     "metadata": {},
     "output_type": "execute_result"
    }
   ],
   "source": [
    "ll_c = logpdf(npn.flow, z_c)\n",
    "\n",
    "ax = Axis()\n",
    "push!(ax, Plots.Histogram(ll_in, style = \"gray, fill=gray!50, opacity = 0.5\"))\n",
    "push!(ax, Plots.Histogram(ll_c, style = \"teal, fill=teal!50, opacity = 0.5\"))\n",
    "ax.xlabel = \"Log Likelihood\"\n",
    "ax.title = \"Result of minimizing random\"\n",
    "ax"
   ]
  },
  {
   "cell_type": "code",
   "execution_count": 170,
   "metadata": {},
   "outputs": [
    {
     "name": "stderr",
     "output_type": "stream",
     "text": [
      "┌ Info: Epoch 1\n",
      "└ @ Main /home/smkatz/.julia/packages/Flux/YO4zY/src/optimise/train.jl:136\n"
     ]
    },
    {
     "name": "stdout",
     "output_type": "stream",
     "text": [
      "l = 5.458358071307929\n"
     ]
    },
    {
     "name": "stderr",
     "output_type": "stream",
     "text": [
      "┌ Info: Epoch 2\n",
      "└ @ Main /home/smkatz/.julia/packages/Flux/YO4zY/src/optimise/train.jl:136\n"
     ]
    },
    {
     "name": "stdout",
     "output_type": "stream",
     "text": [
      "l = -0.07300502986401725\n",
      "l = -2.4370023063808084\n"
     ]
    },
    {
     "name": "stderr",
     "output_type": "stream",
     "text": [
      "┌ Info: Epoch 3\n",
      "└ @ Main /home/smkatz/.julia/packages/Flux/YO4zY/src/optimise/train.jl:136\n"
     ]
    },
    {
     "name": "stdout",
     "output_type": "stream",
     "text": [
      "l = -7.935481411442346\n"
     ]
    },
    {
     "name": "stderr",
     "output_type": "stream",
     "text": [
      "┌ Info: Epoch 4\n",
      "└ @ Main /home/smkatz/.julia/packages/Flux/YO4zY/src/optimise/train.jl:136\n"
     ]
    },
    {
     "name": "stdout",
     "output_type": "stream",
     "text": [
      "l = -8.481556153029246\n"
     ]
    },
    {
     "name": "stderr",
     "output_type": "stream",
     "text": [
      "┌ Info: Epoch 5\n",
      "└ @ Main /home/smkatz/.julia/packages/Flux/YO4zY/src/optimise/train.jl:136\n"
     ]
    },
    {
     "name": "stdout",
     "output_type": "stream",
     "text": [
      "l = -8.8201717768979\n"
     ]
    },
    {
     "name": "stderr",
     "output_type": "stream",
     "text": [
      "┌ Info: Epoch 6\n",
      "└ @ Main /home/smkatz/.julia/packages/Flux/YO4zY/src/optimise/train.jl:136\n"
     ]
    },
    {
     "name": "stdout",
     "output_type": "stream",
     "text": [
      "l = -9.151260374065295\n"
     ]
    },
    {
     "name": "stderr",
     "output_type": "stream",
     "text": [
      "┌ Info: Epoch 7\n",
      "└ @ Main /home/smkatz/.julia/packages/Flux/YO4zY/src/optimise/train.jl:136\n"
     ]
    },
    {
     "name": "stdout",
     "output_type": "stream",
     "text": [
      "l = -9.48075177398497\n"
     ]
    },
    {
     "name": "stderr",
     "output_type": "stream",
     "text": [
      "┌ Info: Epoch 8\n",
      "└ @ Main /home/smkatz/.julia/packages/Flux/YO4zY/src/optimise/train.jl:136\n"
     ]
    },
    {
     "name": "stdout",
     "output_type": "stream",
     "text": [
      "l = -9.798806104302841\n"
     ]
    },
    {
     "name": "stderr",
     "output_type": "stream",
     "text": [
      "┌ Info: Epoch 9\n",
      "└ @ Main /home/smkatz/.julia/packages/Flux/YO4zY/src/optimise/train.jl:136\n",
      "┌ Info: Epoch 10\n",
      "└ @ Main /home/smkatz/.julia/packages/Flux/YO4zY/src/optimise/train.jl:136\n"
     ]
    },
    {
     "name": "stdout",
     "output_type": "stream",
     "text": [
      "l = -10.054172380998317\n",
      "l = -10.46472899719511\n"
     ]
    },
    {
     "name": "stderr",
     "output_type": "stream",
     "text": [
      "┌ Info: Epoch 11\n",
      "└ @ Main /home/smkatz/.julia/packages/Flux/YO4zY/src/optimise/train.jl:136\n"
     ]
    },
    {
     "name": "stdout",
     "output_type": "stream",
     "text": [
      "l = -10.332605805683144\n"
     ]
    },
    {
     "name": "stderr",
     "output_type": "stream",
     "text": [
      "┌ Info: Epoch 12\n",
      "└ @ Main /home/smkatz/.julia/packages/Flux/YO4zY/src/optimise/train.jl:136\n"
     ]
    },
    {
     "name": "stdout",
     "output_type": "stream",
     "text": [
      "l = -11.094757960397509\n"
     ]
    },
    {
     "name": "stderr",
     "output_type": "stream",
     "text": [
      "┌ Info: Epoch 13\n",
      "└ @ Main /home/smkatz/.julia/packages/Flux/YO4zY/src/optimise/train.jl:136\n"
     ]
    },
    {
     "name": "stdout",
     "output_type": "stream",
     "text": [
      "l = -11.309290112790784\n"
     ]
    },
    {
     "name": "stderr",
     "output_type": "stream",
     "text": [
      "┌ Info: Epoch 14\n",
      "└ @ Main /home/smkatz/.julia/packages/Flux/YO4zY/src/optimise/train.jl:136\n",
      "┌ Info: Epoch 15\n",
      "└ @ Main /home/smkatz/.julia/packages/Flux/YO4zY/src/optimise/train.jl:136\n"
     ]
    },
    {
     "name": "stdout",
     "output_type": "stream",
     "text": [
      "l = -11.425177576025106\n",
      "l = -11.797247968606065\n"
     ]
    },
    {
     "name": "stderr",
     "output_type": "stream",
     "text": [
      "┌ Info: Epoch 16\n",
      "└ @ Main /home/smkatz/.julia/packages/Flux/YO4zY/src/optimise/train.jl:136\n"
     ]
    },
    {
     "name": "stdout",
     "output_type": "stream",
     "text": [
      "l = -12.029845203102454\n"
     ]
    },
    {
     "name": "stderr",
     "output_type": "stream",
     "text": [
      "┌ Info: Epoch 17\n",
      "└ @ Main /home/smkatz/.julia/packages/Flux/YO4zY/src/optimise/train.jl:136\n"
     ]
    },
    {
     "name": "stdout",
     "output_type": "stream",
     "text": [
      "l = -12.19647616376156\n"
     ]
    },
    {
     "name": "stderr",
     "output_type": "stream",
     "text": [
      "┌ Info: Epoch 18\n",
      "└ @ Main /home/smkatz/.julia/packages/Flux/YO4zY/src/optimise/train.jl:136\n",
      "┌ Info: Epoch 19\n",
      "└ @ Main /home/smkatz/.julia/packages/Flux/YO4zY/src/optimise/train.jl:136\n"
     ]
    },
    {
     "name": "stdout",
     "output_type": "stream",
     "text": [
      "l = -12.387620518136984\n",
      "l = -12.663836472311239\n"
     ]
    },
    {
     "name": "stderr",
     "output_type": "stream",
     "text": [
      "┌ Info: Epoch 20\n",
      "└ @ Main /home/smkatz/.julia/packages/Flux/YO4zY/src/optimise/train.jl:136\n"
     ]
    },
    {
     "name": "stdout",
     "output_type": "stream",
     "text": [
      "l = -12.88840180368826\n"
     ]
    },
    {
     "name": "stderr",
     "output_type": "stream",
     "text": [
      "┌ Info: Epoch 21\n",
      "└ @ Main /home/smkatz/.julia/packages/Flux/YO4zY/src/optimise/train.jl:136\n",
      "┌ Info: Epoch 22\n",
      "└ @ Main /home/smkatz/.julia/packages/Flux/YO4zY/src/optimise/train.jl:136\n"
     ]
    },
    {
     "name": "stdout",
     "output_type": "stream",
     "text": [
      "l = -13.092540324934305\n",
      "l = -13.261907720124931\n"
     ]
    },
    {
     "name": "stderr",
     "output_type": "stream",
     "text": [
      "┌ Info: Epoch 23\n",
      "└ @ Main /home/smkatz/.julia/packages/Flux/YO4zY/src/optimise/train.jl:136\n"
     ]
    },
    {
     "name": "stdout",
     "output_type": "stream",
     "text": [
      "l = -13.298591877519897\n"
     ]
    },
    {
     "name": "stderr",
     "output_type": "stream",
     "text": [
      "┌ Info: Epoch 24\n",
      "└ @ Main /home/smkatz/.julia/packages/Flux/YO4zY/src/optimise/train.jl:136\n"
     ]
    },
    {
     "name": "stdout",
     "output_type": "stream",
     "text": [
      "l = -13.777044276206475\n"
     ]
    },
    {
     "name": "stderr",
     "output_type": "stream",
     "text": [
      "┌ Info: Epoch 25\n",
      "└ @ Main /home/smkatz/.julia/packages/Flux/YO4zY/src/optimise/train.jl:136\n"
     ]
    },
    {
     "name": "stdout",
     "output_type": "stream",
     "text": [
      "l = -13.894453736582335\n"
     ]
    },
    {
     "name": "stderr",
     "output_type": "stream",
     "text": [
      "┌ Info: Epoch 26\n",
      "└ @ Main /home/smkatz/.julia/packages/Flux/YO4zY/src/optimise/train.jl:136\n",
      "┌ Info: Epoch 27\n",
      "└ @ Main /home/smkatz/.julia/packages/Flux/YO4zY/src/optimise/train.jl:136\n"
     ]
    },
    {
     "name": "stdout",
     "output_type": "stream",
     "text": [
      "l = -14.113396057591316\n",
      "l = -14.150761346083513\n"
     ]
    },
    {
     "name": "stderr",
     "output_type": "stream",
     "text": [
      "┌ Info: Epoch 28\n",
      "└ @ Main /home/smkatz/.julia/packages/Flux/YO4zY/src/optimise/train.jl:136\n"
     ]
    },
    {
     "name": "stdout",
     "output_type": "stream",
     "text": [
      "l = -14.57684003509749\n"
     ]
    },
    {
     "name": "stderr",
     "output_type": "stream",
     "text": [
      "┌ Info: Epoch 29\n",
      "└ @ Main /home/smkatz/.julia/packages/Flux/YO4zY/src/optimise/train.jl:136\n",
      "┌ Info: Epoch 30\n",
      "└ @ Main /home/smkatz/.julia/packages/Flux/YO4zY/src/optimise/train.jl:136\n"
     ]
    },
    {
     "name": "stdout",
     "output_type": "stream",
     "text": [
      "l = -14.660939140443276\n",
      "l = -14.886506497324163\n"
     ]
    },
    {
     "name": "stderr",
     "output_type": "stream",
     "text": [
      "┌ Info: Epoch 31\n",
      "└ @ Main /home/smkatz/.julia/packages/Flux/YO4zY/src/optimise/train.jl:136\n",
      "┌ Info: Epoch 32\n",
      "└ @ Main /home/smkatz/.julia/packages/Flux/YO4zY/src/optimise/train.jl:136\n"
     ]
    },
    {
     "name": "stdout",
     "output_type": "stream",
     "text": [
      "l = -14.931331271045678\n",
      "l = -15.405959001951786\n"
     ]
    },
    {
     "name": "stderr",
     "output_type": "stream",
     "text": [
      "┌ Info: Epoch 33\n",
      "└ @ Main /home/smkatz/.julia/packages/Flux/YO4zY/src/optimise/train.jl:136\n",
      "┌ Info: Epoch 34\n",
      "└ @ Main /home/smkatz/.julia/packages/Flux/YO4zY/src/optimise/train.jl:136\n"
     ]
    },
    {
     "name": "stdout",
     "output_type": "stream",
     "text": [
      "l = -15.532633232646319\n"
     ]
    },
    {
     "name": "stderr",
     "output_type": "stream",
     "text": [
      "┌ Info: Epoch 35\n",
      "└ @ Main /home/smkatz/.julia/packages/Flux/YO4zY/src/optimise/train.jl:136\n"
     ]
    },
    {
     "name": "stdout",
     "output_type": "stream",
     "text": [
      "l = -15.76677852287662\n",
      "l = -15.946285551164749\n"
     ]
    },
    {
     "name": "stderr",
     "output_type": "stream",
     "text": [
      "┌ Info: Epoch 36\n",
      "└ @ Main /home/smkatz/.julia/packages/Flux/YO4zY/src/optimise/train.jl:136\n"
     ]
    },
    {
     "name": "stdout",
     "output_type": "stream",
     "text": [
      "l = -16.144888996742438\n"
     ]
    },
    {
     "name": "stderr",
     "output_type": "stream",
     "text": [
      "┌ Info: Epoch 37\n",
      "└ @ Main /home/smkatz/.julia/packages/Flux/YO4zY/src/optimise/train.jl:136\n",
      "┌ Info: Epoch 38\n",
      "└ @ Main /home/smkatz/.julia/packages/Flux/YO4zY/src/optimise/train.jl:136\n"
     ]
    },
    {
     "name": "stdout",
     "output_type": "stream",
     "text": [
      "l = -16.45946084939405\n",
      "l = -16.68724089521328\n"
     ]
    },
    {
     "name": "stderr",
     "output_type": "stream",
     "text": [
      "┌ Info: Epoch 39\n",
      "└ @ Main /home/smkatz/.julia/packages/Flux/YO4zY/src/optimise/train.jl:136\n"
     ]
    },
    {
     "name": "stdout",
     "output_type": "stream",
     "text": [
      "l = -16.913570940679847\n"
     ]
    },
    {
     "name": "stderr",
     "output_type": "stream",
     "text": [
      "┌ Info: Epoch 40\n",
      "└ @ Main /home/smkatz/.julia/packages/Flux/YO4zY/src/optimise/train.jl:136\n",
      "┌ Info: Epoch 41\n",
      "└ @ Main /home/smkatz/.julia/packages/Flux/YO4zY/src/optimise/train.jl:136\n"
     ]
    },
    {
     "name": "stdout",
     "output_type": "stream",
     "text": [
      "l = -17.127835667991718\n",
      "l = -17.26124757891766\n"
     ]
    },
    {
     "name": "stderr",
     "output_type": "stream",
     "text": [
      "┌ Info: Epoch 42\n",
      "└ @ Main /home/smkatz/.julia/packages/Flux/YO4zY/src/optimise/train.jl:136\n"
     ]
    },
    {
     "name": "stdout",
     "output_type": "stream",
     "text": [
      "l = -17.58411465039879\n"
     ]
    },
    {
     "name": "stderr",
     "output_type": "stream",
     "text": [
      "┌ Info: Epoch 43\n",
      "└ @ Main /home/smkatz/.julia/packages/Flux/YO4zY/src/optimise/train.jl:136\n"
     ]
    },
    {
     "name": "stdout",
     "output_type": "stream",
     "text": [
      "l = -17.760830482377642\n"
     ]
    },
    {
     "name": "stderr",
     "output_type": "stream",
     "text": [
      "┌ Info: Epoch 44\n",
      "└ @ Main /home/smkatz/.julia/packages/Flux/YO4zY/src/optimise/train.jl:136\n"
     ]
    },
    {
     "name": "stdout",
     "output_type": "stream",
     "text": [
      "l = -17.652925072261596\n"
     ]
    },
    {
     "name": "stderr",
     "output_type": "stream",
     "text": [
      "┌ Info: Epoch 45\n",
      "└ @ Main /home/smkatz/.julia/packages/Flux/YO4zY/src/optimise/train.jl:136\n",
      "┌ Info: Epoch 46\n",
      "└ @ Main /home/smkatz/.julia/packages/Flux/YO4zY/src/optimise/train.jl:136\n"
     ]
    },
    {
     "name": "stdout",
     "output_type": "stream",
     "text": [
      "l = -18.15873655574319\n",
      "l = -18.53812399829404\n"
     ]
    },
    {
     "name": "stderr",
     "output_type": "stream",
     "text": [
      "┌ Info: Epoch 47\n",
      "└ @ Main /home/smkatz/.julia/packages/Flux/YO4zY/src/optimise/train.jl:136\n"
     ]
    },
    {
     "name": "stdout",
     "output_type": "stream",
     "text": [
      "l = -18.652330464790793\n"
     ]
    },
    {
     "name": "stderr",
     "output_type": "stream",
     "text": [
      "┌ Info: Epoch 48\n",
      "└ @ Main /home/smkatz/.julia/packages/Flux/YO4zY/src/optimise/train.jl:136\n"
     ]
    },
    {
     "name": "stdout",
     "output_type": "stream",
     "text": [
      "l = -18.932455862506444\n"
     ]
    },
    {
     "name": "stderr",
     "output_type": "stream",
     "text": [
      "┌ Info: Epoch 49\n",
      "└ @ Main /home/smkatz/.julia/packages/Flux/YO4zY/src/optimise/train.jl:136\n"
     ]
    },
    {
     "name": "stdout",
     "output_type": "stream",
     "text": [
      "l = -18.998637570972548\n"
     ]
    },
    {
     "name": "stderr",
     "output_type": "stream",
     "text": [
      "┌ Info: Epoch 50\n",
      "└ @ Main /home/smkatz/.julia/packages/Flux/YO4zY/src/optimise/train.jl:136\n"
     ]
    },
    {
     "data": {
      "text/plain": [
       "MultivariateTransformed{DiagNormal, Composed{NTuple{8, RadialLayer{Vector{Float64}, Vector{Float64}}}, 1}}(\n",
       "dist: DiagNormal(\n",
       "dim: 16\n",
       "μ: [0.0, 0.0, 0.0, 0.0, 0.0, 0.0, 0.0, 0.0, 0.0, 0.0, 0.0, 0.0, 0.0, 0.0, 0.0, 0.0]\n",
       "Σ: [1.0 0.0 … 0.0 0.0; 0.0 1.0 … 0.0 0.0; … ; 0.0 0.0 … 1.0 0.0; 0.0 0.0 … 0.0 1.0]\n",
       ")\n",
       "\n",
       "transform: Composed{NTuple{8, RadialLayer{Vector{Float64}, Vector{Float64}}}, 1}((RadialLayer{Vector{Float64}, Vector{Float64}}([8.785202300154198], [-5.930720850702706], [-1.9269762256278904, -1.9508822268312587, -1.7559636807935717, 2.12676613388288, -0.6867050027033016, 0.7979193364592917, 2.053290760202792, -0.6943066868671878, 1.024369441438964, 0.530858786611749, 1.196665028412133, 0.14772365142152666, -1.7785162935899845, 0.49287443639978945, -2.2865215513640416, 1.7669786565123606]), RadialLayer{Vector{Float64}, Vector{Float64}}([9.648057992103897], [-5.650406093827089], [3.0529453713377723, 3.430936735334004, 0.974302951003953, -2.0500950933295785, 1.432190670983387, -0.9536817104986808, -2.04135679047875, 2.3429619809367654, -0.02753103062685852, -1.5814074602070582, -2.5474980007617596, -1.2017362822704718, 1.2459259897111297, -0.22159626760215126, 3.50655050033528, -3.2744851739887864]), RadialLayer{Vector{Float64}, Vector{Float64}}([9.86466648218782], [-6.241144464313792], [-1.1731598177404359, -1.5767085473012634, -0.8145052604092647, 0.49539869654466945, 0.6471020210895947, 0.23855706674958232, 1.8497894260805146, -1.3504461665845813, -0.42345834752449435, 0.38202088206895896, 0.6368878806897538, 1.203610742450052, -0.6379358478554625, 0.565844367514324, -1.4726985527892156, 1.385489864684688]), RadialLayer{Vector{Float64}, Vector{Float64}}([5.12473692816179], [-4.688338205611377], [1.5330243626128806, 1.4054131327542423, 0.7231958372184291, -1.9235258155572483, 1.0556615400098914, -0.9608812850615824, -0.9327325175600539, -0.21922741388150196, -1.2742952227241873, -0.73293013964994, -1.395261359854274, 0.46801327523717173, 1.0377736156593982, -0.4433616105945402, 1.913604566950173, -0.8132108553904965]), RadialLayer{Vector{Float64}, Vector{Float64}}([3.3457618601670225], [-3.5082495148628268], [-0.2208235512868763, -0.5167555577650558, -0.5195216747423744, 0.06443064262289795, 0.17272666745276827, -0.1288495377601712, 0.7634299848645907, -0.7263179714570831, -0.39964948840244036, -0.044842986473237194, -0.011028723430842598, 0.7575196108771223, -0.2658252499307724, 0.17655205946203306, -0.5814841162341954, 0.7722665810745724]), RadialLayer{Vector{Float64}, Vector{Float64}}([5.843581422794253], [-6.024663454146869], [0.4751884547186356, 0.38730926706614904, 0.5932595699604853, -1.5835400030882416, 2.074575085967842, 0.013559565777755118, 0.40312847935097096, -0.6084717513158286, -1.0407930213965122, 0.26173843256132673, -0.08004746125449008, 0.48013345686983644, 0.732992720283088, 0.42885566714208573, 0.9402356875214375, -0.46598313715131034]), RadialLayer{Vector{Float64}, Vector{Float64}}([4.530050859322652], [-4.327494882325532], [0.20998801392504746, -0.002541507413269418, 0.2838837365303077, -1.2583317571146702, 1.8005613106713714, -0.04705288520031346, 0.7148172378332952, -0.8132678703048254, -1.0355059787492027, 0.21251510195478393, -0.06694196024419616, 0.770658866887006, 0.49204645020141013, 0.44996380613546144, 0.47443824201402, -0.03282165701612589]), RadialLayer{Vector{Float64}, Vector{Float64}}([-0.6498493075519216], [-0.007543480665564106], [-0.38361345824560034, 0.6835024934627428, -1.16812659364269, 0.2578972579371338, -2.5222384878509736, -0.09039534041501987, -0.8082006981678909, -1.090923596836554, -0.8121896173770875, -0.25388457230628464, -0.4034281989885275, 0.1353655628690995, 0.01435633544843886, -0.7797669634832577, -1.0130459937308687, 1.1377765721573159])))\n",
       ")\n"
      ]
     },
     "execution_count": 170,
     "metadata": {},
     "output_type": "execute_result"
    }
   ],
   "source": [
    "flow_extra = train_flow_ood(npn.flow, z_in[:, 1:5000], z_c, 50, 1e-3, 128)"
   ]
  },
  {
   "cell_type": "code",
   "execution_count": 173,
   "metadata": {},
   "outputs": [
    {
     "data": {
      "image/svg+xml": "<?xml version=\"1.0\" encoding=\"UTF-8\"?>\n<svg xmlns=\"http://www.w3.org/2000/svg\" xmlns:xlink=\"http://www.w3.org/1999/xlink\" width=\"224.007pt\" height=\"212.856pt\" viewBox=\"0 0 224.007 212.856\" version=\"1.2\">\n<defs>\n<g>\n<symbol overflow=\"visible\" id=\"glyph-1637105904321179-0-0\">\n<path style=\"stroke:none;\" d=\"\"/>\n</symbol>\n<symbol overflow=\"visible\" id=\"glyph-1637105904321179-0-1\">\n<path style=\"stroke:none;\" d=\"M 6.53125 -2.28125 C 6.703125 -2.28125 6.890625 -2.28125 6.890625 -2.484375 C 6.890625 -2.671875 6.703125 -2.671875 6.53125 -2.671875 L 1.171875 -2.671875 C 1 -2.671875 0.828125 -2.671875 0.828125 -2.484375 C 0.828125 -2.28125 1 -2.28125 1.171875 -2.28125 Z M 6.53125 -2.28125 \"/>\n</symbol>\n<symbol overflow=\"visible\" id=\"glyph-1637105904321179-1-0\">\n<path style=\"stroke:none;\" d=\"\"/>\n</symbol>\n<symbol overflow=\"visible\" id=\"glyph-1637105904321179-1-1\">\n<path style=\"stroke:none;\" d=\"M 4.453125 -2 C 4.453125 -3.171875 3.640625 -4.171875 2.5625 -4.171875 C 2.09375 -4.171875 1.671875 -4.015625 1.3125 -3.65625 L 1.3125 -5.59375 C 1.515625 -5.53125 1.828125 -5.46875 2.15625 -5.46875 C 3.375 -5.46875 4.0625 -6.375 4.0625 -6.5 C 4.0625 -6.5625 4.03125 -6.609375 3.96875 -6.609375 C 3.953125 -6.609375 3.9375 -6.609375 3.890625 -6.578125 C 3.6875 -6.484375 3.203125 -6.296875 2.546875 -6.296875 C 2.140625 -6.296875 1.6875 -6.359375 1.21875 -6.5625 C 1.140625 -6.59375 1.125 -6.59375 1.09375 -6.59375 C 1 -6.59375 1 -6.515625 1 -6.359375 L 1 -3.421875 C 1 -3.25 1 -3.171875 1.140625 -3.171875 C 1.203125 -3.171875 1.234375 -3.1875 1.265625 -3.25 C 1.375 -3.40625 1.75 -3.953125 2.546875 -3.953125 C 3.0625 -3.953125 3.3125 -3.5 3.390625 -3.3125 C 3.546875 -2.953125 3.578125 -2.5625 3.578125 -2.0625 C 3.578125 -1.71875 3.578125 -1.125 3.328125 -0.703125 C 3.09375 -0.3125 2.734375 -0.0625 2.265625 -0.0625 C 1.546875 -0.0625 0.984375 -0.578125 0.8125 -1.171875 C 0.84375 -1.15625 0.875 -1.15625 0.984375 -1.15625 C 1.3125 -1.15625 1.484375 -1.40625 1.484375 -1.640625 C 1.484375 -1.875 1.3125 -2.125 0.984375 -2.125 C 0.84375 -2.125 0.5 -2.046875 0.5 -1.59375 C 0.5 -0.75 1.1875 0.21875 2.296875 0.21875 C 3.4375 0.21875 4.453125 -0.734375 4.453125 -2 Z M 4.453125 -2 \"/>\n</symbol>\n<symbol overflow=\"visible\" id=\"glyph-1637105904321179-1-2\">\n<path style=\"stroke:none;\" d=\"M 4.5625 -3.171875 C 4.5625 -3.96875 4.515625 -4.765625 4.171875 -5.5 C 3.703125 -6.453125 2.890625 -6.609375 2.484375 -6.609375 C 1.890625 -6.609375 1.15625 -6.34375 0.75 -5.421875 C 0.4375 -4.75 0.390625 -3.96875 0.390625 -3.171875 C 0.390625 -2.4375 0.421875 -1.53125 0.828125 -0.78125 C 1.265625 0.015625 1.984375 0.21875 2.46875 0.21875 C 3 0.21875 3.765625 0.015625 4.203125 -0.9375 C 4.515625 -1.625 4.5625 -2.390625 4.5625 -3.171875 Z M 2.46875 0 C 2.078125 0 1.5 -0.25 1.3125 -1.203125 C 1.203125 -1.796875 1.203125 -2.703125 1.203125 -3.296875 C 1.203125 -3.921875 1.203125 -4.578125 1.296875 -5.125 C 1.484375 -6.296875 2.21875 -6.390625 2.46875 -6.390625 C 2.796875 -6.390625 3.453125 -6.21875 3.640625 -5.234375 C 3.734375 -4.671875 3.734375 -3.921875 3.734375 -3.296875 C 3.734375 -2.546875 3.734375 -1.875 3.625 -1.234375 C 3.484375 -0.296875 2.921875 0 2.46875 0 Z M 2.46875 0 \"/>\n</symbol>\n<symbol overflow=\"visible\" id=\"glyph-1637105904321179-1-3\">\n<path style=\"stroke:none;\" d=\"M 2.921875 -1.640625 L 2.921875 -0.78125 C 2.921875 -0.421875 2.890625 -0.3125 2.15625 -0.3125 L 1.953125 -0.3125 L 1.953125 0 C 2.359375 -0.03125 2.875 -0.03125 3.296875 -0.03125 C 3.703125 -0.03125 4.234375 -0.03125 4.640625 0 L 4.640625 -0.3125 L 4.4375 -0.3125 C 3.703125 -0.3125 3.6875 -0.421875 3.6875 -0.78125 L 3.6875 -1.640625 L 4.671875 -1.640625 L 4.671875 -1.9375 L 3.6875 -1.9375 L 3.6875 -6.453125 C 3.6875 -6.65625 3.6875 -6.71875 3.515625 -6.71875 C 3.4375 -6.71875 3.40625 -6.71875 3.328125 -6.59375 L 0.28125 -1.9375 L 0.28125 -1.640625 Z M 2.96875 -1.9375 L 0.5625 -1.9375 L 2.96875 -5.640625 Z M 2.96875 -1.9375 \"/>\n</symbol>\n<symbol overflow=\"visible\" id=\"glyph-1637105904321179-1-4\">\n<path style=\"stroke:none;\" d=\"M 2.875 -3.5 C 3.6875 -3.765625 4.265625 -4.453125 4.265625 -5.234375 C 4.265625 -6.046875 3.390625 -6.609375 2.4375 -6.609375 C 1.4375 -6.609375 0.6875 -6.015625 0.6875 -5.265625 C 0.6875 -4.9375 0.90625 -4.75 1.1875 -4.75 C 1.5 -4.75 1.703125 -4.953125 1.703125 -5.25 C 1.703125 -5.75 1.234375 -5.75 1.078125 -5.75 C 1.390625 -6.234375 2.046875 -6.359375 2.40625 -6.359375 C 2.8125 -6.359375 3.359375 -6.140625 3.359375 -5.25 C 3.359375 -5.125 3.328125 -4.546875 3.078125 -4.125 C 2.78125 -3.640625 2.4375 -3.609375 2.1875 -3.609375 C 2.109375 -3.59375 1.875 -3.578125 1.8125 -3.578125 C 1.71875 -3.5625 1.65625 -3.546875 1.65625 -3.453125 C 1.65625 -3.34375 1.71875 -3.34375 1.890625 -3.34375 L 2.328125 -3.34375 C 3.140625 -3.34375 3.515625 -2.671875 3.515625 -1.703125 C 3.515625 -0.34375 2.828125 -0.0625 2.390625 -0.0625 C 1.96875 -0.0625 1.21875 -0.234375 0.875 -0.8125 C 1.21875 -0.765625 1.53125 -0.984375 1.53125 -1.359375 C 1.53125 -1.71875 1.265625 -1.921875 0.96875 -1.921875 C 0.734375 -1.921875 0.421875 -1.78125 0.421875 -1.34375 C 0.421875 -0.4375 1.34375 0.21875 2.421875 0.21875 C 3.625 0.21875 4.53125 -0.6875 4.53125 -1.703125 C 4.53125 -2.515625 3.90625 -3.28125 2.875 -3.5 Z M 2.875 -3.5 \"/>\n</symbol>\n<symbol overflow=\"visible\" id=\"glyph-1637105904321179-1-5\">\n<path style=\"stroke:none;\" d=\"M 1.265625 -0.765625 L 2.3125 -1.78125 C 3.859375 -3.15625 4.453125 -3.6875 4.453125 -4.6875 C 4.453125 -5.8125 3.5625 -6.609375 2.34375 -6.609375 C 1.234375 -6.609375 0.5 -5.6875 0.5 -4.8125 C 0.5 -4.25 0.984375 -4.25 1.015625 -4.25 C 1.1875 -4.25 1.53125 -4.375 1.53125 -4.78125 C 1.53125 -5.046875 1.359375 -5.296875 1.015625 -5.296875 C 0.9375 -5.296875 0.90625 -5.296875 0.890625 -5.28125 C 1.109375 -5.9375 1.640625 -6.296875 2.21875 -6.296875 C 3.125 -6.296875 3.546875 -5.5 3.546875 -4.6875 C 3.546875 -3.890625 3.0625 -3.109375 2.515625 -2.484375 L 0.609375 -0.359375 C 0.5 -0.265625 0.5 -0.234375 0.5 0 L 4.171875 0 L 4.453125 -1.71875 L 4.203125 -1.71875 C 4.15625 -1.421875 4.09375 -0.984375 3.984375 -0.84375 C 3.921875 -0.765625 3.265625 -0.765625 3.046875 -0.765625 Z M 1.265625 -0.765625 \"/>\n</symbol>\n<symbol overflow=\"visible\" id=\"glyph-1637105904321179-1-6\">\n<path style=\"stroke:none;\" d=\"M 2.921875 -6.34375 C 2.921875 -6.59375 2.921875 -6.609375 2.6875 -6.609375 C 2.078125 -5.96875 1.203125 -5.96875 0.890625 -5.96875 L 0.890625 -5.671875 C 1.078125 -5.671875 1.671875 -5.671875 2.1875 -5.921875 L 2.1875 -0.78125 C 2.1875 -0.421875 2.15625 -0.3125 1.265625 -0.3125 L 0.9375 -0.3125 L 0.9375 0 C 1.296875 -0.03125 2.15625 -0.03125 2.546875 -0.03125 C 2.953125 -0.03125 3.8125 -0.03125 4.15625 0 L 4.15625 -0.3125 L 3.84375 -0.3125 C 2.953125 -0.3125 2.921875 -0.421875 2.921875 -0.78125 Z M 2.921875 -6.34375 \"/>\n</symbol>\n<symbol overflow=\"visible\" id=\"glyph-1637105904321179-1-7\">\n<path style=\"stroke:none;\" d=\"M 5.78125 -2.5625 L 5.53125 -2.5625 C 5.421875 -1.546875 5.28125 -0.3125 3.53125 -0.3125 L 2.71875 -0.3125 C 2.25 -0.3125 2.234375 -0.375 2.234375 -0.703125 L 2.234375 -6 C 2.234375 -6.328125 2.234375 -6.46875 3.171875 -6.46875 L 3.5 -6.46875 L 3.5 -6.78125 C 3.140625 -6.75 2.25 -6.75 1.828125 -6.75 C 1.453125 -6.75 0.671875 -6.75 0.328125 -6.78125 L 0.328125 -6.46875 L 0.5625 -6.46875 C 1.328125 -6.46875 1.34375 -6.359375 1.34375 -6 L 1.34375 -0.78125 C 1.34375 -0.421875 1.328125 -0.3125 0.5625 -0.3125 L 0.328125 -0.3125 L 0.328125 0 L 5.5 0 Z M 5.78125 -2.5625 \"/>\n</symbol>\n<symbol overflow=\"visible\" id=\"glyph-1637105904321179-1-8\">\n<path style=\"stroke:none;\" d=\"M 4.671875 -2.125 C 4.671875 -3.390625 3.6875 -4.4375 2.484375 -4.4375 C 1.234375 -4.4375 0.28125 -3.359375 0.28125 -2.125 C 0.28125 -0.84375 1.3125 0.109375 2.46875 0.109375 C 3.671875 0.109375 4.671875 -0.859375 4.671875 -2.125 Z M 2.484375 -0.140625 C 2.046875 -0.140625 1.625 -0.34375 1.34375 -0.796875 C 1.09375 -1.234375 1.09375 -1.84375 1.09375 -2.203125 C 1.09375 -2.59375 1.09375 -3.125 1.34375 -3.5625 C 1.609375 -4.015625 2.078125 -4.234375 2.46875 -4.234375 C 2.90625 -4.234375 3.328125 -4.015625 3.59375 -3.578125 C 3.84375 -3.15625 3.84375 -2.578125 3.84375 -2.203125 C 3.84375 -1.84375 3.84375 -1.3125 3.625 -0.875 C 3.40625 -0.421875 2.96875 -0.140625 2.484375 -0.140625 Z M 2.484375 -0.140625 \"/>\n</symbol>\n<symbol overflow=\"visible\" id=\"glyph-1637105904321179-1-9\">\n<path style=\"stroke:none;\" d=\"M 2.203125 -1.703125 C 1.34375 -1.703125 1.34375 -2.703125 1.34375 -2.921875 C 1.34375 -3.1875 1.34375 -3.515625 1.5 -3.765625 C 1.578125 -3.875 1.8125 -4.15625 2.203125 -4.15625 C 3.0625 -4.15625 3.0625 -3.171875 3.0625 -2.9375 C 3.0625 -2.671875 3.0625 -2.34375 2.90625 -2.109375 C 2.828125 -1.984375 2.59375 -1.703125 2.203125 -1.703125 Z M 1.046875 -1.3125 C 1.046875 -1.359375 1.046875 -1.59375 1.21875 -1.78125 C 1.609375 -1.515625 2.015625 -1.484375 2.203125 -1.484375 C 3.125 -1.484375 3.8125 -2.15625 3.8125 -2.921875 C 3.8125 -3.296875 3.65625 -3.65625 3.40625 -3.890625 C 3.765625 -4.234375 4.125 -4.28125 4.296875 -4.28125 C 4.3125 -4.28125 4.359375 -4.28125 4.390625 -4.265625 C 4.28125 -4.234375 4.234375 -4.125 4.234375 -4 C 4.234375 -3.828125 4.359375 -3.703125 4.53125 -3.703125 C 4.625 -3.703125 4.8125 -3.78125 4.8125 -4.015625 C 4.8125 -4.171875 4.6875 -4.5 4.3125 -4.5 C 4.109375 -4.5 3.671875 -4.4375 3.25 -4.03125 C 2.84375 -4.359375 2.421875 -4.390625 2.203125 -4.390625 C 1.28125 -4.390625 0.59375 -3.703125 0.59375 -2.9375 C 0.59375 -2.5 0.8125 -2.125 1.0625 -1.921875 C 0.9375 -1.765625 0.75 -1.4375 0.75 -1.09375 C 0.75 -0.78125 0.890625 -0.40625 1.1875 -0.203125 C 0.59375 -0.046875 0.28125 0.390625 0.28125 0.78125 C 0.28125 1.5 1.265625 2.046875 2.46875 2.046875 C 3.640625 2.046875 4.671875 1.53125 4.671875 0.765625 C 4.671875 0.421875 4.53125 -0.09375 4.03125 -0.359375 C 3.5 -0.640625 2.921875 -0.640625 2.328125 -0.640625 C 2.078125 -0.640625 1.640625 -0.640625 1.578125 -0.65625 C 1.265625 -0.6875 1.046875 -1 1.046875 -1.3125 Z M 2.484375 1.8125 C 1.484375 1.8125 0.796875 1.3125 0.796875 0.78125 C 0.796875 0.328125 1.171875 -0.046875 1.609375 -0.0625 L 2.1875 -0.0625 C 3.046875 -0.0625 4.15625 -0.0625 4.15625 0.78125 C 4.15625 1.3125 3.453125 1.8125 2.484375 1.8125 Z M 2.484375 1.8125 \"/>\n</symbol>\n<symbol overflow=\"visible\" id=\"glyph-1637105904321179-1-10\">\n<path style=\"stroke:none;\" d=\"M 1.75 -4.390625 L 0.359375 -4.28125 L 0.359375 -3.96875 C 1.015625 -3.96875 1.09375 -3.90625 1.09375 -3.421875 L 1.09375 -0.75 C 1.09375 -0.3125 0.984375 -0.3125 0.328125 -0.3125 L 0.328125 0 C 0.640625 -0.015625 1.1875 -0.03125 1.421875 -0.03125 C 1.765625 -0.03125 2.109375 -0.015625 2.453125 0 L 2.453125 -0.3125 C 1.796875 -0.3125 1.75 -0.359375 1.75 -0.75 Z M 1.796875 -6.109375 C 1.796875 -6.421875 1.546875 -6.640625 1.265625 -6.640625 C 0.96875 -6.640625 0.75 -6.375 0.75 -6.109375 C 0.75 -5.84375 0.96875 -5.59375 1.265625 -5.59375 C 1.546875 -5.59375 1.796875 -5.796875 1.796875 -6.109375 Z M 1.796875 -6.109375 \"/>\n</symbol>\n<symbol overflow=\"visible\" id=\"glyph-1637105904321179-1-11\">\n<path style=\"stroke:none;\" d=\"M 1.046875 -0.75 C 1.046875 -0.3125 0.9375 -0.3125 0.28125 -0.3125 L 0.28125 0 C 0.609375 -0.015625 1.078125 -0.03125 1.359375 -0.03125 C 1.65625 -0.03125 2.046875 -0.015625 2.453125 0 L 2.453125 -0.3125 C 1.78125 -0.3125 1.671875 -0.3125 1.671875 -0.75 L 1.671875 -1.78125 L 2.3125 -2.328125 C 3.078125 -1.265625 3.5 -0.71875 3.5 -0.53125 C 3.5 -0.34375 3.328125 -0.3125 3.140625 -0.3125 L 3.140625 0 C 3.40625 -0.015625 4 -0.03125 4.203125 -0.03125 C 4.5 -0.03125 4.78125 -0.015625 5.0625 0 L 5.0625 -0.3125 C 4.703125 -0.3125 4.484375 -0.3125 4.109375 -0.828125 L 2.84375 -2.609375 C 2.84375 -2.625 2.78125 -2.6875 2.78125 -2.71875 C 2.78125 -2.765625 3.5 -3.359375 3.59375 -3.4375 C 4.21875 -3.9375 4.640625 -3.953125 4.84375 -3.96875 L 4.84375 -4.28125 C 4.546875 -4.25 4.421875 -4.25 4.140625 -4.25 C 3.796875 -4.25 3.171875 -4.265625 3.03125 -4.28125 L 3.03125 -3.96875 C 3.21875 -3.953125 3.328125 -3.84375 3.328125 -3.71875 C 3.328125 -3.515625 3.1875 -3.40625 3.109375 -3.328125 L 1.703125 -2.125 L 1.703125 -6.890625 L 0.28125 -6.78125 L 0.28125 -6.46875 C 0.96875 -6.46875 1.046875 -6.40625 1.046875 -5.90625 Z M 1.046875 -0.75 \"/>\n</symbol>\n<symbol overflow=\"visible\" id=\"glyph-1637105904321179-1-12\">\n<path style=\"stroke:none;\" d=\"M 1.109375 -2.5 C 1.171875 -3.984375 2 -4.234375 2.34375 -4.234375 C 3.359375 -4.234375 3.46875 -2.890625 3.46875 -2.5 Z M 1.09375 -2.296875 L 3.875 -2.296875 C 4.09375 -2.296875 4.125 -2.296875 4.125 -2.5 C 4.125 -3.484375 3.578125 -4.4375 2.34375 -4.4375 C 1.1875 -4.4375 0.28125 -3.421875 0.28125 -2.1875 C 0.28125 -0.859375 1.3125 0.109375 2.453125 0.109375 C 3.671875 0.109375 4.125 -0.984375 4.125 -1.1875 C 4.125 -1.28125 4.03125 -1.296875 3.984375 -1.296875 C 3.90625 -1.296875 3.875 -1.234375 3.859375 -1.15625 C 3.515625 -0.140625 2.625 -0.140625 2.515625 -0.140625 C 2.03125 -0.140625 1.625 -0.4375 1.40625 -0.796875 C 1.09375 -1.28125 1.09375 -1.9375 1.09375 -2.296875 Z M 1.09375 -2.296875 \"/>\n</symbol>\n<symbol overflow=\"visible\" id=\"glyph-1637105904321179-1-13\">\n<path style=\"stroke:none;\" d=\"M 1.75 -6.890625 L 0.328125 -6.78125 L 0.328125 -6.46875 C 1.015625 -6.46875 1.09375 -6.40625 1.09375 -5.90625 L 1.09375 -0.75 C 1.09375 -0.3125 0.984375 -0.3125 0.328125 -0.3125 L 0.328125 0 C 0.65625 -0.015625 1.1875 -0.03125 1.421875 -0.03125 C 1.671875 -0.03125 2.15625 -0.015625 2.53125 0 L 2.53125 -0.3125 C 1.859375 -0.3125 1.75 -0.3125 1.75 -0.75 Z M 1.75 -6.890625 \"/>\n</symbol>\n<symbol overflow=\"visible\" id=\"glyph-1637105904321179-1-14\">\n<path style=\"stroke:none;\" d=\"M 1.09375 -0.75 C 1.09375 -0.3125 0.984375 -0.3125 0.3125 -0.3125 L 0.3125 0 C 0.671875 -0.015625 1.171875 -0.03125 1.4375 -0.03125 C 1.703125 -0.03125 2.21875 -0.015625 2.546875 0 L 2.546875 -0.3125 C 1.890625 -0.3125 1.78125 -0.3125 1.78125 -0.75 L 1.78125 -2.578125 C 1.78125 -3.609375 2.484375 -4.171875 3.109375 -4.171875 C 3.734375 -4.171875 3.84375 -3.625 3.84375 -3.0625 L 3.84375 -0.75 C 3.84375 -0.3125 3.734375 -0.3125 3.078125 -0.3125 L 3.078125 0 C 3.421875 -0.015625 3.921875 -0.03125 4.203125 -0.03125 C 4.453125 -0.03125 4.96875 -0.015625 5.3125 0 L 5.3125 -0.3125 C 4.796875 -0.3125 4.546875 -0.3125 4.53125 -0.609375 L 4.53125 -2.5 C 4.53125 -3.359375 4.53125 -3.65625 4.234375 -4.015625 C 4.09375 -4.1875 3.765625 -4.390625 3.1875 -4.390625 C 2.34375 -4.390625 1.921875 -3.796875 1.75 -3.40625 L 1.75 -6.890625 L 0.3125 -6.78125 L 0.3125 -6.46875 C 1.015625 -6.46875 1.09375 -6.40625 1.09375 -5.90625 Z M 1.09375 -0.75 \"/>\n</symbol>\n<symbol overflow=\"visible\" id=\"glyph-1637105904321179-1-15\">\n<path style=\"stroke:none;\" d=\"M 3.765625 -0.546875 L 3.765625 0.109375 L 5.234375 0 L 5.234375 -0.3125 C 4.53125 -0.3125 4.453125 -0.375 4.453125 -0.859375 L 4.453125 -6.890625 L 3.03125 -6.78125 L 3.03125 -6.46875 C 3.71875 -6.46875 3.796875 -6.40625 3.796875 -5.90625 L 3.796875 -3.765625 C 3.515625 -4.125 3.078125 -4.390625 2.546875 -4.390625 C 1.375 -4.390625 0.34375 -3.40625 0.34375 -2.140625 C 0.34375 -0.875 1.3125 0.109375 2.4375 0.109375 C 3.078125 0.109375 3.515625 -0.234375 3.765625 -0.546875 Z M 3.765625 -3.203125 L 3.765625 -1.171875 C 3.765625 -0.984375 3.765625 -0.96875 3.65625 -0.796875 C 3.359375 -0.328125 2.921875 -0.109375 2.484375 -0.109375 C 2.046875 -0.109375 1.6875 -0.359375 1.453125 -0.75 C 1.1875 -1.15625 1.15625 -1.71875 1.15625 -2.125 C 1.15625 -2.484375 1.1875 -3.078125 1.46875 -3.53125 C 1.671875 -3.84375 2.046875 -4.171875 2.59375 -4.171875 C 2.9375 -4.171875 3.359375 -4.015625 3.65625 -3.578125 C 3.765625 -3.40625 3.765625 -3.390625 3.765625 -3.203125 Z M 3.765625 -3.203125 \"/>\n</symbol>\n<symbol overflow=\"visible\" id=\"glyph-1637105904321179-1-16\">\n<path style=\"stroke:none;\" d=\"M 2.21875 -3.5 L 2.21875 -6.078125 C 2.21875 -6.296875 2.21875 -6.421875 2.4375 -6.453125 C 2.546875 -6.46875 2.828125 -6.46875 3.03125 -6.46875 C 3.921875 -6.46875 5.03125 -6.421875 5.03125 -4.984375 C 5.03125 -4.3125 4.796875 -3.5 3.328125 -3.5 Z M 4.3125 -3.375 C 5.28125 -3.609375 6.046875 -4.21875 6.046875 -4.984375 C 6.046875 -5.9375 4.921875 -6.78125 3.46875 -6.78125 L 0.34375 -6.78125 L 0.34375 -6.46875 L 0.578125 -6.46875 C 1.34375 -6.46875 1.375 -6.359375 1.375 -6 L 1.375 -0.78125 C 1.375 -0.421875 1.34375 -0.3125 0.578125 -0.3125 L 0.34375 -0.3125 L 0.34375 0 C 0.703125 -0.03125 1.40625 -0.03125 1.796875 -0.03125 C 2.1875 -0.03125 2.890625 -0.03125 3.25 0 L 3.25 -0.3125 L 3 -0.3125 C 2.25 -0.3125 2.21875 -0.421875 2.21875 -0.78125 L 2.21875 -3.28125 L 3.359375 -3.28125 C 3.515625 -3.28125 3.9375 -3.28125 4.28125 -2.953125 C 4.65625 -2.59375 4.65625 -2.28125 4.65625 -1.625 C 4.65625 -0.96875 4.65625 -0.578125 5.0625 -0.203125 C 5.484375 0.15625 6.015625 0.21875 6.3125 0.21875 C 7.09375 0.21875 7.265625 -0.59375 7.265625 -0.875 C 7.265625 -0.9375 7.265625 -1.046875 7.140625 -1.046875 C 7.03125 -1.046875 7.03125 -0.953125 7.015625 -0.890625 C 6.953125 -0.171875 6.609375 0 6.359375 0 C 5.875 0 5.796875 -0.5 5.65625 -1.421875 L 5.53125 -2.21875 C 5.34375 -2.859375 4.859375 -3.1875 4.3125 -3.375 Z M 4.3125 -3.375 \"/>\n</symbol>\n<symbol overflow=\"visible\" id=\"glyph-1637105904321179-1-17\">\n<path style=\"stroke:none;\" d=\"M 2.0625 -1.921875 C 2.28125 -1.890625 3.09375 -1.71875 3.09375 -1.015625 C 3.09375 -0.5 2.75 -0.109375 1.96875 -0.109375 C 1.140625 -0.109375 0.78125 -0.671875 0.59375 -1.515625 C 0.5625 -1.640625 0.5625 -1.6875 0.453125 -1.6875 C 0.328125 -1.6875 0.328125 -1.625 0.328125 -1.4375 L 0.328125 -0.125 C 0.328125 0.046875 0.328125 0.109375 0.4375 0.109375 C 0.484375 0.109375 0.5 0.09375 0.6875 -0.09375 C 0.703125 -0.109375 0.703125 -0.125 0.890625 -0.3125 C 1.3125 0.09375 1.765625 0.109375 1.96875 0.109375 C 3.109375 0.109375 3.578125 -0.5625 3.578125 -1.265625 C 3.578125 -1.796875 3.28125 -2.09375 3.15625 -2.21875 C 2.828125 -2.53125 2.4375 -2.609375 2.03125 -2.6875 C 1.46875 -2.796875 0.796875 -2.921875 0.796875 -3.5 C 0.796875 -3.84375 1.0625 -4.25 1.921875 -4.25 C 3 -4.25 3.0625 -3.359375 3.078125 -3.0625 C 3.078125 -2.96875 3.171875 -2.96875 3.1875 -2.96875 C 3.328125 -2.96875 3.328125 -3.015625 3.328125 -3.203125 L 3.328125 -4.203125 C 3.328125 -4.375 3.328125 -4.4375 3.21875 -4.4375 C 3.171875 -4.4375 3.140625 -4.4375 3.015625 -4.328125 C 2.984375 -4.28125 2.890625 -4.203125 2.84375 -4.171875 C 2.46875 -4.4375 2.0625 -4.4375 1.921875 -4.4375 C 0.703125 -4.4375 0.328125 -3.78125 0.328125 -3.21875 C 0.328125 -2.875 0.484375 -2.59375 0.75 -2.375 C 1.078125 -2.125 1.34375 -2.0625 2.0625 -1.921875 Z M 2.0625 -1.921875 \"/>\n</symbol>\n<symbol overflow=\"visible\" id=\"glyph-1637105904321179-1-18\">\n<path style=\"stroke:none;\" d=\"M 3.875 -0.78125 L 3.875 0.109375 L 5.3125 0 L 5.3125 -0.3125 C 4.609375 -0.3125 4.53125 -0.375 4.53125 -0.859375 L 4.53125 -4.390625 L 3.078125 -4.28125 L 3.078125 -3.96875 C 3.765625 -3.96875 3.84375 -3.90625 3.84375 -3.40625 L 3.84375 -1.640625 C 3.84375 -0.78125 3.375 -0.109375 2.65625 -0.109375 C 1.8125 -0.109375 1.78125 -0.578125 1.78125 -1.09375 L 1.78125 -4.390625 L 0.3125 -4.28125 L 0.3125 -3.96875 C 1.09375 -3.96875 1.09375 -3.9375 1.09375 -3.0625 L 1.09375 -1.5625 C 1.09375 -0.796875 1.09375 0.109375 2.59375 0.109375 C 3.15625 0.109375 3.59375 -0.171875 3.875 -0.78125 Z M 3.875 -0.78125 \"/>\n</symbol>\n<symbol overflow=\"visible\" id=\"glyph-1637105904321179-1-19\">\n<path style=\"stroke:none;\" d=\"M 1.71875 -3.96875 L 3.140625 -3.96875 L 3.140625 -4.28125 L 1.71875 -4.28125 L 1.71875 -6.109375 L 1.46875 -6.109375 C 1.453125 -5.28125 1.15625 -4.234375 0.1875 -4.1875 L 0.1875 -3.96875 L 1.03125 -3.96875 L 1.03125 -1.234375 C 1.03125 -0.015625 1.953125 0.109375 2.3125 0.109375 C 3.015625 0.109375 3.296875 -0.59375 3.296875 -1.234375 L 3.296875 -1.796875 L 3.046875 -1.796875 L 3.046875 -1.25 C 3.046875 -0.515625 2.75 -0.140625 2.375 -0.140625 C 1.71875 -0.140625 1.71875 -1.046875 1.71875 -1.203125 Z M 1.71875 -3.96875 \"/>\n</symbol>\n<symbol overflow=\"visible\" id=\"glyph-1637105904321179-1-20\">\n<path style=\"stroke:none;\" d=\"M 1.734375 -4.28125 L 1.734375 -5.421875 C 1.734375 -6.296875 2.21875 -6.78125 2.65625 -6.78125 C 2.671875 -6.78125 2.828125 -6.78125 2.96875 -6.703125 C 2.859375 -6.671875 2.671875 -6.53125 2.671875 -6.296875 C 2.671875 -6.0625 2.84375 -5.859375 3.109375 -5.859375 C 3.390625 -5.859375 3.546875 -6.0625 3.546875 -6.296875 C 3.546875 -6.671875 3.171875 -7 2.65625 -7 C 1.953125 -7 1.109375 -6.46875 1.109375 -5.421875 L 1.109375 -4.28125 L 0.328125 -4.28125 L 0.328125 -3.96875 L 1.109375 -3.96875 L 1.109375 -0.75 C 1.109375 -0.3125 1 -0.3125 0.34375 -0.3125 L 0.34375 0 C 0.71875 -0.015625 1.1875 -0.03125 1.46875 -0.03125 C 1.859375 -0.03125 2.328125 -0.03125 2.734375 0 L 2.734375 -0.3125 L 2.515625 -0.3125 C 1.78125 -0.3125 1.765625 -0.421875 1.765625 -0.78125 L 1.765625 -3.96875 L 2.890625 -3.96875 L 2.890625 -4.28125 Z M 1.734375 -4.28125 \"/>\n</symbol>\n<symbol overflow=\"visible\" id=\"glyph-1637105904321179-1-21\">\n<path style=\"stroke:none;\" d=\"M 1.09375 -3.40625 L 1.09375 -0.75 C 1.09375 -0.3125 0.984375 -0.3125 0.3125 -0.3125 L 0.3125 0 C 0.671875 -0.015625 1.171875 -0.03125 1.4375 -0.03125 C 1.703125 -0.03125 2.21875 -0.015625 2.546875 0 L 2.546875 -0.3125 C 1.890625 -0.3125 1.78125 -0.3125 1.78125 -0.75 L 1.78125 -2.578125 C 1.78125 -3.609375 2.484375 -4.171875 3.109375 -4.171875 C 3.734375 -4.171875 3.84375 -3.625 3.84375 -3.0625 L 3.84375 -0.75 C 3.84375 -0.3125 3.734375 -0.3125 3.078125 -0.3125 L 3.078125 0 C 3.421875 -0.015625 3.921875 -0.03125 4.203125 -0.03125 C 4.453125 -0.03125 4.96875 -0.015625 5.3125 0 L 5.3125 -0.3125 C 4.640625 -0.3125 4.53125 -0.3125 4.53125 -0.75 L 4.53125 -2.578125 C 4.53125 -3.609375 5.234375 -4.171875 5.875 -4.171875 C 6.5 -4.171875 6.609375 -3.625 6.609375 -3.0625 L 6.609375 -0.75 C 6.609375 -0.3125 6.5 -0.3125 5.828125 -0.3125 L 5.828125 0 C 6.1875 -0.015625 6.6875 -0.03125 6.953125 -0.03125 C 7.21875 -0.03125 7.734375 -0.015625 8.0625 0 L 8.0625 -0.3125 C 7.546875 -0.3125 7.296875 -0.3125 7.296875 -0.609375 L 7.296875 -2.5 C 7.296875 -3.359375 7.296875 -3.65625 6.984375 -4.015625 C 6.84375 -4.1875 6.515625 -4.390625 5.9375 -4.390625 C 5.109375 -4.390625 4.671875 -3.796875 4.5 -3.40625 C 4.359375 -4.28125 3.625 -4.390625 3.1875 -4.390625 C 2.453125 -4.390625 2 -3.953125 1.71875 -3.34375 L 1.71875 -4.390625 L 0.3125 -4.28125 L 0.3125 -3.96875 C 1.015625 -3.96875 1.09375 -3.90625 1.09375 -3.40625 Z M 1.09375 -3.40625 \"/>\n</symbol>\n<symbol overflow=\"visible\" id=\"glyph-1637105904321179-1-22\">\n<path style=\"stroke:none;\" d=\"M 1.09375 -3.40625 L 1.09375 -0.75 C 1.09375 -0.3125 0.984375 -0.3125 0.3125 -0.3125 L 0.3125 0 C 0.671875 -0.015625 1.171875 -0.03125 1.4375 -0.03125 C 1.703125 -0.03125 2.21875 -0.015625 2.546875 0 L 2.546875 -0.3125 C 1.890625 -0.3125 1.78125 -0.3125 1.78125 -0.75 L 1.78125 -2.578125 C 1.78125 -3.609375 2.484375 -4.171875 3.109375 -4.171875 C 3.734375 -4.171875 3.84375 -3.625 3.84375 -3.0625 L 3.84375 -0.75 C 3.84375 -0.3125 3.734375 -0.3125 3.078125 -0.3125 L 3.078125 0 C 3.421875 -0.015625 3.921875 -0.03125 4.203125 -0.03125 C 4.453125 -0.03125 4.96875 -0.015625 5.3125 0 L 5.3125 -0.3125 C 4.796875 -0.3125 4.546875 -0.3125 4.53125 -0.609375 L 4.53125 -2.5 C 4.53125 -3.359375 4.53125 -3.65625 4.234375 -4.015625 C 4.09375 -4.1875 3.765625 -4.390625 3.1875 -4.390625 C 2.453125 -4.390625 2 -3.953125 1.71875 -3.34375 L 1.71875 -4.390625 L 0.3125 -4.28125 L 0.3125 -3.96875 C 1.015625 -3.96875 1.09375 -3.90625 1.09375 -3.40625 Z M 1.09375 -3.40625 \"/>\n</symbol>\n<symbol overflow=\"visible\" id=\"glyph-1637105904321179-1-23\">\n<path style=\"stroke:none;\" d=\"M 3.875 -3.984375 C 3.953125 -4.09375 3.953125 -4.109375 3.953125 -4.140625 C 3.953125 -4.28125 3.875 -4.28125 3.703125 -4.28125 L 0.53125 -4.28125 L 0.421875 -2.671875 L 0.671875 -2.671875 C 0.71875 -3.6875 0.90625 -4.0625 2 -4.0625 L 3.140625 -4.0625 L 0.359375 -0.3125 C 0.28125 -0.203125 0.28125 -0.1875 0.28125 -0.140625 C 0.28125 0 0.34375 0 0.53125 0 L 3.8125 0 L 3.984375 -1.859375 L 3.734375 -1.859375 C 3.640625 -0.6875 3.4375 -0.25 2.28125 -0.25 L 1.109375 -0.25 Z M 3.875 -3.984375 \"/>\n</symbol>\n<symbol overflow=\"visible\" id=\"glyph-1637105904321179-1-24\">\n<path style=\"stroke:none;\" d=\"M 1.15625 -2.15625 C 1.15625 -3.78125 1.96875 -4.203125 2.5 -4.203125 C 2.59375 -4.203125 3.21875 -4.1875 3.5625 -3.828125 C 3.15625 -3.796875 3.09375 -3.5 3.09375 -3.375 C 3.09375 -3.109375 3.28125 -2.921875 3.546875 -2.921875 C 3.8125 -2.921875 4.015625 -3.078125 4.015625 -3.390625 C 4.015625 -4.0625 3.25 -4.4375 2.484375 -4.4375 C 1.25 -4.4375 0.34375 -3.375 0.34375 -2.140625 C 0.34375 -0.875 1.3125 0.109375 2.46875 0.109375 C 3.796875 0.109375 4.125 -1.078125 4.125 -1.1875 C 4.125 -1.28125 4.015625 -1.28125 3.984375 -1.28125 C 3.90625 -1.28125 3.875 -1.234375 3.859375 -1.1875 C 3.578125 -0.265625 2.921875 -0.140625 2.5625 -0.140625 C 2.03125 -0.140625 1.15625 -0.5625 1.15625 -2.15625 Z M 1.15625 -2.15625 \"/>\n</symbol>\n<symbol overflow=\"visible\" id=\"glyph-1637105904321179-1-25\">\n<path style=\"stroke:none;\" d=\"M 1.65625 -3.296875 L 1.65625 -4.390625 L 0.28125 -4.28125 L 0.28125 -3.96875 C 0.96875 -3.96875 1.046875 -3.90625 1.046875 -3.40625 L 1.046875 -0.75 C 1.046875 -0.3125 0.9375 -0.3125 0.28125 -0.3125 L 0.28125 0 C 0.671875 -0.015625 1.125 -0.03125 1.40625 -0.03125 C 1.8125 -0.03125 2.265625 -0.03125 2.671875 0 L 2.671875 -0.3125 L 2.453125 -0.3125 C 1.71875 -0.3125 1.703125 -0.421875 1.703125 -0.78125 L 1.703125 -2.296875 C 1.703125 -3.28125 2.125 -4.171875 2.875 -4.171875 C 2.953125 -4.171875 2.96875 -4.171875 2.984375 -4.15625 C 2.953125 -4.140625 2.765625 -4.03125 2.765625 -3.765625 C 2.765625 -3.5 2.96875 -3.34375 3.1875 -3.34375 C 3.359375 -3.34375 3.609375 -3.46875 3.609375 -3.78125 C 3.609375 -4.09375 3.296875 -4.390625 2.875 -4.390625 C 2.15625 -4.390625 1.796875 -3.71875 1.65625 -3.296875 Z M 1.65625 -3.296875 \"/>\n</symbol>\n<symbol overflow=\"visible\" id=\"glyph-1637105904321179-2-0\">\n<path style=\"stroke:none;\" d=\"\"/>\n</symbol>\n<symbol overflow=\"visible\" id=\"glyph-1637105904321179-2-1\">\n<path style=\"stroke:none;\" d=\"M 2.015625 -0.015625 C 2.015625 -0.671875 1.765625 -1.046875 1.375 -1.046875 C 1.046875 -1.046875 0.859375 -0.796875 0.859375 -0.53125 C 0.859375 -0.265625 1.046875 0 1.375 0 C 1.5 0 1.625 -0.046875 1.71875 -0.125 C 1.75 -0.15625 1.765625 -0.15625 1.78125 -0.15625 C 1.78125 -0.15625 1.796875 -0.15625 1.796875 -0.015625 C 1.796875 0.71875 1.453125 1.3125 1.125 1.640625 C 1.015625 1.75 1.015625 1.78125 1.015625 1.8125 C 1.015625 1.875 1.0625 1.921875 1.109375 1.921875 C 1.21875 1.921875 2.015625 1.15625 2.015625 -0.015625 Z M 2.015625 -0.015625 \"/>\n</symbol>\n</g>\n<clipPath id=\"clip-1637105904321179-1\">\n  <path d=\"M 29 21 L 223.019531 21 L 223.019531 183 L 29 183 Z M 29 21 \"/>\n</clipPath>\n</defs>\n<g id=\"surface1\">\n<path style=\"fill:none;stroke-width:0.19925;stroke-linecap:butt;stroke-linejoin:miter;stroke:rgb(50%,50%,50%);stroke-opacity:1;stroke-miterlimit:10;\" d=\"M 3.929728 -13.451086 L 3.929728 -9.19794 M 30.759072 -13.451086 L 30.759072 -9.19794 M 57.588416 -13.451086 L 57.588416 -9.19794 M 84.413837 -13.451086 L 84.413837 -9.19794 M 111.243182 -13.451086 L 111.243182 -9.19794 M 138.072526 -13.451086 L 138.072526 -9.19794 M 164.90187 -13.451086 L 164.90187 -9.19794 M 3.929728 147.948726 L 3.929728 143.69558 M 30.759072 147.948726 L 30.759072 143.69558 M 57.588416 147.948726 L 57.588416 143.69558 M 84.413837 147.948726 L 84.413837 143.69558 M 111.243182 147.948726 L 111.243182 143.69558 M 138.072526 147.948726 L 138.072526 143.69558 M 164.90187 147.948726 L 164.90187 143.69558 \" transform=\"matrix(0.995587,0,0,-0.995587,45.521209,169.268435)\"/>\n<path style=\"fill:none;stroke-width:0.19925;stroke-linecap:butt;stroke-linejoin:miter;stroke:rgb(50%,50%,50%);stroke-opacity:1;stroke-miterlimit:10;\" d=\"M -16.190319 -0.0011013 L -11.937173 -0.0011013 M -16.190319 44.241029 L -11.937173 44.241029 M -16.190319 88.483159 L -11.937173 88.483159 M -16.190319 132.72529 L -11.937173 132.72529 M 178.085052 -0.0011013 L 173.83583 -0.0011013 M 178.085052 44.241029 L 173.83583 44.241029 M 178.085052 88.483159 L 173.83583 88.483159 M 178.085052 132.72529 L 173.83583 132.72529 \" transform=\"matrix(0.995587,0,0,-0.995587,45.521209,169.268435)\"/>\n<g clip-path=\"url(#clip-1637105904321179-1)\" clip-rule=\"nonzero\">\n<path style=\"fill:none;stroke-width:0.3985;stroke-linecap:butt;stroke-linejoin:miter;stroke:rgb(0%,0%,0%);stroke-opacity:1;stroke-miterlimit:10;\" d=\"M -16.190319 -13.451086 L -16.190319 147.948726 L 178.085052 147.948726 L 178.085052 -13.451086 Z M -16.190319 -13.451086 \" transform=\"matrix(0.995587,0,0,-0.995587,45.521209,169.268435)\"/>\n</g>\n<g style=\"fill:rgb(0%,0%,0%);fill-opacity:1;\">\n  <use xlink:href=\"#glyph-1637105904321179-0-1\" x=\"38.137938\" y=\"192.555207\"/>\n</g>\n<g style=\"fill:rgb(0%,0%,0%);fill-opacity:1;\">\n  <use xlink:href=\"#glyph-1637105904321179-1-1\" x=\"45.85274\" y=\"192.555207\"/>\n  <use xlink:href=\"#glyph-1637105904321179-1-2\" x=\"50.812075\" y=\"192.555207\"/>\n  <use xlink:href=\"#glyph-1637105904321179-1-2\" x=\"55.771411\" y=\"192.555207\"/>\n</g>\n<g style=\"fill:rgb(0%,0%,0%);fill-opacity:1;\">\n  <use xlink:href=\"#glyph-1637105904321179-0-1\" x=\"64.847538\" y=\"192.555207\"/>\n</g>\n<g style=\"fill:rgb(0%,0%,0%);fill-opacity:1;\">\n  <use xlink:href=\"#glyph-1637105904321179-1-3\" x=\"72.562339\" y=\"192.555207\"/>\n  <use xlink:href=\"#glyph-1637105904321179-1-2\" x=\"77.521674\" y=\"192.555207\"/>\n  <use xlink:href=\"#glyph-1637105904321179-1-2\" x=\"82.48101\" y=\"192.555207\"/>\n</g>\n<g style=\"fill:rgb(0%,0%,0%);fill-opacity:1;\">\n  <use xlink:href=\"#glyph-1637105904321179-0-1\" x=\"91.557137\" y=\"192.555207\"/>\n</g>\n<g style=\"fill:rgb(0%,0%,0%);fill-opacity:1;\">\n  <use xlink:href=\"#glyph-1637105904321179-1-4\" x=\"99.271938\" y=\"192.555207\"/>\n  <use xlink:href=\"#glyph-1637105904321179-1-2\" x=\"104.231273\" y=\"192.555207\"/>\n  <use xlink:href=\"#glyph-1637105904321179-1-2\" x=\"109.190609\" y=\"192.555207\"/>\n</g>\n<g style=\"fill:rgb(0%,0%,0%);fill-opacity:1;\">\n  <use xlink:href=\"#glyph-1637105904321179-0-1\" x=\"118.266736\" y=\"192.555207\"/>\n</g>\n<g style=\"fill:rgb(0%,0%,0%);fill-opacity:1;\">\n  <use xlink:href=\"#glyph-1637105904321179-1-5\" x=\"125.981537\" y=\"192.555207\"/>\n  <use xlink:href=\"#glyph-1637105904321179-1-2\" x=\"130.940873\" y=\"192.555207\"/>\n  <use xlink:href=\"#glyph-1637105904321179-1-2\" x=\"135.900208\" y=\"192.555207\"/>\n</g>\n<g style=\"fill:rgb(0%,0%,0%);fill-opacity:1;\">\n  <use xlink:href=\"#glyph-1637105904321179-0-1\" x=\"144.976335\" y=\"192.555207\"/>\n</g>\n<g style=\"fill:rgb(0%,0%,0%);fill-opacity:1;\">\n  <use xlink:href=\"#glyph-1637105904321179-1-6\" x=\"152.691136\" y=\"192.555207\"/>\n  <use xlink:href=\"#glyph-1637105904321179-1-2\" x=\"157.650472\" y=\"192.555207\"/>\n  <use xlink:href=\"#glyph-1637105904321179-1-2\" x=\"162.609807\" y=\"192.555207\"/>\n</g>\n<g style=\"fill:rgb(0%,0%,0%);fill-opacity:1;\">\n  <use xlink:href=\"#glyph-1637105904321179-1-2\" x=\"180.502849\" y=\"192.555207\"/>\n</g>\n<g style=\"fill:rgb(0%,0%,0%);fill-opacity:1;\">\n  <use xlink:href=\"#glyph-1637105904321179-1-6\" x=\"202.253431\" y=\"192.555207\"/>\n  <use xlink:href=\"#glyph-1637105904321179-1-2\" x=\"207.212767\" y=\"192.555207\"/>\n  <use xlink:href=\"#glyph-1637105904321179-1-2\" x=\"212.172103\" y=\"192.555207\"/>\n</g>\n<g style=\"fill:rgb(0%,0%,0%);fill-opacity:1;\">\n  <use xlink:href=\"#glyph-1637105904321179-1-2\" x=\"20.939179\" y=\"172.464268\"/>\n</g>\n<g style=\"fill:rgb(0%,0%,0%);fill-opacity:1;\">\n  <use xlink:href=\"#glyph-1637105904321179-1-1\" x=\"11.020149\" y=\"128.417523\"/>\n  <use xlink:href=\"#glyph-1637105904321179-1-2\" x=\"15.979485\" y=\"128.417523\"/>\n  <use xlink:href=\"#glyph-1637105904321179-1-2\" x=\"20.93882\" y=\"128.417523\"/>\n</g>\n<g style=\"fill:rgb(0%,0%,0%);fill-opacity:1;\">\n  <use xlink:href=\"#glyph-1637105904321179-1-6\" x=\"3.306343\" y=\"83.40705\"/>\n</g>\n<g style=\"fill:rgb(0%,0%,0%);fill-opacity:1;\">\n  <use xlink:href=\"#glyph-1637105904321179-2-1\" x=\"8.265361\" y=\"83.40705\"/>\n</g>\n<g style=\"fill:rgb(0%,0%,0%);fill-opacity:1;\">\n  <use xlink:href=\"#glyph-1637105904321179-1-2\" x=\"11.020149\" y=\"83.40705\"/>\n  <use xlink:href=\"#glyph-1637105904321179-1-2\" x=\"15.979485\" y=\"83.40705\"/>\n  <use xlink:href=\"#glyph-1637105904321179-1-2\" x=\"20.93882\" y=\"83.40705\"/>\n</g>\n<g style=\"fill:rgb(0%,0%,0%);fill-opacity:1;\">\n  <use xlink:href=\"#glyph-1637105904321179-1-6\" x=\"3.306343\" y=\"39.360304\"/>\n</g>\n<g style=\"fill:rgb(0%,0%,0%);fill-opacity:1;\">\n  <use xlink:href=\"#glyph-1637105904321179-2-1\" x=\"8.265361\" y=\"39.360304\"/>\n</g>\n<g style=\"fill:rgb(0%,0%,0%);fill-opacity:1;\">\n  <use xlink:href=\"#glyph-1637105904321179-1-1\" x=\"11.020149\" y=\"39.360304\"/>\n  <use xlink:href=\"#glyph-1637105904321179-1-2\" x=\"15.979485\" y=\"39.360304\"/>\n  <use xlink:href=\"#glyph-1637105904321179-1-2\" x=\"20.93882\" y=\"39.360304\"/>\n</g>\n<path style=\"fill-rule:nonzero;fill:rgb(75%,75%,75%);fill-opacity:0.5;stroke-width:0.3985;stroke-linecap:butt;stroke-linejoin:miter;stroke:rgb(50%,50%,50%);stroke-opacity:0.5;stroke-miterlimit:10;\" d=\"M 47.551935 -0.0011013 L 52.315144 -0.0011013 L 52.315144 16.5485 L 47.551935 16.5485 Z M 52.315144 -0.0011013 L 57.078353 -0.0011013 L 57.078353 73.530449 L 52.315144 73.530449 Z M 57.078353 -0.0011013 L 61.845486 -0.0011013 L 61.845486 134.494818 L 57.078353 134.494818 Z M 61.845486 -0.0011013 L 66.608695 -0.0011013 L 66.608695 124.144451 L 61.845486 124.144451 Z M 66.608695 -0.0011013 L 71.371904 -0.0011013 L 71.371904 69.72459 L 66.608695 69.72459 Z M 71.371904 -0.0011013 L 76.139037 -0.0011013 L 76.139037 43.358227 L 71.371904 43.358227 Z M 76.139037 -0.0011013 L 80.902246 -0.0011013 L 80.902246 27.609033 L 76.139037 27.609033 Z M 80.902246 -0.0011013 L 85.665455 -0.0011013 L 85.665455 27.871912 L 80.902246 27.871912 Z M 85.665455 -0.0011013 L 90.432587 -0.0011013 L 90.432587 25.48246 L 85.665455 25.48246 Z M 90.432587 -0.0011013 L 95.195797 -0.0011013 L 95.195797 22.916448 L 90.432587 22.916448 Z M 95.195797 -0.0011013 L 99.959006 -0.0011013 L 99.959006 24.862536 L 95.195797 24.862536 Z M 99.959006 -0.0011013 L 104.726138 -0.0011013 L 104.726138 21.943403 L 99.959006 21.943403 Z M 104.726138 -0.0011013 L 109.489348 -0.0011013 L 109.489348 22.916448 L 104.726138 22.916448 Z M 109.489348 -0.0011013 L 114.252557 -0.0011013 L 114.252557 27.428549 L 109.489348 27.428549 Z M 114.252557 -0.0011013 L 119.015766 -0.0011013 L 119.015766 27.34223 L 114.252557 27.34223 Z M 119.015766 -0.0011013 L 123.782899 -0.0011013 L 123.782899 32.474255 L 119.015766 32.474255 Z M 123.782899 -0.0011013 L 128.546108 -0.0011013 L 128.546108 28.491835 L 123.782899 28.491835 Z M 128.546108 -0.0011013 L 133.309317 -0.0011013 L 133.309317 30.791045 L 128.546108 30.791045 Z M 133.309317 -0.0011013 L 138.076449 -0.0011013 L 138.076449 29.378561 L 133.309317 29.378561 Z M 138.076449 -0.0011013 L 142.839659 -0.0011013 L 142.839659 28.668395 L 138.076449 28.668395 Z M 142.839659 -0.0011013 L 147.602868 -0.0011013 L 147.602868 20.526996 L 142.839659 20.526996 Z M 147.602868 -0.0011013 L 152.37 -0.0011013 L 152.37 12.299278 L 147.602868 12.299278 Z M 152.37 -0.0011013 L 157.13321 -0.0011013 L 157.13321 8.84654 L 152.37 8.84654 Z M 157.13321 -0.0011013 L 161.896419 -0.0011013 L 161.896419 3.184834 L 157.13321 3.184834 Z M 157.13321 -0.0011013 \" transform=\"matrix(0.995587,0,0,-0.995587,45.521209,169.268435)\"/>\n<path style=\"fill-rule:nonzero;fill:rgb(50%,75%,75%);fill-opacity:0.5;stroke-width:0.3985;stroke-linecap:butt;stroke-linejoin:miter;stroke:rgb(0%,50%,50%);stroke-opacity:0.5;stroke-miterlimit:10;\" d=\"M -0.00168535 -0.0011013 L 3.313728 -0.0011013 L 3.313728 0.265701 L -0.00168535 0.265701 Z M 3.313728 -0.0011013 L 6.629141 -0.0011013 Z M 6.629141 -0.0011013 L 9.940631 -0.0011013 L 9.940631 0.971943 L 6.629141 0.971943 Z M 9.940631 -0.0011013 L 13.256044 -0.0011013 L 13.256044 1.591867 L 9.940631 1.591867 Z M 13.256044 -0.0011013 L 16.571457 -0.0011013 L 16.571457 3.895 L 13.256044 3.895 Z M 16.571457 -0.0011013 L 19.882947 -0.0011013 L 19.882947 6.990693 L 16.571457 6.990693 Z M 19.882947 -0.0011013 L 23.19836 -0.0011013 L 23.19836 12.209036 L 19.882947 12.209036 Z M 23.19836 -0.0011013 L 26.513774 -0.0011013 L 26.513774 16.105137 L 23.19836 16.105137 Z M 26.513774 -0.0011013 L 29.825263 -0.0011013 L 29.825263 22.033645 L 26.513774 22.033645 Z M 29.825263 -0.0011013 L 33.140677 -0.0011013 L 33.140677 25.48246 L 29.825263 25.48246 Z M 33.140677 -0.0011013 L 36.45609 -0.0011013 L 36.45609 30.881287 L 33.140677 30.881287 Z M 36.45609 -0.0011013 L 39.76758 -0.0011013 L 39.76758 34.153541 L 36.45609 34.153541 Z M 39.76758 -0.0011013 L 43.082993 -0.0011013 L 43.082993 42.471501 L 39.76758 42.471501 Z M 43.082993 -0.0011013 L 46.398406 -0.0011013 L 46.398406 39.552368 L 43.082993 39.552368 Z M 46.398406 -0.0011013 L 49.709896 -0.0011013 L 49.709896 40.439094 L 46.398406 40.439094 Z M 49.709896 -0.0011013 L 53.025309 -0.0011013 L 53.025309 40.348851 L 49.709896 40.348851 Z M 53.025309 -0.0011013 L 56.340722 -0.0011013 L 56.340722 45.657436 L 53.025309 45.657436 Z M 56.340722 -0.0011013 L 59.652212 -0.0011013 L 59.652212 45.480876 L 56.340722 45.480876 Z M 59.652212 -0.0011013 L 62.967625 -0.0011013 L 62.967625 43.358227 L 59.652212 43.358227 Z M 62.967625 -0.0011013 L 66.283039 -0.0011013 L 66.283039 39.728928 L 62.967625 39.728928 Z M 66.283039 -0.0011013 L 69.594528 -0.0011013 L 69.594528 39.81917 L 66.283039 39.81917 Z M 69.594528 -0.0011013 L 72.909942 -0.0011013 L 72.909942 40.968775 L 69.594528 40.968775 Z M 72.909942 -0.0011013 L 76.225355 -0.0011013 L 76.225355 37.782839 L 72.909942 37.782839 Z M 76.225355 -0.0011013 L 79.536845 -0.0011013 L 79.536845 35.307069 L 76.225355 35.307069 Z M 79.536845 -0.0011013 L 82.852258 -0.0011013 L 82.852258 31.50121 L 79.536845 31.50121 Z M 82.852258 -0.0011013 L 86.167671 -0.0011013 L 86.167671 35.040267 L 82.852258 35.040267 Z M 86.167671 -0.0011013 L 89.479161 -0.0011013 L 89.479161 34.243783 L 86.167671 34.243783 Z M 89.479161 -0.0011013 L 92.794574 -0.0011013 L 92.794574 28.491835 L 89.479161 28.491835 Z M 92.794574 -0.0011013 L 96.109988 -0.0011013 L 96.109988 25.396141 L 92.794574 25.396141 Z M 96.109988 -0.0011013 L 99.421477 -0.0011013 L 99.421477 23.889492 L 96.109988 23.889492 Z M 99.421477 -0.0011013 L 102.73689 -0.0011013 L 102.73689 15.571532 L 99.421477 15.571532 Z M 102.73689 -0.0011013 L 106.052304 -0.0011013 L 106.052304 13.448883 L 102.73689 13.448883 Z M 106.052304 -0.0011013 L 109.363793 -0.0011013 L 109.363793 10.796552 L 106.052304 10.796552 Z M 109.363793 -0.0011013 L 112.679207 -0.0011013 L 112.679207 6.280528 L 109.363793 6.280528 Z M 112.679207 -0.0011013 L 115.99462 -0.0011013 L 115.99462 4.07156 L 112.679207 4.07156 Z M 115.99462 -0.0011013 L 119.30611 -0.0011013 L 119.30611 3.628197 L 115.99462 3.628197 Z M 119.30611 -0.0011013 L 122.621523 -0.0011013 L 122.621523 2.478592 L 119.30611 2.478592 Z M 122.621523 -0.0011013 L 125.936936 -0.0011013 L 125.936936 1.505548 L 122.621523 1.505548 Z M 125.936936 -0.0011013 L 129.248426 -0.0011013 L 129.248426 1.062185 L 125.936936 1.062185 Z M 129.248426 -0.0011013 L 132.563839 -0.0011013 L 132.563839 0.795383 L 129.248426 0.795383 Z M 132.563839 -0.0011013 L 135.879253 -0.0011013 L 135.879253 0.35202 L 132.563839 0.35202 Z M 135.879253 -0.0011013 L 139.190742 -0.0011013 L 139.190742 0.0891407 L 135.879253 0.0891407 Z M 139.190742 -0.0011013 L 142.506156 -0.0011013 L 142.506156 0.35202 L 139.190742 0.35202 Z M 142.506156 -0.0011013 L 145.821569 -0.0011013 L 145.821569 0.175459 L 142.506156 0.175459 Z M 145.821569 -0.0011013 L 149.133058 -0.0011013 L 149.133058 0.175459 L 145.821569 0.175459 Z M 145.821569 -0.0011013 \" transform=\"matrix(0.995587,0,0,-0.995587,45.521209,169.268435)\"/>\n<g style=\"fill:rgb(0%,0%,0%);fill-opacity:1;\">\n  <use xlink:href=\"#glyph-1637105904321179-1-7\" x=\"93.737471\" y=\"207.079821\"/>\n  <use xlink:href=\"#glyph-1637105904321179-1-8\" x=\"99.936641\" y=\"207.079821\"/>\n  <use xlink:href=\"#glyph-1637105904321179-1-9\" x=\"104.895977\" y=\"207.079821\"/>\n</g>\n<g style=\"fill:rgb(0%,0%,0%);fill-opacity:1;\">\n  <use xlink:href=\"#glyph-1637105904321179-1-7\" x=\"113.15823\" y=\"207.079821\"/>\n  <use xlink:href=\"#glyph-1637105904321179-1-10\" x=\"119.3574\" y=\"207.079821\"/>\n  <use xlink:href=\"#glyph-1637105904321179-1-11\" x=\"122.112807\" y=\"207.079821\"/>\n</g>\n<g style=\"fill:rgb(0%,0%,0%);fill-opacity:1;\">\n  <use xlink:href=\"#glyph-1637105904321179-1-12\" x=\"127.080078\" y=\"207.079821\"/>\n  <use xlink:href=\"#glyph-1637105904321179-1-13\" x=\"131.487935\" y=\"207.079821\"/>\n  <use xlink:href=\"#glyph-1637105904321179-1-10\" x=\"134.243342\" y=\"207.079821\"/>\n  <use xlink:href=\"#glyph-1637105904321179-1-14\" x=\"136.998749\" y=\"207.079821\"/>\n  <use xlink:href=\"#glyph-1637105904321179-1-8\" x=\"142.509563\" y=\"207.079821\"/>\n</g>\n<g style=\"fill:rgb(0%,0%,0%);fill-opacity:1;\">\n  <use xlink:href=\"#glyph-1637105904321179-1-8\" x=\"147.736703\" y=\"207.079821\"/>\n</g>\n<g style=\"fill:rgb(0%,0%,0%);fill-opacity:1;\">\n  <use xlink:href=\"#glyph-1637105904321179-1-15\" x=\"152.973762\" y=\"207.079821\"/>\n</g>\n<g style=\"fill:rgb(0%,0%,0%);fill-opacity:1;\">\n  <use xlink:href=\"#glyph-1637105904321179-1-16\" x=\"62.163436\" y=\"10.591832\"/>\n  <use xlink:href=\"#glyph-1637105904321179-1-12\" x=\"69.46457\" y=\"10.591832\"/>\n  <use xlink:href=\"#glyph-1637105904321179-1-17\" x=\"73.872428\" y=\"10.591832\"/>\n  <use xlink:href=\"#glyph-1637105904321179-1-18\" x=\"77.784352\" y=\"10.591832\"/>\n  <use xlink:href=\"#glyph-1637105904321179-1-13\" x=\"83.295166\" y=\"10.591832\"/>\n  <use xlink:href=\"#glyph-1637105904321179-1-19\" x=\"86.050573\" y=\"10.591832\"/>\n</g>\n<g style=\"fill:rgb(0%,0%,0%);fill-opacity:1;\">\n  <use xlink:href=\"#glyph-1637105904321179-1-8\" x=\"93.210862\" y=\"10.591832\"/>\n  <use xlink:href=\"#glyph-1637105904321179-1-20\" x=\"98.170197\" y=\"10.591832\"/>\n</g>\n<g style=\"fill:rgb(0%,0%,0%);fill-opacity:1;\">\n  <use xlink:href=\"#glyph-1637105904321179-1-21\" x=\"104.504261\" y=\"10.591832\"/>\n  <use xlink:href=\"#glyph-1637105904321179-1-10\" x=\"112.76949\" y=\"10.591832\"/>\n  <use xlink:href=\"#glyph-1637105904321179-1-22\" x=\"115.524897\" y=\"10.591832\"/>\n  <use xlink:href=\"#glyph-1637105904321179-1-10\" x=\"121.035711\" y=\"10.591832\"/>\n  <use xlink:href=\"#glyph-1637105904321179-1-21\" x=\"123.791118\" y=\"10.591832\"/>\n  <use xlink:href=\"#glyph-1637105904321179-1-10\" x=\"132.056347\" y=\"10.591832\"/>\n  <use xlink:href=\"#glyph-1637105904321179-1-23\" x=\"134.811754\" y=\"10.591832\"/>\n  <use xlink:href=\"#glyph-1637105904321179-1-10\" x=\"139.219611\" y=\"10.591832\"/>\n  <use xlink:href=\"#glyph-1637105904321179-1-22\" x=\"141.975018\" y=\"10.591832\"/>\n  <use xlink:href=\"#glyph-1637105904321179-1-9\" x=\"147.485832\" y=\"10.591832\"/>\n</g>\n<g style=\"fill:rgb(0%,0%,0%);fill-opacity:1;\">\n  <use xlink:href=\"#glyph-1637105904321179-1-24\" x=\"155.748086\" y=\"10.591832\"/>\n  <use xlink:href=\"#glyph-1637105904321179-1-25\" x=\"160.155943\" y=\"10.591832\"/>\n  <use xlink:href=\"#glyph-1637105904321179-1-8\" x=\"164.041087\" y=\"10.591832\"/>\n  <use xlink:href=\"#glyph-1637105904321179-1-17\" x=\"169.000423\" y=\"10.591832\"/>\n</g>\n<g style=\"fill:rgb(0%,0%,0%);fill-opacity:1;\">\n  <use xlink:href=\"#glyph-1637105904321179-1-17\" x=\"172.922265\" y=\"10.591832\"/>\n  <use xlink:href=\"#glyph-1637105904321179-1-10\" x=\"176.83419\" y=\"10.591832\"/>\n  <use xlink:href=\"#glyph-1637105904321179-1-22\" x=\"179.589596\" y=\"10.591832\"/>\n  <use xlink:href=\"#glyph-1637105904321179-1-9\" x=\"185.10041\" y=\"10.591832\"/>\n</g>\n</g>\n</svg>\n\n",
      "text/plain": [
       "Axis(PGFPlots.Plots.Plot[PGFPlots.Plots.Histogram(Real[-24.38069926599259, -43.91619250576089, 55.133680975889, 10.756095044119448, -30.513852810710077, -99.97945822964692, -105.03770492551645, -43.76621523816887, -147.89643932609542, -133.6506712078403  …  -302.53318336965964, -295.0992584034203, -294.94581717283467, -300.68076897982723, -296.2301649502997, -305.6185814449168, -296.15323735838774, -305.29843192349017, -293.5846061570934, -274.813112718567], 10, false, false, \"gray, fill=gray!50, opacity = 0.5\", :default, nothing), PGFPlots.Plots.Histogram(Real[-355.5740912284306, -150.7458585038117, -145.9826161465329, -409.2308183867852, -167.55112717722997, -383.699342138273, -284.25938457992805, -189.147325053747, -199.04880846366802, -260.37682637293597  …  -361.9347679015716, -230.6784359742013, -148.9133781506681, -384.4278433094403, -137.92095835348442, -373.7852673315784, -355.5163072340805, -326.6803368304682, -298.43950363185866, -132.76534035027316], 10, false, false, \"teal, fill=teal!50, opacity = 0.5\", :default, nothing)], \"Result of minimizing crossing\", \"Log Likelihood\", nothing, nothing, nothing, nothing, nothing, nothing, nothing, nothing, nothing, nothing, nothing, nothing, nothing, nothing, nothing, nothing, nothing, nothing, nothing, nothing, nothing, nothing, nothing, nothing, nothing, \"axis\")"
      ]
     },
     "execution_count": 173,
     "metadata": {},
     "output_type": "execute_result"
    }
   ],
   "source": [
    "ll_in = logpdf(npn.flow, z_in)\n",
    "ll_out = logpdf(npn.flow, z_out)\n",
    "\n",
    "ax = Axis()\n",
    "push!(ax, Plots.Histogram(ll_in, style = \"gray, fill=gray!50, opacity = 0.5\"))\n",
    "push!(ax, Plots.Histogram(ll_out, style = \"teal, fill=teal!50, opacity = 0.5\"))\n",
    "ax.xlabel = \"Log Likelihood\"\n",
    "ax.title = \"Result of minimizing crossing\"\n",
    "ax"
   ]
  },
  {
   "cell_type": "code",
   "execution_count": 174,
   "metadata": {},
   "outputs": [
    {
     "data": {
      "image/svg+xml": "<?xml version=\"1.0\" encoding=\"UTF-8\"?>\n<svg xmlns=\"http://www.w3.org/2000/svg\" xmlns:xlink=\"http://www.w3.org/1999/xlink\" width=\"224.006pt\" height=\"212.855pt\" viewBox=\"0 0 224.006 212.855\" version=\"1.2\">\n<defs>\n<g>\n<symbol overflow=\"visible\" id=\"glyph-1637105904321180-0-0\">\n<path style=\"stroke:none;\" d=\"\"/>\n</symbol>\n<symbol overflow=\"visible\" id=\"glyph-1637105904321180-0-1\">\n<path style=\"stroke:none;\" d=\"M 6.53125 -2.28125 C 6.703125 -2.28125 6.890625 -2.28125 6.890625 -2.484375 C 6.890625 -2.671875 6.703125 -2.671875 6.53125 -2.671875 L 1.171875 -2.671875 C 1 -2.671875 0.828125 -2.671875 0.828125 -2.484375 C 0.828125 -2.28125 1 -2.28125 1.171875 -2.28125 Z M 6.53125 -2.28125 \"/>\n</symbol>\n<symbol overflow=\"visible\" id=\"glyph-1637105904321180-1-0\">\n<path style=\"stroke:none;\" d=\"\"/>\n</symbol>\n<symbol overflow=\"visible\" id=\"glyph-1637105904321180-1-1\">\n<path style=\"stroke:none;\" d=\"M 2.875 -3.5 C 3.6875 -3.765625 4.265625 -4.453125 4.265625 -5.234375 C 4.265625 -6.046875 3.390625 -6.609375 2.4375 -6.609375 C 1.4375 -6.609375 0.6875 -6.015625 0.6875 -5.265625 C 0.6875 -4.9375 0.90625 -4.75 1.1875 -4.75 C 1.5 -4.75 1.703125 -4.953125 1.703125 -5.25 C 1.703125 -5.75 1.234375 -5.75 1.078125 -5.75 C 1.390625 -6.234375 2.046875 -6.359375 2.40625 -6.359375 C 2.8125 -6.359375 3.359375 -6.140625 3.359375 -5.25 C 3.359375 -5.125 3.328125 -4.546875 3.078125 -4.125 C 2.78125 -3.640625 2.4375 -3.609375 2.1875 -3.609375 C 2.109375 -3.59375 1.875 -3.578125 1.8125 -3.578125 C 1.71875 -3.5625 1.65625 -3.546875 1.65625 -3.453125 C 1.65625 -3.34375 1.71875 -3.34375 1.890625 -3.34375 L 2.328125 -3.34375 C 3.140625 -3.34375 3.515625 -2.671875 3.515625 -1.703125 C 3.515625 -0.34375 2.828125 -0.0625 2.390625 -0.0625 C 1.96875 -0.0625 1.21875 -0.234375 0.875 -0.8125 C 1.21875 -0.765625 1.53125 -0.984375 1.53125 -1.359375 C 1.53125 -1.71875 1.265625 -1.921875 0.96875 -1.921875 C 0.734375 -1.921875 0.421875 -1.78125 0.421875 -1.34375 C 0.421875 -0.4375 1.34375 0.21875 2.421875 0.21875 C 3.625 0.21875 4.53125 -0.6875 4.53125 -1.703125 C 4.53125 -2.515625 3.90625 -3.28125 2.875 -3.5 Z M 2.875 -3.5 \"/>\n</symbol>\n<symbol overflow=\"visible\" id=\"glyph-1637105904321180-1-2\">\n<path style=\"stroke:none;\" d=\"M 4.5625 -3.171875 C 4.5625 -3.96875 4.515625 -4.765625 4.171875 -5.5 C 3.703125 -6.453125 2.890625 -6.609375 2.484375 -6.609375 C 1.890625 -6.609375 1.15625 -6.34375 0.75 -5.421875 C 0.4375 -4.75 0.390625 -3.96875 0.390625 -3.171875 C 0.390625 -2.4375 0.421875 -1.53125 0.828125 -0.78125 C 1.265625 0.015625 1.984375 0.21875 2.46875 0.21875 C 3 0.21875 3.765625 0.015625 4.203125 -0.9375 C 4.515625 -1.625 4.5625 -2.390625 4.5625 -3.171875 Z M 2.46875 0 C 2.078125 0 1.5 -0.25 1.3125 -1.203125 C 1.203125 -1.796875 1.203125 -2.703125 1.203125 -3.296875 C 1.203125 -3.921875 1.203125 -4.578125 1.296875 -5.125 C 1.484375 -6.296875 2.21875 -6.390625 2.46875 -6.390625 C 2.796875 -6.390625 3.453125 -6.21875 3.640625 -5.234375 C 3.734375 -4.671875 3.734375 -3.921875 3.734375 -3.296875 C 3.734375 -2.546875 3.734375 -1.875 3.625 -1.234375 C 3.484375 -0.296875 2.921875 0 2.46875 0 Z M 2.46875 0 \"/>\n</symbol>\n<symbol overflow=\"visible\" id=\"glyph-1637105904321180-1-3\">\n<path style=\"stroke:none;\" d=\"M 1.265625 -0.765625 L 2.3125 -1.78125 C 3.859375 -3.15625 4.453125 -3.6875 4.453125 -4.6875 C 4.453125 -5.8125 3.5625 -6.609375 2.34375 -6.609375 C 1.234375 -6.609375 0.5 -5.6875 0.5 -4.8125 C 0.5 -4.25 0.984375 -4.25 1.015625 -4.25 C 1.1875 -4.25 1.53125 -4.375 1.53125 -4.78125 C 1.53125 -5.046875 1.359375 -5.296875 1.015625 -5.296875 C 0.9375 -5.296875 0.90625 -5.296875 0.890625 -5.28125 C 1.109375 -5.9375 1.640625 -6.296875 2.21875 -6.296875 C 3.125 -6.296875 3.546875 -5.5 3.546875 -4.6875 C 3.546875 -3.890625 3.0625 -3.109375 2.515625 -2.484375 L 0.609375 -0.359375 C 0.5 -0.265625 0.5 -0.234375 0.5 0 L 4.171875 0 L 4.453125 -1.71875 L 4.203125 -1.71875 C 4.15625 -1.421875 4.09375 -0.984375 3.984375 -0.84375 C 3.921875 -0.765625 3.265625 -0.765625 3.046875 -0.765625 Z M 1.265625 -0.765625 \"/>\n</symbol>\n<symbol overflow=\"visible\" id=\"glyph-1637105904321180-1-4\">\n<path style=\"stroke:none;\" d=\"M 2.921875 -6.34375 C 2.921875 -6.59375 2.921875 -6.609375 2.6875 -6.609375 C 2.078125 -5.96875 1.203125 -5.96875 0.890625 -5.96875 L 0.890625 -5.671875 C 1.078125 -5.671875 1.671875 -5.671875 2.1875 -5.921875 L 2.1875 -0.78125 C 2.1875 -0.421875 2.15625 -0.3125 1.265625 -0.3125 L 0.9375 -0.3125 L 0.9375 0 C 1.296875 -0.03125 2.15625 -0.03125 2.546875 -0.03125 C 2.953125 -0.03125 3.8125 -0.03125 4.15625 0 L 4.15625 -0.3125 L 3.84375 -0.3125 C 2.953125 -0.3125 2.921875 -0.421875 2.921875 -0.78125 Z M 2.921875 -6.34375 \"/>\n</symbol>\n<symbol overflow=\"visible\" id=\"glyph-1637105904321180-1-5\">\n<path style=\"stroke:none;\" d=\"M 4.453125 -2 C 4.453125 -3.171875 3.640625 -4.171875 2.5625 -4.171875 C 2.09375 -4.171875 1.671875 -4.015625 1.3125 -3.65625 L 1.3125 -5.59375 C 1.515625 -5.53125 1.828125 -5.46875 2.15625 -5.46875 C 3.375 -5.46875 4.0625 -6.375 4.0625 -6.5 C 4.0625 -6.5625 4.03125 -6.609375 3.96875 -6.609375 C 3.953125 -6.609375 3.9375 -6.609375 3.890625 -6.578125 C 3.6875 -6.484375 3.203125 -6.296875 2.546875 -6.296875 C 2.140625 -6.296875 1.6875 -6.359375 1.21875 -6.5625 C 1.140625 -6.59375 1.125 -6.59375 1.09375 -6.59375 C 1 -6.59375 1 -6.515625 1 -6.359375 L 1 -3.421875 C 1 -3.25 1 -3.171875 1.140625 -3.171875 C 1.203125 -3.171875 1.234375 -3.1875 1.265625 -3.25 C 1.375 -3.40625 1.75 -3.953125 2.546875 -3.953125 C 3.0625 -3.953125 3.3125 -3.5 3.390625 -3.3125 C 3.546875 -2.953125 3.578125 -2.5625 3.578125 -2.0625 C 3.578125 -1.71875 3.578125 -1.125 3.328125 -0.703125 C 3.09375 -0.3125 2.734375 -0.0625 2.265625 -0.0625 C 1.546875 -0.0625 0.984375 -0.578125 0.8125 -1.171875 C 0.84375 -1.15625 0.875 -1.15625 0.984375 -1.15625 C 1.3125 -1.15625 1.484375 -1.40625 1.484375 -1.640625 C 1.484375 -1.875 1.3125 -2.125 0.984375 -2.125 C 0.84375 -2.125 0.5 -2.046875 0.5 -1.59375 C 0.5 -0.75 1.1875 0.21875 2.296875 0.21875 C 3.4375 0.21875 4.453125 -0.734375 4.453125 -2 Z M 4.453125 -2 \"/>\n</symbol>\n<symbol overflow=\"visible\" id=\"glyph-1637105904321180-1-6\">\n<path style=\"stroke:none;\" d=\"M 5.78125 -2.5625 L 5.53125 -2.5625 C 5.421875 -1.546875 5.28125 -0.3125 3.53125 -0.3125 L 2.71875 -0.3125 C 2.25 -0.3125 2.234375 -0.375 2.234375 -0.703125 L 2.234375 -6 C 2.234375 -6.328125 2.234375 -6.46875 3.171875 -6.46875 L 3.5 -6.46875 L 3.5 -6.78125 C 3.140625 -6.75 2.25 -6.75 1.828125 -6.75 C 1.453125 -6.75 0.671875 -6.75 0.328125 -6.78125 L 0.328125 -6.46875 L 0.5625 -6.46875 C 1.328125 -6.46875 1.34375 -6.359375 1.34375 -6 L 1.34375 -0.78125 C 1.34375 -0.421875 1.328125 -0.3125 0.5625 -0.3125 L 0.328125 -0.3125 L 0.328125 0 L 5.5 0 Z M 5.78125 -2.5625 \"/>\n</symbol>\n<symbol overflow=\"visible\" id=\"glyph-1637105904321180-1-7\">\n<path style=\"stroke:none;\" d=\"M 4.671875 -2.125 C 4.671875 -3.390625 3.6875 -4.4375 2.484375 -4.4375 C 1.234375 -4.4375 0.28125 -3.359375 0.28125 -2.125 C 0.28125 -0.84375 1.3125 0.109375 2.46875 0.109375 C 3.671875 0.109375 4.671875 -0.859375 4.671875 -2.125 Z M 2.484375 -0.140625 C 2.046875 -0.140625 1.625 -0.34375 1.34375 -0.796875 C 1.09375 -1.234375 1.09375 -1.84375 1.09375 -2.203125 C 1.09375 -2.59375 1.09375 -3.125 1.34375 -3.5625 C 1.609375 -4.015625 2.078125 -4.234375 2.46875 -4.234375 C 2.90625 -4.234375 3.328125 -4.015625 3.59375 -3.578125 C 3.84375 -3.15625 3.84375 -2.578125 3.84375 -2.203125 C 3.84375 -1.84375 3.84375 -1.3125 3.625 -0.875 C 3.40625 -0.421875 2.96875 -0.140625 2.484375 -0.140625 Z M 2.484375 -0.140625 \"/>\n</symbol>\n<symbol overflow=\"visible\" id=\"glyph-1637105904321180-1-8\">\n<path style=\"stroke:none;\" d=\"M 2.203125 -1.703125 C 1.34375 -1.703125 1.34375 -2.703125 1.34375 -2.921875 C 1.34375 -3.1875 1.34375 -3.515625 1.5 -3.765625 C 1.578125 -3.875 1.8125 -4.15625 2.203125 -4.15625 C 3.0625 -4.15625 3.0625 -3.171875 3.0625 -2.9375 C 3.0625 -2.671875 3.0625 -2.34375 2.90625 -2.109375 C 2.828125 -1.984375 2.59375 -1.703125 2.203125 -1.703125 Z M 1.046875 -1.3125 C 1.046875 -1.359375 1.046875 -1.59375 1.21875 -1.78125 C 1.609375 -1.515625 2.015625 -1.484375 2.203125 -1.484375 C 3.125 -1.484375 3.8125 -2.15625 3.8125 -2.921875 C 3.8125 -3.296875 3.65625 -3.65625 3.40625 -3.890625 C 3.765625 -4.234375 4.125 -4.28125 4.296875 -4.28125 C 4.3125 -4.28125 4.359375 -4.28125 4.390625 -4.265625 C 4.28125 -4.234375 4.234375 -4.125 4.234375 -4 C 4.234375 -3.828125 4.359375 -3.703125 4.53125 -3.703125 C 4.625 -3.703125 4.8125 -3.78125 4.8125 -4.015625 C 4.8125 -4.171875 4.6875 -4.5 4.3125 -4.5 C 4.109375 -4.5 3.671875 -4.4375 3.25 -4.03125 C 2.84375 -4.359375 2.421875 -4.390625 2.203125 -4.390625 C 1.28125 -4.390625 0.59375 -3.703125 0.59375 -2.9375 C 0.59375 -2.5 0.8125 -2.125 1.0625 -1.921875 C 0.9375 -1.765625 0.75 -1.4375 0.75 -1.09375 C 0.75 -0.78125 0.890625 -0.40625 1.1875 -0.203125 C 0.59375 -0.046875 0.28125 0.390625 0.28125 0.78125 C 0.28125 1.5 1.265625 2.046875 2.46875 2.046875 C 3.640625 2.046875 4.671875 1.53125 4.671875 0.765625 C 4.671875 0.421875 4.53125 -0.09375 4.03125 -0.359375 C 3.5 -0.640625 2.921875 -0.640625 2.328125 -0.640625 C 2.078125 -0.640625 1.640625 -0.640625 1.578125 -0.65625 C 1.265625 -0.6875 1.046875 -1 1.046875 -1.3125 Z M 2.484375 1.8125 C 1.484375 1.8125 0.796875 1.3125 0.796875 0.78125 C 0.796875 0.328125 1.171875 -0.046875 1.609375 -0.0625 L 2.1875 -0.0625 C 3.046875 -0.0625 4.15625 -0.0625 4.15625 0.78125 C 4.15625 1.3125 3.453125 1.8125 2.484375 1.8125 Z M 2.484375 1.8125 \"/>\n</symbol>\n<symbol overflow=\"visible\" id=\"glyph-1637105904321180-1-9\">\n<path style=\"stroke:none;\" d=\"M 1.75 -4.390625 L 0.359375 -4.28125 L 0.359375 -3.96875 C 1.015625 -3.96875 1.09375 -3.90625 1.09375 -3.421875 L 1.09375 -0.75 C 1.09375 -0.3125 0.984375 -0.3125 0.328125 -0.3125 L 0.328125 0 C 0.640625 -0.015625 1.1875 -0.03125 1.421875 -0.03125 C 1.765625 -0.03125 2.109375 -0.015625 2.453125 0 L 2.453125 -0.3125 C 1.796875 -0.3125 1.75 -0.359375 1.75 -0.75 Z M 1.796875 -6.109375 C 1.796875 -6.421875 1.546875 -6.640625 1.265625 -6.640625 C 0.96875 -6.640625 0.75 -6.375 0.75 -6.109375 C 0.75 -5.84375 0.96875 -5.59375 1.265625 -5.59375 C 1.546875 -5.59375 1.796875 -5.796875 1.796875 -6.109375 Z M 1.796875 -6.109375 \"/>\n</symbol>\n<symbol overflow=\"visible\" id=\"glyph-1637105904321180-1-10\">\n<path style=\"stroke:none;\" d=\"M 1.046875 -0.75 C 1.046875 -0.3125 0.9375 -0.3125 0.28125 -0.3125 L 0.28125 0 C 0.609375 -0.015625 1.078125 -0.03125 1.359375 -0.03125 C 1.65625 -0.03125 2.046875 -0.015625 2.453125 0 L 2.453125 -0.3125 C 1.78125 -0.3125 1.671875 -0.3125 1.671875 -0.75 L 1.671875 -1.78125 L 2.3125 -2.328125 C 3.078125 -1.265625 3.5 -0.71875 3.5 -0.53125 C 3.5 -0.34375 3.328125 -0.3125 3.140625 -0.3125 L 3.140625 0 C 3.40625 -0.015625 4 -0.03125 4.203125 -0.03125 C 4.5 -0.03125 4.78125 -0.015625 5.0625 0 L 5.0625 -0.3125 C 4.703125 -0.3125 4.484375 -0.3125 4.109375 -0.828125 L 2.84375 -2.609375 C 2.84375 -2.625 2.78125 -2.6875 2.78125 -2.71875 C 2.78125 -2.765625 3.5 -3.359375 3.59375 -3.4375 C 4.21875 -3.9375 4.640625 -3.953125 4.84375 -3.96875 L 4.84375 -4.28125 C 4.546875 -4.25 4.421875 -4.25 4.140625 -4.25 C 3.796875 -4.25 3.171875 -4.265625 3.03125 -4.28125 L 3.03125 -3.96875 C 3.21875 -3.953125 3.328125 -3.84375 3.328125 -3.71875 C 3.328125 -3.515625 3.1875 -3.40625 3.109375 -3.328125 L 1.703125 -2.125 L 1.703125 -6.890625 L 0.28125 -6.78125 L 0.28125 -6.46875 C 0.96875 -6.46875 1.046875 -6.40625 1.046875 -5.90625 Z M 1.046875 -0.75 \"/>\n</symbol>\n<symbol overflow=\"visible\" id=\"glyph-1637105904321180-1-11\">\n<path style=\"stroke:none;\" d=\"M 1.109375 -2.5 C 1.171875 -3.984375 2 -4.234375 2.34375 -4.234375 C 3.359375 -4.234375 3.46875 -2.890625 3.46875 -2.5 Z M 1.09375 -2.296875 L 3.875 -2.296875 C 4.09375 -2.296875 4.125 -2.296875 4.125 -2.5 C 4.125 -3.484375 3.578125 -4.4375 2.34375 -4.4375 C 1.1875 -4.4375 0.28125 -3.421875 0.28125 -2.1875 C 0.28125 -0.859375 1.3125 0.109375 2.453125 0.109375 C 3.671875 0.109375 4.125 -0.984375 4.125 -1.1875 C 4.125 -1.28125 4.03125 -1.296875 3.984375 -1.296875 C 3.90625 -1.296875 3.875 -1.234375 3.859375 -1.15625 C 3.515625 -0.140625 2.625 -0.140625 2.515625 -0.140625 C 2.03125 -0.140625 1.625 -0.4375 1.40625 -0.796875 C 1.09375 -1.28125 1.09375 -1.9375 1.09375 -2.296875 Z M 1.09375 -2.296875 \"/>\n</symbol>\n<symbol overflow=\"visible\" id=\"glyph-1637105904321180-1-12\">\n<path style=\"stroke:none;\" d=\"M 1.75 -6.890625 L 0.328125 -6.78125 L 0.328125 -6.46875 C 1.015625 -6.46875 1.09375 -6.40625 1.09375 -5.90625 L 1.09375 -0.75 C 1.09375 -0.3125 0.984375 -0.3125 0.328125 -0.3125 L 0.328125 0 C 0.65625 -0.015625 1.1875 -0.03125 1.421875 -0.03125 C 1.671875 -0.03125 2.15625 -0.015625 2.53125 0 L 2.53125 -0.3125 C 1.859375 -0.3125 1.75 -0.3125 1.75 -0.75 Z M 1.75 -6.890625 \"/>\n</symbol>\n<symbol overflow=\"visible\" id=\"glyph-1637105904321180-1-13\">\n<path style=\"stroke:none;\" d=\"M 1.09375 -0.75 C 1.09375 -0.3125 0.984375 -0.3125 0.3125 -0.3125 L 0.3125 0 C 0.671875 -0.015625 1.171875 -0.03125 1.4375 -0.03125 C 1.703125 -0.03125 2.21875 -0.015625 2.546875 0 L 2.546875 -0.3125 C 1.890625 -0.3125 1.78125 -0.3125 1.78125 -0.75 L 1.78125 -2.578125 C 1.78125 -3.609375 2.484375 -4.171875 3.109375 -4.171875 C 3.734375 -4.171875 3.84375 -3.625 3.84375 -3.0625 L 3.84375 -0.75 C 3.84375 -0.3125 3.734375 -0.3125 3.078125 -0.3125 L 3.078125 0 C 3.421875 -0.015625 3.921875 -0.03125 4.203125 -0.03125 C 4.453125 -0.03125 4.96875 -0.015625 5.3125 0 L 5.3125 -0.3125 C 4.796875 -0.3125 4.546875 -0.3125 4.53125 -0.609375 L 4.53125 -2.5 C 4.53125 -3.359375 4.53125 -3.65625 4.234375 -4.015625 C 4.09375 -4.1875 3.765625 -4.390625 3.1875 -4.390625 C 2.34375 -4.390625 1.921875 -3.796875 1.75 -3.40625 L 1.75 -6.890625 L 0.3125 -6.78125 L 0.3125 -6.46875 C 1.015625 -6.46875 1.09375 -6.40625 1.09375 -5.90625 Z M 1.09375 -0.75 \"/>\n</symbol>\n<symbol overflow=\"visible\" id=\"glyph-1637105904321180-1-14\">\n<path style=\"stroke:none;\" d=\"M 3.765625 -0.546875 L 3.765625 0.109375 L 5.234375 0 L 5.234375 -0.3125 C 4.53125 -0.3125 4.453125 -0.375 4.453125 -0.859375 L 4.453125 -6.890625 L 3.03125 -6.78125 L 3.03125 -6.46875 C 3.71875 -6.46875 3.796875 -6.40625 3.796875 -5.90625 L 3.796875 -3.765625 C 3.515625 -4.125 3.078125 -4.390625 2.546875 -4.390625 C 1.375 -4.390625 0.34375 -3.40625 0.34375 -2.140625 C 0.34375 -0.875 1.3125 0.109375 2.4375 0.109375 C 3.078125 0.109375 3.515625 -0.234375 3.765625 -0.546875 Z M 3.765625 -3.203125 L 3.765625 -1.171875 C 3.765625 -0.984375 3.765625 -0.96875 3.65625 -0.796875 C 3.359375 -0.328125 2.921875 -0.109375 2.484375 -0.109375 C 2.046875 -0.109375 1.6875 -0.359375 1.453125 -0.75 C 1.1875 -1.15625 1.15625 -1.71875 1.15625 -2.125 C 1.15625 -2.484375 1.1875 -3.078125 1.46875 -3.53125 C 1.671875 -3.84375 2.046875 -4.171875 2.59375 -4.171875 C 2.9375 -4.171875 3.359375 -4.015625 3.65625 -3.578125 C 3.765625 -3.40625 3.765625 -3.390625 3.765625 -3.203125 Z M 3.765625 -3.203125 \"/>\n</symbol>\n<symbol overflow=\"visible\" id=\"glyph-1637105904321180-1-15\">\n<path style=\"stroke:none;\" d=\"M 2.21875 -3.5 L 2.21875 -6.078125 C 2.21875 -6.296875 2.21875 -6.421875 2.4375 -6.453125 C 2.546875 -6.46875 2.828125 -6.46875 3.03125 -6.46875 C 3.921875 -6.46875 5.03125 -6.421875 5.03125 -4.984375 C 5.03125 -4.3125 4.796875 -3.5 3.328125 -3.5 Z M 4.3125 -3.375 C 5.28125 -3.609375 6.046875 -4.21875 6.046875 -4.984375 C 6.046875 -5.9375 4.921875 -6.78125 3.46875 -6.78125 L 0.34375 -6.78125 L 0.34375 -6.46875 L 0.578125 -6.46875 C 1.34375 -6.46875 1.375 -6.359375 1.375 -6 L 1.375 -0.78125 C 1.375 -0.421875 1.34375 -0.3125 0.578125 -0.3125 L 0.34375 -0.3125 L 0.34375 0 C 0.703125 -0.03125 1.40625 -0.03125 1.796875 -0.03125 C 2.1875 -0.03125 2.890625 -0.03125 3.25 0 L 3.25 -0.3125 L 3 -0.3125 C 2.25 -0.3125 2.21875 -0.421875 2.21875 -0.78125 L 2.21875 -3.28125 L 3.359375 -3.28125 C 3.515625 -3.28125 3.9375 -3.28125 4.28125 -2.953125 C 4.65625 -2.59375 4.65625 -2.28125 4.65625 -1.625 C 4.65625 -0.96875 4.65625 -0.578125 5.0625 -0.203125 C 5.484375 0.15625 6.015625 0.21875 6.3125 0.21875 C 7.09375 0.21875 7.265625 -0.59375 7.265625 -0.875 C 7.265625 -0.9375 7.265625 -1.046875 7.140625 -1.046875 C 7.03125 -1.046875 7.03125 -0.953125 7.015625 -0.890625 C 6.953125 -0.171875 6.609375 0 6.359375 0 C 5.875 0 5.796875 -0.5 5.65625 -1.421875 L 5.53125 -2.21875 C 5.34375 -2.859375 4.859375 -3.1875 4.3125 -3.375 Z M 4.3125 -3.375 \"/>\n</symbol>\n<symbol overflow=\"visible\" id=\"glyph-1637105904321180-1-16\">\n<path style=\"stroke:none;\" d=\"M 2.0625 -1.921875 C 2.28125 -1.890625 3.09375 -1.71875 3.09375 -1.015625 C 3.09375 -0.5 2.75 -0.109375 1.96875 -0.109375 C 1.140625 -0.109375 0.78125 -0.671875 0.59375 -1.515625 C 0.5625 -1.640625 0.5625 -1.6875 0.453125 -1.6875 C 0.328125 -1.6875 0.328125 -1.625 0.328125 -1.4375 L 0.328125 -0.125 C 0.328125 0.046875 0.328125 0.109375 0.4375 0.109375 C 0.484375 0.109375 0.5 0.09375 0.6875 -0.09375 C 0.703125 -0.109375 0.703125 -0.125 0.890625 -0.3125 C 1.3125 0.09375 1.765625 0.109375 1.96875 0.109375 C 3.109375 0.109375 3.578125 -0.5625 3.578125 -1.265625 C 3.578125 -1.796875 3.28125 -2.09375 3.15625 -2.21875 C 2.828125 -2.53125 2.4375 -2.609375 2.03125 -2.6875 C 1.46875 -2.796875 0.796875 -2.921875 0.796875 -3.5 C 0.796875 -3.84375 1.0625 -4.25 1.921875 -4.25 C 3 -4.25 3.0625 -3.359375 3.078125 -3.0625 C 3.078125 -2.96875 3.171875 -2.96875 3.1875 -2.96875 C 3.328125 -2.96875 3.328125 -3.015625 3.328125 -3.203125 L 3.328125 -4.203125 C 3.328125 -4.375 3.328125 -4.4375 3.21875 -4.4375 C 3.171875 -4.4375 3.140625 -4.4375 3.015625 -4.328125 C 2.984375 -4.28125 2.890625 -4.203125 2.84375 -4.171875 C 2.46875 -4.4375 2.0625 -4.4375 1.921875 -4.4375 C 0.703125 -4.4375 0.328125 -3.78125 0.328125 -3.21875 C 0.328125 -2.875 0.484375 -2.59375 0.75 -2.375 C 1.078125 -2.125 1.34375 -2.0625 2.0625 -1.921875 Z M 2.0625 -1.921875 \"/>\n</symbol>\n<symbol overflow=\"visible\" id=\"glyph-1637105904321180-1-17\">\n<path style=\"stroke:none;\" d=\"M 3.875 -0.78125 L 3.875 0.109375 L 5.3125 0 L 5.3125 -0.3125 C 4.609375 -0.3125 4.53125 -0.375 4.53125 -0.859375 L 4.53125 -4.390625 L 3.078125 -4.28125 L 3.078125 -3.96875 C 3.765625 -3.96875 3.84375 -3.90625 3.84375 -3.40625 L 3.84375 -1.640625 C 3.84375 -0.78125 3.375 -0.109375 2.65625 -0.109375 C 1.8125 -0.109375 1.78125 -0.578125 1.78125 -1.09375 L 1.78125 -4.390625 L 0.3125 -4.28125 L 0.3125 -3.96875 C 1.09375 -3.96875 1.09375 -3.9375 1.09375 -3.0625 L 1.09375 -1.5625 C 1.09375 -0.796875 1.09375 0.109375 2.59375 0.109375 C 3.15625 0.109375 3.59375 -0.171875 3.875 -0.78125 Z M 3.875 -0.78125 \"/>\n</symbol>\n<symbol overflow=\"visible\" id=\"glyph-1637105904321180-1-18\">\n<path style=\"stroke:none;\" d=\"M 1.71875 -3.96875 L 3.140625 -3.96875 L 3.140625 -4.28125 L 1.71875 -4.28125 L 1.71875 -6.109375 L 1.46875 -6.109375 C 1.453125 -5.28125 1.15625 -4.234375 0.1875 -4.1875 L 0.1875 -3.96875 L 1.03125 -3.96875 L 1.03125 -1.234375 C 1.03125 -0.015625 1.953125 0.109375 2.3125 0.109375 C 3.015625 0.109375 3.296875 -0.59375 3.296875 -1.234375 L 3.296875 -1.796875 L 3.046875 -1.796875 L 3.046875 -1.25 C 3.046875 -0.515625 2.75 -0.140625 2.375 -0.140625 C 1.71875 -0.140625 1.71875 -1.046875 1.71875 -1.203125 Z M 1.71875 -3.96875 \"/>\n</symbol>\n<symbol overflow=\"visible\" id=\"glyph-1637105904321180-1-19\">\n<path style=\"stroke:none;\" d=\"M 1.734375 -4.28125 L 1.734375 -5.421875 C 1.734375 -6.296875 2.21875 -6.78125 2.65625 -6.78125 C 2.671875 -6.78125 2.828125 -6.78125 2.96875 -6.703125 C 2.859375 -6.671875 2.671875 -6.53125 2.671875 -6.296875 C 2.671875 -6.0625 2.84375 -5.859375 3.109375 -5.859375 C 3.390625 -5.859375 3.546875 -6.0625 3.546875 -6.296875 C 3.546875 -6.671875 3.171875 -7 2.65625 -7 C 1.953125 -7 1.109375 -6.46875 1.109375 -5.421875 L 1.109375 -4.28125 L 0.328125 -4.28125 L 0.328125 -3.96875 L 1.109375 -3.96875 L 1.109375 -0.75 C 1.109375 -0.3125 1 -0.3125 0.34375 -0.3125 L 0.34375 0 C 0.71875 -0.015625 1.1875 -0.03125 1.46875 -0.03125 C 1.859375 -0.03125 2.328125 -0.03125 2.734375 0 L 2.734375 -0.3125 L 2.515625 -0.3125 C 1.78125 -0.3125 1.765625 -0.421875 1.765625 -0.78125 L 1.765625 -3.96875 L 2.890625 -3.96875 L 2.890625 -4.28125 Z M 1.734375 -4.28125 \"/>\n</symbol>\n<symbol overflow=\"visible\" id=\"glyph-1637105904321180-1-20\">\n<path style=\"stroke:none;\" d=\"M 1.09375 -3.40625 L 1.09375 -0.75 C 1.09375 -0.3125 0.984375 -0.3125 0.3125 -0.3125 L 0.3125 0 C 0.671875 -0.015625 1.171875 -0.03125 1.4375 -0.03125 C 1.703125 -0.03125 2.21875 -0.015625 2.546875 0 L 2.546875 -0.3125 C 1.890625 -0.3125 1.78125 -0.3125 1.78125 -0.75 L 1.78125 -2.578125 C 1.78125 -3.609375 2.484375 -4.171875 3.109375 -4.171875 C 3.734375 -4.171875 3.84375 -3.625 3.84375 -3.0625 L 3.84375 -0.75 C 3.84375 -0.3125 3.734375 -0.3125 3.078125 -0.3125 L 3.078125 0 C 3.421875 -0.015625 3.921875 -0.03125 4.203125 -0.03125 C 4.453125 -0.03125 4.96875 -0.015625 5.3125 0 L 5.3125 -0.3125 C 4.640625 -0.3125 4.53125 -0.3125 4.53125 -0.75 L 4.53125 -2.578125 C 4.53125 -3.609375 5.234375 -4.171875 5.875 -4.171875 C 6.5 -4.171875 6.609375 -3.625 6.609375 -3.0625 L 6.609375 -0.75 C 6.609375 -0.3125 6.5 -0.3125 5.828125 -0.3125 L 5.828125 0 C 6.1875 -0.015625 6.6875 -0.03125 6.953125 -0.03125 C 7.21875 -0.03125 7.734375 -0.015625 8.0625 0 L 8.0625 -0.3125 C 7.546875 -0.3125 7.296875 -0.3125 7.296875 -0.609375 L 7.296875 -2.5 C 7.296875 -3.359375 7.296875 -3.65625 6.984375 -4.015625 C 6.84375 -4.1875 6.515625 -4.390625 5.9375 -4.390625 C 5.109375 -4.390625 4.671875 -3.796875 4.5 -3.40625 C 4.359375 -4.28125 3.625 -4.390625 3.1875 -4.390625 C 2.453125 -4.390625 2 -3.953125 1.71875 -3.34375 L 1.71875 -4.390625 L 0.3125 -4.28125 L 0.3125 -3.96875 C 1.015625 -3.96875 1.09375 -3.90625 1.09375 -3.40625 Z M 1.09375 -3.40625 \"/>\n</symbol>\n<symbol overflow=\"visible\" id=\"glyph-1637105904321180-1-21\">\n<path style=\"stroke:none;\" d=\"M 1.09375 -3.40625 L 1.09375 -0.75 C 1.09375 -0.3125 0.984375 -0.3125 0.3125 -0.3125 L 0.3125 0 C 0.671875 -0.015625 1.171875 -0.03125 1.4375 -0.03125 C 1.703125 -0.03125 2.21875 -0.015625 2.546875 0 L 2.546875 -0.3125 C 1.890625 -0.3125 1.78125 -0.3125 1.78125 -0.75 L 1.78125 -2.578125 C 1.78125 -3.609375 2.484375 -4.171875 3.109375 -4.171875 C 3.734375 -4.171875 3.84375 -3.625 3.84375 -3.0625 L 3.84375 -0.75 C 3.84375 -0.3125 3.734375 -0.3125 3.078125 -0.3125 L 3.078125 0 C 3.421875 -0.015625 3.921875 -0.03125 4.203125 -0.03125 C 4.453125 -0.03125 4.96875 -0.015625 5.3125 0 L 5.3125 -0.3125 C 4.796875 -0.3125 4.546875 -0.3125 4.53125 -0.609375 L 4.53125 -2.5 C 4.53125 -3.359375 4.53125 -3.65625 4.234375 -4.015625 C 4.09375 -4.1875 3.765625 -4.390625 3.1875 -4.390625 C 2.453125 -4.390625 2 -3.953125 1.71875 -3.34375 L 1.71875 -4.390625 L 0.3125 -4.28125 L 0.3125 -3.96875 C 1.015625 -3.96875 1.09375 -3.90625 1.09375 -3.40625 Z M 1.09375 -3.40625 \"/>\n</symbol>\n<symbol overflow=\"visible\" id=\"glyph-1637105904321180-1-22\">\n<path style=\"stroke:none;\" d=\"M 3.875 -3.984375 C 3.953125 -4.09375 3.953125 -4.109375 3.953125 -4.140625 C 3.953125 -4.28125 3.875 -4.28125 3.703125 -4.28125 L 0.53125 -4.28125 L 0.421875 -2.671875 L 0.671875 -2.671875 C 0.71875 -3.6875 0.90625 -4.0625 2 -4.0625 L 3.140625 -4.0625 L 0.359375 -0.3125 C 0.28125 -0.203125 0.28125 -0.1875 0.28125 -0.140625 C 0.28125 0 0.34375 0 0.53125 0 L 3.8125 0 L 3.984375 -1.859375 L 3.734375 -1.859375 C 3.640625 -0.6875 3.4375 -0.25 2.28125 -0.25 L 1.109375 -0.25 Z M 3.875 -3.984375 \"/>\n</symbol>\n<symbol overflow=\"visible\" id=\"glyph-1637105904321180-1-23\">\n<path style=\"stroke:none;\" d=\"M 1.15625 -2.15625 C 1.15625 -3.78125 1.96875 -4.203125 2.5 -4.203125 C 2.59375 -4.203125 3.21875 -4.1875 3.5625 -3.828125 C 3.15625 -3.796875 3.09375 -3.5 3.09375 -3.375 C 3.09375 -3.109375 3.28125 -2.921875 3.546875 -2.921875 C 3.8125 -2.921875 4.015625 -3.078125 4.015625 -3.390625 C 4.015625 -4.0625 3.25 -4.4375 2.484375 -4.4375 C 1.25 -4.4375 0.34375 -3.375 0.34375 -2.140625 C 0.34375 -0.875 1.3125 0.109375 2.46875 0.109375 C 3.796875 0.109375 4.125 -1.078125 4.125 -1.1875 C 4.125 -1.28125 4.015625 -1.28125 3.984375 -1.28125 C 3.90625 -1.28125 3.875 -1.234375 3.859375 -1.1875 C 3.578125 -0.265625 2.921875 -0.140625 2.5625 -0.140625 C 2.03125 -0.140625 1.15625 -0.5625 1.15625 -2.15625 Z M 1.15625 -2.15625 \"/>\n</symbol>\n<symbol overflow=\"visible\" id=\"glyph-1637105904321180-1-24\">\n<path style=\"stroke:none;\" d=\"M 1.65625 -3.296875 L 1.65625 -4.390625 L 0.28125 -4.28125 L 0.28125 -3.96875 C 0.96875 -3.96875 1.046875 -3.90625 1.046875 -3.40625 L 1.046875 -0.75 C 1.046875 -0.3125 0.9375 -0.3125 0.28125 -0.3125 L 0.28125 0 C 0.671875 -0.015625 1.125 -0.03125 1.40625 -0.03125 C 1.8125 -0.03125 2.265625 -0.03125 2.671875 0 L 2.671875 -0.3125 L 2.453125 -0.3125 C 1.71875 -0.3125 1.703125 -0.421875 1.703125 -0.78125 L 1.703125 -2.296875 C 1.703125 -3.28125 2.125 -4.171875 2.875 -4.171875 C 2.953125 -4.171875 2.96875 -4.171875 2.984375 -4.15625 C 2.953125 -4.140625 2.765625 -4.03125 2.765625 -3.765625 C 2.765625 -3.5 2.96875 -3.34375 3.1875 -3.34375 C 3.359375 -3.34375 3.609375 -3.46875 3.609375 -3.78125 C 3.609375 -4.09375 3.296875 -4.390625 2.875 -4.390625 C 2.15625 -4.390625 1.796875 -3.71875 1.65625 -3.296875 Z M 1.65625 -3.296875 \"/>\n</symbol>\n<symbol overflow=\"visible\" id=\"glyph-1637105904321180-2-0\">\n<path style=\"stroke:none;\" d=\"\"/>\n</symbol>\n<symbol overflow=\"visible\" id=\"glyph-1637105904321180-2-1\">\n<path style=\"stroke:none;\" d=\"M 2.015625 -0.015625 C 2.015625 -0.671875 1.765625 -1.046875 1.375 -1.046875 C 1.046875 -1.046875 0.859375 -0.796875 0.859375 -0.53125 C 0.859375 -0.265625 1.046875 0 1.375 0 C 1.5 0 1.625 -0.046875 1.71875 -0.125 C 1.75 -0.15625 1.765625 -0.15625 1.78125 -0.15625 C 1.78125 -0.15625 1.796875 -0.15625 1.796875 -0.015625 C 1.796875 0.71875 1.453125 1.3125 1.125 1.640625 C 1.015625 1.75 1.015625 1.78125 1.015625 1.8125 C 1.015625 1.875 1.0625 1.921875 1.109375 1.921875 C 1.21875 1.921875 2.015625 1.15625 2.015625 -0.015625 Z M 2.015625 -0.015625 \"/>\n</symbol>\n</g>\n<clipPath id=\"clip-1637105904321180-1\">\n  <path d=\"M 29 21 L 223.015625 21 L 223.015625 183 L 29 183 Z M 29 21 \"/>\n</clipPath>\n</defs>\n<g id=\"surface1\">\n<path style=\"fill:none;stroke-width:0.19925;stroke-linecap:butt;stroke-linejoin:miter;stroke:rgb(50%,50%,50%);stroke-opacity:1;stroke-miterlimit:10;\" d=\"M 14.350987 -13.449006 L 14.350987 -9.199765 M 52.299887 -13.449006 L 52.299887 -9.199765 M 90.248787 -13.449006 L 90.248787 -9.199765 M 128.197687 -13.449006 L 128.197687 -9.199765 M 166.146587 -13.449006 L 166.146587 -9.199765 M 14.350987 147.947602 L 14.350987 143.694438 M 52.299887 147.947602 L 52.299887 143.694438 M 90.248787 147.947602 L 90.248787 143.694438 M 128.197687 147.947602 L 128.197687 143.694438 M 166.146587 147.947602 L 166.146587 143.694438 \" transform=\"matrix(0.995582,0,0,-0.995582,45.521006,169.266659)\"/>\n<path style=\"fill:none;stroke-width:0.19925;stroke-linecap:butt;stroke-linejoin:miter;stroke:rgb(50%,50%,50%);stroke-opacity:1;stroke-miterlimit:10;\" d=\"M -16.190187 -0.0892041 L -11.937022 -0.0892041 M -16.190187 44.184512 L -11.937022 44.184512 M -16.190187 88.454305 L -11.937022 88.454305 M -16.190187 132.724098 L -11.937022 132.724098 M 178.086051 -0.0892041 L 173.832887 -0.0892041 M 178.086051 44.184512 L 173.832887 44.184512 M 178.086051 88.454305 L 173.832887 88.454305 M 178.086051 132.724098 L 173.832887 132.724098 \" transform=\"matrix(0.995582,0,0,-0.995582,45.521006,169.266659)\"/>\n<g clip-path=\"url(#clip-1637105904321180-1)\" clip-rule=\"nonzero\">\n<path style=\"fill:none;stroke-width:0.3985;stroke-linecap:butt;stroke-linejoin:miter;stroke:rgb(0%,0%,0%);stroke-opacity:1;stroke-miterlimit:10;\" d=\"M -16.190187 -13.449006 L -16.190187 147.947602 L 178.086051 147.947602 L 178.086051 -13.449006 Z M -16.190187 -13.449006 \" transform=\"matrix(0.995582,0,0,-0.995582,45.521006,169.266659)\"/>\n</g>\n<g style=\"fill:rgb(0%,0%,0%);fill-opacity:1;\">\n  <use xlink:href=\"#glyph-1637105904321180-0-1\" x=\"48.512731\" y=\"192.553327\"/>\n</g>\n<g style=\"fill:rgb(0%,0%,0%);fill-opacity:1;\">\n  <use xlink:href=\"#glyph-1637105904321180-1-1\" x=\"56.226502\" y=\"192.553327\"/>\n  <use xlink:href=\"#glyph-1637105904321180-1-2\" x=\"61.185815\" y=\"192.553327\"/>\n  <use xlink:href=\"#glyph-1637105904321180-1-2\" x=\"66.145129\" y=\"192.553327\"/>\n</g>\n<g style=\"fill:rgb(0%,0%,0%);fill-opacity:1;\">\n  <use xlink:href=\"#glyph-1637105904321180-0-1\" x=\"86.293085\" y=\"192.553327\"/>\n</g>\n<g style=\"fill:rgb(0%,0%,0%);fill-opacity:1;\">\n  <use xlink:href=\"#glyph-1637105904321180-1-3\" x=\"94.007851\" y=\"192.553327\"/>\n  <use xlink:href=\"#glyph-1637105904321180-1-2\" x=\"98.967165\" y=\"192.553327\"/>\n  <use xlink:href=\"#glyph-1637105904321180-1-2\" x=\"103.926479\" y=\"192.553327\"/>\n</g>\n<g style=\"fill:rgb(0%,0%,0%);fill-opacity:1;\">\n  <use xlink:href=\"#glyph-1637105904321180-0-1\" x=\"124.073439\" y=\"192.553327\"/>\n</g>\n<g style=\"fill:rgb(0%,0%,0%);fill-opacity:1;\">\n  <use xlink:href=\"#glyph-1637105904321180-1-4\" x=\"131.788206\" y=\"192.553327\"/>\n  <use xlink:href=\"#glyph-1637105904321180-1-2\" x=\"136.747519\" y=\"192.553327\"/>\n  <use xlink:href=\"#glyph-1637105904321180-1-2\" x=\"141.706833\" y=\"192.553327\"/>\n</g>\n<g style=\"fill:rgb(0%,0%,0%);fill-opacity:1;\">\n  <use xlink:href=\"#glyph-1637105904321180-1-2\" x=\"170.670669\" y=\"192.553327\"/>\n</g>\n<g style=\"fill:rgb(0%,0%,0%);fill-opacity:1;\">\n  <use xlink:href=\"#glyph-1637105904321180-1-4\" x=\"203.492028\" y=\"192.553327\"/>\n  <use xlink:href=\"#glyph-1637105904321180-1-2\" x=\"208.451342\" y=\"192.553327\"/>\n  <use xlink:href=\"#glyph-1637105904321180-1-2\" x=\"213.410656\" y=\"192.553327\"/>\n</g>\n<g style=\"fill:rgb(0%,0%,0%);fill-opacity:1;\">\n  <use xlink:href=\"#glyph-1637105904321180-1-2\" x=\"20.939085\" y=\"172.551084\"/>\n</g>\n<g style=\"fill:rgb(0%,0%,0%);fill-opacity:1;\">\n  <use xlink:href=\"#glyph-1637105904321180-1-5\" x=\"11.0201\" y=\"128.475664\"/>\n  <use xlink:href=\"#glyph-1637105904321180-1-2\" x=\"15.979413\" y=\"128.475664\"/>\n  <use xlink:href=\"#glyph-1637105904321180-1-2\" x=\"20.938727\" y=\"128.475664\"/>\n</g>\n<g style=\"fill:rgb(0%,0%,0%);fill-opacity:1;\">\n  <use xlink:href=\"#glyph-1637105904321180-1-4\" x=\"3.306329\" y=\"83.43652\"/>\n</g>\n<g style=\"fill:rgb(0%,0%,0%);fill-opacity:1;\">\n  <use xlink:href=\"#glyph-1637105904321180-2-1\" x=\"8.265324\" y=\"83.43652\"/>\n</g>\n<g style=\"fill:rgb(0%,0%,0%);fill-opacity:1;\">\n  <use xlink:href=\"#glyph-1637105904321180-1-2\" x=\"11.0201\" y=\"83.43652\"/>\n  <use xlink:href=\"#glyph-1637105904321180-1-2\" x=\"15.979413\" y=\"83.43652\"/>\n  <use xlink:href=\"#glyph-1637105904321180-1-2\" x=\"20.938727\" y=\"83.43652\"/>\n</g>\n<g style=\"fill:rgb(0%,0%,0%);fill-opacity:1;\">\n  <use xlink:href=\"#glyph-1637105904321180-1-4\" x=\"3.306329\" y=\"39.361099\"/>\n</g>\n<g style=\"fill:rgb(0%,0%,0%);fill-opacity:1;\">\n  <use xlink:href=\"#glyph-1637105904321180-2-1\" x=\"8.265324\" y=\"39.361099\"/>\n</g>\n<g style=\"fill:rgb(0%,0%,0%);fill-opacity:1;\">\n  <use xlink:href=\"#glyph-1637105904321180-1-5\" x=\"11.0201\" y=\"39.361099\"/>\n  <use xlink:href=\"#glyph-1637105904321180-1-2\" x=\"15.979413\" y=\"39.361099\"/>\n  <use xlink:href=\"#glyph-1637105904321180-1-2\" x=\"20.938727\" y=\"39.361099\"/>\n</g>\n<path style=\"fill-rule:nonzero;fill:rgb(75%,75%,75%);fill-opacity:0.5;stroke-width:0.3985;stroke-linecap:butt;stroke-linejoin:miter;stroke:rgb(50%,50%,50%);stroke-opacity:0.5;stroke-miterlimit:10;\" d=\"M 0.155462 -0.0892041 L 6.892255 -0.0892041 L 6.892255 16.468318 L 0.155462 16.468318 Z M 6.892255 -0.0892041 L 13.632971 -0.0892041 L 13.632971 73.489758 L 6.892255 73.489758 Z M 13.632971 -0.0892041 L 20.373688 -0.0892041 L 20.373688 134.493634 L 13.632971 134.493634 Z M 20.373688 -0.0892041 L 27.110481 -0.0892041 L 27.110481 124.135374 L 20.373688 124.135374 Z M 27.110481 -0.0892041 L 33.851197 -0.0892041 L 33.851197 69.683882 L 27.110481 69.683882 Z M 33.851197 -0.0892041 L 40.58799 -0.0892041 L 40.58799 43.297782 L 33.851197 43.297782 Z M 40.58799 -0.0892041 L 47.328707 -0.0892041 L 47.328707 27.536747 L 40.58799 27.536747 Z M 47.328707 -0.0892041 L 54.069423 -0.0892041 L 54.069423 27.803551 L 47.328707 27.803551 Z M 54.069423 -0.0892041 L 60.806216 -0.0892041 L 60.806216 25.410165 L 54.069423 25.410165 Z M 60.806216 -0.0892041 L 67.546933 -0.0892041 L 67.546933 22.844142 L 60.806216 22.844142 Z M 67.546933 -0.0892041 L 74.283726 -0.0892041 L 74.283726 24.790239 L 67.546933 24.790239 Z M 74.283726 -0.0892041 L 81.024442 -0.0892041 L 81.024442 21.871093 L 74.283726 21.871093 Z M 81.024442 -0.0892041 L 87.761235 -0.0892041 L 87.761235 22.844142 L 81.024442 22.844142 Z M 87.761235 -0.0892041 L 94.501951 -0.0892041 L 94.501951 27.360186 L 87.761235 27.360186 Z M 94.501951 -0.0892041 L 101.242668 -0.0892041 L 101.242668 27.269944 L 94.501951 27.269944 Z M 101.242668 -0.0892041 L 107.979461 -0.0892041 L 107.979461 32.405915 L 101.242668 32.405915 Z M 107.979461 -0.0892041 L 114.720177 -0.0892041 L 114.720177 28.423477 L 107.979461 28.423477 Z M 114.720177 -0.0892041 L 121.45697 -0.0892041 L 121.45697 30.722697 L 114.720177 30.722697 Z M 121.45697 -0.0892041 L 128.197687 -0.0892041 L 128.197687 29.306284 L 121.45697 29.306284 Z M 128.197687 -0.0892041 L 134.938403 -0.0892041 L 134.938403 28.600039 L 128.197687 28.600039 Z M 134.938403 -0.0892041 L 141.675196 -0.0892041 L 141.675196 20.454679 L 134.938403 20.454679 Z M 141.675196 -0.0892041 L 148.415913 -0.0892041 L 148.415913 12.219077 L 141.675196 12.219077 Z M 148.415913 -0.0892041 L 155.152705 -0.0892041 L 155.152705 8.766324 L 148.415913 8.766324 Z M 155.152705 -0.0892041 L 161.893422 -0.0892041 L 161.893422 3.100669 L 155.152705 3.100669 Z M 155.152705 -0.0892041 \" transform=\"matrix(0.995582,0,0,-0.995582,45.521006,169.266659)\"/>\n<path style=\"fill-rule:nonzero;fill:rgb(50%,75%,75%);fill-opacity:0.5;stroke-width:0.3985;stroke-linecap:butt;stroke-linejoin:miter;stroke:rgb(0%,50%,50%);stroke-opacity:0.5;stroke-miterlimit:10;\" d=\"M -0.00148124 -0.0892041 L 4.593035 -0.0892041 L 4.593035 1.770574 L -0.00148124 1.770574 Z M 4.593035 -0.0892041 L 9.187551 -0.0892041 L 9.187551 9.739373 L 4.593035 9.739373 Z M 9.187551 -0.0892041 L 13.782068 -0.0892041 L 13.782068 33.025841 L 9.187551 33.025841 Z M 13.782068 -0.0892041 L 18.376584 -0.0892041 L 18.376584 67.733861 L 13.782068 67.733861 Z M 18.376584 -0.0892041 L 22.967177 -0.0892041 L 22.967177 45.863806 L 18.376584 45.863806 Z M 22.967177 -0.0892041 L 27.561693 -0.0892041 L 27.561693 29.839891 L 22.967177 29.839891 Z M 27.561693 -0.0892041 L 32.156209 -0.0892041 L 32.156209 29.306284 L 27.561693 29.306284 Z M 32.156209 -0.0892041 L 36.750726 -0.0892041 L 36.750726 28.862919 L 32.156209 28.862919 Z M 36.750726 -0.0892041 L 41.345242 -0.0892041 L 41.345242 23.287506 L 36.750726 23.287506 Z M 41.345242 -0.0892041 L 45.935835 -0.0892041 L 45.935835 19.124584 L 41.345242 19.124584 Z M 45.935835 -0.0892041 L 50.530351 -0.0892041 L 50.530351 15.938635 L 45.935835 15.938635 Z M 50.530351 -0.0892041 L 55.124867 -0.0892041 L 55.124867 15.671831 L 50.530351 15.671831 Z M 55.124867 -0.0892041 L 59.719384 -0.0892041 L 59.719384 15.142147 L 55.124867 15.142147 Z M 59.719384 -0.0892041 L 64.3139 -0.0892041 L 64.3139 10.359299 L 59.719384 10.359299 Z M 64.3139 -0.0892041 L 68.904493 -0.0892041 L 68.904493 11.952274 L 64.3139 11.952274 Z M 68.904493 -0.0892041 L 73.499009 -0.0892041 L 73.499009 10.979225 L 68.904493 10.979225 Z M 73.499009 -0.0892041 L 78.093525 -0.0892041 L 78.093525 9.296008 L 73.499009 9.296008 Z M 78.093525 -0.0892041 L 82.688041 -0.0892041 L 82.688041 8.766324 L 78.093525 8.766324 Z M 82.688041 -0.0892041 L 87.278634 -0.0892041 L 87.278634 6.996788 L 82.688041 6.996788 Z M 87.278634 -0.0892041 L 91.87315 -0.0892041 L 91.87315 7.61279 L 87.278634 7.61279 Z M 91.87315 -0.0892041 L 96.467667 -0.0892041 L 96.467667 6.553423 L 91.87315 6.553423 Z M 96.467667 -0.0892041 L 101.062183 -0.0892041 L 101.062183 5.490132 L 96.467667 5.490132 Z M 101.062183 -0.0892041 L 105.656699 -0.0892041 L 105.656699 5.137009 L 101.062183 5.137009 Z M 105.656699 -0.0892041 L 110.247292 -0.0892041 L 110.247292 3.363549 L 105.656699 3.363549 Z M 110.247292 -0.0892041 L 114.841808 -0.0892041 L 114.841808 4.517083 L 110.247292 4.517083 Z M 114.841808 -0.0892041 L 119.436325 -0.0892041 L 119.436325 3.186988 L 114.841808 3.186988 Z M 119.436325 -0.0892041 L 124.030841 -0.0892041 L 124.030841 3.100669 L 119.436325 3.100669 Z M 124.030841 -0.0892041 L 128.625357 -0.0892041 L 128.625357 2.567062 L 124.030841 2.567062 Z M 128.625357 -0.0892041 L 133.21595 -0.0892041 L 133.21595 1.32721 L 128.625357 1.32721 Z M 133.21595 -0.0892041 L 137.810466 -0.0892041 L 137.810466 1.594013 L 133.21595 1.594013 Z M 137.810466 -0.0892041 L 142.404983 -0.0892041 L 142.404983 0.974087 L 137.810466 0.974087 Z M 142.404983 -0.0892041 L 146.999499 -0.0892041 L 146.999499 0.530722 L 142.404983 0.530722 Z M 146.999499 -0.0892041 L 151.594015 -0.0892041 L 151.594015 0.00103829 L 146.999499 0.00103829 Z M 151.594015 -0.0892041 L 156.184608 -0.0892041 L 156.184608 0.0873571 L 151.594015 0.0873571 Z M 151.594015 -0.0892041 \" transform=\"matrix(0.995582,0,0,-0.995582,45.521006,169.266659)\"/>\n<g style=\"fill:rgb(0%,0%,0%);fill-opacity:1;\">\n  <use xlink:href=\"#glyph-1637105904321180-1-6\" x=\"93.737053\" y=\"207.077876\"/>\n  <use xlink:href=\"#glyph-1637105904321180-1-7\" x=\"99.936195\" y=\"207.077876\"/>\n  <use xlink:href=\"#glyph-1637105904321180-1-8\" x=\"104.895509\" y=\"207.077876\"/>\n</g>\n<g style=\"fill:rgb(0%,0%,0%);fill-opacity:1;\">\n  <use xlink:href=\"#glyph-1637105904321180-1-6\" x=\"113.157725\" y=\"207.077876\"/>\n  <use xlink:href=\"#glyph-1637105904321180-1-9\" x=\"119.356867\" y=\"207.077876\"/>\n  <use xlink:href=\"#glyph-1637105904321180-1-10\" x=\"122.112262\" y=\"207.077876\"/>\n</g>\n<g style=\"fill:rgb(0%,0%,0%);fill-opacity:1;\">\n  <use xlink:href=\"#glyph-1637105904321180-1-11\" x=\"127.07951\" y=\"207.077876\"/>\n  <use xlink:href=\"#glyph-1637105904321180-1-12\" x=\"131.487348\" y=\"207.077876\"/>\n  <use xlink:href=\"#glyph-1637105904321180-1-9\" x=\"134.242743\" y=\"207.077876\"/>\n  <use xlink:href=\"#glyph-1637105904321180-1-13\" x=\"136.998138\" y=\"207.077876\"/>\n  <use xlink:href=\"#glyph-1637105904321180-1-7\" x=\"142.508927\" y=\"207.077876\"/>\n</g>\n<g style=\"fill:rgb(0%,0%,0%);fill-opacity:1;\">\n  <use xlink:href=\"#glyph-1637105904321180-1-7\" x=\"147.736044\" y=\"207.077876\"/>\n</g>\n<g style=\"fill:rgb(0%,0%,0%);fill-opacity:1;\">\n  <use xlink:href=\"#glyph-1637105904321180-1-14\" x=\"152.973079\" y=\"207.077876\"/>\n</g>\n<g style=\"fill:rgb(0%,0%,0%);fill-opacity:1;\">\n  <use xlink:href=\"#glyph-1637105904321180-1-15\" x=\"62.162163\" y=\"10.59176\"/>\n  <use xlink:href=\"#glyph-1637105904321180-1-11\" x=\"69.463264\" y=\"10.59176\"/>\n  <use xlink:href=\"#glyph-1637105904321180-1-16\" x=\"73.871102\" y=\"10.59176\"/>\n  <use xlink:href=\"#glyph-1637105904321180-1-17\" x=\"77.783009\" y=\"10.59176\"/>\n  <use xlink:href=\"#glyph-1637105904321180-1-12\" x=\"83.293798\" y=\"10.59176\"/>\n  <use xlink:href=\"#glyph-1637105904321180-1-18\" x=\"86.049193\" y=\"10.59176\"/>\n</g>\n<g style=\"fill:rgb(0%,0%,0%);fill-opacity:1;\">\n  <use xlink:href=\"#glyph-1637105904321180-1-7\" x=\"93.20945\" y=\"10.59176\"/>\n  <use xlink:href=\"#glyph-1637105904321180-1-19\" x=\"98.168764\" y=\"10.59176\"/>\n</g>\n<g style=\"fill:rgb(0%,0%,0%);fill-opacity:1;\">\n  <use xlink:href=\"#glyph-1637105904321180-1-20\" x=\"104.502799\" y=\"10.59176\"/>\n  <use xlink:href=\"#glyph-1637105904321180-1-9\" x=\"112.767991\" y=\"10.59176\"/>\n  <use xlink:href=\"#glyph-1637105904321180-1-21\" x=\"115.523386\" y=\"10.59176\"/>\n  <use xlink:href=\"#glyph-1637105904321180-1-9\" x=\"121.034175\" y=\"10.59176\"/>\n  <use xlink:href=\"#glyph-1637105904321180-1-20\" x=\"123.78957\" y=\"10.59176\"/>\n  <use xlink:href=\"#glyph-1637105904321180-1-9\" x=\"132.054762\" y=\"10.59176\"/>\n  <use xlink:href=\"#glyph-1637105904321180-1-22\" x=\"134.810156\" y=\"10.59176\"/>\n  <use xlink:href=\"#glyph-1637105904321180-1-9\" x=\"139.217994\" y=\"10.59176\"/>\n  <use xlink:href=\"#glyph-1637105904321180-1-21\" x=\"141.973389\" y=\"10.59176\"/>\n  <use xlink:href=\"#glyph-1637105904321180-1-8\" x=\"147.484178\" y=\"10.59176\"/>\n</g>\n<g style=\"fill:rgb(0%,0%,0%);fill-opacity:1;\">\n  <use xlink:href=\"#glyph-1637105904321180-1-23\" x=\"155.756313\" y=\"10.59176\"/>\n  <use xlink:href=\"#glyph-1637105904321180-1-24\" x=\"160.164151\" y=\"10.59176\"/>\n  <use xlink:href=\"#glyph-1637105904321180-1-7\" x=\"164.049278\" y=\"10.59176\"/>\n  <use xlink:href=\"#glyph-1637105904321180-1-16\" x=\"169.008591\" y=\"10.59176\"/>\n  <use xlink:href=\"#glyph-1637105904321180-1-16\" x=\"172.920498\" y=\"10.59176\"/>\n  <use xlink:href=\"#glyph-1637105904321180-1-9\" x=\"176.832405\" y=\"10.59176\"/>\n  <use xlink:href=\"#glyph-1637105904321180-1-21\" x=\"179.587799\" y=\"10.59176\"/>\n  <use xlink:href=\"#glyph-1637105904321180-1-8\" x=\"185.098588\" y=\"10.59176\"/>\n</g>\n</g>\n</svg>\n\n",
      "text/plain": [
       "Axis(PGFPlots.Plots.Plot[PGFPlots.Plots.Histogram(Real[-24.38069926599259, -43.91619250576089, 55.133680975889, 10.756095044119448, -30.513852810710077, -99.97945822964692, -105.03770492551645, -43.76621523816887, -147.89643932609542, -133.6506712078403  …  -302.53318336965964, -295.0992584034203, -294.94581717283467, -300.68076897982723, -296.2301649502997, -305.6185814449168, -296.15323735838774, -305.29843192349017, -293.5846061570934, -274.813112718567], 10, false, false, \"gray, fill=gray!50, opacity = 0.5\", :default, nothing), PGFPlots.Plots.Histogram(Real[-231.3344714928546, 22.411433572900492, -134.87860836471003, -8.750874726182332, -12.037996980076585, 26.022333641123794, -54.547645366326265, -115.3701086265476, -60.602526275162475, -94.84843136902634  …  -244.7947419516886, -152.533424098225, -55.684509769955085, -57.37307719662493, -203.02905711884642, -85.15735860326642, 6.673239846759401, -210.4606040503648, -126.05438556599778, -147.59155318416904], 10, false, false, \"teal, fill=teal!50, opacity = 0.5\", :default, nothing)], \"Result of minimizing crossing\", \"Log Likelihood\", nothing, nothing, nothing, nothing, nothing, nothing, nothing, nothing, nothing, nothing, nothing, nothing, nothing, nothing, nothing, nothing, nothing, nothing, nothing, nothing, nothing, nothing, nothing, nothing, nothing, \"axis\")"
      ]
     },
     "execution_count": 174,
     "metadata": {},
     "output_type": "execute_result"
    }
   ],
   "source": [
    "ll_c = logpdf(npn.flow, z_c)\n",
    "\n",
    "ax = Axis()\n",
    "push!(ax, Plots.Histogram(ll_in, style = \"gray, fill=gray!50, opacity = 0.5\"))\n",
    "push!(ax, Plots.Histogram(ll_c, style = \"teal, fill=teal!50, opacity = 0.5\"))\n",
    "ax.xlabel = \"Log Likelihood\"\n",
    "ax.title = \"Result of minimizing crossing\"\n",
    "ax"
   ]
  }
 ],
 "metadata": {
  "kernelspec": {
   "display_name": "Julia 1.6.0",
   "language": "julia",
   "name": "julia-1.6"
  },
  "language_info": {
   "file_extension": ".jl",
   "mimetype": "application/julia",
   "name": "julia",
   "version": "1.6.0"
  },
  "orig_nbformat": 4
 },
 "nbformat": 4,
 "nbformat_minor": 2
}
